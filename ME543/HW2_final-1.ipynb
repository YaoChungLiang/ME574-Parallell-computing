{
 "cells": [
  {
   "cell_type": "markdown",
   "metadata": {},
   "source": [
    "ME 535 Winter 2020\n",
    "\n",
    "# Homework 2\n",
    "\n",
    "### Tuesday Feb. 28"
   ]
  },
  {
   "cell_type": "markdown",
   "metadata": {},
   "source": [
    "Let's start with a problem about dealing with floating point issues.\n",
    "\n",
    "1a) Consider evaluating the function $f(x) = log(1+x)/x$ near $x=0$. In particular, compute the value at `x = 1e-16`."
   ]
  },
  {
   "cell_type": "code",
   "execution_count": 1,
   "metadata": {},
   "outputs": [
    {
     "data": {
      "text/plain": [
       "0.0"
      ]
     },
     "execution_count": 1,
     "metadata": {},
     "output_type": "execute_result"
    }
   ],
   "source": [
    "import numpy as np\n",
    "\n",
    "x = 1e-16;\n",
    "y = np.log(1 + x)/x\n",
    "y"
   ]
  },
  {
   "cell_type": "markdown",
   "metadata": {},
   "source": [
    "The computed result is zero. What is the error associated with this value?\n",
    "<br> The correct value is very close to 1.0 and the relative error in the value above is close to 100%."
   ]
  },
  {
   "cell_type": "markdown",
   "metadata": {},
   "source": [
    "Find an alternative (approximate) expression that is accurate for $|x| << 1$.\n",
    "<br>Evaluate your alternative expression and estimate the error in the alternative value."
   ]
  },
  {
   "cell_type": "markdown",
   "metadata": {},
   "source": [
    "#### log(1+x)/x Discussion\n",
    "I multiply the small value $x$ by a multiplier $mult$= $10^{n}$ where $n$ $\\in$ $[1,10]$ which makes $x$ be not underflow.\n",
    "And as I increased the value of $mult$, the absolute error get smaller as show in the figures below."
   ]
  },
  {
   "cell_type": "code",
   "execution_count": 2,
   "metadata": {},
   "outputs": [],
   "source": [
    "# Serially doing log(1+x)/x and get absolute errors\n",
    "import numpy as np\n",
    "def specialLog(x,n):\n",
    "    \"\"\"\n",
    "    return y = log(1+x)/x when x is pretty small even smaller than machine epsilon\n",
    "    \n",
    "    Args :\n",
    "        x : small float, even smaller than machine epsilon\n",
    "        n : int, equal or greater than 1, order of multiplier (10^n)\n",
    "    Return :\n",
    "        y : 1D numpy array of float, log(1+x)/x\n",
    "        err : 1D numpy array of float, absolute errors, abs(y-1)\n",
    "\n",
    "    \"\"\"\n",
    "    err = np.zeros(n-1)\n",
    "    y = np.zeros(n-1)\n",
    "    for i in range(1,n):\n",
    "        mult = 10**i\n",
    "        newx = x*mult\n",
    "        y[i-1] = (np.log(mult+mult*newx)-np.log(mult))/newx\n",
    "        err[i-1] = abs(y[i-1] - 1)\n",
    "    return y, err"
   ]
  },
  {
   "cell_type": "code",
   "execution_count": 3,
   "metadata": {},
   "outputs": [
    {
     "name": "stdout",
     "output_type": "stream",
     "text": [
      "[0.88817842 0.97699626 1.00364161 1.0000889  0.99991126 1.00000008\n",
      " 1.00000008 0.99999973 0.99999994]\n",
      "[1.11821580e-01 2.30037383e-02 3.64161426e-03 8.89005823e-05\n",
      " 8.87351016e-05 8.27403710e-08 8.27403710e-08 2.72530997e-07\n",
      " 5.93681762e-08]\n"
     ]
    },
    {
     "data": {
      "image/png": "[encoded data removed]",
      "text/plain": [
       "<Figure size 432x288 with 2 Axes>"
      ]
     },
     "metadata": {
      "needs_background": "light"
     },
     "output_type": "display_data"
    }
   ],
   "source": [
    "# main part to evaluate my alternative expression of log(1+x)/x\n",
    "import matplotlib.pyplot as plt\n",
    "%matplotlib inline \n",
    "x = 1e-16\n",
    "n = 10\n",
    "y, abs_err = specialLog(x,n)\n",
    "m = [10**n for n in range(1,n)]\n",
    "\n",
    "fig = plt.figure()\n",
    "ax1 = fig.add_axes([0.1, 0.5, 0.8, 0.4])\n",
    "ax2 = fig.add_axes([0.1, 0.1, 0.8, 0.4])\n",
    "\n",
    "print(y)\n",
    "print(abs_err)\n",
    "ax1.plot(m,y,label = \"y value\")\n",
    "ax2.plot(m,abs_err, label = \"absolute error\")\n",
    "ax1.set_yscale('log')\n",
    "ax2.set_yscale('log')\n",
    "ax1.set_xscale('log')\n",
    "ax2.set_xscale('log')\n",
    "ax1.legend(['y'],loc='lower right')\n",
    "ax2.legend(['abs err'],loc='upper right')\n",
    "ax2.set_xlabel('x')\n",
    "ax1.set_ylabel('y value')\n",
    "ax2.set_ylabel('abs error value')\n",
    "plt.show()"
   ]
  },
  {
   "cell_type": "markdown",
   "metadata": {},
   "source": [
    "1b) The usual pythagorean formula for computing the length of the hypotenuse $c = \\sqrt{x^2 + y^2}$ (a.k.a. the $L^2$ norm of the displacement vector) is subject to overflow for large input values. The behavior for higher norms (such as $L^{10}$) is even more problematic as illustrated below."
   ]
  },
  {
   "cell_type": "code",
   "execution_count": 4,
   "metadata": {},
   "outputs": [
    {
     "ename": "OverflowError",
     "evalue": "(34, 'Result too large')",
     "output_type": "error",
     "traceback": [
      "\u001b[1;31m---------------------------------------------------------------------------\u001b[0m",
      "\u001b[1;31mOverflowError\u001b[0m                             Traceback (most recent call last)",
      "\u001b[1;32m<ipython-input-4-a60b87cba8ab>\u001b[0m in \u001b[0;36m<module>\u001b[1;34m\u001b[0m\n\u001b[0;32m      1\u001b[0m \u001b[0mx\u001b[0m\u001b[1;33m=\u001b[0m\u001b[1;36m1e40\u001b[0m\u001b[1;33m\u001b[0m\u001b[1;33m\u001b[0m\u001b[0m\n\u001b[0;32m      2\u001b[0m \u001b[0my\u001b[0m\u001b[1;33m=\u001b[0m\u001b[1;36m1e40\u001b[0m\u001b[1;33m\u001b[0m\u001b[1;33m\u001b[0m\u001b[0m\n\u001b[1;32m----> 3\u001b[1;33m \u001b[0mprint\u001b[0m\u001b[1;33m(\u001b[0m\u001b[1;34m\"(x**10 + y**10)**(1/10) gives \"\u001b[0m\u001b[1;33m,\u001b[0m \u001b[1;33m(\u001b[0m\u001b[0mx\u001b[0m\u001b[1;33m**\u001b[0m\u001b[1;36m10\u001b[0m\u001b[1;33m+\u001b[0m\u001b[0my\u001b[0m\u001b[1;33m**\u001b[0m\u001b[1;36m10\u001b[0m\u001b[1;33m)\u001b[0m\u001b[1;33m**\u001b[0m\u001b[1;33m(\u001b[0m\u001b[1;36m1\u001b[0m\u001b[1;33m/\u001b[0m\u001b[1;36m10\u001b[0m\u001b[1;33m)\u001b[0m\u001b[1;33m)\u001b[0m\u001b[1;33m\u001b[0m\u001b[1;33m\u001b[0m\u001b[0m\n\u001b[0m",
      "\u001b[1;31mOverflowError\u001b[0m: (34, 'Result too large')"
     ]
    }
   ],
   "source": [
    "x=1e40\n",
    "y=1e40\n",
    "print(\"(x**10 + y**10)**(1/10) gives \", (x**10+y**10)**(1/10))"
   ]
  },
  {
   "cell_type": "markdown",
   "metadata": {},
   "source": [
    "Provide an alternative version of the formula that avoids the overflow and provides an accurate value."
   ]
  },
  {
   "cell_type": "code",
   "execution_count": 5,
   "metadata": {},
   "outputs": [],
   "source": [
    "# function of calculating n order norm avoiding overflow\n",
    "def N_Order_Norm(x,y,order):\n",
    "    \"\"\"\n",
    "    get rid of overflow problem when doing n order norm, \n",
    "    \n",
    "    Args:\n",
    "        x :  float value, and x > 1\n",
    "        y :  float value, and y > 1\n",
    "        order : int value\n",
    "    Return:\n",
    "        res : float number\n",
    "    \"\"\"\n",
    "    if x < 0 or y <0:\n",
    "        raise NameError(\"two inputs both must be greater than 0\")\n",
    "    xstr = \"{:e}\".format(x)\n",
    "    ystr = \"{:e}\".format(y)\n",
    "    xfloat, xsign = xstr.split('e+')\n",
    "    yfloat, ysign = ystr.split('e+')\n",
    "    if float(xsign) < 0 or float(ysign) < 0:\n",
    "        raise NameError(\"two inputs both must be greater than 1\")\n",
    "    if xsign != ysign:\n",
    "        if int(xsign) > int(ysign):\n",
    "            dif = abs(int(xsign) - int(ysign))\n",
    "            yfloat = float(yfloat)*10**(-dif)\n",
    "            allfloat = float(yfloat)**order + float(xfloat)**order\n",
    "            resfloat = allfloat**(1/order)\n",
    "            resstr = str(resfloat)\n",
    "            res = float(resstr+'e+'+xsign)\n",
    "        else:\n",
    "            xfloat, xsign, yfloat,ysign = yfloat, ysign, xfloat, xsign\n",
    "            dif = abs(int(xsign) - int(ysign))\n",
    "            yfloat = float(yfloat)*10**(-dif)\n",
    "            allfloat = float(yfloat)**order + float(xfloat)**order\n",
    "            resfloat = allfloat**(1/order)\n",
    "            resstr = str(resfloat)\n",
    "            res = float(resstr+'e+'+xsign)\n",
    "    else:\n",
    "        allfloat = float(yfloat)**order + float(xfloat)**order\n",
    "        resfloat = allfloat**(1/order)\n",
    "        resstr = str(resfloat)\n",
    "        res = float(resstr+'e+'+xsign)\n",
    "    return res    "
   ]
  },
  {
   "cell_type": "code",
   "execution_count": 6,
   "metadata": {},
   "outputs": [
    {
     "name": "stdout",
     "output_type": "stream",
     "text": [
      "(x**10 + y**10)**(1/10) gives  1.0717734625362931e+40\n"
     ]
    }
   ],
   "source": [
    "# examine the n order norm function does work\n",
    "print(\"(x**10 + y**10)**(1/10) gives \", N_Order_Norm(x,y,10))"
   ]
  },
  {
   "cell_type": "markdown",
   "metadata": {},
   "source": [
    "## Now on to some linear algebra...\n",
    "\n",
    "To avoid starting from scratch, let's put some of our previous code into use. The instructions below walk you through how to save previously created functions for solving linear systems in a file so that the function definitions can be readily imported for re-use.\n",
    "\n",
    "2a) Write a python function to construct the Vandermonde matrix that arises in the linear system to solve for coefficients in polynomial interpolation. (The matrix should be very similar to an example from class.) \n",
    "<br>Your function's input should include an array of input values and an array of corresponding function values and the degree, $n$, of the desired polynomial. \n",
    "<br>In general, the number of data points $m$ can be larger than the number of coefficients in the polynomial, but for the remainder of this problem you can make the following specializations:\n",
    "\n",
    "i) Focus on the case $m=n+1$ that produces a square matrix. \n",
    "\n",
    "ii) Choose the input array `x` to consist of $m$ values equally spaced across the unit interval $[0,1]$.\n",
    "\n",
    "iii) Choose the array of function values so that `y[i] = x[i] + r[i]` where `r` is an array of values selected from a uniform distribution on $[-0.25,0.25]$. (You should use a python library function to generate the random values.)"
   ]
  },
  {
   "cell_type": "code",
   "execution_count": 7,
   "metadata": {},
   "outputs": [],
   "source": [
    "# 2a) Vandermonde fuction\n",
    "def van(x,n):\n",
    "    \"\"\"\n",
    "    construct a 2D square numpy Vandermonde matrix \n",
    "    \n",
    "    Args:\n",
    "        x : 1D numpy array consists of interpolation points\n",
    "        n : The order of interpolation function\n",
    "    Return:\n",
    "        vanMat : 2D numpy array of Vandermonde matrix\n",
    "    \"\"\"\n",
    "    m = n+1\n",
    "    vanMat = np.zeros(shape=(m,m))\n",
    "    for i in range(m) :\n",
    "        for j in range(m) :\n",
    "            vanMat[i,j] = x[i]**j\n",
    "    return vanMat"
   ]
  },
  {
   "cell_type": "code",
   "execution_count": 8,
   "metadata": {},
   "outputs": [],
   "source": [
    "# 2a) function to create data points y with certain variation\n",
    "def createY(x,r=None):\n",
    "    y = np.zeros(4)\n",
    "    if not r:\n",
    "        r = np.random.uniform(-0.25,0.25,len(x))\n",
    "    for i in range(len(x)):\n",
    "        y[i] = x[i] + r[i]\n",
    "    return y"
   ]
  },
  {
   "cell_type": "code",
   "execution_count": 9,
   "metadata": {},
   "outputs": [
    {
     "name": "stdout",
     "output_type": "stream",
     "text": [
      "My 4x4 VanderMonde matrix\n",
      "[[1.         0.         0.         0.        ]\n",
      " [1.         0.33333333 0.11111111 0.03703704]\n",
      " [1.         0.66666667 0.44444444 0.2962963 ]\n",
      " [1.         1.         1.         1.        ]]\n"
     ]
    }
   ],
   "source": [
    "# 2a) example code\n",
    "n = 3\n",
    "m = n+1\n",
    "x = np.linspace(0,1,m)\n",
    "y = createY(x)\n",
    "vanMat = van(x,n)\n",
    "print('My 4x4 VanderMonde matrix')\n",
    "print(vanMat)"
   ]
  },
  {
   "cell_type": "markdown",
   "metadata": {},
   "source": [
    "2b) Test out your function for $m=4$. <br>Form the appropriate Vandermonde system and compute the solution using your linear solver code. <br>Plot the input data and the computed degree 3 polynomial. <br>Does your polynomial interpolate the data points?"
   ]
  },
  {
   "cell_type": "markdown",
   "metadata": {},
   "source": [
    "#### 2b) Discussion #### \n",
    "After construction 4x4 Vandermonde matrix and using least square function to get the coefficients of my degree 3 polynomial,\n",
    "my interpolated points does match the data points.\n",
    "Code and results as shown below."
   ]
  },
  {
   "cell_type": "code",
   "execution_count": 12,
   "metadata": {},
   "outputs": [
    {
     "name": "stderr",
     "output_type": "stream",
     "text": [
      "D:\\anaconda\\lib\\site-packages\\ipykernel_launcher.py:17: FutureWarning: `rcond` parameter will change to the default of machine precision times ``max(M, N)`` where M and N are the input matrix dimensions.\n",
      "To use the future default and silence this warning we advise to pass `rcond=None`, to keep using the old, explicitly pass `rcond=-1`.\n"
     ]
    },
    {
     "data": {
      "image/png": "[encoded data removed]",
      "text/plain": [
       "<Figure size 432x288 with 1 Axes>"
      ]
     },
     "metadata": {
      "needs_background": "light"
     },
     "output_type": "display_data"
    }
   ],
   "source": [
    "# 2b) test Vandermonde matrix by interpolating points\n",
    "import numpy as np\n",
    "import matplotlib.pyplot as plt\n",
    "%matplotlib inline \n",
    "n = 3\n",
    "m = n+1\n",
    "x = np.linspace(0,1,m)\n",
    "y = createY(x)\n",
    "vanMat = van(x,n)\n",
    "interpolate_num = 21\n",
    "start = 0\n",
    "end = 1\n",
    "order = 4\n",
    "x = np.linspace(start, end, m)\n",
    "y = np.abs( np.random.randn(m))\n",
    "A = vanMat\n",
    "cfs,_,_,_ = np.linalg.lstsq(A, y)\n",
    "interpolate_x = np.linspace(start, end, interpolate_num)\n",
    "interpolate_y = np.zeros(interpolate_num)\n",
    "for ind, ix in enumerate(interpolate_x):\n",
    "    interpolate_y[ind] = np.sum(cfs * ix**np.arange(0, order))\n",
    "plt.figure()\n",
    "plt.plot(interpolate_x, interpolate_y, '-r', label='interpolate points')\n",
    "plt.plot(x, y, '*b', label='data points')\n",
    "plt.xlabel( 'x value' )\n",
    "plt.ylabel( 'y value' )\n",
    "plt.legend(loc='upper right')\n",
    "plt.show()"
   ]
  },
  {
   "cell_type": "markdown",
   "metadata": {},
   "source": [
    "2c) Construct Vandermonde matrices of size $m \\in [6,12]$, and consider the sensitivity of the results to changes in the data. The relevant \"theoretical\" result involves the __condition number__: $\\kappa(A) = ||A^{-1}||_2 \\; ||A||_2$.\n",
    "\n",
    "$||A||_2$ is the Euclidean matrix norm defined by $||A||_2 = \\frac{||A x||_2}{||x||_2}$, but you should not need to code this up. \n",
    "<br>Use a function from the numpy linear algebra package. \n",
    "\n",
    "Compute this expression for the condition number for each of your Vandermonde matrices, and plot condition number as a function of size."
   ]
  },
  {
   "cell_type": "code",
   "execution_count": 13,
   "metadata": {},
   "outputs": [
    {
     "data": {
      "image/png": "[encoded data removed]",
      "text/plain": [
       "<Figure size 432x288 with 1 Axes>"
      ]
     },
     "metadata": {
      "needs_background": "light"
     },
     "output_type": "display_data"
    }
   ],
   "source": [
    "# 2c) theoretical condition number\n",
    "from numpy import linalg as LA\n",
    "import matplotlib.pyplot as plt\n",
    "%matplotlib inline \n",
    "start = 6\n",
    "end = 12\n",
    "number = end-start+1\n",
    "m = np.linspace(start, end, number)\n",
    "theo_conNum = np.zeros(number)\n",
    "for i in m:\n",
    "    i = int(i)\n",
    "    x = np.linspace(0,1,i)\n",
    "    VanMat = van(x,i-1)\n",
    "    invVanMat = LA.inv(VanMat)\n",
    "    theo_conNum[i-start] = LA.norm(VanMat)*LA.norm(invVanMat)\n",
    "plt.plot(m,theo_conNum)\n",
    "plt.ylabel('condition number')\n",
    "plt.xlabel('size of Vandermonde matrix')\n",
    "plt.show()"
   ]
  },
  {
   "cell_type": "markdown",
   "metadata": {},
   "source": [
    "2d) For larger problems, computing the matrix inverse can be expensive so we would like to avoid it. The alternative approach is \"experimental\": quantify how the solution changes as a result of a small change to the input data.\n",
    "\n",
    "In particular, change the problem by adding a second random component `s[i]` to your function values with `s[i]` uniformly distributed on $[-0.01, 0.01]$. \n",
    "<br>Compute the following ratio as a measure of sensitivity: `(norm of change in output) / (norm of change in input)`\n",
    "<br>Compare the \"experimental\" sensitivity to the \"theoretical\" condition number values computed in 2c."
   ]
  },
  {
   "cell_type": "code",
   "execution_count": 14,
   "metadata": {},
   "outputs": [
    {
     "name": "stderr",
     "output_type": "stream",
     "text": [
      "D:\\anaconda\\lib\\site-packages\\ipykernel_launcher.py:19: FutureWarning: `rcond` parameter will change to the default of machine precision times ``max(M, N)`` where M and N are the input matrix dimensions.\n",
      "To use the future default and silence this warning we advise to pass `rcond=None`, to keep using the old, explicitly pass `rcond=-1`.\n",
      "D:\\anaconda\\lib\\site-packages\\ipykernel_launcher.py:20: FutureWarning: `rcond` parameter will change to the default of machine precision times ``max(M, N)`` where M and N are the input matrix dimensions.\n",
      "To use the future default and silence this warning we advise to pass `rcond=None`, to keep using the old, explicitly pass `rcond=-1`.\n"
     ]
    },
    {
     "data": {
      "image/png": "[encoded data removed]",
      "text/plain": [
       "<Figure size 432x288 with 1 Axes>"
      ]
     },
     "metadata": {
      "needs_background": "light"
     },
     "output_type": "display_data"
    }
   ],
   "source": [
    "# 2d) experimental sensitivity number\n",
    "from numpy import linalg as LA\n",
    "import matplotlib.pyplot as plt\n",
    "%matplotlib inline \n",
    "start = 6\n",
    "end = 12\n",
    "number = end-start+1\n",
    "m = np.linspace(start, end, number)\n",
    "expe_sensNum = np.zeros(number)\n",
    "for i in m:\n",
    "    i = int(i)\n",
    "    x = np.linspace(0,1,i)\n",
    "    Y_og = x\n",
    "    s = np.random.uniform(-0.01,0.01,i)\n",
    "    \n",
    "    VanMat = van(x,i-1)\n",
    "    Y_new = np.add(Y_og,s)\n",
    "    \n",
    "    x_og,_,_,_ = np.linalg.lstsq(VanMat, Y_og)\n",
    "    x_new,_,_,_ = np.linalg.lstsq(VanMat, Y_new)\n",
    "    \n",
    "    expe_sensNum[i-start] = np.abs(LA.norm(np.subtract(x_new,x_og))/LA.norm(np.subtract(Y_new,Y_og)))\n",
    "plt.plot(m,expe_sensNum)\n",
    "plt.xlabel('size of Vandermonde matrix')\n",
    "plt.ylabel('sensitivity')\n",
    "plt.show()"
   ]
  },
  {
   "cell_type": "code",
   "execution_count": 15,
   "metadata": {},
   "outputs": [
    {
     "data": {
      "image/png": "[encoded data removed]",
      "text/plain": [
       "<Figure size 432x288 with 1 Axes>"
      ]
     },
     "metadata": {
      "needs_background": "light"
     },
     "output_type": "display_data"
    }
   ],
   "source": [
    "# 2d) comparison of theretical condition number in 2c and experimental sensitivity number in 2d\n",
    "%matplotlib inline \n",
    "plt.rcParams.update({'font.size': 12})\n",
    "plt.yscale('log')\n",
    "plt.plot(m,theo_conNum, label = 'theoretical condition number')\n",
    "plt.plot(m,expe_sensNum,label = 'experimental sensitivity')\n",
    "plt.xlabel('size of Vandermonde matrix')\n",
    "plt.legend(loc='upper left')\n",
    "plt.show()"
   ]
  },
  {
   "cell_type": "markdown",
   "metadata": {},
   "source": [
    "#### 2d) Discussion\n",
    "The comparison plot shown above showed that both condition number and sensitivity number share the same trend. When the size of Vandermonde matrix goes up, the condition number and sensitivity rise up which means the matrix is closer to be a singular matrix."
   ]
  },
  {
   "cell_type": "markdown",
   "metadata": {},
   "source": [
    "2e) We discussed the \"normal equations\" that arise when the linear system is pre-multiplied by $A^T$. \n",
    "<br>Compute the condition number for normal equations for the same problems considered in 2c. <br>Plot the condition number results. Compare with the results from 2c and discuss the implications."
   ]
  },
  {
   "cell_type": "code",
   "execution_count": 21,
   "metadata": {},
   "outputs": [
    {
     "data": {
      "image/png": "[encoded data removed]",
      "text/plain": [
       "<Figure size 432x288 with 1 Axes>"
      ]
     },
     "metadata": {
      "needs_background": "light"
     },
     "output_type": "display_data"
    }
   ],
   "source": [
    "# 2e) use normal equations to compute condition number\n",
    "from numpy import linalg as LA\n",
    "import matplotlib.pyplot as plt\n",
    "%matplotlib inline \n",
    "start = 6\n",
    "end = 12\n",
    "number = end-start+1\n",
    "m = np.linspace(start, end, number)\n",
    "normal_conNum = np.zeros(number)\n",
    "for i in m:\n",
    "    i = int(i)\n",
    "    x = np.linspace(0,1,i)\n",
    "    VanMat = van(x,i-1)\n",
    "    VanMat_T = np.transpose(VanMat)\n",
    "    normal_van = np.dot(VanMat_T,VanMat)\n",
    "    invnormal_van = np.linalg.inv(normal_van) \n",
    "    normal_conNum[i-start] = LA.norm(normal_van)*LA.norm(invnormal_van)\n",
    "plt.plot(m,normal_conNum)\n",
    "plt.ylabel('condition number')\n",
    "plt.show()"
   ]
  },
  {
   "cell_type": "code",
   "execution_count": 22,
   "metadata": {},
   "outputs": [
    {
     "data": {
      "image/png": "[encoded data removed]",
      "text/plain": [
       "<Figure size 432x288 with 1 Axes>"
      ]
     },
     "metadata": {
      "needs_background": "light"
     },
     "output_type": "display_data"
    }
   ],
   "source": [
    "# 2e) compare normal eq's condition number with that of 2c\n",
    "%matplotlib inline \n",
    "plt.plot(m,normal_conNum, label = '2e normal eq\\'s condition number ')\n",
    "plt.plot(m,theo_conNum, label = \"2c condition number\")\n",
    "plt.ylabel('condition number')\n",
    "plt.xlabel('size of Vandermonde matrix')\n",
    "plt.legend(loc='upper left')\n",
    "plt.yscale('log')\n",
    "plt.show()"
   ]
  },
  {
   "cell_type": "markdown",
   "metadata": {},
   "source": [
    "#### 2e) Discussion\n",
    "From the graph above, it shows that order of normal eq's condition number is about twice of that of 2c condition number.\n",
    "This is quite reasonable since then it is premultiplied by A.T, which means when the smallest number multiplied by itself,  \n",
    "the order of smallest number is doubled and vice versa.\n",
    "So the matrix is streched along the longest way, but compressed along the smallest direction and the condition number showed the result."
   ]
  },
  {
   "cell_type": "markdown",
   "metadata": {},
   "source": [
    "3) For the 5x5 Vandermonde matrix you constructed in problem 2:\n",
    "\n",
    "a) Compute the leading eigenvalue (the one with largest magnitude) and the associated eigenvector by matrix iteration."
   ]
  },
  {
   "cell_type": "code",
   "execution_count": 23,
   "metadata": {},
   "outputs": [],
   "source": [
    "# 3a) predefine function of power iteration & function of getting the more frequet eigenvalue\n",
    "import numpy as np\n",
    "def power_iteration(A, it):\n",
    "    \"\"\"\n",
    "    iteratively get the leading eigenvector\n",
    "    \n",
    "    Args:\n",
    "        A : 2D numpy array of floats, nxn matrix\n",
    "    Returns:\n",
    "        b : 1D numpy array of floats, leading eigenvector of A\n",
    "    \"\"\"\n",
    "    b = np.random.rand(A.shape[1])\n",
    "    for _ in range(it):\n",
    "        b1 = np.dot(A, b)\n",
    "        b1_norm = np.linalg.norm(b1)\n",
    "        b = b1 / b1_norm\n",
    "    return b\n",
    "\n",
    "def getEigval(e):\n",
    "    \"\"\"\n",
    "    Given an array of possible eigenvalues with certain amount of floating error, \n",
    "    I trucated them to 3 digits precision and pick the one comes most often.\n",
    "    Since after we get the leading eigenvector x and\n",
    "    doing multiplication of A*x = lambda*x, and comparing the multiplier of RHS w.r.t LHS elementwisely, \n",
    "    there are still some eigenvalues that are close to but not exactly the same one.\n",
    "    Ex: lambda1 = 4.168989, lambda2 = 4.168899, lambda3 = 4.169009\n",
    "    Even they are close to each other and we thought the eigenvalue should be 4.169,\n",
    "    so I need to come up with an approach to take the one comes most often\n",
    "    \n",
    "    Args:\n",
    "        e : 1D numpy array of floats, possible eigenvalues\n",
    "    Returns:\n",
    "        result : float, the eigenvalue comes most often.\n",
    "    \n",
    "    \"\"\"\n",
    "    res = dict()\n",
    "    for i in e:\n",
    "        i = float('%.3f'%(i))\n",
    "        if i not in res:\n",
    "            res[i] = 1\n",
    "        else:\n",
    "            res[i] += 1\n",
    "    result = max(res.keys(), key=(lambda key: res[key]))\n",
    "    return result"
   ]
  },
  {
   "cell_type": "code",
   "execution_count": 24,
   "metadata": {},
   "outputs": [
    {
     "name": "stdout",
     "output_type": "stream",
     "text": [
      "leading eigvec of mine\n",
      "[3.26212605e-35 1.18506858e-02 8.77005195e-02 3.38909053e-01\n",
      " 9.36647657e-01]\n",
      "\n",
      "leading eigvalue of mine\n",
      "1.468\n"
     ]
    }
   ],
   "source": [
    "from numpy import linalg as LA\n",
    "m = 5\n",
    "x = np.linspace(0,1,m)\n",
    "van5 = van(x,m-1)\n",
    "eigVec = power_iteration(van5, 200)\n",
    "eigVals = np.true_divide(np.dot(van5,eigVec),eigVec)\n",
    "maxEigval = getEigval(eigVals)\n",
    "print('leading eigvec of mine')\n",
    "print(eigVec)\n",
    "print()\n",
    "print('leading eigvalue of mine')\n",
    "print(maxEigval)\n"
   ]
  },
  {
   "cell_type": "markdown",
   "metadata": {},
   "source": [
    "b) Use iteration to compute the smallest eigenvalue and its associated eigenvector without using the matrix inverse. Explain your approach, and compare the ratio of eigenvalues you obtain to the previously computed condition number."
   ]
  },
  {
   "cell_type": "markdown",
   "metadata": {},
   "source": [
    "#### 3b) Procedure\n",
    "My approach to get smallest eigenvalue and its corresponding eigen vector includes following steps:\n",
    "1. Creating 5X5 Vandervonde matrix A.\n",
    "2. Iteratively using LU factorization and reconstruct A   \n",
    "   $L_{k+1}$$U_{k+1}$ = $A_{k}$  \n",
    "   $A_{k+1}$ = $U_{k+1}$$L_{k+1}$  \n",
    "3. After twenty rounds, the diagonal of upper triangular matrix $U_{20}$ consists of all eigenvalues of matrix A. \n",
    "4. Get the minimum eigenvalue $\\lambda$.\n",
    "5. Construct singular matirx $A_{\\lambda}$ = $A$ - $\\lambda$$I$  \n",
    "6. Using LU decomposition and LU solver on upper left 4x4 matrix of $A_{\\lambda}$  to get an 4x1 $x$ vector where $b$ is the negetive one multiply by all the last element of the first four rows (-1 * A[:,4]). (Ax = LUx = Ly = b)\n",
    "7. Append 1 on the 4x1 $x$ vector to make a 5x1 $x$ eigenvector.\n",
    "8. Normalized the 5x1 $x$ eigenvector and return this result.\n",
    "\n",
    "#### 3b) Discussion\n",
    "After I developed this procedure, I wrapped up for a new function `RatioOfEigvalue` to generate ratio between max eigvalue and min eigvalue serially. After comparing the ratio with condition number from 2c, I found they share the same trend which both showed when size of Vendermonde matrix increase, it becomes worser conditioning."
   ]
  },
  {
   "cell_type": "code",
   "execution_count": 25,
   "metadata": {},
   "outputs": [],
   "source": [
    "# 3b) helper function to help get eigenvector from corresponding eigenvalue\n",
    "from basic_elim import *\n",
    "def getNontrivialeigvec(A):\n",
    "    \"\"\"\n",
    "    return nontrivial eigenvector given singular matrix A\n",
    "    \n",
    "    Args:\n",
    "        A : 2D numpy array of floats, nxn singular matrix, and A matrix must be (A-eigenvalue*I) already\n",
    "    \n",
    "    Return:\n",
    "        res : 1D numpy array of floats, eigenvector\n",
    "    \"\"\"\n",
    "    m = A.shape[0]\n",
    "    L,U = LU_factor(A[:(m-1),:(m-1)])\n",
    "    b = -1*A[:,4]\n",
    "    smalleigvec,y = LU_solve(L,U,b)\n",
    "    res = np.append(smalleigvec,1)\n",
    "    res = res/LA.norm(res)\n",
    "    return res"
   ]
  },
  {
   "cell_type": "code",
   "execution_count": 26,
   "metadata": {},
   "outputs": [
    {
     "name": "stdout",
     "output_type": "stream",
     "text": [
      "smallest eigenvalue\n",
      "0.006177703029577491\n",
      "eigenvector of corresponding eigenvalue\n",
      "[-0.         -0.06757968  0.43464172 -0.79053838  0.42610871]\n"
     ]
    }
   ],
   "source": [
    "# 3b) main part to get smallest eigenvalue and eigen vector\n",
    "from basic_elim import *\n",
    "from numpy import linalg as LA\n",
    "m = 5\n",
    "x = np.linspace(0,1,m)\n",
    "van5 = van(x,m-1)\n",
    "\n",
    "for i in range(20):\n",
    "    L, U = LU_factor(van5)\n",
    "    van5 = np.dot(U,L)\n",
    "\n",
    "smalleigval = np.min(np.diag(U))\n",
    "van5 = van(x,m-1)\n",
    "newvan5 = np.subtract(van5, smalleigval*np.identity(m))\n",
    "smalleigenVec = getNontrivialeigvec(newvan5)\n",
    "#smalleigenVec = smalleigenVec / LA.norm(smalleigenVec)\n",
    "print(\"smallest eigenvalue\")\n",
    "print(smalleigval)\n",
    "print(\"eigenvector of corresponding eigenvalue\")\n",
    "print(smalleigenVec)\n"
   ]
  },
  {
   "cell_type": "code",
   "execution_count": 27,
   "metadata": {},
   "outputs": [],
   "source": [
    "# 3b) Wrap up for generating several ratios of eienvalues\n",
    "from basic_elim import *\n",
    "from numpy import linalg as LA\n",
    "def RatioOfEigvalue(m=None):\n",
    "    \"\"\"\n",
    "    compute the ratio of max eigenvalue and min eigenvalue\n",
    "    \n",
    "    Args:\n",
    "        m : integer, the size of Vendermonde matrix\n",
    "        \n",
    "    Return:\n",
    "        res : ratio of max eigenvalue and min eigenvalue of corresponding Vendermonde matrix\n",
    "    \"\"\"\n",
    "    if not m:\n",
    "        m = 5\n",
    "    x = np.linspace(0,1,m)\n",
    "    van5 = van(x,m-1)\n",
    "\n",
    "    for i in range(100):\n",
    "        L, U = LU_factor(van5)\n",
    "        van5 = np.dot(U,L)\n",
    "\n",
    "    smalleigval = np.min(np.diag(U))\n",
    "    van5 = van(x,m-1)\n",
    "    newvan5 = np.subtract(van5, smalleigval*np.identity(m))\n",
    "    smalleigenVec = getNontrivialeigvec(newvan5)\n",
    "    maxEigvec = power_iteration(van5, 200)\n",
    "    eigVals = np.true_divide(np.dot(van5,maxEigvec),maxEigvec)\n",
    "    maxEigval = getEigval(eigVals)\n",
    "    res = maxEigval/smalleigval\n",
    "    return res"
   ]
  },
  {
   "cell_type": "code",
   "execution_count": 28,
   "metadata": {},
   "outputs": [
    {
     "data": {
      "image/png": "[encoded data removed]",
      "text/plain": [
       "<Figure size 432x288 with 1 Axes>"
      ]
     },
     "metadata": {
      "needs_background": "light"
     },
     "output_type": "display_data"
    }
   ],
   "source": [
    "# 3b) compare ratio of eigenvalue to condition number of 2c\n",
    "%matplotlib inline \n",
    "start = 6\n",
    "end = 12\n",
    "m = np.linspace(start,end,end-start+1)\n",
    "eigRatio = np.zeros(end-start+1)\n",
    "for i in range(start,end+1):\n",
    "    eigRatio[i-start] = RatioOfEigvalue(i)\n",
    "\n",
    "plt.plot(m,theo_conNum, label = \"2c condition number\")\n",
    "plt.plot(m,eigRatio, label = ' ratio of max eigenvalue and min eigenvalue')\n",
    "plt.xlabel('size of Vandermonde matrix')\n",
    "plt.legend(loc='upper left')\n",
    "plt.yscale('log')\n",
    "plt.show()"
   ]
  },
  {
   "cell_type": "markdown",
   "metadata": {},
   "source": [
    "4a) Write your own python code to implement Gram-Schmidt orthogonalization.\n",
    "\n",
    "4b) Use your code an orthonormal matrix Q whose columns provide an orthogonal basis for your 4x4 Vandermonde matrix $V_4$.\n",
    "\n",
    "4c) Check if $Q^T Q = I$.\n",
    "\n",
    "4d) Compute $Q^T V_4$. Describe your result."
   ]
  },
  {
   "cell_type": "code",
   "execution_count": 29,
   "metadata": {},
   "outputs": [],
   "source": [
    "# 4a) Gram-Schmidt function\n",
    "import numpy as np\n",
    "from numpy import linalg as LA\n",
    "def GramSchmidt(X):\n",
    "    \"\"\"\n",
    "    Generate an orthonormal matrix Y, given nxn Vendermonde matrix\n",
    "    \n",
    "    Args:\n",
    "        X : nxn Vendermonde matrix\n",
    "    Returns:\n",
    "        Y : nxn orthonormal matrix\n",
    "    \"\"\"\n",
    "    Y = X[0:1,:].copy()\n",
    "    for i in range(1, X.shape[0]):\n",
    "        proj = np.diag((X[i,:].dot(Y.T)/LA.norm(Y,axis=1)**2).flat).dot(Y)\n",
    "        Y = np.vstack((Y, X[i,:] - proj.sum(0)))\n",
    "    Y = np.diag(1/LA.norm(Y,axis=1)).dot(Y)\n",
    "    return Y"
   ]
  },
  {
   "cell_type": "code",
   "execution_count": 30,
   "metadata": {},
   "outputs": [
    {
     "name": "stdout",
     "output_type": "stream",
     "text": [
      "4x4 orthonormal matrix = \n",
      "[[ 1.          0.          0.          0.        ]\n",
      " [ 0.          0.94345635  0.31448545  0.10482848]\n",
      " [ 0.         -0.29290566  0.64276519  0.70785534]\n",
      " [ 0.          0.15523011 -0.69853547  0.69853547]]\n"
     ]
    }
   ],
   "source": [
    "# 4b) Get an orthonomal matrix Q from 4x4 Vandermonde matrix\n",
    "m = 4\n",
    "x = np.linspace(0,1,m)\n",
    "van4 = van(x,m-1)\n",
    "Q = GramSchmidt(van4)\n",
    "print(\"4x4 orthonormal matrix = \")\n",
    "print(Q)"
   ]
  },
  {
   "cell_type": "code",
   "execution_count": 31,
   "metadata": {},
   "outputs": [
    {
     "name": "stdout",
     "output_type": "stream",
     "text": [
      "Q.T * Q = \n",
      "[[ 1.00000000e+00  0.00000000e+00  0.00000000e+00  0.00000000e+00]\n",
      " [ 0.00000000e+00  1.00000000e+00  8.60422844e-16 -1.44328993e-15]\n",
      " [ 0.00000000e+00  8.60422844e-16  1.00000000e+00  5.55111512e-17]\n",
      " [ 0.00000000e+00 -1.44328993e-15  5.55111512e-17  1.00000000e+00]]\n",
      "Norm of Q.T*Q  =  2.0\n"
     ]
    }
   ],
   "source": [
    "# 4c) check if Q transpose * Q = I\n",
    "print(\"Q.T * Q = \")\n",
    "print(np.dot(Q.T,Q))\n",
    "print(\"Norm of Q.T*Q  = \",LA.norm(np.dot(Q.T,Q)))"
   ]
  },
  {
   "cell_type": "code",
   "execution_count": 32,
   "metadata": {},
   "outputs": [
    {
     "name": "stdout",
     "output_type": "stream",
     "text": [
      "[[ 1.          0.          0.          0.        ]\n",
      " [ 0.8057808   0.27444512  0.1298783   0.10338607]\n",
      " [ 0.25871517 -0.16519686 -0.37791923 -0.49643892]\n",
      " [ 1.5112193   1.20538186  1.02478546  0.91215293]]\n"
     ]
    }
   ],
   "source": [
    "# 4d) Visualize Q.T * van4\n",
    "print(np.dot(Q.T, van4))"
   ]
  },
  {
   "cell_type": "markdown",
   "metadata": {},
   "source": [
    "#### 4d) Discussion\n",
    "The $Q.T$*$V_{4}$ is a 4x4 matrix where each row are orthogonal to each other and all their magnitude are 1 which means they are normalized."
   ]
  },
  {
   "cell_type": "markdown",
   "metadata": {},
   "source": [
    "## Making your own loadable code library:\n",
    "\n",
    "In class (and the documents \"Ch2_LinearSystems\" and \"code_LU...\") we looked at a basic elimination approach to solving a linear system. \n",
    "The essential functions (including your implementation of `lower_tri_solve`) are `LU_factor`, `LU_solve`, `upper_tri_solve`, and `lower_tri_solve`. \n",
    "\n",
    "When you have created useful code, you will want to store it in a way that you can conveniently import and use the code you have previously created. Here is a simple way to do that:\n",
    "\n",
    "    i) From the file menu, select `New=>TextFile`. \n",
    "\n",
    "    ii) Save the file as \"basic_elim.py\"\n",
    "\n",
    "    iii) Paste into the file the statement to import `numpy` and the definitions of the 4 functions. \n",
    "\n",
    "    iv) Save the completed file in the same folder with your notebook. \n",
    "\n",
    "You can now import the code from the file with the command below:"
   ]
  },
  {
   "cell_type": "code",
   "execution_count": 33,
   "metadata": {},
   "outputs": [],
   "source": [
    "from basic_elim import *"
   ]
  },
  {
   "cell_type": "markdown",
   "metadata": {},
   "source": [
    "Note that `*` indicates that all definitions inthe file should be imported.\n",
    "\n",
    "Check that the file was loaded by requesting help on one of the functions:"
   ]
  },
  {
   "cell_type": "code",
   "execution_count": 34,
   "metadata": {},
   "outputs": [
    {
     "data": {
      "text/plain": [
       "\u001b[1;31mSignature:\u001b[0m \u001b[0mLU_factor\u001b[0m\u001b[1;33m(\u001b[0m\u001b[0mA\u001b[0m\u001b[1;33m)\u001b[0m\u001b[1;33m\u001b[0m\u001b[1;33m\u001b[0m\u001b[0m\n",
       "\u001b[1;31mDocstring:\u001b[0m\n",
       "solve Lower and upper triangular matrix\n",
       "\n",
       "Args:\n",
       "    A : 2D numpy matrix\n",
       "\n",
       "return:\n",
       "    L: Lower triangular matrix\n",
       "    U: Upper triangular matrix\n",
       "\u001b[1;31mFile:\u001b[0m      c:\\users\\yaochungliang\\me535\\hw2\\basic_elim.py\n",
       "\u001b[1;31mType:\u001b[0m      function\n"
      ]
     },
     "metadata": {},
     "output_type": "display_data"
    }
   ],
   "source": [
    "?LU_factor"
   ]
  },
  {
   "cell_type": "code",
   "execution_count": null,
   "metadata": {},
   "outputs": [],
   "source": []
  }
 ],
 "metadata": {
  "kernelspec": {
   "display_name": "Python 3",
   "language": "python",
   "name": "python3"
  },
  "language_info": {
   "codemirror_mode": {
    "name": "ipython",
    "version": 3
   },
   "file_extension": ".py",
   "mimetype": "text/x-python",
   "name": "python",
   "nbconvert_exporter": "python",
   "pygments_lexer": "ipython3",
   "version": "3.6.3"
  }
 },
 "nbformat": 4,
 "nbformat_minor": 4
}
