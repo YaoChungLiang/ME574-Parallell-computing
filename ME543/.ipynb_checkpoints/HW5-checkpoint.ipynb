{
 "cells": [
  {
   "cell_type": "markdown",
   "metadata": {},
   "source": [
    "ME 535 Winter 2020\n",
    "\n",
    "Homework 5\n",
    "\n",
    "### Due Noon Thursday 3/12"
   ]
  },
  {
   "cell_type": "markdown",
   "metadata": {},
   "source": [
    "__1)__ Let's start with an unconstrained optimization problem. Gradient descent involves an update equation of the form:\n",
    "\n",
    "$$x^{(k+1)} = x^{(k)} + t^{(k)} d^{(k)}$$\n",
    "\n",
    "where the superscript $(k)$ is the iteration number, $x^{(k)}$ is the current point, $x^{(k+1)}$ is the next point, and $t^{(k)} \\text{ and } d^{(k)}$ are the size and direction of the step at iteration $k$.\n",
    "\n",
    "For gradient descent, the step direction is $-\\nabla f(x^{(k)})$ but there is the separate issue of determining how far to step in that direction.\n",
    "\n",
    "An exact line search uses $t = \\text{ argmin}_{t>0} f(x+t d)$; i.e. it involves finding the location of the exact minimum along a line which can be relatively expensive to compute.\n",
    "\n",
    "A common alternative approach is the __backtracking line search__ (with parameters $\\alpha \\in(0,1/2), \\beta \\in (0,1))$. Start at $t=1$, repeat $t=\\beta t$ until the following condition is satisfied:\n",
    "\n",
    "$$f(x^{(k)}+t d^{(k)}) < f(x^{(k)}) + \\alpha t \\nabla f(x^{(k)})^T d^{(k)}$$\n",
    "\n",
    "The idea is to start with a \"full step\" and see if the function value decreased by the desired fraction ($\\alpha$) of the decrease in the linear approximation (provided by the the current function value). If not, the step was too big, so reduce the stepsize (by a factor of $\\beta$) and repeat until the condition is satisfied. The next iteration point is then provided by the left-hand side of the condition."
   ]
  },
  {
   "cell_type": "markdown",
   "metadata": {},
   "source": [
    "__1a)__ Write a python function to implement a backtracking line search.\n",
    "\n",
    "__1b)__ Test your backtracking line search on a 1D example:\n",
    "\n",
    "$$f(x) = x^2, \\; x_0 = 1, \\; \\alpha = 0.5, \\; \\beta = 0.6$$\n",
    "\n",
    "What value do you obtain for the next iterate $x^{(1)}$?\n",
    "\n",
    "__1c)__ Modify the following python `gradient_descent` code to find new points using backtracking line search:\n",
    "\n",
    "```\n",
    "def grad_descent(f, gradf, x0, step, max_steps, tol):\n",
    "    x = np.zeros([max_steps,2])\n",
    "    val = np.zeros(max_steps)\n",
    "    x[0] = x0\n",
    "    val[0] = f(x[0])\n",
    "    g = gradf(x[0])\n",
    "    for i in range(1,max_steps):\n",
    "        x[i] = x[i-1] - step * g\n",
    "        val[i] = f(x[i])\n",
    "        g = gradf(x[i])\n",
    "        if np.linalg.norm(g)<tol:\n",
    "            break\n",
    "    return x,val,i\n",
    "```\n",
    "\n",
    "__1d)__ Use your codes from 1a and 1c to find the sequence of backtracking linesearch iterates from $x^{(0)} = (3,2)$ to the minimum of:\n",
    "\n",
    "$$f(x_0,x_1) = x_0^2 + 3 x_1^2$$\n",
    "\n",
    "__1e)__ Use the modified `arraycontourplot` from the Ch. 5 notebook to plot your backtracking search iterates together with the level sets of the objective function."
   ]
  },
  {
   "cell_type": "code",
   "execution_count": 53,
   "metadata": {},
   "outputs": [],
   "source": [
    "%matplotlib inline\n",
    "import numpy as np\n",
    "import matplotlib.pyplot as plt\n",
    "import scipy.linalg as LA\n",
    "from scipy.sparse import diags\n",
    "np.set_printoptions(precision=2)\n"
   ]
  },
  {
   "cell_type": "code",
   "execution_count": 67,
   "metadata": {},
   "outputs": [],
   "source": [
    "# 1a)\n",
    "def BackTrackLine(f,x0, df, t, alpha, beta):\n",
    "    d = -df(x0)\n",
    "    while f(x0+t*d) > f(x0)+alpha*t*np.dot(df(x0), d):\n",
    "        t *= beta\n",
    "    return t, x0+t*d"
   ]
  },
  {
   "cell_type": "code",
   "execution_count": 68,
   "metadata": {},
   "outputs": [
    {
     "name": "stdout",
     "output_type": "stream",
     "text": [
      "0.36\n",
      "[0.28]\n"
     ]
    }
   ],
   "source": [
    "# 1b)\n",
    "df = lambda x: 2*x[0]\n",
    "f = lambda x: x[0]**2\n",
    "x0 = np.array([1])\n",
    "\n",
    "alpha = 0.5\n",
    "beta = 0.6\n",
    "t = 1\n",
    "step, nextX = BackTrackLine(f,x0, df, t, alpha, beta)\n",
    "print(step)\n",
    "print(nextX)\n"
   ]
  },
  {
   "cell_type": "code",
   "execution_count": 69,
   "metadata": {},
   "outputs": [],
   "source": [
    "# 1c)\n",
    "\n",
    "def grad_descent(f, gradf, x0, step, max_steps, tol, alpha,beta):\n",
    "    x = np.zeros([max_steps,len(x0)])\n",
    "    val = np.zeros(max_steps)\n",
    "    x[0] = x0\n",
    "    val[0] = f(x[0])\n",
    "    g = gradf(x[0])\n",
    "    for i in range(1,max_steps):\n",
    "        new_step,dummy = BackTrackLine(f,x[i-1], gradf, t, alpha, beta)\n",
    "        x[i] = x[i-1] - new_step*gradf(x[i-1])\n",
    "        val[i] = f(x[i])\n",
    "        if LA.norm(gradf(x[i]))<tol:\n",
    "            break\n",
    "    return x,val,i"
   ]
  },
  {
   "cell_type": "code",
   "execution_count": 70,
   "metadata": {},
   "outputs": [],
   "source": [
    "def arraycontourplot(x,xvals, yvals, fvals, levels=[-1000,0], labels=['x','y'], \n",
    "    titlestring='', filled=False):\n",
    "    \"\"\"\n",
    "    inputs:\n",
    "    xvals: a 1d numpy array of values for the first coordinate\n",
    "    yvals: a 1d numpy array of values for the second coordinate\n",
    "    fvals: a 2d numpy array of function values on the coordinate grid\n",
    "    levels: a list of contour values\n",
    "    vars: a list containing the symbolic variables\n",
    "    titlestring: a string specifying the plot title\n",
    "    -----\n",
    "    product: a contourplot based on the array of function values\n",
    "    \"\"\"\n",
    "    fig = plt.figure()\n",
    "    X,Y = np.meshgrid(yvals,xvals) #switch for more intuitive format\n",
    "    if filled==True:\n",
    "        cp = plt.contourf(X, Y, fvals, levels, hatches=['x','+']) #, linestyles='dashed')\n",
    "    else:\n",
    "        cp = plt.contour(X, Y, fvals, levels) #, linestyles='dashed')\n",
    "    # plt.clabel(cp, inline=True, fontsize=10)\n",
    "    plt.title(titlestring)\n",
    "    plt.xlabel(labels[0])\n",
    "    plt.ylabel(labels[1])\n",
    "    #plt.axis('square')\n",
    "    plt.axis('tight')\n",
    "    \n",
    "    plt.plot(x.T[0],x.T[1], marker='o', markersize=10, fillstyle='none', linewidth=2)\n",
    "    #plt.show()\n",
    "    return cp"
   ]
  },
  {
   "cell_type": "code",
   "execution_count": 75,
   "metadata": {},
   "outputs": [
    {
     "data": {
      "text/plain": [
       "<matplotlib.contour.QuadContourSet at 0x25438cb35c0>"
      ]
     },
     "execution_count": 75,
     "metadata": {},
     "output_type": "execute_result"
    },
    {
     "data": {
      "image/png": "[encoded data removed]",
      "text/plain": [
       "<Figure size 432x288 with 1 Axes>"
      ]
     },
     "metadata": {
      "needs_background": "light"
     },
     "output_type": "display_data"
    }
   ],
   "source": [
    "# 1d)\n",
    "import matplotlib.pyplot as plt\n",
    "x0 = np.array([3,2])\n",
    "\n",
    "f = lambda x: x[0]**2+3*x[1]**2\n",
    "gradf = lambda x: np.array([2*x[0], 6*x[1]])\n",
    "step = 1\n",
    "Max_step = 15\n",
    "tolerance = 1e-4\n",
    "alpha = 0.5\n",
    "beta = 0.6\n",
    "x,val, iterations = grad_descent(f, gradf, x0, step, Max_step, tolerance,alpha,beta)\n",
    "#print(x)\n",
    "\n",
    "\n",
    "# 1e)\n",
    "\n",
    "n=25\n",
    "xvals = np.linspace(-3,3,n)\n",
    "yvals = np.linspace(-3,3,n)\n",
    "fvals = np.zeros([n,n])\n",
    "f2 = lambda x,y:x**2+3*y**2\n",
    "for i in range(n):\n",
    "    for j in range(n):\n",
    "        fvals[j,i] =  f2(xvals[i],yvals[j])\n",
    "        \n",
    "levels=[0,0.5,1,2,3,5,10,20]\n",
    "arraycontourplot(x,xvals, yvals, fvals, levels, labels=['x','y'], titlestring='', filled=False)"
   ]
  },
  {
   "cell_type": "markdown",
   "metadata": {},
   "source": [
    "__2)__ Consider the following linear programming problem:\n",
    "\n",
    "$$\\text{Maximize} \\qquad 2 x_0 + 3 x_1 + 4x_2$$\n",
    "\n",
    "\\begin{equation}\n",
    "\\begin{split}\n",
    "\\text{subject to} \\qquad & x_0 & &+ 3 x_2 &\\leq 600 \\\\\n",
    "                  &     & x_1 &+ x_2  &\\leq 300 \\\\\n",
    "                  & x_0 + &x_1 &+ x_2  &\\leq 400 \\\\\n",
    "                  &      & x_1 & &\\leq 250 \\\\\n",
    "                  &  &  &\\text{and } x_0,x_1,x_2 &\\geq 0\n",
    "\\end{split}\n",
    "\\end{equation}"
   ]
  },
  {
   "cell_type": "markdown",
   "metadata": {},
   "source": [
    "__2a)__ Convert this linear programming to the standard form with equality constraints.\n",
    "\n",
    "__2b)__ Construct a linear programming tableau corresponding to this problem.\n",
    "\n",
    "__2c)__ Write a python function to do the row operations corresponding to a pivot. Given a row `i` (specifying the equaiton to pivot on) and a column `j` (specifying the variable entering the basis) and the previous state of the `tableau` array, your function should:\n",
    "\n",
    "- Multiply the row by an appropriate factor so that `tableau[i,j]` becomes 1.\n",
    "\n",
    "- Subtract a multiple of row `i` from each of the other rows so that the remaining entries of row `j` (other than `tableau[i,j]` become zero.\n",
    "\n",
    "- Return the updated `tableau`.\n",
    "\n",
    "__2d)__ Use your `tableau` from __2b__ and your pivot code from __2c__ to obtain an initial basic feasible solution, then use your code to pivot to new extreme points until you obtain an optimal solution. At each step in the optimization, explain the choice of the variable entering the basis, and state the values of each variable and the objective function.\n",
    "\n",
    "Be sure to clearly state the optimal solution, explain how you read it from your final tableau, and how you know it is optimal."
   ]
  },
  {
   "cell_type": "markdown",
   "metadata": {},
   "source": [
    "##### 2a)\n",
    "$x_0$ + 3*$x_2$ + $slack_0$ = 600   \n",
    "$x_1$ + $x_2$ + $slack_1$ = 300  \n",
    "$x_0$ + $x_1$ + $x_2$ + $slack_2$ = 400  \n",
    "$x_1$ + $slack_3$ = 250  "
   ]
  },
  {
   "cell_type": "code",
   "execution_count": 24,
   "metadata": {},
   "outputs": [],
   "source": [
    "# 2b)\n",
    "tableau = [[1,0,3,1,0,0,0,600],\n",
    "           [0,1,1,0,1,0,0,300],\n",
    "           [1,1,1,0,0,1,0,400],\n",
    "           [0,1,0,0,0,0,1,250],\n",
    "           [2,3,4,0,0,0,0,0]]"
   ]
  },
  {
   "cell_type": "code",
   "execution_count": 26,
   "metadata": {},
   "outputs": [],
   "source": [
    "import numpy as np\n",
    "\n",
    "# 2c\n",
    "def pivot(tableau, i, j):\n",
    "    '''\n",
    "    Args:\n",
    "        tableau: 2D numpy array\n",
    "        i: int row for the equation to pivot on\n",
    "        j: int column specifying the variable entering the basis\n",
    "    Return:\n",
    "        tableau: 2D numpy array fro updated tableau\n",
    "    '''\n",
    "    m, n = len(tableau), len(tableau[0])\n",
    "    # multiply the row by factor for mat[i, j] to be 1\n",
    "    factor = tableau[i][j]\n",
    "    for col in range(n):\n",
    "        tableau[i][col] /= factor\n",
    "    # run thru the mat\n",
    "    for row in range(m):\n",
    "        # if the row is i, meaning we operate before, continue\n",
    "        if row == i:\n",
    "            continue\n",
    "        # get the rowFactor from the row we gonna operate and divide by 1\n",
    "        rowFactor = tableau[row][j]\n",
    "        for col in range(n):            \n",
    "            tableau[row][col] -= (rowFactor * tableau[i][col])\n",
    "    return tableau"
   ]
  },
  {
   "cell_type": "code",
   "execution_count": 47,
   "metadata": {},
   "outputs": [
    {
     "name": "stdout",
     "output_type": "stream",
     "text": [
      "Original tableau\n",
      "[1, 0, 3, 1, 0, 0, 0, 600]\n",
      "[0, 1, 1, 0, 1, 0, 0, 300]\n",
      "[1, 1, 1, 0, 0, 1, 0, 400]\n",
      "[0, 1, 0, 0, 0, 0, 1, 250]\n",
      "[2, 3, 4, 0, 0, 0, 0, 0]\n",
      " \n",
      " First time pivoting\n",
      "[1.0, 0.0, 3.0, 1.0, 0.0, 0.0, 0.0, 600.0]\n",
      "[0.0, 1.0, 1.0, 0.0, 1.0, 0.0, 0.0, 300.0]\n",
      "[0.0, 1.0, -2.0, -1.0, 0.0, 1.0, 0.0, -200.0]\n",
      "[0.0, 1.0, 0.0, 0.0, 0.0, 0.0, 1.0, 250.0]\n",
      "[0.0, 3.0, -2.0, -2.0, 0.0, 0.0, 0.0, -1200.0]\n",
      " \n",
      " Second time pivoting\n",
      "[1.0, 0.0, 3.0, 1.0, 0.0, 0.0, 0.0, 600.0]\n",
      "[0.0, 1.0, 1.0, 0.0, 1.0, 0.0, 0.0, 300.0]\n",
      "[0.0, 0.0, -3.0, -1.0, -1.0, 1.0, 0.0, -500.0]\n",
      "[0.0, 0.0, -1.0, 0.0, -1.0, 0.0, 1.0, -50.0]\n",
      "[0.0, 0.0, -5.0, -2.0, -3.0, 0.0, 0.0, -2100.0]\n",
      " \n",
      " Third time pivoting\n",
      "[1.0, 0.0, 0.0, 0.0, -1.0, 1.0, 0.0, 100.0]\n",
      "[0.0, 1.0, 0.0, -0.3333333333333333, 0.6666666666666667, 0.3333333333333333, 0.0, 133.33333333333334]\n",
      "[-0.0, -0.0, 1.0, 0.3333333333333333, 0.3333333333333333, -0.3333333333333333, -0.0, 166.66666666666666]\n",
      "[0.0, 0.0, 0.0, 0.3333333333333333, -0.6666666666666667, -0.3333333333333333, 1.0, 116.66666666666666]\n",
      "[0.0, 0.0, 0.0, -0.3333333333333335, -1.3333333333333335, -1.6666666666666665, 0.0, -1266.6666666666667]\n"
     ]
    }
   ],
   "source": [
    "# 2d \n",
    "tableau = [[1,0,3,1,0,0,0,600],\n",
    "           [0,1,1,0,1,0,0,300],\n",
    "           [1,1,1,0,0,1,0,400],\n",
    "           [0,1,0,0,0,0,1,250],\n",
    "           [2,3,4,0,0,0,0,0]]\n",
    "print('Original tableau')\n",
    "for i in tableau:\n",
    "    print(i)\n",
    "print(' ')\n",
    "\n",
    "tableau = pivot(tableau,0,0)\n",
    "print(' First time pivoting')\n",
    "for i in tableau:\n",
    "    print(i)\n",
    "print(' ')\n",
    "\n",
    "print(' Second time pivoting')\n",
    "tableau = pivot(tableau,1,1)\n",
    "for i in tableau:\n",
    "    print(i)\n",
    "print(' ')\n",
    "\n",
    "print(' Third time pivoting')\n",
    "tableau = pivot(tableau,2,2)\n",
    "for i in tableau:\n",
    "    print(i)\n"
   ]
  },
  {
   "cell_type": "markdown",
   "metadata": {},
   "source": [
    "#### 2d) explanation\n",
    "First time, I select x0 at (0,0) as the basic variable since it's not 0 and it is 1.0 which get less numerical error when factoring and substraction.\n",
    "Secondly, I select x1 at (1,1)  as the basic variable since it's not 0 and it is 1.0 which get less numerical error when factoring and substraction. Also I only have x1 and x2 that can be selected and I cannot pivot in the first row since it will change the independence between x1 and x2.\n",
    "Thirdly, I select x2 at (2,2) as the basic variable since it's not 0 and rows of x0 and x1 already be selected so I can only choose third column and I choose thrid row.\n",
    "\n",
    "In the end, the optimal solution is 1266.6666. where x0 = 100,  x1 = 133.33, x2= 166.66.  \n",
    "Z = 1266.67 -0.33$S_1$ -1.33$S_2$ -1.67$S_3$"
   ]
  },
  {
   "cell_type": "code",
   "execution_count": null,
   "metadata": {},
   "outputs": [],
   "source": []
  }
 ],
 "metadata": {
  "kernelspec": {
   "display_name": "Python 3",
   "language": "python",
   "name": "python3"
  },
  "language_info": {
   "codemirror_mode": {
    "name": "ipython",
    "version": 3
   },
   "file_extension": ".py",
   "mimetype": "text/x-python",
   "name": "python",
   "nbconvert_exporter": "python",
   "pygments_lexer": "ipython3",
   "version": "3.6.3"
  }
 },
 "nbformat": 4,
 "nbformat_minor": 2
}
