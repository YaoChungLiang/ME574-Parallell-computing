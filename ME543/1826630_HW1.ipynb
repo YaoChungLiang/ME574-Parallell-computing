{
 "cells": [
  {
   "cell_type": "markdown",
   "metadata": {},
   "source": [
    "ME 535 winter 2020\n",
    "\n",
    "# Yao-Chung Liang 1826630\n",
    "# Homework 1 \n",
    "\n",
    "Due Wednesday 15 January 2020\n",
    "\n",
    "Submit your responses to the following questions as a Jupyter notebook (.ipynb) and as a PDF file via the class Canvas site."
   ]
  },
  {
   "cell_type": "markdown",
   "metadata": {},
   "source": [
    "0)  __This initial item is a repeat from the announcement posted yesterday, so you may have already done it.__\n",
    "\n",
    "- a) Download and install Anaconda software (including python, Jupyter notebook and JupyterLab) from https://www.anaconda.com/distribution/\n",
    "<br>At the bottom of the page, you can select whether you need the Windows, Linux, or Mac version.\n",
    "<br>Be sure to get the Python 3.7 version (since support for Python 2.X is about to end)\n",
    "<br>Once you have installed the Anaconda software, you will be able to open, view, execute, and edit the Jupyter notebooks whose live content make them generally more interesting and useful than PDFs (which are handy for quick views of content).\n",
    "\n",
    "- b) Work through the \"Ch1_intro\" notebook as you read through Ch. 1 in the text.\n",
    "\n",
    "The problems below aim to help you build your python skills by implementing an embellishment of the \"toy\" floating point number system discussed in class. This will provide the opportunity to write and execute several functions using essential control structures. \n",
    "\n",
    "Recall that the \"toy\" system was characterized by the following parameter values: $\\beta=2, p=2, e \\in {-1,0,1,2,3}$. \n",
    "\n",
    "Here we embellish slightly by adding 1 digit of precision to get: $\\beta=2, p=3, e \\in {-1,0,1,2,3}$\n",
    "\n",
    "1a) Write a function (by completing the template below) that computes the represented number corresponding to a specific set of parameter values:"
   ]
  },
  {
   "cell_type": "code",
   "execution_count": 1,
   "metadata": {},
   "outputs": [],
   "source": [
    "def params_to_num(sign_bit, digits, exponent, base=2):\n",
    "    \"\"\"\n",
    "    compute the numerical value corresponding to floating point parameter values\n",
    "    \n",
    "    Args:\n",
    "        sign_bit: 0 for positive, 1 for negative\n",
    "        digits: list of integer digits in range[0,base]\n",
    "        exponent: integer exponent value\n",
    "    Named args:\n",
    "        base: default value 2\n",
    "    \n",
    "    Returns:\n",
    "        float value of represented number\n",
    "    \"\"\"\n",
    "    \n",
    "    #insert code here\n",
    "    temp = 0\n",
    "    for i in range(len(digits)):\n",
    "        temp += digits[i]/(base**i)    \n",
    "    return temp*(-1**sign_bit)*(base**exponent)"
   ]
  },
  {
   "cell_type": "markdown",
   "metadata": {},
   "source": [
    "1b) Test your implementation by checking that `params_to_num(1, [1,0,1], 3)` returns the value `-10.0`."
   ]
  },
  {
   "cell_type": "code",
   "execution_count": 2,
   "metadata": {},
   "outputs": [
    {
     "data": {
      "text/plain": [
       "True"
      ]
     },
     "execution_count": 2,
     "metadata": {},
     "output_type": "execute_result"
    }
   ],
   "source": [
    "-10.0 == params_to_num(1, [1,0,1], 3)"
   ]
  },
  {
   "cell_type": "markdown",
   "metadata": {},
   "source": [
    "2a) Write a function (by completing the template below) to compute the number of entries in the array of all normalized representable values in a floating point system. Remember that the first digit in a normalized number must be non-zero. The other digits are integers satisfying $0 \\leq d < \\beta$."
   ]
  },
  {
   "cell_type": "code",
   "execution_count": 3,
   "metadata": {},
   "outputs": [],
   "source": [
    "\n",
    "def gamut_size(p, e_min, e_max, base=2):\n",
    "    \"\"\"\n",
    "    compute the number of representable values for a floating point system\n",
    "    \n",
    "    Args:\n",
    "        p: number of digits of precision\n",
    "        e_min: smallest integer exponent value\n",
    "        e_min: largest integer exponent value\n",
    "    Named args:\n",
    "        base: default value 2\n",
    "    \n",
    "    Returns:\n",
    "        integer number of representable values\n",
    "    \"\"\"\n",
    "    \n",
    "    #insert code here    \n",
    "    return base**(p-1)*(base-1)*(e_max-e_min+1)*2"
   ]
  },
  {
   "cell_type": "code",
   "execution_count": 4,
   "metadata": {},
   "outputs": [
    {
     "name": "stdout",
     "output_type": "stream",
     "text": [
      "24\n"
     ]
    }
   ],
   "source": [
    "# testing my gamut_size function works fine\n",
    "print(gamut_size(2,-2,3))"
   ]
  },
  {
   "cell_type": "markdown",
   "metadata": {},
   "source": [
    "2b) Write a function (by completing the template below) to produce a numpy array containing the sorted array of normalized representable numbers for a floating point system with $p=3$ digits of precision. \n",
    "<br>__Hints__: \n",
    "<br>Remember to import numpy to have access to array capabilities.\n",
    "<br>Start by computing the number of elements in the gamut so you can create an array of the appropriate size.\n",
    "<br>Use `numpy.sort()` so you do not have to write your own sorting function."
   ]
  },
  {
   "cell_type": "code",
   "execution_count": 5,
   "metadata": {},
   "outputs": [],
   "source": [
    "import numpy as np\n",
    "import copy\n",
    "def gamut( e_min, e_max, base=2):\n",
    "    \"\"\"\n",
    "    compute the representable values for a floating point system\n",
    "    \n",
    "    Args:\n",
    "        p: number of digits of precision\n",
    "        e_min: smallest integer exponent value\n",
    "        e_min: largest integer exponent value\n",
    "    Named args:\n",
    "        base: default value 2\n",
    "    \n",
    "    Returns:\n",
    "        numpy array of representable values\n",
    "    \"\"\"\n",
    "    #insert code here\n",
    "    p = 3\n",
    "    def strTofloat(tar,b):\n",
    "        res = 1\n",
    "        for i in range(2,len(tar)):\n",
    "            res += float(tar[i])/(b**(i-1))\n",
    "        return res\n",
    "    \n",
    "    b = base \n",
    "    vals = []\n",
    "    que = []\n",
    "    for i in range(1,b):\n",
    "        que.append(str(i)+'.')\n",
    "        \n",
    "    while len(que) < b**(p-1)*(b-1):\n",
    "        qlen = len(que)\n",
    "        for _ in range(qlen):\n",
    "            temp = que.pop(0)\n",
    "            ano_temp = copy.deepcopy(temp)\n",
    "            for j in range(b):\n",
    "                temp += str(j)\n",
    "                if len(temp) > p+1:\n",
    "                    raise NameError(\"Too much precision\")\n",
    "                que.append(temp)\n",
    "                temp = copy.deepcopy(ano_temp)\n",
    "                \n",
    "        \n",
    "    for e in range(e_min,e_max+1):\n",
    "         for i in que:\n",
    "                float_i = strTofloat(i,b)\n",
    "                vals.append(float_i*(b**e))\n",
    "                vals.append(-float_i*(b**e))\n",
    "    vals = np.asarray(vals)\n",
    "    vals = np.sort(vals) #sort the array\n",
    "    return vals"
   ]
  },
  {
   "cell_type": "markdown",
   "metadata": {},
   "source": [
    "3b) Evaluate `X = gamut(-2,3)` and output the representable set."
   ]
  },
  {
   "cell_type": "code",
   "execution_count": 6,
   "metadata": {},
   "outputs": [
    {
     "name": "stdout",
     "output_type": "stream",
     "text": [
      "representable set X:\n"
     ]
    },
    {
     "data": {
      "text/plain": [
       "array([-14.    , -12.    , -10.    ,  -8.    ,  -7.    ,  -6.    ,\n",
       "        -5.    ,  -4.    ,  -3.5   ,  -3.    ,  -2.5   ,  -2.    ,\n",
       "        -1.75  ,  -1.5   ,  -1.25  ,  -1.    ,  -0.875 ,  -0.75  ,\n",
       "        -0.625 ,  -0.5   ,  -0.4375,  -0.375 ,  -0.3125,  -0.25  ,\n",
       "         0.25  ,   0.3125,   0.375 ,   0.4375,   0.5   ,   0.625 ,\n",
       "         0.75  ,   0.875 ,   1.    ,   1.25  ,   1.5   ,   1.75  ,\n",
       "         2.    ,   2.5   ,   3.    ,   3.5   ,   4.    ,   5.    ,\n",
       "         6.    ,   7.    ,   8.    ,  10.    ,  12.    ,  14.    ])"
      ]
     },
     "execution_count": 6,
     "metadata": {},
     "output_type": "execute_result"
    }
   ],
   "source": [
    "X = gamut(-2,3)\n",
    "print(\"representable set X:\")\n",
    "X"
   ]
  },
  {
   "cell_type": "markdown",
   "metadata": {},
   "source": [
    "3a) Write a function that rounds a floating point input to the nearest value in the array `X` of representable values (by completing the template below):"
   ]
  },
  {
   "cell_type": "code",
   "execution_count": 7,
   "metadata": {},
   "outputs": [],
   "source": [
    "def my_round(x, gamut):\n",
    "    \"\"\"\n",
    "    round a number to the nearest element of an array of ordered values\n",
    "    \n",
    "    Args:\n",
    "        x: input numeric value\n",
    "        gamut: ordered array of representable numerical values\n",
    "    \n",
    "    Returns:\n",
    "        element of gamut closest to x\n",
    "    \"\"\"\n",
    "    \n",
    "    # insert code here\n",
    "    gamut = gamut[len(gamut)//2:]\n",
    "    sign = None\n",
    "    \n",
    "    if x>=0:\n",
    "        sign = 1\n",
    "    else:\n",
    "        sign = -1\n",
    "    \n",
    "    if abs(x)<= gamut[0]/2:\n",
    "        return 0\n",
    "    elif abs(x) <= gamut[0] and abs(x) > gamut[0]/2:\n",
    "        return sign*gamut[0]\n",
    "    \n",
    "    if abs(x) >= gamut[-1]*2:\n",
    "        if sign:\n",
    "            return 'inf'\n",
    "        else:\n",
    "            return '-inf'\n",
    "    elif abs(x) >= gamut[-1] and abs(x) < gamut[-1]*2:\n",
    "        return sign*gamut[-1]\n",
    "    \n",
    "    for i in range(0,len(gamut)-1):\n",
    "        if abs(x) == gamut[i]:\n",
    "            return sign*gamut[i]\n",
    "        elif abs(x) > gamut[i] and abs(x) < gamut[i+1]:\n",
    "            if abs(abs(x)-gamut[i]) < abs(abs(x)-gamut[i+1]):\n",
    "                return sign*gamut[i]\n",
    "            else:\n",
    "                return sign*gamut[i+1]\n",
    "    return sign*gamut[-1]"
   ]
  },
  {
   "cell_type": "markdown",
   "metadata": {},
   "source": [
    "3b) Execute `my_round(9.5, X)` verify that the return value is `10.0`."
   ]
  },
  {
   "cell_type": "code",
   "execution_count": 8,
   "metadata": {},
   "outputs": [
    {
     "data": {
      "text/plain": [
       "True"
      ]
     },
     "execution_count": 8,
     "metadata": {},
     "output_type": "execute_result"
    }
   ],
   "source": [
    "10.0 == my_round(9.5, X)"
   ]
  },
  {
   "cell_type": "markdown",
   "metadata": {},
   "source": [
    "5a) Compute the absolute error in the rounded representation of 250 values of x equally spaced across the interval $[-15,15]$."
   ]
  },
  {
   "cell_type": "code",
   "execution_count": 9,
   "metadata": {},
   "outputs": [],
   "source": [
    "x_250 = np.linspace(-15,15,250)\n",
    "\n",
    "abs_errs = []\n",
    "for i in x_250:\n",
    "    appr = my_round(i,X)\n",
    "    abs_errs.append(abs(appr - i))"
   ]
  },
  {
   "cell_type": "markdown",
   "metadata": {},
   "source": [
    "5b) Plot the absolute error as computed in 5a."
   ]
  },
  {
   "cell_type": "code",
   "execution_count": 13,
   "metadata": {},
   "outputs": [
    {
     "data": {
      "image/png": "[encoded data removed]",
      "text/plain": [
       "<Figure size 432x288 with 1 Axes>"
      ]
     },
     "metadata": {
      "needs_background": "light"
     },
     "output_type": "display_data"
    }
   ],
   "source": [
    "import matplotlib.pyplot as plt\n",
    "#%matplotlib inline \n",
    "#magic command above makes plot show up in notebook\n",
    "\n",
    "#insert additional code here\n",
    "x = np.linspace(-15.0,15.0, num=250, endpoint=True)\n",
    "plt.plot(x,abs_errs)\n",
    "plt.ylabel('absolute errors')\n",
    "plt.show()"
   ]
  },
  {
   "cell_type": "markdown",
   "metadata": {},
   "source": [
    "6a) Compute the relative error in the rounded representation of 100 values of x equally spaced across the interval $[-15,15]$."
   ]
  },
  {
   "cell_type": "code",
   "execution_count": 11,
   "metadata": {},
   "outputs": [],
   "source": [
    "x_100 = np.linspace(-15,15,100)\n",
    "rel_errs = []\n",
    "for i in x_100:\n",
    "    appr = my_round(i,X)\n",
    "    if i != 0:\n",
    "        rel_errs.append(abs(i - appr)/abs(i))\n",
    "    else:\n",
    "        rel_errs.append(0)\n",
    "        #rel_errs.append(abs(i - appr)/1)"
   ]
  },
  {
   "cell_type": "markdown",
   "metadata": {},
   "source": [
    "6b) Plot the relative error as computed in 5a."
   ]
  },
  {
   "cell_type": "code",
   "execution_count": 12,
   "metadata": {},
   "outputs": [
    {
     "data": {
      "image/png": "[encoded data removed]",
      "text/plain": [
       "<Figure size 432x288 with 1 Axes>"
      ]
     },
     "metadata": {
      "needs_background": "light"
     },
     "output_type": "display_data"
    }
   ],
   "source": [
    "import matplotlib.pyplot as plt\n",
    "#%matplotlib inline \n",
    "#magic command above makes plot show up in notebook\n",
    "\n",
    "#insert additional code here\n",
    "x = np.linspace(-15.0,15.0, num=100, endpoint=True)\n",
    "plt.plot(x,rel_errs)\n",
    "plt.ylabel('relative errors')\n",
    "plt.show()"
   ]
  },
  {
   "cell_type": "markdown",
   "metadata": {},
   "source": [
    "6c) What is machine epsilon for this floating point system? Explain how you arrived at your answer and how that answer relates to your plot of relative error."
   ]
  },
  {
   "cell_type": "markdown",
   "metadata": {},
   "source": [
    "- 6c) Answer: If the floating-point number\n",
    "<br>$(-1)^s \\; (d_0.d_1 d_2 \\ldots d_{p-1}) \\; \\beta^e$\n",
    "is used to represent z\n",
    "<br>it is in error by |$ d_0.d_1 d_2 \\ldots d_{p-1} -\\; (z/\\beta^{e})$|$\\beta^{p-1}$ units in the last place.\n",
    "<br>If the result of a calculation is the floating-points number nearest to the correst result, it is still might be in error by as much as 1/2 units in the last place. That is to say, the machine epsilon would be $\\beta^{-p+1}/2$.\n",
    "<br>In the toy number system, p = 3 and $\\beta$ = 2, thus the machine epsilon $\\epsilon$ = $2^{-3+1}$ /2 = 0.125\n",
    "<br>Thus, those values close or in to the region [-0.125, 0.125] will result in tremendous floating-point error.\n",
    "<br>This is the relation between machine epsilon and relative error. "
   ]
  }
 ],
 "metadata": {
  "kernelspec": {
   "display_name": "Python 3",
   "language": "python",
   "name": "python3"
  },
  "language_info": {
   "codemirror_mode": {
    "name": "ipython",
    "version": 3
   },
   "file_extension": ".py",
   "mimetype": "text/x-python",
   "name": "python",
   "nbconvert_exporter": "python",
   "pygments_lexer": "ipython3",
   "version": "3.7.1"
  }
 },
 "nbformat": 4,
 "nbformat_minor": 2
}
