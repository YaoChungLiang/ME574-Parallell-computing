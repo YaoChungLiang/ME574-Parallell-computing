{
 "cells": [
  {
   "cell_type": "markdown",
   "metadata": {},
   "source": [
    "# Midterm exam next Tuesday 2/18/20\n",
    "\n",
    "- Prepare 1 sheet of paper with your own notes you can refer to during the exam. NNPMD \n",
    "\n",
    "- No other reference materials are allowed. \n",
    "\n",
    "- During the exam, you must do your own work. \n",
    "\n",
    "- Do not communicate with other people or use a computer cell phone or other communication device.\n",
    "\n",
    "- On campus students will take the exam during class. \n",
    "\n",
    "- If you are a remote student, please do your best to replicate the in-class exam setting. \n",
    "\n",
    "    - Find a quiet place where people will not talk to you (and vice versa). \n",
    "\n",
    "    - Complete the exam within and 80-minute time period sometime on the exam date.\n",
    "\n",
    "    - Only after you are done, scan your completed exam and submit it via Canvas by 11:59 PST Tuesday Feb. 18.\n",
    "\n",
    "    - Anyone remote not have access to a scanner? (If so, send alternative suggestion.)\n",
    "\n",
    "## Sample questions\n",
    "\n",
    "1. The typical laptop is best described as being in which of the following categories:\n",
    "\n",
    "    a.\tAnalog computer\n",
    "\n",
    "    b.\tDigital computer\n",
    "\n",
    "    c.\tQuantum computer\n",
    "\n",
    "    d.\tManual computer\n",
    "\n",
    "2. The major mathematical tool that provides the basis for the methods we have employed for discretized versions of integration and differentiation is:\n",
    "\n",
    "    a.\tFourier series\n",
    "\n",
    "    b.\tUpper G.I. series\n",
    "\n",
    "    c.\tAsymptotic series\n",
    "\n",
    "    d.\tTaylor series\n",
    "\n",
    "3. Choosing from the following list, write the symbol (or symbol sequence) next to the function it serves in python:\n",
    "    =  == ^ * ** ( ) , [ ]\n",
    "\n",
    "    a.\tMultiplication ______\n",
    "\n",
    "    b.\tExponentiation __________\n",
    "\n",
    "    c.\tAssignment     __________\n",
    "\n",
    "    d.\tEnclose a list  __________\n"
   ]
  },
  {
   "cell_type": "code",
   "execution_count": null,
   "metadata": {},
   "outputs": [],
   "source": []
  }
 ],
 "metadata": {
  "kernelspec": {
   "display_name": "Python 3",
   "language": "python",
   "name": "python3"
  },
  "language_info": {
   "codemirror_mode": {
    "name": "ipython",
    "version": 3
   },
   "file_extension": ".py",
   "mimetype": "text/x-python",
   "name": "python",
   "nbconvert_exporter": "python",
   "pygments_lexer": "ipython3",
   "version": "3.6.5"
  }
 },
 "nbformat": 4,
 "nbformat_minor": 2
}
