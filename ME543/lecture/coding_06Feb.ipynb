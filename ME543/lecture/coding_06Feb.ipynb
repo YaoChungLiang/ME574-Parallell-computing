{
 "cells": [
  {
   "cell_type": "markdown",
   "metadata": {},
   "source": [
    "# ME 535 _Corrected_ Coding exercises for Thursday Feb. 6, 2020\n",
    "\n",
    "Consider the boundary value problem (BVP) consisting of the differential equation $$\\frac{d^2 y}{dx^2} +x \\frac{dy}{dx} + \\beta y = 0$$\n",
    "with boundary conditions $$y'(0)=0, \\; y(1)=0$$\n",
    "\n",
    "0) Classify the equation before doing any computing. Can you write an analytical solution for this equation?\n",
    "\n",
    "__Linearity let's us choose $y(0)=1$__ to go along with $y'(0)=0$ for initial conditions (ICs).\n",
    "\n",
    "1) Use an ODE solver to compute solutions for a few values of $\\beta$. Plot your results and inspect to get a feel for how the solution behave.\n",
    "\n",
    "Find the first 4 eigenvalues and eigenfunctions in 3 different ways:\n",
    "\n",
    "2a) Use an ODE solver to compute solutions for a few values of $\\beta$. Plot your results and inspect to get a feel for how the solutions behave.\n",
    "\n",
    "2b) Use the shooting method based on your Runge-Kutta code.\n",
    "\n",
    "2c) Use the shooting method based on the `ivp_solve` library function.\n",
    "\n",
    "3) Use the direct solve method with an eigensolver from the linear algebra library.\n",
    "\n",
    "If you breezed through the items above, try this one:\n",
    "\n",
    "4b) Consider the ODE $$\\frac{d}{dx} \\big[ (1-x^2) \\frac{dy}{dx} \\big] + \\lambda y = 0$$ with boundary conditions $$y'(0)=0, y(1)=0$$"
   ]
  },
  {
   "cell_type": "code",
   "execution_count": null,
   "metadata": {},
   "outputs": [],
   "source": []
  }
 ],
 "metadata": {
  "file_extension": ".py",
  "kernelspec": {
   "display_name": "Python 3",
   "language": "python",
   "name": "python3"
  },
  "language_info": {
   "codemirror_mode": {
    "name": "ipython",
    "version": 3
   },
   "file_extension": ".py",
   "mimetype": "text/x-python",
   "name": "python",
   "nbconvert_exporter": "python",
   "pygments_lexer": "ipython3",
   "version": "3.6.5"
  },
  "mimetype": "text/x-python",
  "name": "python",
  "npconvert_exporter": "python",
  "pygments_lexer": "ipython3",
  "version": 3
 },
 "nbformat": 4,
 "nbformat_minor": 2
}
