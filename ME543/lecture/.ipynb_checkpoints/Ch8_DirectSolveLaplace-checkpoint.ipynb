{
 "cells": [
  {
   "cell_type": "code",
   "execution_count": 1,
   "metadata": {},
   "outputs": [
    {
     "data": {
      "text/plain": [
       "'0.23.0'"
      ]
     },
     "execution_count": 1,
     "metadata": {},
     "output_type": "execute_result"
    }
   ],
   "source": [
    "%matplotlib inline\n",
    "import numpy as np\n",
    "import matplotlib.pyplot as plt\n",
    "import scipy.linalg as LA\n",
    "from simple_plot import *\n",
    "import pandas\n",
    "pandas.__version__"
   ]
  },
  {
   "cell_type": "markdown",
   "metadata": {},
   "source": [
    "# Ch. 8 - Finite Difference Methods\n",
    "\n",
    "## This revised version avoids uses numpy arrays instead of python lists to implement the Direct Solve approach to Laplace's equation.\n",
    "\n",
    "We now make the leap from ordinary differential equations (ODEs) to __partial differential equations (PDEs)__ that involve more than one independent variable. The chapter starts looking at how to apply finite difference methods similar to those introduced in Ch. 7, and then moves on to consider an alternative approach based on Fourier transforms.\n",
    "\n",
    "Before we get into the details, let's quickly review classification of PDEs that arise frequently in engineering. Let's start with the general __$2^{nd}$-order Quasi-linear PDE__. \n",
    "$$A(x,y) \\frac{\\partial^2 u}{\\partial x^2}+2B(x,y) \\frac{\\partial^2 u}{\\partial x \\partial y}+C(x,y) \\frac{\\partial^2 u}{\\partial y^2} = F(x,y,u, \\frac{\\partial u}{\\partial x}, \\frac{\\partial u}{\\partial y})$$\n",
    "\n",
    "It is common to use $x,y,z, \\text{and } t$ as independent variables, so we will designate the dependent variable as $u$, $\\psi$, or $\\omega$. It is also common to use subscripts (sometimes preceded by a comma) as shorthand for partial derivatives, so the equation above can also be written as:\n",
    "$$A(x,y) \\, u_{xx}+2B(x,y) \\, u_{xy}+C(x,y) \\, u_{yy} = F(x,y,u, u_x, u_y)$$\n",
    "If the PDE has __constant coefficients__, then things simplify a bit:\n",
    "$$A  u_{xx}+2B  u_{xy}+C  u_{yy} = F(x,y,u, u_x, u_y)$$\n",
    "The usual approach to classification focuses on the highest ($2^{nd}$) order derivatives and considers __characteristic solutions__ of the form $u = f(k x + y)$.\n",
    "\n",
    "Using the chain rule we find: $$u_x = k f', u_y = f'$$\n",
    "\n",
    "Plugging into the PDE gives: $$A k^2 f' +2 B k f' + c f' = 0$$\n",
    "\n",
    "Cancelling $f'$ leaves a quadratic equation to solve for k: $$A k^2 + 2 B k + C = 0$$\n",
    "\n",
    "The major distinction of interesst involves whether the equation has real roots. \n",
    "\n",
    "For real values of $k$:\n",
    "\n",
    "- values of $u(k x + y)$ are constant along __real characteristic curves (or lines or directions)__ $k x + y =0 $\n",
    "\n",
    "- information propagates along real characteristics\n",
    "\n",
    "- \"propagates\" \\implies wave behavior\n",
    "\n",
    "Existence of real characteristics exist is determined by the __discriminant__ $B^2 - A C$, and the classifications are summarized in the table below:"
   ]
  },
  {
   "cell_type": "markdown",
   "metadata": {},
   "source": [
    "\n",
    "\n",
    "|   Type        |     Discriminant Value      |   Classic Example   |      Classic Equation    |    Normal Form Equation   |\n",
    "| -------- | :------------------: | :--------: | :-------------: | :--------------: |\n",
    "| Hyperbolic     |  $B^2-A C>0$  | Wave |  $u_{tt} = c^2 u_{xx}$     | $u_{vw} = f_1$ |\n",
    "| Parabolic      |  $B^2-A C=0$  | Heat |  $u_{t} = c^2 u_{xx}$     | $u_{ww} = f_2$ |\n",
    "| Elliptic      |  $B^2-A C<0$  | Laplace |  $u_{xx} + u_{yy} = 0$     | $u_{vv}+u_{ww} = f_3$ |"
   ]
  },
  {
   "cell_type": "markdown",
   "metadata": {},
   "source": [
    "We will see that the different classes of equations will have different properties that require choosing appropriate numerical methods."
   ]
  },
  {
   "cell_type": "markdown",
   "metadata": {},
   "source": [
    "## Section 8.1 - Finite Difference Discretization"
   ]
  },
  {
   "cell_type": "markdown",
   "metadata": {},
   "source": [
    "This section in the text opens with a non-trivial example, but let's look at some of the \"classics\" first starting with Laplace's equation which arises in a variety of applications including gravitation, electrostatics, fluid flow, and just about anything with a potential.\n",
    "\n",
    "### Laplace Equation - Simple Iterative Solution\n",
    "\n",
    "Starting simple with Cartesian coordinates and Dirichlet boundary conditions (BCs), let's compute a numerical solution for the following problem:\n",
    "\n",
    "$$ \\nabla^2 u = \\frac{\\partial^2u}{\\partial x^2} + \\frac{\\partial^2u}{\\partial y^2} = 0 \\text{ on } x \\in [0,L_x]; \\; y \\in [0,L_y]$$\n",
    "\n",
    "with boundary conditions:\n",
    "\n",
    "$$u(0,y)=u(L,y)=u(0,x)=0, \\; u(L,x) = U$$"
   ]
  },
  {
   "cell_type": "markdown",
   "metadata": {},
   "source": [
    "Just as we did for the direct solve method of ODEs, we will discretize the domain to produce a regular grid. Let $n_x$ be the number of grid points interior to the domain along the $x$ direction, so that there will be $n_x + 2$ along the axis (including a boundary point at each end of the interval). There will be $n_x+1$ intervals along the axis, so the spacing between the nodes is $\\Delta x = L_x/(n_x + 1)$, and the discrete coordinate values are $x_i = (i+1) \\Delta x, \\; i \\in [0,n_x -1]$. \n",
    "\n",
    "(Here we have maintained python indexing (`i in range(nx)`) in the interior, so the boundary corresponds to $x_{-1} = 0$ and $x_{nx} = Lx$.)\n"
   ]
  },
  {
   "cell_type": "code",
   "execution_count": 2,
   "metadata": {},
   "outputs": [],
   "source": [
    "Lx = 1\n",
    "nx = 4\n",
    "x = np.linspace(0,Lx,nx + 2) #linspace across full domain including boundaries\n",
    "dx = Lx/(nx+1) #spacing between nodes\n",
    "x_in = x[1:-1] #x-coords of interior points"
   ]
  },
  {
   "cell_type": "markdown",
   "metadata": {},
   "source": [
    "Similarly for $y$, the spacing between the nodes is $\\Delta y = L_y/(n_y + 1)$, and the discrete coordinate values are $y_j = (j+1) \\Delta y, \\; j \\in [0,n_y -1]$"
   ]
  },
  {
   "cell_type": "code",
   "execution_count": 3,
   "metadata": {},
   "outputs": [
    {
     "data": {
      "text/plain": [
       "array([0.2, 0.4, 0.6, 0.8])"
      ]
     },
     "execution_count": 3,
     "metadata": {},
     "output_type": "execute_result"
    }
   ],
   "source": [
    "Ly = 1\n",
    "ny = 4\n",
    "y = np.linspace(0,Ly,ny + 2) #linspace across full domain including boundaries\n",
    "dy = Ly/(ny+1) #spacing between nodes\n",
    "y_in = y[1:-1] #y-coords of interior points\n",
    "y_in"
   ]
  },
  {
   "cell_type": "code",
   "execution_count": 4,
   "metadata": {},
   "outputs": [
    {
     "data": {
      "text/plain": [
       "[array([[0. , 0.2, 0.4, 0.6, 0.8, 1. ],\n",
       "        [0. , 0.2, 0.4, 0.6, 0.8, 1. ],\n",
       "        [0. , 0.2, 0.4, 0.6, 0.8, 1. ],\n",
       "        [0. , 0.2, 0.4, 0.6, 0.8, 1. ],\n",
       "        [0. , 0.2, 0.4, 0.6, 0.8, 1. ],\n",
       "        [0. , 0.2, 0.4, 0.6, 0.8, 1. ]]),\n",
       " array([[0. , 0. , 0. , 0. , 0. , 0. ],\n",
       "        [0.2, 0.2, 0.2, 0.2, 0.2, 0.2],\n",
       "        [0.4, 0.4, 0.4, 0.4, 0.4, 0.4],\n",
       "        [0.6, 0.6, 0.6, 0.6, 0.6, 0.6],\n",
       "        [0.8, 0.8, 0.8, 0.8, 0.8, 0.8],\n",
       "        [1. , 1. , 1. , 1. , 1. , 1. ]])]"
      ]
     },
     "execution_count": 4,
     "metadata": {},
     "output_type": "execute_result"
    }
   ],
   "source": [
    "mg = np.meshgrid(x,y)\n",
    "mg"
   ]
  },
  {
   "cell_type": "markdown",
   "metadata": {},
   "source": [
    "Now the continuous domain has been replaced by a discrete grid of points, $(x_i, y_j)$, and we aim to solve for the values of the dependent variable on the grid:\n",
    "\n",
    "$$u_{i,j} = u(x_i, y_j) = u\\big( (i+1) \\Delta x, (j+1) \\Delta y \\big)$$ \n",
    "\n",
    "We get an equation for each (internal) grid point by replacing the derivatives with central difference approximations:\n",
    "\n",
    "\\begin{equation}\n",
    "\\begin{split}\n",
    "\\frac{\\partial^2u}{\\partial x^2} & \\rightarrow \\frac{1}{\\Delta x^2}(u_{i-1,j}-2u_{i,j}+u_{i+1,j}) \\\\\n",
    "\\frac{\\partial^2u}{\\partial y^2} & \\rightarrow \\frac{1}{\\Delta y^2} (u_{i,j-1} -2 u_{i,j} + u_{i,j+1})\n",
    "\\end{split}\n",
    "\\end{equation}"
   ]
  },
  {
   "cell_type": "markdown",
   "metadata": {},
   "source": [
    "Each equation then takes the form :\n",
    "\n",
    "$$ \\nabla^2 u = \\frac{\\partial ^2 u}{\\partial x^2} + \\frac{\\partial^2u}{\\partial y^2} \\rightarrow u_{i-1,j}+u_{i+1,j}+u_{i,j-1} + u_{i,j+1} -4u_{i,j} = 0$$\n",
    "\n",
    "This quantity is more readable in code format:\n",
    "\n",
    "`u[i-1,j] + u[i+1,j] + u[i,j-1] + u[i,j+1] - 4*u[i,j]`\n",
    "\n",
    "This is a classic __stencil computation__: we can think about obtaining this quantity byplacing a stencil of coefficients on top of a grid point and performing an \"inner product\" by multiplying the stencil coefficient by the grid value it covers and then summing. Here we need a \"5-point stencil\" also referred to as a __tensor product stencil of radius 1__ (because we are using a 1D stencil along each coordinate direction covering 1 neighbor in each direction. The specific stencil is shown below where red/black dots indicate stencil coefficients of $-4$ and $1$ respectively:"
   ]
  },
  {
   "cell_type": "markdown",
   "metadata": {},
   "source": [
    "![stencil_5point](stencil_5point.png)"
   ]
  },
  {
   "cell_type": "markdown",
   "metadata": {},
   "source": [
    "If there are no source terms (so the right-hand side of the previous equation is zero, then we can solve for $u_{i,j}$ in terms of the values at the neighboring gridpoints:\n",
    "\n",
    "$$u_{i,j} = \\frac{1}{4} (u_{i-1,j} + u_{i+1,j} +u_{i,j-1} +u_{i,j+1} )$$\n",
    "\n",
    "and we can employ this as the basis for an explicit iterative solver:\n",
    "\n",
    "$$u^{k+1}_{i,j} = \\frac{1}{4} (u^k_{i-1,j} + u^k_{i+1,j} +u^k_{i,j-1} +u^k_{i,j+1} )$$\n",
    "\n",
    "Interpreting $k$ as iteration number, the equation suggests repeatedly updating each grid point with the average of the values at the neighboring grid points. Let's implement this and see how it works:"
   ]
  },
  {
   "cell_type": "code",
   "execution_count": 5,
   "metadata": {},
   "outputs": [],
   "source": [
    "# write a function to update each value as mean of neighbors\n",
    "def mean_update(u):\n",
    "    '''\n",
    "    update 2D array with non-boundary elements replaced by average of 4 nearest neighbors (on Cartesian grid)\n",
    "    \n",
    "    Args:\n",
    "        u: 2D numpy array of floats\n",
    "        \n",
    "    Returns:\n",
    "        u_new: numpy array with same shape as u\n",
    "    '''\n",
    "    #insert code here\n",
    "    nx,ny = u.shape\n",
    "    #u_new = np.zeros([nx,ny])\n",
    "    u_new = np.copy(u)\n",
    "    for i in range(1,nx-1):\n",
    "        for j in range(1,ny-1):\n",
    "            u_new[i,j]=(u[i-1,j]+u[i+1,j]+u[i,j-1]+u[i,j+1])/4.\n",
    "    return u_new"
   ]
  },
  {
   "cell_type": "markdown",
   "metadata": {},
   "source": [
    "Create an array initialized with the Dirichlet BCs on the boundary and zeros in the interior:"
   ]
  },
  {
   "cell_type": "code",
   "execution_count": 6,
   "metadata": {},
   "outputs": [
    {
     "data": {
      "text/plain": [
       "array([[100., 100., 100., 100.],\n",
       "       [  0.,   0.,   0.,   0.],\n",
       "       [  0.,   0.,   0.,   0.],\n",
       "       [  0.,   0.,   0.,   0.]])"
      ]
     },
     "execution_count": 6,
     "metadata": {},
     "output_type": "execute_result"
    }
   ],
   "source": [
    "u = np.zeros([nx,ny])\n",
    "top_val = 100\n",
    "#impose BCs\n",
    "for j in range(ny):\n",
    "    u[0,j] = top_val\n",
    "u"
   ]
  },
  {
   "cell_type": "markdown",
   "metadata": {},
   "source": [
    "Test the `mean_update` function:"
   ]
  },
  {
   "cell_type": "code",
   "execution_count": 7,
   "metadata": {},
   "outputs": [
    {
     "data": {
      "text/plain": [
       "array([[100., 100., 100., 100.],\n",
       "       [  0.,  25.,  25.,   0.],\n",
       "       [  0.,   0.,   0.,   0.],\n",
       "       [  0.,   0.,   0.,   0.]])"
      ]
     },
     "execution_count": 7,
     "metadata": {},
     "output_type": "execute_result"
    }
   ],
   "source": [
    "u_new = mean_update(u)\n",
    "u_new"
   ]
  },
  {
   "cell_type": "markdown",
   "metadata": {},
   "source": [
    "That looks OK, so run a larger version:"
   ]
  },
  {
   "cell_type": "code",
   "execution_count": null,
   "metadata": {},
   "outputs": [],
   "source": []
  },
  {
   "cell_type": "markdown",
   "metadata": {},
   "source": [
    "### Sample implementation of iterative Laplace solver below:"
   ]
  },
  {
   "cell_type": "code",
   "execution_count": 8,
   "metadata": {},
   "outputs": [],
   "source": [
    "%matplotlib inline\n",
    "import numpy as np\n",
    "import matplotlib.pyplot as plt\n",
    "import scipy.linalg as LA\n",
    "from simple_plot import *\n",
    "\n",
    "# write a function to update each value as mean of neighbors\n",
    "def mean_update(u):\n",
    "    '''\n",
    "    update 2D array with non-boundary elements replaced by average of 4 nearest neighbors (on Cartesian grid)\n",
    "    \n",
    "    Args:\n",
    "        u: 2D numpy array of floats\n",
    "        \n",
    "    Returns:\n",
    "        u_new: numpy array with same shape as u\n",
    "    '''\n",
    "    nx, ny = np.shape(u)\n",
    "    u_new = np.copy(u)\n",
    "    for i in range(1,nx-1):\n",
    "        for j in range(1,ny-1):\n",
    "            u_new[i,j] = (u[i-1,j]+u[i+1,j]+u[i,j-1]+u[i,j+1])/4.\n",
    "    return u_new"
   ]
  },
  {
   "cell_type": "code",
   "execution_count": 9,
   "metadata": {},
   "outputs": [
    {
     "name": "stdout",
     "output_type": "stream",
     "text": [
      "[[1.00e+02 1.00e+02 1.00e+02 1.00e+02 1.00e+02 1.00e+02 1.00e+02 1.00e+02\n",
      "  1.00e+02 1.00e+02 1.00e+02 1.00e+02 1.00e+02 1.00e+02 1.00e+02 1.00e+02\n",
      "  1.00e+02 1.00e+02 1.00e+02 1.00e+02 1.00e+02 1.00e+02]\n",
      " [0.00e+00 4.90e+01 6.77e+01 7.60e+01 8.02e+01 8.24e+01 8.37e+01 8.45e+01\n",
      "  8.49e+01 8.51e+01 8.52e+01 8.52e+01 8.51e+01 8.49e+01 8.45e+01 8.37e+01\n",
      "  8.24e+01 8.02e+01 7.60e+01 6.77e+01 4.90e+01 0.00e+00]\n",
      " [0.00e+00 2.82e+01 4.60e+01 5.64e+01 6.25e+01 6.61e+01 6.83e+01 6.96e+01\n",
      "  7.04e+01 7.08e+01 7.10e+01 7.10e+01 7.08e+01 7.04e+01 6.96e+01 6.83e+01\n",
      "  6.61e+01 6.25e+01 5.64e+01 4.60e+01 2.82e+01 0.00e+00]\n",
      " [0.00e+00 1.80e+01 3.19e+01 4.14e+01 4.77e+01 5.18e+01 5.43e+01 5.59e+01\n",
      "  5.69e+01 5.75e+01 5.77e+01 5.77e+01 5.75e+01 5.69e+01 5.59e+01 5.43e+01\n",
      "  5.18e+01 4.77e+01 4.14e+01 3.19e+01 1.80e+01 0.00e+00]\n",
      " [0.00e+00 1.22e+01 2.25e+01 3.03e+01 3.58e+01 3.97e+01 4.22e+01 4.39e+01\n",
      "  4.49e+01 4.55e+01 4.58e+01 4.58e+01 4.55e+01 4.49e+01 4.39e+01 4.22e+01\n",
      "  3.97e+01 3.58e+01 3.03e+01 2.25e+01 1.22e+01 0.00e+00]\n",
      " [0.00e+00 8.43e+00 1.59e+01 2.19e+01 2.65e+01 2.98e+01 3.20e+01 3.36e+01\n",
      "  3.46e+01 3.51e+01 3.54e+01 3.54e+01 3.51e+01 3.46e+01 3.36e+01 3.20e+01\n",
      "  2.98e+01 2.65e+01 2.19e+01 1.59e+01 8.43e+00 0.00e+00]\n",
      " [0.00e+00 5.87e+00 1.12e+01 1.57e+01 1.92e+01 2.19e+01 2.38e+01 2.51e+01\n",
      "  2.59e+01 2.64e+01 2.66e+01 2.66e+01 2.64e+01 2.59e+01 2.51e+01 2.38e+01\n",
      "  2.19e+01 1.92e+01 1.57e+01 1.12e+01 5.87e+00 0.00e+00]\n",
      " [0.00e+00 4.06e+00 7.82e+00 1.11e+01 1.37e+01 1.57e+01 1.72e+01 1.82e+01\n",
      "  1.89e+01 1.93e+01 1.95e+01 1.95e+01 1.93e+01 1.89e+01 1.82e+01 1.72e+01\n",
      "  1.57e+01 1.37e+01 1.11e+01 7.82e+00 4.06e+00 0.00e+00]\n",
      " [0.00e+00 2.78e+00 5.37e+00 7.65e+00 9.53e+00 1.10e+01 1.21e+01 1.29e+01\n",
      "  1.35e+01 1.38e+01 1.39e+01 1.39e+01 1.38e+01 1.35e+01 1.29e+01 1.21e+01\n",
      "  1.10e+01 9.53e+00 7.65e+00 5.37e+00 2.78e+00 0.00e+00]\n",
      " [0.00e+00 1.86e+00 3.62e+00 5.18e+00 6.49e+00 7.53e+00 8.33e+00 8.91e+00\n",
      "  9.30e+00 9.54e+00 9.66e+00 9.66e+00 9.54e+00 9.30e+00 8.91e+00 8.33e+00\n",
      "  7.53e+00 6.49e+00 5.18e+00 3.62e+00 1.86e+00 0.00e+00]\n",
      " [0.00e+00 1.23e+00 2.38e+00 3.42e+00 4.30e+00 5.02e+00 5.57e+00 5.98e+00\n",
      "  6.25e+00 6.43e+00 6.51e+00 6.51e+00 6.43e+00 6.25e+00 5.98e+00 5.57e+00\n",
      "  5.02e+00 4.30e+00 3.42e+00 2.38e+00 1.23e+00 0.00e+00]\n",
      " [0.00e+00 7.87e-01 1.53e+00 2.21e+00 2.78e+00 3.26e+00 3.62e+00 3.90e+00\n",
      "  4.09e+00 4.20e+00 4.26e+00 4.26e+00 4.20e+00 4.09e+00 3.90e+00 3.62e+00\n",
      "  3.26e+00 2.78e+00 2.21e+00 1.53e+00 7.87e-01 0.00e+00]\n",
      " [0.00e+00 4.93e-01 9.61e-01 1.39e+00 1.75e+00 2.05e+00 2.29e+00 2.47e+00\n",
      "  2.59e+00 2.67e+00 2.71e+00 2.71e+00 2.67e+00 2.59e+00 2.47e+00 2.29e+00\n",
      "  2.05e+00 1.75e+00 1.39e+00 9.61e-01 4.93e-01 0.00e+00]\n",
      " [0.00e+00 3.00e-01 5.86e-01 8.46e-01 1.07e+00 1.26e+00 1.41e+00 1.52e+00\n",
      "  1.59e+00 1.64e+00 1.67e+00 1.67e+00 1.64e+00 1.59e+00 1.52e+00 1.41e+00\n",
      "  1.26e+00 1.07e+00 8.46e-01 5.86e-01 3.00e-01 0.00e+00]\n",
      " [0.00e+00 1.78e-01 3.47e-01 5.02e-01 6.36e-01 7.48e-01 8.37e-01 9.04e-01\n",
      "  9.51e-01 9.81e-01 9.96e-01 9.96e-01 9.81e-01 9.51e-01 9.04e-01 8.37e-01\n",
      "  7.48e-01 6.36e-01 5.02e-01 3.47e-01 1.78e-01 0.00e+00]\n",
      " [0.00e+00 1.02e-01 2.00e-01 2.89e-01 3.67e-01 4.32e-01 4.84e-01 5.23e-01\n",
      "  5.50e-01 5.68e-01 5.76e-01 5.76e-01 5.68e-01 5.50e-01 5.23e-01 4.84e-01\n",
      "  4.32e-01 3.67e-01 2.89e-01 2.00e-01 1.02e-01 0.00e+00]\n",
      " [0.00e+00 5.70e-02 1.11e-01 1.61e-01 2.05e-01 2.41e-01 2.70e-01 2.93e-01\n",
      "  3.08e-01 3.18e-01 3.23e-01 3.23e-01 3.18e-01 3.08e-01 2.93e-01 2.70e-01\n",
      "  2.41e-01 2.05e-01 1.61e-01 1.11e-01 5.70e-02 0.00e+00]\n",
      " [0.00e+00 3.08e-02 6.02e-02 8.72e-02 1.11e-01 1.31e-01 1.47e-01 1.59e-01\n",
      "  1.67e-01 1.73e-01 1.75e-01 1.75e-01 1.73e-01 1.67e-01 1.59e-01 1.47e-01\n",
      "  1.31e-01 1.11e-01 8.72e-02 6.02e-02 3.08e-02 0.00e+00]\n",
      " [0.00e+00 1.61e-02 3.15e-02 4.57e-02 5.80e-02 6.85e-02 7.68e-02 8.32e-02\n",
      "  8.77e-02 9.06e-02 9.19e-02 9.19e-02 9.06e-02 8.77e-02 8.32e-02 7.68e-02\n",
      "  6.85e-02 5.80e-02 4.57e-02 3.15e-02 1.61e-02 0.00e+00]\n",
      " [0.00e+00 8.15e-03 1.60e-02 2.31e-02 2.94e-02 3.47e-02 3.90e-02 4.22e-02\n",
      "  4.45e-02 4.59e-02 4.66e-02 4.66e-02 4.59e-02 4.45e-02 4.22e-02 3.90e-02\n",
      "  3.47e-02 2.94e-02 2.31e-02 1.60e-02 8.15e-03 0.00e+00]\n",
      " [0.00e+00 4.00e-03 7.81e-03 1.13e-02 1.44e-02 1.70e-02 1.91e-02 2.07e-02\n",
      "  2.18e-02 2.25e-02 2.29e-02 2.29e-02 2.25e-02 2.18e-02 2.07e-02 1.91e-02\n",
      "  1.70e-02 1.44e-02 1.13e-02 7.81e-03 4.00e-03 0.00e+00]\n",
      " [0.00e+00 1.89e-03 3.70e-03 5.36e-03 6.82e-03 8.04e-03 9.03e-03 9.78e-03\n",
      "  1.03e-02 1.07e-02 1.08e-02 1.08e-02 1.07e-02 1.03e-02 9.78e-03 9.03e-03\n",
      "  8.04e-03 6.82e-03 5.36e-03 3.70e-03 1.89e-03 0.00e+00]\n",
      " [0.00e+00 8.64e-04 1.69e-03 2.45e-03 3.11e-03 3.68e-03 4.12e-03 4.47e-03\n",
      "  4.71e-03 4.87e-03 4.94e-03 4.94e-03 4.87e-03 4.71e-03 4.47e-03 4.12e-03\n",
      "  3.68e-03 3.11e-03 2.45e-03 1.69e-03 8.64e-04 0.00e+00]\n",
      " [0.00e+00 3.81e-04 7.46e-04 1.08e-03 1.37e-03 1.62e-03 1.82e-03 1.97e-03\n",
      "  2.08e-03 2.14e-03 2.18e-03 2.18e-03 2.14e-03 2.08e-03 1.97e-03 1.82e-03\n",
      "  1.62e-03 1.37e-03 1.08e-03 7.46e-04 3.81e-04 0.00e+00]\n",
      " [0.00e+00 1.62e-04 3.17e-04 4.60e-04 5.84e-04 6.89e-04 7.72e-04 8.36e-04\n",
      "  8.81e-04 9.10e-04 9.23e-04 9.23e-04 9.10e-04 8.81e-04 8.36e-04 7.72e-04\n",
      "  6.89e-04 5.84e-04 4.60e-04 3.17e-04 1.62e-04 0.00e+00]\n",
      " [0.00e+00 6.63e-05 1.30e-04 1.88e-04 2.39e-04 2.82e-04 3.16e-04 3.42e-04\n",
      "  3.60e-04 3.72e-04 3.77e-04 3.77e-04 3.72e-04 3.60e-04 3.42e-04 3.16e-04\n",
      "  2.82e-04 2.39e-04 1.88e-04 1.30e-04 6.63e-05 0.00e+00]\n",
      " [0.00e+00 2.62e-05 5.12e-05 7.43e-05 9.42e-05 1.11e-04 1.24e-04 1.35e-04\n",
      "  1.42e-04 1.46e-04 1.48e-04 1.48e-04 1.46e-04 1.42e-04 1.35e-04 1.24e-04\n",
      "  1.11e-04 9.42e-05 7.43e-05 5.12e-05 2.62e-05 0.00e+00]\n",
      " [0.00e+00 9.93e-06 1.95e-05 2.81e-05 3.58e-05 4.21e-05 4.72e-05 5.09e-05\n",
      "  5.36e-05 5.53e-05 5.61e-05 5.61e-05 5.53e-05 5.36e-05 5.09e-05 4.72e-05\n",
      "  4.21e-05 3.58e-05 2.81e-05 1.95e-05 9.93e-06 0.00e+00]\n",
      " [0.00e+00 3.63e-06 7.09e-06 1.03e-05 1.30e-05 1.53e-05 1.71e-05 1.85e-05\n",
      "  1.95e-05 2.01e-05 2.04e-05 2.04e-05 2.01e-05 1.95e-05 1.85e-05 1.71e-05\n",
      "  1.53e-05 1.30e-05 1.03e-05 7.09e-06 3.63e-06 0.00e+00]\n",
      " [0.00e+00 1.27e-06 2.49e-06 3.59e-06 4.57e-06 5.36e-06 6.00e-06 6.47e-06\n",
      "  6.81e-06 7.01e-06 7.12e-06 7.12e-06 7.01e-06 6.81e-06 6.47e-06 6.00e-06\n",
      "  5.36e-06 4.57e-06 3.59e-06 2.49e-06 1.27e-06 0.00e+00]\n",
      " [0.00e+00 4.29e-07 8.36e-07 1.21e-06 1.53e-06 1.80e-06 2.01e-06 2.17e-06\n",
      "  2.28e-06 2.35e-06 2.38e-06 2.38e-06 2.35e-06 2.28e-06 2.17e-06 2.01e-06\n",
      "  1.80e-06 1.53e-06 1.21e-06 8.36e-07 4.29e-07 0.00e+00]\n",
      " [0.00e+00 1.38e-07 2.70e-07 3.89e-07 4.94e-07 5.78e-07 6.47e-07 6.96e-07\n",
      "  7.31e-07 7.52e-07 7.63e-07 7.63e-07 7.52e-07 7.31e-07 6.96e-07 6.47e-07\n",
      "  5.78e-07 4.94e-07 3.89e-07 2.70e-07 1.38e-07 0.00e+00]\n",
      " [0.00e+00 4.27e-08 8.32e-08 1.20e-07 1.52e-07 1.79e-07 1.99e-07 2.14e-07\n",
      "  2.24e-07 2.31e-07 2.34e-07 2.34e-07 2.31e-07 2.24e-07 2.14e-07 1.99e-07\n",
      "  1.79e-07 1.52e-07 1.20e-07 8.32e-08 4.27e-08 0.00e+00]\n",
      " [0.00e+00 1.26e-08 2.46e-08 3.54e-08 4.49e-08 5.24e-08 5.86e-08 6.28e-08\n",
      "  6.59e-08 6.77e-08 6.86e-08 6.86e-08 6.77e-08 6.59e-08 6.28e-08 5.86e-08\n",
      "  5.24e-08 4.49e-08 3.54e-08 2.46e-08 1.26e-08 0.00e+00]\n",
      " [0.00e+00 3.55e-09 6.90e-09 9.98e-09 1.26e-08 1.47e-08 1.64e-08 1.76e-08\n",
      "  1.84e-08 1.89e-08 1.91e-08 1.91e-08 1.89e-08 1.84e-08 1.76e-08 1.64e-08\n",
      "  1.47e-08 1.26e-08 9.98e-09 6.90e-09 3.55e-09 0.00e+00]\n",
      " [0.00e+00 8.97e-10 1.76e-09 2.52e-09 3.19e-09 3.71e-09 4.14e-09 4.43e-09\n",
      "  4.64e-09 4.76e-09 4.82e-09 4.82e-09 4.76e-09 4.64e-09 4.43e-09 4.14e-09\n",
      "  3.71e-09 3.19e-09 2.52e-09 1.76e-09 8.97e-10 0.00e+00]\n",
      " [0.00e+00 0.00e+00 0.00e+00 0.00e+00 0.00e+00 0.00e+00 0.00e+00 0.00e+00\n",
      "  0.00e+00 0.00e+00 0.00e+00 0.00e+00 0.00e+00 0.00e+00 0.00e+00 0.00e+00\n",
      "  0.00e+00 0.00e+00 0.00e+00 0.00e+00 0.00e+00 0.00e+00]]\n",
      "[25.      12.5      7.8125   5.46875  4.6875   4.02832  3.49121  3.05481\n",
      "  2.69775  2.40269  2.15626  1.94833  1.82646  1.71415  1.61065  1.51609\n",
      "  1.4288   1.34939  1.27552  1.20855  1.14562  1.08876  1.03473  0.98608\n",
      "  0.95131  0.91683  0.88551  0.85385  0.82532  0.79629  0.77032  0.74372\n",
      "  0.72004  0.69566  0.67405  0.65168  0.63192  0.61137  0.59328  0.57558\n",
      "  0.56046  0.54726  0.53297  0.52051  0.50703  0.49529  0.48258  0.47151\n",
      "  0.45954  0.44911  0.43783  0.428    0.41738  0.40811  0.39811  0.38938\n",
      "  0.37995  0.37171  0.36283  0.35506]\n"
     ]
    }
   ],
   "source": [
    "#from IPython.core.debugger import set_trace\n",
    "#set_trace()\n",
    "\n",
    "#intialize x discretization\n",
    "Lx = 1\n",
    "nx = 35\n",
    "x = np.linspace(0,Lx,nx + 2) #linspace across full domain including boundaries\n",
    "dx = Lx/(nx+1) #spacing between nodes\n",
    "x_in = x[1:-1] #x-coords of interior points\n",
    "\n",
    "#intialize y discretization\n",
    "Ly = 1\n",
    "ny = 20\n",
    "y = np.linspace(0,Ly,ny + 2) #linspace across full domain including boundaries\n",
    "dy = Ly/(ny+1) #spacing between nodes\n",
    "y_in = y[1:-1] #y-coords of interior points\n",
    "y_in\n",
    "\n",
    "#intialize the 2D array\n",
    "u = np.zeros([nx+2,ny+2]) #include boundary points\n",
    "top_val = 100\n",
    "#impose BCs\n",
    "for j in range(ny+2):\n",
    "    u[0,j] = top_val\n",
    "\n",
    "tol = 1e-2\n",
    "max_iter = 60\n",
    "du = np.zeros(max_iter)\n",
    "for k in range(max_iter):\n",
    "    u_new = mean_update(u)\n",
    "    du_max = np.max(np.abs(u-u_new))\n",
    "    du[k] = du_max\n",
    "    u = u_new\n",
    "    if du_max < tol:\n",
    "        break\n",
    "np.set_printoptions(precision=2)\n",
    "print(u)\n",
    "np.set_printoptions(precision=5)\n",
    "print(du)\n",
    "np.set_printoptions(precision=2)"
   ]
  },
  {
   "cell_type": "code",
   "execution_count": 10,
   "metadata": {},
   "outputs": [
    {
     "name": "stderr",
     "output_type": "stream",
     "text": [
      "C:\\Users\\storti\\Anaconda3\\lib\\site-packages\\ipykernel_launcher.py:2: RuntimeWarning: divide by zero encountered in log\n",
      "  \n"
     ]
    },
    {
     "data": {
      "image/png": "[encoded data removed]",
      "text/plain": [
       "<Figure size 432x288 with 1 Axes>"
      ]
     },
     "metadata": {},
     "output_type": "display_data"
    }
   ],
   "source": [
    "t = range(max_iter)\n",
    "arrayplot(np.log(t), np.log(du), axis_range=[0,np.log(max_iter),-2,1],grid=True)"
   ]
  },
  {
   "cell_type": "code",
   "execution_count": 11,
   "metadata": {},
   "outputs": [
    {
     "data": {
      "text/plain": [
       "((37,), (22,), (37, 22))"
      ]
     },
     "execution_count": 11,
     "metadata": {},
     "output_type": "execute_result"
    }
   ],
   "source": [
    "x.shape, y.shape, u.shape"
   ]
  },
  {
   "cell_type": "code",
   "execution_count": 12,
   "metadata": {},
   "outputs": [
    {
     "data": {
      "text/plain": [
       "((22, 37), (22, 37), (37, 22))"
      ]
     },
     "execution_count": 12,
     "metadata": {},
     "output_type": "execute_result"
    }
   ],
   "source": [
    "X,Y = np.meshgrid(x,y)\n",
    "X.shape,Y.shape,u.shape"
   ]
  },
  {
   "cell_type": "code",
   "execution_count": 13,
   "metadata": {},
   "outputs": [
    {
     "data": {
      "image/png": "[encoded data removed]",
      "text/plain": [
       "<Figure size 432x288 with 1 Axes>"
      ]
     },
     "metadata": {},
     "output_type": "display_data"
    },
    {
     "data": {
      "text/plain": [
       "<matplotlib.contour.QuadContourSet at 0x1e8a0c019b0>"
      ]
     },
     "execution_count": 13,
     "metadata": {},
     "output_type": "execute_result"
    }
   ],
   "source": [
    "arraycontourplot(1-x,y, u, levels=np.linspace(0,100,10),\n",
    "    titlestring='', filled=False)"
   ]
  },
  {
   "cell_type": "markdown",
   "metadata": {},
   "source": [
    "# PICK UP HERE THURSDAY 2/20"
   ]
  },
  {
   "cell_type": "markdown",
   "metadata": {},
   "source": [
    "### Laplace Equation - Direct Solve\n",
    "\n",
    "The approach implemented above uses the central difference operator to create a stencil that can be used to repeatedly update values on the 2D grid so that the 2D array of values converges to an approximat solution of the Laplace equation.\n",
    "\n",
    "Here we consider an alternative __direct solve__ view where we again collect the discretized equations for the full grid of nodes into one big system to be solved for the full grid of values. Because the PDE is linear, the system of equations will be linear, so it is convenient to recast the problem into the traditional $A x = b$ form. How do you do that when the unknowns correspond to a 2-dimensional array instead of a 1-dimensional array? The usual approach is to  __flatten__ the $n \\times n$ 2D array into a $n^2 \\times 1$ 1D array: instead of stacking the rows on top of one another to create a matrix, concatenate one row after another in 1 long vector (i.e., a 1D numpy array).\n",
    "\n",
    "To be concrete, the 2D array is:\n"
   ]
  },
  {
   "cell_type": "markdown",
   "metadata": {},
   "source": [
    "$$\n",
    "\\begin{equation}\n",
    "\\boldsymbol{u}_{2D} = \n",
    "\\begin{bmatrix}\n",
    "u[0,0] & u[0,1] & u[0,2] & u[0,3] \\\\\n",
    "u[1,0] & u[1,1] & u[1,2] & u[1,3] \\\\\n",
    "u[2,0] & u[2,1] & u[2,2] & u[2,3] \\\\\n",
    "u[3,0] & u[3,1] & u[3,2] & u[3,3]  \n",
    "\\end{bmatrix}\n",
    "\\end{equation}\n",
    "$$"
   ]
  },
  {
   "cell_type": "markdown",
   "metadata": {},
   "source": [
    "and the stencil is:\n",
    "$$\n",
    "\\begin{equation}\n",
    "\\boldsymbol{u}_{2D} = \n",
    "\\begin{bmatrix}\n",
    "0 & 1 & 0  \\\\\n",
    "1  &-4 & 1  \\\\\n",
    "0 & 1 & 0 \n",
    "\\end{bmatrix}\n",
    "\\end{equation}\n",
    "$$"
   ]
  },
  {
   "cell_type": "markdown",
   "metadata": {},
   "source": [
    "The 2D array flattens into the following 1D array:\n",
    "$$\n",
    "\\begin{equation}\n",
    "\\boldsymbol{u}_{1D} =\n",
    "\\begin{bmatrix}\n",
    "   u[0,0]   \\\\\n",
    "   u[0,1]   \\\\\n",
    "   u[0,2]   \\\\\n",
    "   u[0,3]   \\\\\n",
    "   u[1,0]   \\\\\n",
    "   u[1,1]   \\\\\n",
    "   u[1,2]   \\\\\n",
    "   u[1,3]   \\\\\n",
    "   u[2,0]   \\\\\n",
    "   u[2,1]   \\\\\n",
    "   u[2,2]   \\\\\n",
    "   u[2,3]   \\\\\n",
    "   u[3,0]   \\\\\n",
    "   u[3,1]   \\\\\n",
    "   u[3,2]   \\\\\n",
    "   u[3,3]\n",
    "\\end{bmatrix} \n",
    "\\end{equation}\n",
    "$$"
   ]
  },
  {
   "cell_type": "markdown",
   "metadata": {},
   "source": [
    "and applying the stencil at each node on the grid produces a linear system of equations $A \\boldsymbol{u}_{1D} = \\boldsymbol{b}$. \n",
    "\n",
    "__Look at a typical row and identify the coefficients associated with the node at the center of the stencil and its left, right, top, and bottom neighbors.__\n",
    "\n"
   ]
  },
  {
   "cell_type": "markdown",
   "metadata": {},
   "source": [
    "$$\n",
    "\\begin{equation}\n",
    "A \\boldsymbol{u}_{2D} = \n",
    "\\begin{bmatrix}\n",
    "-4 & 1 & 0 & 0 & 1 & 0 & 0 & 0 & 0 & 0 & 0 & 0 & 0 & 0 & 0 & 0 \\\\\n",
    "1 & -4 & 1 & 0 & 0 & 1 & 0 & 0 & 0 & 0 & 0 & 0 & 0 & 0 & 0 & 0 \\\\\n",
    "0 & 1 & -4 & 1 & 0 & 0 & 1 & 0 & 0 & 0 & 0 & 0 & 0 & 0 & 0 & 0 \\\\\n",
    "0 & 0 & 1 & -4 & 1 & 0 & 0 & 1 & 0 & 0 & 0 & 0 & 0 & 0 & 0 & 0 \\\\\n",
    "1 & 0 & 0 & 0 & -4 & 1 & 0 & 0 & 1 & 0 & 0 & 0 & 0 & 0 & 0 & 0 \\\\\n",
    "0 & 1 & 0 & 0 & 1 & -4 & 1 & 0 & 0 & 1 & 0 & 0 & 0 & 0 & 0 & 0 \\\\\n",
    "0 & 0 & 1 & 0 & 0 & 1 & -4 & 1 & 0 & 0 & 1 & 0 & 0 & 0 & 0 & 0 \\\\\n",
    "0 & 0 & 0 & 1 & 0 & 0 & 1 & -4 & 1 & 0 & 0 & 1 & 0 & 0 & 0 & 0 \\\\\n",
    "0 & 0 & 0 & 0 & 1 & 0 & 0 & 0 & -4 & 1 & 0 & 0 & 1 & 0 & 0 & 0 \\\\\n",
    "0 & 0 & 0 & 0 & 0 & 1 & 0 & 0 & 1 & -4 & 1 & 0 & 0 & 1 & 0 & 0 \\\\\n",
    "0 & 0 & 0 & 0 & 0 & 0 & 1 & 0 & 0 & 1 & -4 & 1 & 0 & 0 & 1 & 0 \\\\\n",
    "0 & 0 & 0 & 0 & 0 & 0 & 0 & 1 & 0 & 0 & 1 & -4 & 1 & 0 & 0 & 1 \\\\\n",
    "0 & 0 & 0 & 0 & 0 & 0 & 0 & 0 & 1 & 0 & 0 & 0 & -4 & 1 & 0 & 0 \\\\\n",
    "0 & 0 & 0 & 0 & 0 & 0 & 0 & 0 & 0 & 1 & 0 & 0 & 1 & -4 & 1 & 0 \\\\\n",
    "0 & 0 & 0 & 0 & 0 & 0 & 0 & 0 & 0 & 0 & 1 & 0 & 0 & 1 & -4 & 1 \\\\\n",
    "0 & 0 & 0 & 0 & 0 & 0 & 0 & 0 & 0 & 0 & 0 & 1 & 0 & 0 & 1 & -4 \\\\ \n",
    "\\end{bmatrix}\n",
    "\\begin{bmatrix}\n",
    "   u[0,0]   \\\\\n",
    "   u[0,1]   \\\\\n",
    "   u[0,2]   \\\\\n",
    "   u[0,3]   \\\\\n",
    "   u[1,0]   \\\\\n",
    "   u[1,1]   \\\\\n",
    "   u[1,2]   \\\\\n",
    "   u[1,3]   \\\\\n",
    "   u[2,0]   \\\\\n",
    "   u[2,1]   \\\\\n",
    "   u[2,2]   \\\\\n",
    "   u[2,3]   \\\\\n",
    "   u[3,0]   \\\\\n",
    "   u[3,1]   \\\\\n",
    "   u[3,2]   \\\\\n",
    "   u[3,3]\n",
    "\\end{bmatrix}\n",
    "=\n",
    "\\begin{bmatrix}\n",
    "   -U   \\\\\n",
    "   -U   \\\\\n",
    "   -U   \\\\\n",
    "   -U   \\\\\n",
    "   0   \\\\\n",
    "   0   \\\\\n",
    "   0   \\\\\n",
    "   0   \\\\\n",
    "   0   \\\\\n",
    "   0   \\\\\n",
    "   0   \\\\\n",
    "   0   \\\\\n",
    "   0   \\\\\n",
    "   0   \\\\\n",
    "   0   \\\\\n",
    "   0\n",
    "\\end{bmatrix}\n",
    "\\end{equation}\n",
    "$$"
   ]
  },
  {
   "cell_type": "markdown",
   "metadata": {},
   "source": [
    "The non-zero entries in $\\boldsymbol b$ arise in rows corresponding to grid points adjacent to non-homogeneous boundary values.\n",
    "\n",
    "The array has a structure that is more clearly revealed by writing it as a block matrix:\n",
    "$$\n",
    "\\begin{equation}\n",
    "A = \n",
    "\\begin{bmatrix}\n",
    "B & I & 0 & 0 \\\\\n",
    "I & B & I & 0 \\\\\n",
    "0 & I & B & I \\\\\n",
    "0 & 0 & I & B\n",
    "\\end{bmatrix}\n",
    "\\end{equation}\n",
    "$$\n",
    "\n",
    "where $I$ is the $4 \\times 4$ identity matrix, $0$ is a $4 \\times 4$ matrix of zeros and\n",
    "$$\n",
    "\\begin{equation}\n",
    "B = \n",
    "\\begin{bmatrix}\n",
    "-4 & 1 & 0 & 0 \\\\\n",
    "1 & -4 & 1 & 0 \\\\\n",
    "0 & 1 & -4 & 1 \\\\\n",
    "0 & 0 & 1 & -4\n",
    "\\end{bmatrix}\n",
    "\\end{equation}\n",
    "$$\n",
    "\n",
    "Note that your matrix will be different around the edges as you adjust for different boundary conditions. For example, Eq. (8.1.14) in the text considers periodic boundary conditions resulting in having $I$ instead of $0$ in the lower left and upper right positions in the block matrix."
   ]
  },
  {
   "cell_type": "markdown",
   "metadata": {},
   "source": [
    "### Coding exercise\n",
    "\n",
    "So now is the time for some coding exercise. Write a function to construct the matrix for an $n \\times n$ grid. Also, write a function to construct the corresponding vector $\\boldsymbol b$.\n",
    "\n",
    "So how would you go about doing this? We have seen that we can construct block arrays with `numpy.blocks` and specify diagonal values of a banded matrix with`scipy.sparse.diags`. How would we combine these to constuct a block banded array? And what kind of structure should we use?\n",
    "\n",
    "Consider a fully `numpy` approach. What issues might we run into?\n",
    "\n",
    "- Memory allocation: The size of a `numpy` array has to be specified and allocated in advance, so we can't just append new pieces to build the block array.\n",
    "\n",
    "- Assignment to subarrays: `numpy` does NOT support assignment to subarrays, so the assignment of values from a block into the block-banded matrix has to be done one element at a time.\n",
    "\n",
    "So jumping directly into `numpy` does not seem like the correct approach. The data structure that allows us to build up by appending elements is the python `list` structure (which also happens to be the desired form of the input for constructing arrays with`numpy.array` and `numpy.block`).\n",
    "\n",
    "So a sensible approach goes as follows:\n",
    "\n",
    "1) Define the desired blocks, `B(n), I(n), O(n)`, using `scipy.sparse.diags`.\n",
    "\n",
    "2) Write a `list_diags` function similar to `diags` that constructs a doubly nested list with given values on the diagonals in the desired band.\n",
    "\n",
    "3) Call `list_diags` with the list of desired blocks as an argument to create the nested list `nest`.\n",
    "\n",
    "4) Call `numpy.block(nest)` to create the desired `numpy` array.\n",
    "\n",
    "With that plan, fill in the code below:"
   ]
  },
  {
   "cell_type": "code",
   "execution_count": 20,
   "metadata": {},
   "outputs": [],
   "source": [
    "from scipy.sparse import diags\n",
    "import pdb #in case you need to do some bebugging\n",
    "#pdb.set_trace() #set a breakpoint\n",
    "\n",
    "def B(n):\n",
    "    '''\n",
    "    construct nxn tridiagonal 2D array with entries 1,-4,1 on the diagonals\n",
    "    \n",
    "    Args:\n",
    "        n: integer size of square array\n",
    "        \n",
    "    Returns:\n",
    "        arr: nxn 2D tridiagonal numpy array \n",
    "    '''\n",
    "    # insert code here\n",
    "    # if you create a sparse array, remember to use toarray() so you return something you can view\n",
    "    arr = diags([1,-4,1],[-1,0,1],shape=[n,n])\n",
    "    return arr.toarray()\n",
    "\n",
    "# create shorthand for standard numpy arrays\n",
    "def I(n):\n",
    "    return np.eye(n)\n",
    "\n",
    "def O(n):\n",
    "    return np.zeros([n,n])"
   ]
  },
  {
   "cell_type": "code",
   "execution_count": 21,
   "metadata": {},
   "outputs": [
    {
     "name": "stdout",
     "output_type": "stream",
     "text": [
      "B= \n",
      " [[-4.  1.  0.  0.]\n",
      " [ 1. -4.  1.  0.]\n",
      " [ 0.  1. -4.  1.]\n",
      " [ 0.  0.  1. -4.]]\n"
     ]
    }
   ],
   "source": [
    "#test your functions\n",
    "n=4\n",
    "print(\"B= \\n\", B(n))\n",
    "#etc"
   ]
  },
  {
   "cell_type": "markdown",
   "metadata": {},
   "source": []
  },
  {
   "cell_type": "code",
   "execution_count": 17,
   "metadata": {},
   "outputs": [],
   "source": [
    "def block_diags(val, offset, fill, n):\n",
    "    '''\n",
    "    construct n**n x n**n 2D block diagonal numpy array \n",
    "    \n",
    "    Args:\n",
    "        value: list of block arrays\n",
    "        offset: list of block offsets from main diagonal\n",
    "        fill: default block elsewhere in the block array\n",
    "        n: integer size for each square block\n",
    "        \n",
    "    Returns:\n",
    "        arr: n**n x n**n 2D numpy array corr. to block diagonal matrix\n",
    "    '''\n",
    "    #insert code here\n",
    "    return arr\n"
   ]
  },
  {
   "cell_type": "code",
   "execution_count": null,
   "metadata": {},
   "outputs": [],
   "source": [
    "#test your code\n",
    "n=8\n",
    "A = block_diags([I(n),B(n),I(n)],[-1,0,1],O(n),n)\n",
    "print(A)"
   ]
  },
  {
   "cell_type": "code",
   "execution_count": null,
   "metadata": {},
   "outputs": [],
   "source": [
    "#visualize non-zero entries in your array\n",
    "plt.spy(A)"
   ]
  },
  {
   "cell_type": "code",
   "execution_count": null,
   "metadata": {},
   "outputs": [],
   "source": [
    "#visualize color-coded array entries\n",
    "fig= plt.figure(figsize=(8,8))\n",
    "axes= fig.add_axes([0.1,0.1,0.8,0.8])\n",
    "axes.matshow(A)\n",
    "plt.colorbar(mat)\n",
    "plt.show()"
   ]
  },
  {
   "cell_type": "markdown",
   "metadata": {},
   "source": [
    "Write a function to create the right-hand side array which is of length $n*n$ has the value $-U$ in the first $n$ positions and zero elsewhere:"
   ]
  },
  {
   "cell_type": "code",
   "execution_count": null,
   "metadata": {},
   "outputs": [],
   "source": [
    "#insert code here"
   ]
  },
  {
   "cell_type": "markdown",
   "metadata": {},
   "source": [
    "Having constructed the matrix $A$ and vector $b$, obtain the vector $u$ that solves $Au=b$."
   ]
  },
  {
   "cell_type": "code",
   "execution_count": null,
   "metadata": {},
   "outputs": [],
   "source": []
  },
  {
   "cell_type": "markdown",
   "metadata": {},
   "source": [
    "Now you should be close to having a solution to inspect, but we flattened the 2D array at the start and now the time has come to \"unflatten\" it. Find the appropriate `numpy` function to put the convert the 1D array back to an $n \\times n$ 2D array."
   ]
  },
  {
   "cell_type": "code",
   "execution_count": null,
   "metadata": {},
   "outputs": [],
   "source": []
  },
  {
   "cell_type": "markdown",
   "metadata": {},
   "source": [
    "The 2D array stores only the values in the interior of the domain. Write a `pad_2D` function to expand the array to include the boundary values."
   ]
  },
  {
   "cell_type": "code",
   "execution_count": null,
   "metadata": {},
   "outputs": [],
   "source": [
    "def pad_2D(u,val):\n",
    "    '''\n",
    "    create (n+2)x(n+2) array corr. to solution padded with simple boundary values.\n",
    "    The prepended row contains `val`. Elsewhere pad with zero.\n",
    "    \n",
    "    Args:\n",
    "        u: 2D numpy array\n",
    "        val: constant value to be prepended before the first row\n",
    "    '''\n",
    "    #insert code here\n",
    "    return arr"
   ]
  },
  {
   "cell_type": "markdown",
   "metadata": {},
   "source": [
    "Pad your solution, construct $x$ and $y$ values for the grid and contourplot to visualize the result."
   ]
  },
  {
   "cell_type": "code",
   "execution_count": null,
   "metadata": {},
   "outputs": [],
   "source": []
  },
  {
   "cell_type": "markdown",
   "metadata": {},
   "source": [
    "### Sample implementation below"
   ]
  },
  {
   "cell_type": "code",
   "execution_count": 75,
   "metadata": {},
   "outputs": [],
   "source": [
    "from scipy.sparse import diags\n",
    "import pdb\n",
    "#pdb.set_trace()\n",
    "\n",
    "def B(n):\n",
    "    '''\n",
    "    construct nxn tridiagonal matrix with entries 1,-4,1\n",
    "    \n",
    "    Args:\n",
    "        n: integer size of square array\n",
    "        \n",
    "    Returns:\n",
    "        arr: nxn 2D tridiagonal numpy array \n",
    "    '''\n",
    "    # insert code here\n",
    "    arr =  diags([1,-4,1],[-1,0,1],shape=[n,n])\n",
    "    return arr.toarray()\n",
    "\n",
    "def I(n):\n",
    "    return np.eye(n)"
   ]
  },
  {
   "cell_type": "code",
   "execution_count": 76,
   "metadata": {},
   "outputs": [
    {
     "name": "stdout",
     "output_type": "stream",
     "text": [
      "B = \n",
      " [[-4.  1.  0.  0.]\n",
      " [ 1. -4.  1.  0.]\n",
      " [ 0.  1. -4.  1.]\n",
      " [ 0.  0.  1. -4.]]\n",
      "I = \n",
      " [[1. 0. 0. 0.]\n",
      " [0. 1. 0. 0.]\n",
      " [0. 0. 1. 0.]\n",
      " [0. 0. 0. 1.]]\n"
     ]
    }
   ],
   "source": [
    "n=4\n",
    "print(\"B = \\n\", B(n))\n",
    "print(\"I = \\n\", I(n))"
   ]
  },
  {
   "cell_type": "markdown",
   "metadata": {},
   "source": [
    "Aside on list comprehensions and dictionaries:\n",
    "\n",
    "__List Comprehension__: \n",
    "\n",
    "- A convenient method for constructing lists\n",
    "\n",
    "- Basic Syntax: `[ expression for item in list if conditional ]`\n",
    "\n",
    "which is equivalent to:\n",
    "```\n",
    "for item in list:\n",
    "    if conditional:\n",
    "        expression\n",
    "        ```\n",
    "        \n",
    "- Note enclosure in [ ] to remind us that the result is a list"
   ]
  },
  {
   "cell_type": "markdown",
   "metadata": {},
   "source": [
    "Here we do not need the conditional, but it gives us an easy way to construct an nxn nested list where each entry has the value 'fill'\n",
    "\n",
    "__Dictionary__:\n",
    "\n",
    "- Sequence of key-value pairs\n",
    "\n",
    "- Basic Syntax:\n",
    "```\n",
    " dict = {\n",
    " ‘key1′:’value1′,\n",
    " ‘key2′:’value2′,\n",
    " ‘key3′:’value3′\n",
    " }\n",
    "```\n",
    "\n",
    "- `dict.get(key)` returns the associated value or `None` if `key` is not found in `dict`\n",
    "\n",
    "Below we create a sample dictionary and attempt to retrieve values associated with `'key1'` (which is in the dictionary) and `'key4'` (which is not in the dictionary):"
   ]
  },
  {
   "cell_type": "code",
   "execution_count": 187,
   "metadata": {},
   "outputs": [
    {
     "data": {
      "text/plain": [
       "('value1', None)"
      ]
     },
     "execution_count": 187,
     "metadata": {},
     "output_type": "execute_result"
    }
   ],
   "source": [
    "my_dict = {\n",
    "'key1':'value1',\n",
    "'key2':'value2',\n",
    "'key3':'value3'\n",
    "}\n",
    "\n",
    "my_dict.get('key1'), my_dict.get('key4')"
   ]
  },
  {
   "cell_type": "markdown",
   "metadata": {},
   "source": [
    "With these tools, we can conveniently construct the desired \"block-banded\" array:"
   ]
  },
  {
   "cell_type": "code",
   "execution_count": 140,
   "metadata": {},
   "outputs": [],
   "source": [
    "def block_diags(val, offset, n):\n",
    "    '''\n",
    "    construct n**n x n**n 2D block diagonal numpy array \n",
    "    \n",
    "    Args:\n",
    "        value: list of block arrays\n",
    "        offset: list of block offsets from main diagonal\n",
    "        fill: default block elsewhere in the block array\n",
    "        n: integer size for each square block\n",
    "        \n",
    "    Returns:\n",
    "        arr: n**n x n**n 2D numpy array corr. to block diagonal matrix\n",
    "    '''\n",
    "    arr =  np.zeros([n*n,n*n])\n",
    "    d = dict(zip(val,offset))\n",
    "    for i in range(n):\n",
    "        for j in range(n):\n",
    "            entry = d.get(j-i)\n",
    "            if type(entry) == np.ndarray:\n",
    "                arr[n*i:n*(i+1), n*j:n*(j+1)] = entry\n",
    "    return arr"
   ]
  },
  {
   "cell_type": "code",
   "execution_count": 168,
   "metadata": {},
   "outputs": [],
   "source": [
    "n=8\n",
    "val = [I(n),B(n),I(n)]\n",
    "#val = [1,-4,1]\n",
    "offset = [-1,0,1]\n",
    "d = dict(zip(offset,val))"
   ]
  },
  {
   "cell_type": "code",
   "execution_count": 169,
   "metadata": {},
   "outputs": [
    {
     "name": "stdout",
     "output_type": "stream",
     "text": [
      "[[-4.  1.  0. ...  0.  0.  0.]\n",
      " [ 1. -4.  1. ...  0.  0.  0.]\n",
      " [ 0.  1. -4. ...  0.  0.  0.]\n",
      " ...\n",
      " [ 0.  0.  0. ... -4.  1.  0.]\n",
      " [ 0.  0.  0. ...  1. -4.  1.]\n",
      " [ 0.  0.  0. ...  0.  1. -4.]]\n"
     ]
    }
   ],
   "source": [
    "A = block_diags(offset,val,n)\n",
    "print(A)"
   ]
  },
  {
   "cell_type": "code",
   "execution_count": 170,
   "metadata": {},
   "outputs": [
    {
     "data": {
      "text/plain": [
       "<matplotlib.image.AxesImage at 0x1e8a104bc50>"
      ]
     },
     "execution_count": 170,
     "metadata": {},
     "output_type": "execute_result"
    },
    {
     "data": {
      "image/png": "[encoded data removed]",
      "text/plain": [
       "<Figure size 432x288 with 1 Axes>"
      ]
     },
     "metadata": {},
     "output_type": "display_data"
    }
   ],
   "source": [
    "from scipy import sparse\n",
    "plt.spy(A)"
   ]
  },
  {
   "cell_type": "code",
   "execution_count": 171,
   "metadata": {},
   "outputs": [
    {
     "data": {
      "image/png": "[encoded data removed]",
      "text/plain": [
       "<Figure size 576x576 with 1 Axes>"
      ]
     },
     "metadata": {},
     "output_type": "display_data"
    }
   ],
   "source": [
    "fig= plt.figure(figsize=(8,8))\n",
    "axes= fig.add_axes([0.1,0.1,0.8,0.8])\n",
    "axes.matshow(A)\n",
    "#plt.colorbar(A)\n",
    "plt.show()"
   ]
  },
  {
   "cell_type": "code",
   "execution_count": 179,
   "metadata": {},
   "outputs": [],
   "source": [
    "# this version takes an array of boundary values (not necessarily constant)\n",
    "def b(n, val):\n",
    "    if n != val.size:\n",
    "        print(\"Length \" + str(val.size)+ \" of BC array does not match specified size \" + str(n) +\".\")\n",
    "        return\n",
    "    b = np.zeros(n*n)\n",
    "    b[0:n] = -val\n",
    "    return b"
   ]
  },
  {
   "cell_type": "markdown",
   "metadata": {},
   "source": [
    "Now create array of values for x and y and the boundary values along the top edge: $u = sin(\\pi x)$; then construct the $\\boldsymbol{b}$ for the right-hand side:"
   ]
  },
  {
   "cell_type": "code",
   "execution_count": 179,
   "metadata": {},
   "outputs": [
    {
     "data": {
      "text/plain": [
       "array([-0.34, -0.64, -0.87, -0.98, -0.98, -0.87, -0.64, -0.34,  0.  ,\n",
       "        0.  ,  0.  ,  0.  ,  0.  ,  0.  ,  0.  ,  0.  ,  0.  ,  0.  ,\n",
       "        0.  ,  0.  ,  0.  ,  0.  ,  0.  ,  0.  ,  0.  ,  0.  ,  0.  ,\n",
       "        0.  ,  0.  ,  0.  ,  0.  ,  0.  ,  0.  ,  0.  ,  0.  ,  0.  ,\n",
       "        0.  ,  0.  ,  0.  ,  0.  ,  0.  ,  0.  ,  0.  ,  0.  ,  0.  ,\n",
       "        0.  ,  0.  ,  0.  ,  0.  ,  0.  ,  0.  ,  0.  ,  0.  ,  0.  ,\n",
       "        0.  ,  0.  ,  0.  ,  0.  ,  0.  ,  0.  ,  0.  ,  0.  ,  0.  ,\n",
       "        0.  ])"
      ]
     },
     "execution_count": 179,
     "metadata": {},
     "output_type": "execute_result"
    }
   ],
   "source": [
    "x = np.linspace(0,1,n+2)\n",
    "y = np.linspace(0,1,n+2)\n",
    "top_vals = np.sin(np.pi*x)[1:n+1]\n",
    "b(n,top_vals)"
   ]
  },
  {
   "cell_type": "code",
   "execution_count": 180,
   "metadata": {},
   "outputs": [
    {
     "data": {
      "text/plain": [
       "array([0.24, 0.45, 0.61, 0.7 , 0.7 , 0.61, 0.45, 0.24, 0.17, 0.32, 0.43,\n",
       "       0.49, 0.49, 0.43, 0.32, 0.17, 0.12, 0.22, 0.3 , 0.34, 0.34, 0.3 ,\n",
       "       0.22, 0.12, 0.08, 0.16, 0.21, 0.24, 0.24, 0.21, 0.16, 0.08, 0.06,\n",
       "       0.11, 0.14, 0.16, 0.16, 0.14, 0.11, 0.06, 0.04, 0.07, 0.1 , 0.11,\n",
       "       0.11, 0.1 , 0.07, 0.04, 0.02, 0.04, 0.06, 0.07, 0.07, 0.06, 0.04,\n",
       "       0.02, 0.01, 0.02, 0.03, 0.03, 0.03, 0.03, 0.02, 0.01])"
      ]
     },
     "execution_count": 180,
     "metadata": {},
     "output_type": "execute_result"
    }
   ],
   "source": [
    "#solve the linear system\n",
    "u = LA.solve(A,b(n,top_vals))\n",
    "u"
   ]
  },
  {
   "cell_type": "code",
   "execution_count": 181,
   "metadata": {},
   "outputs": [
    {
     "data": {
      "text/plain": [
       "array([[0.24, 0.45, 0.61, 0.7 , 0.7 , 0.61, 0.45, 0.24],\n",
       "       [0.17, 0.32, 0.43, 0.49, 0.49, 0.43, 0.32, 0.17],\n",
       "       [0.12, 0.22, 0.3 , 0.34, 0.34, 0.3 , 0.22, 0.12],\n",
       "       [0.08, 0.16, 0.21, 0.24, 0.24, 0.21, 0.16, 0.08],\n",
       "       [0.06, 0.11, 0.14, 0.16, 0.16, 0.14, 0.11, 0.06],\n",
       "       [0.04, 0.07, 0.1 , 0.11, 0.11, 0.1 , 0.07, 0.04],\n",
       "       [0.02, 0.04, 0.06, 0.07, 0.07, 0.06, 0.04, 0.02],\n",
       "       [0.01, 0.02, 0.03, 0.03, 0.03, 0.03, 0.02, 0.01]])"
      ]
     },
     "execution_count": 181,
     "metadata": {},
     "output_type": "execute_result"
    }
   ],
   "source": [
    "#reshape solution vector into 2D array\n",
    "u2d = u.reshape([n,n])\n",
    "u2d"
   ]
  },
  {
   "cell_type": "markdown",
   "metadata": {},
   "source": [
    "Here is a revised version of `pad2D` that uses numpy arrays and puts the array of BC values along the top (with zeros on the left, right, and bottom)."
   ]
  },
  {
   "cell_type": "code",
   "execution_count": 182,
   "metadata": {},
   "outputs": [],
   "source": [
    "def pad2D(arr, top_vals):\n",
    "    m,n = arr.shape\n",
    "    padded = np.zeros([m+2,n+2])\n",
    "    padded[0,1:m+1] = top_vals\n",
    "    padded[1:m+1,1:n+1] = arr\n",
    "    return padded"
   ]
  },
  {
   "cell_type": "code",
   "execution_count": 183,
   "metadata": {},
   "outputs": [
    {
     "name": "stdout",
     "output_type": "stream",
     "text": [
      "[[0.   0.34 0.64 0.87 0.98 0.98 0.87 0.64 0.34 0.  ]\n",
      " [0.   0.24 0.45 0.61 0.7  0.7  0.61 0.45 0.24 0.  ]\n",
      " [0.   0.17 0.32 0.43 0.49 0.49 0.43 0.32 0.17 0.  ]\n",
      " [0.   0.12 0.22 0.3  0.34 0.34 0.3  0.22 0.12 0.  ]\n",
      " [0.   0.08 0.16 0.21 0.24 0.24 0.21 0.16 0.08 0.  ]\n",
      " [0.   0.06 0.11 0.14 0.16 0.16 0.14 0.11 0.06 0.  ]\n",
      " [0.   0.04 0.07 0.1  0.11 0.11 0.1  0.07 0.04 0.  ]\n",
      " [0.   0.02 0.04 0.06 0.07 0.07 0.06 0.04 0.02 0.  ]\n",
      " [0.   0.01 0.02 0.03 0.03 0.03 0.03 0.02 0.01 0.  ]\n",
      " [0.   0.   0.   0.   0.   0.   0.   0.   0.   0.  ]]\n"
     ]
    }
   ],
   "source": [
    "padu = pad2D(u2d, top_vals)\n",
    "print(padu)"
   ]
  },
  {
   "cell_type": "markdown",
   "metadata": {},
   "source": [
    "Now finish up by visualizing the solution:"
   ]
  },
  {
   "cell_type": "code",
   "execution_count": 184,
   "metadata": {},
   "outputs": [
    {
     "data": {
      "image/png": "[encoded data removed]",
      "text/plain": [
       "<Figure size 432x288 with 1 Axes>"
      ]
     },
     "metadata": {},
     "output_type": "display_data"
    },
    {
     "data": {
      "text/plain": [
       "<matplotlib.contour.QuadContourSet at 0x1e8a2ce3d30>"
      ]
     },
     "execution_count": 184,
     "metadata": {},
     "output_type": "execute_result"
    }
   ],
   "source": [
    "arraycontourplot(x,y,np.flip(padu,0),levels=np.linspace(0,1,11))"
   ]
  },
  {
   "cell_type": "code",
   "execution_count": null,
   "metadata": {},
   "outputs": [],
   "source": []
  },
  {
   "cell_type": "markdown",
   "metadata": {},
   "source": [
    "## Section 8.3 Fast Poisson Solvers: The Fourier Transform\n",
    "\n",
    "The next step up from Laplace's equation adds a source term to become the Poisson equation:\n",
    "$$\\nabla^2 u = \\omega$$\n",
    "\n",
    "Would our approach to the Laplace equation extend to handle the Poisson equation? What would need to be changed?\n",
    "\n",
    "The basic answer is YES as long as we properly include the source term as part of the right-hand side vector $b$, and e know we can solve the resulting linear system using a factorization method that involves $O(N^2)$ operations. That is fine until we want to handle really large domains or really fine discretization and the $O(N^2)$ computation becomes prohibitively expensive (i.e. slow).\n",
    "\n",
    "Here we introduce an alternative approach with a fundamentally distinct mathematical foundation. Pretty much everything we have done so far has employed Taylor series together with discretization of the domain of the independent variable (typically $x, y, \\text{ or } t$).\n",
    "\n",
    "Here we take a different approach: __Apply the Fourier transform and discretize the frequency domain.__\n",
    "\n",
    "Let's start with a quick refresher on the Fourier transform pair and related properties. The Fourier transform is an integral transform involving the complex exponential. Integration over the domain of the independent variable transforms a function $f(x)$ into a function $F(k)$ in the wavenumber (or frequency) domain. The Fourier transform has an associated inverse Fourier transfrom (that integrates a function of the wavenumber to transform back to the original (spatial or temporal) domain. Together they form the Fourier transform pair:\n",
    "\n",
    "\\begin{equation}\n",
    "\\begin{split}\n",
    "F(k) &= \\frac{1}{\\sqrt{2 \\pi}} \\int_{-\\infty}^{\\infty} e^{-ikx} f(x) dx &= \\widehat{f(x)}\\\\\n",
    "f(x) &= \\frac{1}{\\sqrt{2 \\pi}} \\int_{-\\infty}^{\\infty} e^{ikx} F(k) dk &\n",
    "\\end{split}\n",
    "\\end{equation}\n",
    "\n",
    "There are other versions (usually with factors of $\\sqrt{2 \\pi}$ moved around), but we'll stick with this version that has optimal symmetry. Here the integrals are defined over infinite domains, but we will see that there are related transform pairs on finite/discrete domains. Before we get into those details, let's recall the major operational property that makes the Fourier transform useful:\n",
    "\n",
    "__Fourier transform of the derivative__\n",
    "\n",
    "\\begin{equation}\n",
    "\\begin{split}\n",
    "\\widehat{f'(x)} &= \\frac{1}{\\sqrt{2 \\pi}} \\int_{-\\infty}^{\\infty} e^{-ikx} f'(x) dx & \\qquad & \\text{   Basic definition}\\\\\n",
    "                &= \\frac{1}{\\sqrt{2 \\pi}} f(x) e^{-ikx} \\big|_{-\\infty}^{\\infty} +\\frac{ik}{\\sqrt{2 \\pi}} \\int_{-\\infty}^{\\infty} e^{-ikx} f(x) dx & & \\text{   Integration by parts}\\\\\n",
    "                &= ik \\widehat{f(x)} & & \\text{   Assume asymptotic boundedness}\n",
    "\\end{split}\n",
    "\\end{equation}"
   ]
  },
  {
   "cell_type": "markdown",
   "metadata": {},
   "source": [
    "So the operational property is that differentiation in the original (spatial or temporal) domain transforms to multiplication by $ik$ in the wavenumber domain. This simplification makes the Fourier transform seem attractive, but what really made it important from the perspective of scientific/engineering numerical computation is the invention of the Fast Fourier Transform (FFT) by Cooley and Tukey in the mid-1960s. \n",
    "\n",
    "Key properties of the FFT:\n",
    "\n",
    "- Restrict to a finite interval $x \\in [-L,L]$ and assume periodicity.\n",
    "\n",
    "- Discretize to $N = 2^n$ points regularly spaced across the finite interval.\n",
    "\n",
    "- Integrals replaced by sums.\n",
    "\n",
    "- Exponentials give rise to Vandermonde matrices with powers of roots of unity.\n",
    "\n",
    "- Low operation count $~O(N log N) \\implies$ _much_ faster for larger systems.\n",
    "\n",
    "- Potentially _much_ more accurate compared to methods using finite difference derivative estimates.\n",
    "\n",
    "The book describes the various Matlab functions related to the Fourier transforms. Here we discuss the analogous python functions which reside in `numpy.fft`\n",
    "\n",
    "The canonical example of the Fourier transform is the Gaussian function:\n",
    "$$f(x) = exp(-\\alpha x^2)$$\n",
    "because its transform is also a Gaussian:\n",
    "$$ \\widehat{f(x)} = \\frac{1}{\\sqrt{2 \\alpha}} exp(-\\frac{k^2}{4 \\alpha}); \\qquad \\qquad \\text{Eq.(8.4.1)}$$\n",
    " \n",
    "As in the text, we start simple with $\\alpha = 1$ and choose the interval $x \\in [-10,10]$ subdivided into $N = 2^7 = 128$ intervals. The code below replicates Fig. 8.4 using the `numpy.fft` versions of `fft` and `fftshift`. Note that shifting occurs, but we usually do not deal with this explicitly; just employ an inverse transfrom the properly inverts the shift."
   ]
  },
  {
   "cell_type": "code",
   "execution_count": 51,
   "metadata": {},
   "outputs": [
    {
     "data": {
      "text/plain": [
       "[Text(0.5,1,'Magnitude of Shifted Transform')]"
      ]
     },
     "execution_count": 51,
     "metadata": {},
     "output_type": "execute_result"
    },
    {
     "data": {
      "image/png": "[encoded data removed]",
      "text/plain": [
       "<Figure size 1280x800 with 4 Axes>"
      ]
     },
     "metadata": {},
     "output_type": "display_data"
    }
   ],
   "source": [
    "alpha = 1.\n",
    "L = 20\n",
    "n = 128\n",
    "\n",
    "x2 = np.linspace(-L/2,L/2,n+1) #note that this L differs by factor of 2 from L as introduced on p. 188\n",
    "x = x2[:n]\n",
    "\n",
    "u = np.exp(-alpha*x*x)\n",
    "ut = np.fft.fft(u)\n",
    "utshift = np.fft.fftshift(ut)\n",
    "\n",
    "fig, ((ax1, ax2), (ax3, ax4))= plt.subplots(nrows=2,ncols=2,figsize=(16,10),facecolor='white',dpi=80)\n",
    "\n",
    "ax1.plot(x,u); ax1.set(title=\"Initial Gaussian\")\n",
    "ax2.plot(np.real(ut)); ax2.set(title=\"Real Parts of Unshifted Transform\")\n",
    "ax3.plot(np.real(utshift)); ax3.set(title=\"Real Parts of Shifted Transform\")\n",
    "ax4.plot(np.abs(utshift)); ax4.set(title=\"Magnitude of Shifted Transform\")"
   ]
  },
  {
   "cell_type": "markdown",
   "metadata": {},
   "source": [
    "To illustrate the operational property (and the inverse transform), let's replicate the code on p. 192 that computes the first 2 derivatives of $u(x) = sech(x)$."
   ]
  },
  {
   "cell_type": "code",
   "execution_count": 52,
   "metadata": {},
   "outputs": [
    {
     "data": {
      "image/png": "[encoded data removed]",
      "text/plain": [
       "<Figure size 1280x800 with 1 Axes>"
      ]
     },
     "metadata": {},
     "output_type": "display_data"
    }
   ],
   "source": [
    "L = 20 #set the finite domain size\n",
    "n=128  #set the discretization\n",
    "\n",
    "x2=np.linspace(-L/2,L/2,n+1) #compute coordinates of grid points for n intervals\n",
    "x=x2[:-1] #drop the last point: it is identified with first point by periodicity\n",
    "u = 1/np.cosh(x) # define the function\n",
    "ut = np.fft.fft(u) # compute the FFT\n",
    "\n",
    "#compute the corresponding discrete wavenumber\n",
    "k = (2*np.pi/L)*np.array([*range(int(n/2)), *range(int(-n/2),0,1)]) # *range unpacks the range iterator and allows both to be concatenated in one line\n",
    "\n",
    "df = 1j*k #'1j' is python for sqrt(-1) so 'df*' is \"FFTish\" for 'd/dx'\n",
    "ut1 = df*ut    #compute transform of 1st derivative\n",
    "ut2 = df**2*ut #compute transform of 2nd derivative\n",
    "ut3 = df**3*ut #compute transform of 3rd derivative\n",
    "\n",
    "u1 = np.fft.ifft(ut1) #inverse FFT ut1 to get du/dx\n",
    "u2 = np.fft.ifft(ut2) #inverse FFT ut2 to get d^2u/dx^2\n",
    "u3 = np.fft.ifft(ut3) #inverse FFT ut1 to get d^3u/dx^3\n",
    "u1exact = -1./np.cosh(x) * np.tanh(x) #compute analytic first derivative\n",
    "\n",
    "fig, ax = plt.subplots(figsize=(16,10),facecolor='white',dpi=80)\n",
    "ax.set(title=\"Fourier Transform Derivatives\",xlabel='x',ylabel='y')\n",
    "ax.grid(True)\n",
    "ax.plot(x,u,label=\"$f(x)$\")\n",
    "ax.plot(x,np.real(u1),label=\"$f'(x)$ computed by FFT\")\n",
    "ax.plot(x,np.real(u2),label=\"$f''(x)$ computed by FFT\")\n",
    "ax.plot(x,np.real(u1exact),linestyle='',marker='o',label=\"Exact $f'(x)$\")\n",
    "# Plot additional derivatives if you like\n",
    "plt.legend();"
   ]
  },
  {
   "cell_type": "markdown",
   "metadata": {},
   "source": [
    "The operational property:\n",
    "$$ f(t) \\quad \\xrightarrow{\\mathcal{F}} \\quad \\widehat{f}(x)$$\n",
    "\n",
    "$$ \\frac{d^n[f(t)]}{dt^n} \\quad \\xrightarrow{\\mathcal{F}} \\quad (ik)^n \\widehat{f}(k) $$\n",
    "\n",
    "often finds application in solving differential equations:\n",
    "\n",
    "- In the transformed domain, derivatives are replaced by multipliication by a factor involving the wavenumber.\n",
    "\n",
    "- The differential equation for the solution transforms into an algebraic equation for its transform.\n",
    "\n",
    "- If the equation is linear, we can solve for the transform and apply the inverse transform to obtain the desired solution.\n",
    "\n",
    "\n",
    "\n",
    "### Example:\n",
    "\n",
    "$$y'' - \\omega^2 y = -f(x); \\quad x \\in [-\\infty, \\infty] $$\n",
    "\n",
    "$$ \\widehat{y''} - \\omega^2 \\widehat{y} = -\\widehat{f}$$\n",
    "\n",
    "$$ -k^2\\widehat{y} - \\omega^2\\widehat{y} = -\\widehat{f}$$\n",
    "\n",
    "$$ (k^2 + \\omega^2)\\widehat{y} = \\widehat{f} $$\n",
    "\n",
    "$$ \\widehat{y} = \\frac{ \\widehat{f} }{ k^2 + \\omega^2} $$\n",
    "\n",
    "$$ y(x) = \\frac{1}{\\sqrt{2\\pi}} \\int_{-\\infty}^{\\infty} e^{ikx} \\widehat{y}\\space dk = \\frac{1}{\\sqrt{2\\pi}} \\int_{-\\infty}^{\\infty} e^{ikx} \\frac{ \\widehat{f} }{ k^2 + \\omega^2}\\space dk$$\n",
    "\n",
    "### Note:\n",
    "There is some notation \"mixing\" among the internet and this book. In many cases, you'll find the definition of the Fourier Transform differing in terms of independent frequency domain variable: $\\omega$, $f$, or in this case $k$. In this example, the independent variable is $k$ and $\\omega$ is a constant, which might lead to confusion if you go searching on the internet."
   ]
  },
  {
   "cell_type": "markdown",
   "metadata": {},
   "source": [
    "We will now push on to \"Ch. 9 Time and Space Stepping Schemes: The Method of Lines\" and then return to look at Fourier transform methods when we get to \"Ch. 10 Spectal Methods\"."
   ]
  },
  {
   "cell_type": "code",
   "execution_count": null,
   "metadata": {},
   "outputs": [],
   "source": []
  }
 ],
 "metadata": {
  "kernelspec": {
   "display_name": "Python 3",
   "language": "python",
   "name": "python3"
  },
  "language_info": {
   "codemirror_mode": {
    "name": "ipython",
    "version": 3
   },
   "file_extension": ".py",
   "mimetype": "text/x-python",
   "name": "python",
   "nbconvert_exporter": "python",
   "pygments_lexer": "ipython3",
   "version": "3.6.3"
  }
 },
 "nbformat": 4,
 "nbformat_minor": 2
}
