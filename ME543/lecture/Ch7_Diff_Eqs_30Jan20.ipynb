{
 "cells": [
  {
   "cell_type": "markdown",
   "metadata": {},
   "source": [
    "# Ch. 7 - Initial and Boundary Value Problems of Differential Equations\n",
    "\n",
    "## Section 7.1 - Initial Value Problems: Euler, Runge_Kutta and Adams Methods\n",
    "\n",
    "Let's start with a basic and essential problem: computing an approximate solution of an ordinary differential equation (__ODE__) with a specified initial value:\n",
    "\n",
    "$$\\frac{dy}{dt} = f(t,y)\\;, \\qquad y(0) = y_0$$\n",
    "\n",
    "You have likely seen the classic way of computing an approximate solution: __Euler's method__\n",
    "\n",
    "This is a classic \"stepping\" or \"marching\" method that computes a sequence of values at discrete \"future\" times based on the existing \"history\": $$y_n = y(t_n) ; \\; t_n = t_0 + n \\Delta t = t_0 + n h$$\n",
    "\n",
    "1) Approximate the derivative with a simple forward difference estimator\n",
    "\n",
    "$$\\frac{dy}{dt} = f(t,y)\\;, \\qquad y(0) = y_0 \\rightarrow \\frac{y_{n+1} - y_n}{h}\\approx f(t_n, y_n)$$\n",
    "\n",
    "2) Knowing $y_n$ and $t_n$, compute $y_{n+1}$:\n",
    "$$y_{n+1} = y_n + h f(t_n, y_n)$$\n",
    "\n"
   ]
  },
  {
   "cell_type": "markdown",
   "metadata": {},
   "source": [
    "Euler's method essentially computes the rate of change at the beginning of a time step (from $t_n$ to $t_{n+1}$) and ignores the change in that rate of change over short time steps. This assumption is, of course, not completely valid so truncation error is incurred.\n",
    "\n",
    "There are numerous generalizations of Euler's method of the form $$y_{n+1} = y_n + h \\phi$$ where the function $\\phi$ is chosen to reduce the error incurred during the timestep. For example, the Euler formula can be used to estimate future values and the estimated derivatives at those times can be used to account for how the rate of change varies across the timestep.\n",
    "\n",
    "__Heun's method__: \n",
    "\n",
    "1) Compute the right-hand side (RHS) at initial time (left end of the timestep).\n",
    "\n",
    "2) Compute Euler estimate of $y_{t+h}$\n",
    "\n",
    "3) Use Euler estimate to compute estimate of derivative at final time (right end of the timestep)\n",
    "\n",
    "4) Use the average of the derivatie estimates from left and right ends\n",
    "\n",
    "Euler: $$y_{n+1} = y_n + h f(t_n, y_n)$$\n",
    "\n",
    "$$y_{Euler} = y(t) + h f(t,f(t,y(t))$$\n",
    "\n",
    "$$y(t+h) = y(t) + \\frac{h}{2} \\big( f(t,y(t)) + f(t+h,y_{Euler}) \\big); \\qquad \\mathrm{Eq. (7.1.13a)}$$"
   ]
  },
  {
   "cell_type": "markdown",
   "metadata": {},
   "source": [
    "__Modified Euler-Cauchy__:\n",
    "\n",
    "1) Compute derivate (RHS) at initial time (left side of interval)\n",
    "\n",
    "2) Use that derivative value to compute \"Euler\" estimate of derivative at middle of interval.\n",
    "\n",
    "3) Use mid-interval value to estimate rate of change over the interval.\n",
    "\n",
    "$$rate_{left} = f(t, y(t))$$\n",
    "$$y_{mid} = y(t) + \\frac{h}{2} rate_{left}$$\n",
    "$$rate_{mid} = f(t+\\frac{h}{2}, y_{mid})$$\n",
    "$$y_{RK2}(t+h) = y(t) + h (rate_{mid})$$\n",
    "\n",
    "Put the pieces together:\n",
    "$$y_{RK2}(t+h) = y(t)+h f\\big(t+\\frac{h}{2}, y(t)+\\frac{h}{2} \\; f(t,y(t)) \\big); \\qquad \\mathrm{Eq. 7.1.13b}$$"
   ]
  },
  {
   "cell_type": "markdown",
   "metadata": {},
   "source": [
    "If that is the modified Euler-Cauchy method, why is the subscript \"RK2\"?\n",
    "\n",
    "Euler's method and the modified Euler-Cauchy method are actually the first 2 methods in the family of __Runge-Kutta methods__ that aim to reduce the truncation error (i.e. increase the order by making the neglected terms involve higher powers of $h$) by including rate estimates at additional points in the timestep.\n",
    "\n",
    "Perhaps the most commonly used member of the family is __Fourth-Order Runge_Kutta (RK4)__:\n",
    "\n",
    "1) Compute initial rate estimate\n",
    "$$f_1 = f(t_n,y_n)$$\n",
    "\n",
    "2) Use initial rate estimate to estimate midstep values\n",
    "$$f_2 = f(t_n+\\frac{h}{2}, y_n+\\frac{h}{2}f_1)$$\n",
    "\n",
    "3) Use the midstep estimate to compute improved midstep estimate\n",
    "$$f_3 = f(t_n+\\frac{h}{2}, y_n+\\frac{h}{2}f_2)$$\n",
    "\n",
    "4) Use improved midstep estimate to estimate right-side estimate\n",
    "$$f_4 = f(t_n+h,y_n+h f_3)$$\n",
    "\n",
    "5) Compute weighted sum  of contributions to cancel terms in the Taylor series. <br>Achieve local truncation error $\\sim O(h^5) \\implies$ global error $\\sim O(h^4)$:\n",
    "$$y_{n+1} = y_n + \\frac{h}{6} [f_1 + 2 f_2 +2 f_3 + f_4]$$"
   ]
  },
  {
   "cell_type": "markdown",
   "metadata": {},
   "source": [
    "We will return to take a closer look at error analysis, but for now let's pause to think about what is nice about Runge-Kutta methods:\n",
    "\n",
    "Do you need previous values of $y$ (before $y_n$) to compute $y_{n+1}$?\n",
    "\n",
    "__No__, so when you are given $y_0$ and $f(t,y)$ you have everything needed to compute $y_{n+1} \\iff$ __self-starting__\n",
    "\n",
    "Computing the RK4 estimate involves computing everythign we need for the lower order RK2 estimate. What could we do with such information?\n",
    "\n",
    "Estimate local error $\\implies$ possible to implement automated adaptive stepsize control."
   ]
  },
  {
   "cell_type": "markdown",
   "metadata": {},
   "source": [
    "### Adams method: Multi-stepping techniques\n",
    "\n",
    "What we were really doing above is approximating the fundamental theorem of calculus (that a function is the integral of its derivative):\n",
    "$$y_{n+1} = y_n + \\int_{t_n}^{t_n + h} f(t,y) dt$$\n",
    "\n",
    "For Runge-Kutta, we estimated the interval based on information at $t_n$. Adams methods take an alternative approach:\n",
    "\n",
    "Use previous values to construct a locally valid polynomial approximant $p(t,y)$ and integrate the polynomial:\n",
    "$$y_{n+1} = y_n + \\int_{t_n}^{t_n + h} p(t,y) dt$$\n",
    "\n",
    "__Adams-Bashforth methods__ construct the polynomial based on the current point and $n$ previous points.\n",
    "\n",
    "The first member of the family with $n=0$ uses an order 0 polynomial:\n",
    "$$p_1(t) = \\mathrm{constant} = f(t_n, y_n)$$\n",
    "leading to\n",
    "$$y_{n+1} = y_n + h f(t_n,y_n)$$\n",
    "which should look familiar (because it is Euler's method).\n",
    "\n",
    "__Note on notation__: The convention followed in the book is that the subscript on the polynomial indicates the number of points used, so it is one greater than the degree of the polynomial."
   ]
  },
  {
   "cell_type": "markdown",
   "metadata": {},
   "source": [
    "We start to get something new when we use 2 points, $y_{n-1}, y_n$, and a polynomial of degree 1:\n",
    "$$p_2 = f_{n-1}+\\frac{f_n-f_{n-1}}{h}(t-t_{n-1})$$\n",
    "$$y_{n+1}=y_n + \\int_{t_n}^{t_n + h} p(t,y) dt$$\n",
    "$$y_{n+1}=y_n + \\int_{t_n}^{t_n + h} \\big( f_{n-1}+\\frac{f_n-f_{n-1}}{h}(t-t_{n-1})\\big) dt$$\n",
    "$$y_{n+1}=y_n + \\frac{h}{2} \\big[ 3 f(t_n,y_n) - f(t_{n-1},y_{n-1}) \\big]; \\qquad \\mathrm{Eq.(7.1.23)}$$\n",
    "This is a _two-step method_:\n",
    "Need $y_{n-1}$ and $y_n$ to compute $y_{n+1}$, so NOT self-starting.\n",
    "<br>Consider initial state: given $y_0$ not enough into to compute $y_1$\n",
    "<br>Need __bootstrapping__ technique to get started\n",
    "\n"
   ]
  },
  {
   "cell_type": "markdown",
   "metadata": {},
   "source": [
    "Let's look at implementations of these basic methods:\n",
    "\n",
    "### Euler's method (START HERE Tuesday 1/28/20)\n",
    "\n",
    "Let's start with a familiar initial value problem:\n",
    "$$\\frac{dy}{dt}=-y\\; ; \\qquad y(0) = 1$$"
   ]
  },
  {
   "cell_type": "code",
   "execution_count": 2,
   "metadata": {},
   "outputs": [],
   "source": [
    "import numpy as np\n",
    "\n",
    "# define \"right-hand side\" function giving rate of change\n",
    "#\n",
    "def rhs(y,t):\n",
    "    \"\"\"\n",
    "    compute right-hand side function specifying rate of change\n",
    "    \n",
    "    Args:\n",
    "        t: float value of independent variable\n",
    "        y: float value of dependent variable\n",
    "        \n",
    "    Returns:\n",
    "        rate: float value for rate of change of y\n",
    "    \"\"\"\n",
    "    rate = -y\n",
    "    return rate"
   ]
  },
  {
   "cell_type": "markdown",
   "metadata": {},
   "source": [
    "Now implement a function to take a single step:"
   ]
  },
  {
   "cell_type": "code",
   "execution_count": 3,
   "metadata": {},
   "outputs": [],
   "source": [
    "def euler_step(f,y,t0,t1):\n",
    "    \"\"\"\n",
    "    compute next value for Euler's method ODE solver\n",
    "    \n",
    "    Args:\n",
    "        f: name of right-hand side function that gives rate of change of y\n",
    "        y: float value of dependent variable\n",
    "        t0: float initial value of independent variable\n",
    "        t1: float final value of independent variable\n",
    "        \n",
    "    Returns:\n",
    "        y_new: float estimated value of y(t1)\n",
    "    \"\"\"\n",
    "    f0 = f(y,t0)\n",
    "    h = (t1-t0)\n",
    "    y_new = y + h*f0\n",
    "    return y_new"
   ]
  },
  {
   "cell_type": "code",
   "execution_count": 4,
   "metadata": {},
   "outputs": [
    {
     "data": {
      "text/plain": [
       "0.9"
      ]
     },
     "execution_count": 4,
     "metadata": {},
     "output_type": "execute_result"
    }
   ],
   "source": [
    "euler_step(rhs,1,0,.1)"
   ]
  },
  {
   "cell_type": "markdown",
   "metadata": {},
   "source": [
    "Construct a multistep Euler solver that can be used for longer intervals:"
   ]
  },
  {
   "cell_type": "code",
   "execution_count": 5,
   "metadata": {},
   "outputs": [],
   "source": [
    "def euler_solve(f,y0,t):\n",
    "    \"\"\"\n",
    "    Euler ODE solver\n",
    "    \n",
    "    Args:\n",
    "        f: name of right-hand side function that gives rate of change of y\n",
    "        y0: float initial value of dependent variable\n",
    "        t: numpy array of float values of independent variable\n",
    "        \n",
    "    Returns:\n",
    "        y: numpy array of float values of dependent variable\n",
    "    \"\"\"\n",
    "    n = t.size\n",
    "    y = [y0] #create solution as a list (of 1D numpy arrays) to which additional array values can be appended\n",
    "    for i in range(n-1):\n",
    "        y.append(euler_step(f,y[i],t[i],t[i+1])) #append new value to the list\n",
    "    return np.array(y) #return the solution coverted to a numpy array"
   ]
  },
  {
   "cell_type": "code",
   "execution_count": 6,
   "metadata": {},
   "outputs": [
    {
     "name": "stdout",
     "output_type": "stream",
     "text": [
      "[0.   0.25 0.5  0.75 1.  ]\n",
      "[1.         0.75       0.5625     0.421875   0.31640625]\n"
     ]
    }
   ],
   "source": [
    "steps = 4\n",
    "t = np.linspace(0,1,steps+1)\n",
    "y = euler_solve(rhs,1,t)\n",
    "print(t)\n",
    "print(y)"
   ]
  },
  {
   "cell_type": "markdown",
   "metadata": {},
   "source": [
    "Compute values of exact solution $y(t)=exp(-t)$ for comparison:"
   ]
  },
  {
   "cell_type": "code",
   "execution_count": 7,
   "metadata": {},
   "outputs": [
    {
     "name": "stdout",
     "output_type": "stream",
     "text": [
      "[0.         0.02880078 0.04403066 0.05049155 0.05147319]\n",
      "[0.         0.03698094 0.07259429 0.10689062 0.13991864]\n"
     ]
    }
   ],
   "source": [
    "n = t.size\n",
    "y_exact = np.zeros(n)\n",
    "for i in range(n):\n",
    "    y_exact[i] = np.e**(-t[i])\n",
    "\n",
    "error = (y_exact - y)\n",
    "rel_error = (y_exact - y)/y_exact\n",
    "print(error)\n",
    "print(rel_error)"
   ]
  },
  {
   "cell_type": "markdown",
   "metadata": {},
   "source": [
    "Plot and compare exact solution and approximate solution by Euler's method:"
   ]
  },
  {
   "cell_type": "code",
   "execution_count": 22,
   "metadata": {},
   "outputs": [],
   "source": [
    "%matplotlib inline\n",
    "import matplotlib.pyplot as plt # import matplotlib's pyplot function under the abbreviation plt"
   ]
  },
  {
   "cell_type": "code",
   "execution_count": 167,
   "metadata": {},
   "outputs": [
    {
     "data": {
      "image/png": "[encoded data removed]",
      "text/plain": [
       "<Figure size 720x360 with 1 Axes>"
      ]
     },
     "metadata": {},
     "output_type": "display_data"
    }
   ],
   "source": [
    "#################################################\n",
    "#TRICK FOR CONTROLLING SIZE OF PLOTS IN NOTEBOOK#\n",
    "fig=plt.figure(figsize=(10,5))                  #\n",
    "#################################################\n",
    "\n",
    "plt.plot(t,y, color='blue', marker='o', linestyle='solid', linewidth=3, markersize=10) \n",
    "plt.plot(t,y_exact, color='orange', marker='', linestyle='solid', linewidth=3, markersize=10)\n",
    "plt.plot(t,error, color='green', marker='d', linestyle='solid', linewidth=3, markersize=10)\n",
    "plt.plot(t,rel_error, color='red', marker='s', linestyle='solid', linewidth=3, markersize=10)\n",
    "plt.axis([0,1,0,1])\n",
    "plt.title(\"Solutions and Errors for $y' = -y$\")\n",
    "plt.xlabel(\"Time\")\n",
    "plt.ylabel(\"$y(t)$\")\n",
    "plt.grid(True)\n",
    "# plt.savefig(\"figure.png\") #save the plot to a file\n",
    "plt.show()"
   ]
  },
  {
   "cell_type": "markdown",
   "metadata": {},
   "source": [
    "In this case, the $\\color{blue}{approximate~solution}$ tracks the $\\color{orange}{exact~solution}$ reasonably well. The $\\color{green}{absolute~error}$ appears to accumulate initially, and then level off; but this is largely because the exact solution decays exponentially. The $\\color{red}{relative~error}$ a grows steadily during the simulation.\n",
    "\n",
    "Naturally we want to explore how the errors depend on number/size of steps, so compute the error in $y(1)$ for a range of step counts, print, plot, and interpret.\n",
    "\n",
    "Before doing so, take a moment to think about what kind of results you expect to see. Make some concrete predictions, then proceed."
   ]
  },
  {
   "cell_type": "code",
   "execution_count": 127,
   "metadata": {},
   "outputs": [
    {
     "name": "stdout",
     "output_type": "stream",
     "text": [
      "Steps:\n",
      " [1.e+00 1.e+01 1.e+02 1.e+03 1.e+04 1.e+05 1.e+06 1.e+07]\n",
      "Relative errors:\n",
      " [1.00e+00 5.22e-02 5.02e-03 5.00e-04 5.00e-05 5.00e-06 5.00e-07 5.00e-08]\n",
      "Runtime:\n",
      " [1.32e-05 1.24e-05 8.34e-05 8.69e-04 1.08e-02 1.24e-01 8.91e-01 8.46e+00]\n"
     ]
    }
   ],
   "source": [
    "from timeit import default_timer as timer\n",
    "\n",
    "m = 8\n",
    "y1_exact = 1/np.e\n",
    "steps =  np.zeros(m, dtype=np.int64)\n",
    "y1 = np.zeros(m)\n",
    "abs_error = np.zeros(m)\n",
    "rel_error = np.zeros(m)\n",
    "timings = np.zeros(m)\n",
    "\n",
    "for i in range(m):\n",
    "    steps[i] = 10**i\n",
    "    t = np.linspace(0,1,steps[i]+1)\n",
    "    y = np.zeros(steps[i]+1)\n",
    "    start = timer()\n",
    "    y1[i] = euler_solve(rhs,1,t)[-1] #take the last entry from the solver corr. to t=1\n",
    "    end = timer()\n",
    "    timings[i] = end-start\n",
    "abs_error = np.abs(y1 - y1_exact)\n",
    "rel_error = abs_error/y1_exact\n",
    "\n",
    "np.set_printoptions(precision=2) #set printed output to show 2 digits to right of decimal point\n",
    "print(\"Steps:\\n\", 1.* steps)\n",
    "print(\"Relative errors:\\n\", rel_error)\n",
    "print(\"Runtime:\\n\", timings)"
   ]
  },
  {
   "cell_type": "markdown",
   "metadata": {},
   "source": [
    "The behavior here is clear enough that we can see it without plotting:\n",
    "\n",
    "Reducing the stepsize (increasing the number of steps) by a factor of 10 decreases the relative error by a factor of 10 throughout the range `1e0` to `1e-8`.\n",
    "\n",
    "Conclusions:\n",
    "\n",
    "1) The method has global truncation $\\sim O(h^1) \\iff $ local truncation error $\\sim O(h^2)$.\n",
    "\n",
    "2) Truncation error dominates throughout the range of stepsizes explored.\n",
    "\n",
    "3) As `h` becomes smaller, the runtimes become longer (because number of steps $\\sim \\frac{1}{h}$)..\n",
    "\n",
    "At smaller stepsizes, we expect to see a minimum error followed by growing dominance of roundoff error. However, the runtimes are becoming intolerable before we get to the minimum error which suggests using alternate methods with higher order accuracy.\n",
    "\n",
    "But before we move on, let's consider what happens if there is a general multiplicative constant on the right-hand side:\n",
    "$$\\frac{dy}{dt} = -y \\qquad \\rightarrow \\qquad \\frac{dy}{dt} = \\lambda y$$\n",
    "\n",
    "We just looked at the case where $\\lambda = -1$. Now let's think about other cases:\n",
    "\n",
    "* $\\lambda>0$: What happens in this case?\n",
    "\n",
    "Exponential growth ensues. The exact solution diverges toward $\\infty$. Likewise small initial errors grow large with time...\n",
    "\n",
    "* Perhaps the more interesting case involves $\\lambda < -1$. The exact solution simply decays toward zero faster than before, so what could be the problem with that? Let's construct someother cases and take a look.\n",
    "\n",
    "We could created a modified version of `rhs` that would take an additional argument, but instead let's introduce a useful python notation for defining short, anonymous functions which, naturally, causes a classic notation collision:\n",
    "\n",
    "__Python lambda functions__:\n",
    "The general form is:\n",
    "`lambda arg1, arg2, ..., argN : expression`\n",
    "\n",
    "In this case, our expression is going to inolve the constant that is called $\\lambda$ in the book, but these are two unrelated things for which the same name has been used:\n",
    "\n",
    "* `lamdba` is a python keyword for creating one-line anonymous functions\n",
    "\n",
    "* $\\lambda$ is the constant multiplier in the example ODE $y' = -\\lambda y$.\n",
    "\n",
    "With that detail behind us, let's construct an example lambda function and then use lambda functions to conventiently define new right-hand sides for our ODE."
   ]
  },
  {
   "cell_type": "code",
   "execution_count": 157,
   "metadata": {},
   "outputs": [
    {
     "data": {
      "text/plain": [
       "16"
      ]
     },
     "execution_count": 157,
     "metadata": {},
     "output_type": "execute_result"
    }
   ],
   "source": [
    "(lambda x : x**2)(4) #anonymous version"
   ]
  },
  {
   "cell_type": "code",
   "execution_count": 285,
   "metadata": {},
   "outputs": [
    {
     "data": {
      "text/plain": [
       "16"
      ]
     },
     "execution_count": 285,
     "metadata": {},
     "output_type": "execute_result"
    }
   ],
   "source": [
    "sq = lambda x : x**2 #can also assign a name to enable reuse\n",
    "sq(4)"
   ]
  },
  {
   "cell_type": "code",
   "execution_count": 286,
   "metadata": {},
   "outputs": [],
   "source": [
    "#create RHS for coefficients -1, -15, -20, -25\n",
    "rhs01 = lambda y, t : -y\n",
    "rhs15 = lambda y, t : -15*y\n",
    "rhs20 = lambda y, t : -20*y\n",
    "rhs25 = lambda y, t : -25*y"
   ]
  },
  {
   "cell_type": "code",
   "execution_count": 287,
   "metadata": {},
   "outputs": [],
   "source": [
    "#Solve the ODE with each RHS using 10 steps on [0,1]\n",
    "steps = 10\n",
    "t = np.linspace(0,1,steps+1)\n",
    "y01 = euler_solve(rhs01,1,t)\n",
    "y15 = euler_solve(rhs15,1,t)\n",
    "y20 = euler_solve(rhs20,1,t)\n",
    "y25 = euler_solve(rhs25,1,t)"
   ]
  },
  {
   "cell_type": "code",
   "execution_count": 288,
   "metadata": {},
   "outputs": [
    {
     "data": {
      "image/png": "[encoded data removed]",
      "text/plain": [
       "<Figure size 360x360 with 1 Axes>"
      ]
     },
     "metadata": {},
     "output_type": "display_data"
    }
   ],
   "source": [
    "# plot the 10 step Euler solutions\n",
    "plt.plot(t,y20, color='blue', marker='o', linestyle='solid', linewidth=3, markersize=10) \n",
    "plt.plot(t,y25, color='green', marker='o', linestyle='solid', linewidth=3, markersize=10) \n",
    "plt.plot(t,y01, color='orange', marker='', linestyle='solid', linewidth=3, markersize=10)\n",
    "plt.plot(t,y15, color='red', marker='', linestyle='solid', linewidth=3, markersize=10)\n",
    "plt.axis([0,1,-5,5])\n",
    "plt.title(\"Solutions and Errors for $y' = \\lambda y$\")\n",
    "plt.xlabel(\"Time\")\n",
    "plt.ylabel(\"$y(t)$\")\n",
    "plt.grid(True)\n",
    "plt.rcParams[\"figure.figsize\"] = [5,5]\n",
    "# plt.savefig(\"figure.png\") #save the plot to a file\n",
    "plt.show()"
   ]
  },
  {
   "cell_type": "markdown",
   "metadata": {},
   "source": [
    "* $\\color{orange}{\\lambda = -1}$ (the solution obtained previously): Euler solution tracks the exact solution and decays toward zero. \n",
    "\n",
    "* $\\color{red}{\\lambda = -15}$: Euler solution has oscillations that are not present in the exact solution.\n",
    "\n",
    "* $\\color{blue}{\\lambda = -20}$: Euler solution oscillates without decaying.\n",
    "\n",
    "* $\\color{green}{\\lambda = -25}$: Euler not only oscillations, but also diverges (as the solution grows toward $\\infty$). \n",
    "\n",
    "The relevant issue here is not accuracy but __stability__. For values of $\\lambda$ that are sufficiently negative, solutions exhibit spurious oscillatory behavior ($\\lambda < -10$) and eventually diverge ($\\lambda < -20$ or $\\lambda > 0$). \n",
    "\n",
    "Note that this behavior depends on the stepsize: Even for $\\lambda= - 25$, both divergence and oscillation are avoided for with a sufficient number of steps (sufficiently small stepsize).\n"
   ]
  },
  {
   "cell_type": "code",
   "execution_count": 289,
   "metadata": {},
   "outputs": [
    {
     "name": "stdout",
     "output_type": "stream",
     "text": [
      "[1.00e+00 5.00e-01 2.50e-01 1.25e-01 6.25e-02 3.12e-02 1.56e-02 7.81e-03\n",
      " 3.91e-03 1.95e-03 9.77e-04 4.88e-04 2.44e-04 1.22e-04 6.10e-05 3.05e-05\n",
      " 1.53e-05 7.63e-06 3.81e-06 1.91e-06 9.54e-07 4.77e-07 2.38e-07 1.19e-07\n",
      " 5.96e-08 2.98e-08 1.49e-08 7.45e-09 3.73e-09 1.86e-09 9.31e-10 4.66e-10\n",
      " 2.33e-10 1.16e-10 5.82e-11 2.91e-11 1.46e-11 7.28e-12 3.64e-12 1.82e-12\n",
      " 9.09e-13 4.55e-13 2.27e-13 1.14e-13 5.68e-14 2.84e-14 1.42e-14 7.11e-15\n",
      " 3.55e-15 1.78e-15 8.88e-16]\n"
     ]
    }
   ],
   "source": [
    "#Solve the ODE with each RHS using 50 steps on [0,1]\n",
    "steps = 50\n",
    "t = np.linspace(0,1,steps+1)\n",
    "\n",
    "y25_50steps = euler_solve(rhs25,1,t)\n",
    "print(y25_50steps)"
   ]
  },
  {
   "cell_type": "code",
   "execution_count": 290,
   "metadata": {},
   "outputs": [
    {
     "data": {
      "image/png": "[encoded data removed]",
      "text/plain": [
       "<Figure size 360x360 with 1 Axes>"
      ]
     },
     "metadata": {},
     "output_type": "display_data"
    }
   ],
   "source": [
    "# plot the 50 step Euler solution\n",
    " \n",
    "plt.plot(t,y25_50steps, color='green', marker='o', linestyle='solid', linewidth=3, markersize=6) \n",
    "plt.axis([0,1,-1,1])\n",
    "plt.title(\"Solutions and Errors for $y' = -25 y$\")\n",
    "plt.xlabel(\"Time\")\n",
    "plt.ylabel(\"$y(t)$\")\n",
    "plt.grid(True)\n",
    "# plt.savefig(\"figure.png\") #save the plot to a file\n",
    "plt.show()"
   ]
  },
  {
   "cell_type": "markdown",
   "metadata": {},
   "source": [
    "Before getting into the details of convergence and stability analysis, let's expand the problem scope and explore some of the other numerical solution methods.\n",
    "\n",
    "### Systems of first order ODEs\n",
    "\n",
    "So far we have considered examples where the dependent variable $y$ is a scalar function of the independent variable $t$. \n",
    "\n",
    "* What happens if we introduce additional __independent variables__?\n",
    "<br><br><br><br><br><br><br>\n",
    "That puts into a significantly different world of __partial differential equations (PDEs)__; and we will get tehre soon enough, but not yet.\n",
    "\n",
    "* What happens if we introduce additional __dependent variables__?\n",
    "<br><br><br><br><br><br><br>\n",
    "That is not a big deal: just consider the dependent variable to be a vector quantity $\\boldsymbol{y}$.\n",
    "$$\\frac{d \\boldsymbol{y}}{dt} = f(\\boldsymbol{y}, t)$$\n",
    "\n",
    "The relevant example in the text is given by Eq. (7.1.33) adjusted for python indexing:\n",
    "\n",
    "\\begin{equation} \\label{eq1}\n",
    "\\begin{split}\n",
    "\\frac{d y_0}{dt} & = y_1 \\\\\n",
    "\\frac{d y_1}{dt} & = y_2 \\\\\n",
    "\\frac{d y_2}{dt} & = -y_2^2 y_1 -cos(t) y_0 + g(t)\n",
    "\\end{split}\n",
    "\\end{equation}\n",
    "\n",
    "We can just consider $\\boldsymbol{y} = (y_0, y_1, y_2)^T$ and write the system as a vector ODE:\n",
    "$$\\frac{d \\boldsymbol{y}}{dt} = \\frac{d}{dt} \\begin{pmatrix} y_0\\\\y_1\\\\y_2 \\end{pmatrix}   = \\begin{pmatrix} y_1\\\\y_2\\\\-y_0^2 y_1 -cos(t) y_0 + g(t) \\end{pmatrix} = f(\\boldsymbol{y}, t)$$"
   ]
  },
  {
   "cell_type": "code",
   "execution_count": 10,
   "metadata": {},
   "outputs": [],
   "source": [
    "# define \"array right-hand side\" function giving rate of change for Eq.(7.1.32) \n",
    "# with g(t) = sin(t)\n",
    "\n",
    "def arr_rhs(y,t):\n",
    "    \"\"\"\n",
    "    compute right-hand side function specifying rate of change\n",
    "    \n",
    "    Args:\n",
    "        t: float value of independent variable\n",
    "        y: numpy array of 3 floats storing value of dependent variable\n",
    "        \n",
    "    Returns:\n",
    "        rate: numpy array of 3 floats value for rate of change of y\n",
    "    \"\"\"\n",
    "    rate = np.array([y[1],y[2],-y[0]**2 *y[1]-np.cos(t)*y[0]+np.sin(t)])\n",
    "    return rate"
   ]
  },
  {
   "cell_type": "markdown",
   "metadata": {},
   "source": [
    "So it is pretty straightforward to define a rate vector, and we can put it work after creating a numpy array of 3 initial values:"
   ]
  },
  {
   "cell_type": "code",
   "execution_count": 11,
   "metadata": {},
   "outputs": [
    {
     "data": {
      "text/plain": [
       "array([ 0.,  0., -1.])"
      ]
     },
     "execution_count": 11,
     "metadata": {},
     "output_type": "execute_result"
    }
   ],
   "source": [
    "y0 = np.array([1,0,0]) #set an array of initial values\n",
    "arr_rhs(y0,0) #compute the initial rate array"
   ]
  },
  {
   "cell_type": "markdown",
   "metadata": {},
   "source": [
    "Now that we are computing the numpy array for the rates of change, let's see if our previous `euler_step` function is compatibly computes an updated array of values:"
   ]
  },
  {
   "cell_type": "code",
   "execution_count": 12,
   "metadata": {},
   "outputs": [
    {
     "data": {
      "text/plain": [
       "array([ 1. ,  0. , -0.1])"
      ]
     },
     "execution_count": 12,
     "metadata": {},
     "output_type": "execute_result"
    }
   ],
   "source": [
    "euler_step(arr_rhs, y0, 0, 0.1)"
   ]
  },
  {
   "cell_type": "markdown",
   "metadata": {},
   "source": [
    "That looks promising, so let's move on to try `euler_solve`:"
   ]
  },
  {
   "cell_type": "code",
   "execution_count": 13,
   "metadata": {},
   "outputs": [
    {
     "name": "stdout",
     "output_type": "stream",
     "text": [
      "[0.  0.1 0.2 0.3 0.4 0.5 0.6 0.7 0.8 0.9 1. ]\n",
      "[[ 1.          0.          0.        ]\n",
      " [ 1.          0.         -0.1       ]\n",
      " [ 1.         -0.01       -0.18951707]\n",
      " [ 0.999      -0.02895171 -0.2666568 ]\n",
      " [ 0.99610483 -0.05561739 -0.32965351]\n",
      " [ 0.99054309 -0.08858274 -0.37694051]\n",
      " [ 0.98168482 -0.12627679 -0.40723477]\n",
      " [ 0.96905714 -0.16700027 -0.41962311]\n",
      " [ 0.95235711 -0.20896258 -0.41363639]\n",
      " [ 0.93146085 -0.25032622 -0.38929957]\n",
      " [ 0.90642823 -0.28925617 -0.34714863]]\n"
     ]
    }
   ],
   "source": [
    "steps = 10\n",
    "y0 = np.array([1,0,0])\n",
    "t = np.linspace(0,1,steps+1)\n",
    "y = euler_solve(arr_rhs, y0, t)\n",
    "print(t)\n",
    "print(y)"
   ]
  },
  {
   "cell_type": "markdown",
   "metadata": {},
   "source": [
    "That provides a working ODE solver for first-order systems, and we are ready for the next topic:\n",
    "\n",
    "### Higher Order ODEs\n",
    "\n",
    "What if you are faced with a seond-order or third-order ODE? Do you need to do anything special?<br><br><br><br><br><br><br>"
   ]
  },
  {
   "cell_type": "markdown",
   "metadata": {},
   "source": [
    "Not really; for an equation of degree $n$ just introduce an array of $n$ variables $y[0], y[1], \\ldots, y[n-1]$ corresponding to the variable, and it's first $n-1$ derivatives. This produces a system of $n$ first-order equations where the first $n-1$ equations define the variables (e.g. $\\frac{d y_0}{dt} = y_1$) and the $n^{th}$ equations describes the given $n^{th}$ order ODE in terms of the new variables.\n",
    "\n",
    "To be concrete, the linear system from Eq.(7.1.33) is derived in exactly this way from the $3^{rd}$ order ODE:\n",
    "$$\\frac{d^3 u}{dt^3}+u^2 \\frac{du}{dt}+ cos(t) u = g(t) \\; \\qquad \\mathrm{Eq.(7.1.30)}$$"
   ]
  },
  {
   "cell_type": "markdown",
   "metadata": {},
   "source": [
    "### Implement other methods: RK2\n",
    "\n",
    "The cell below contains the `euler_step` function creation above. "
   ]
  },
  {
   "cell_type": "code",
   "execution_count": 314,
   "metadata": {},
   "outputs": [],
   "source": [
    "def euler_step(f,y,t0,t1):\n",
    "    \"\"\"\n",
    "    compute next value for Euler's method ODE solver\n",
    "    \n",
    "    Args:\n",
    "        f: name of right-hand side function that gives rate of change of y\n",
    "        y: float value of dependent variable\n",
    "        t0: float initial value of independent variable\n",
    "        t1: float final value of independent variable\n",
    "        \n",
    "    Returns:\n",
    "        y_new: float estimated value of y(t1)\n",
    "    \"\"\"\n",
    "    f0 = f(y,t0)\n",
    "    h = t1-t0\n",
    "    y_new = y + h*f0\n",
    "    return y_new"
   ]
  },
  {
   "cell_type": "markdown",
   "metadata": {},
   "source": [
    "Here the function is modified to create a step using a __Second-order Runge-Kutta (RK2)__ method: $$y_{RK2}(t+h) = y(t)+h f\\big(t+\\frac{h}{2}, y(t)+\\frac{h}{2} \\; f(t,y(t)) \\big)$$"
   ]
  },
  {
   "cell_type": "code",
   "execution_count": 14,
   "metadata": {},
   "outputs": [],
   "source": [
    "def rk2_step(f,y,t0,t1):\n",
    "    \"\"\"\n",
    "    compute next value for Euler's method ODE solver\n",
    "    \n",
    "    Args:\n",
    "        f: name of right-hand side function that gives rate of change of y\n",
    "        y: float value of dependent variable\n",
    "        t0: float initial value of independent variable\n",
    "        t1: float final value of independent variable\n",
    "        \n",
    "    Returns:\n",
    "        y_new: float estimated value of y(t1)\n",
    "    \"\"\"\n",
    "    f0 = f(y,t0)\n",
    "    h  = t1-t0\n",
    "    \n",
    "    #compute euler estimate for half step\n",
    "    y1 = y + 0.5*h*f0\n",
    "    t1 = t0 + 0.5*h\n",
    "    \n",
    "    #compute midstep rate estimate\n",
    "    f1 = f(y1,t1)\n",
    "    \n",
    "    #take full step using midstep rate estimate \n",
    "    y_new = y + h*f1\n",
    "    return y_new"
   ]
  },
  {
   "cell_type": "code",
   "execution_count": 15,
   "metadata": {},
   "outputs": [
    {
     "data": {
      "text/plain": [
       "array([ 1.        , -0.005     , -0.09487711])"
      ]
     },
     "execution_count": 15,
     "metadata": {},
     "output_type": "execute_result"
    }
   ],
   "source": [
    "# test rks_step\n",
    "rk2_step(arr_rhs, y0, 0, 0.1)"
   ]
  },
  {
   "cell_type": "markdown",
   "metadata": {},
   "source": [
    "Now modify `euler_solve` to produce a Runge-Kutta ODE solver that supports orders 1 (Euler), 2 (RKS), and 4 (RK4)."
   ]
  },
  {
   "cell_type": "code",
   "execution_count": 16,
   "metadata": {},
   "outputs": [],
   "source": [
    "def euler_solve(f,y0,t):\n",
    "    \"\"\"\n",
    "    Euler ODE solver\n",
    "    \n",
    "    Args:\n",
    "        f: name of right-hand side function that gives rate of change of y\n",
    "        y0: float initial value of dependent variable\n",
    "        t: numpy array of float values of independent variable\n",
    "        \n",
    "    Returns:\n",
    "        y: numpy array of float values of dependent variable\n",
    "    \"\"\"\n",
    "    n = t.size\n",
    "    y = [y0] #create solution as a list (of 1D numpy arrays) to which additional array values can be appended\n",
    "    for i in range(n-1):\n",
    "        y.append(euler_step(f,y[i],t[i],t[i+1])) #append new value to the list\n",
    "    return np.array(y) #return the solution coverted to a numpy array\n",
    "\n",
    "def rk_solve(f,y0,t,order=4):\n",
    "    \"\"\"\n",
    "    Runge-Kutta solver for systems of 1st order ODEs\n",
    "    \n",
    "    Args:\n",
    "        f: name of right-hand side function that gives rate of change of y\n",
    "        y0: numpy array of initial float values of dependent variable\n",
    "        t: numpy array of float values of independent variable\n",
    "        order: int order of RK solver with allowed values [1,2,4]\n",
    "        \n",
    "    Returns:\n",
    "        y: 2D numpy array of float values of dependent variable\n",
    "    \"\"\"\n",
    "    step_method = rk2_step # Temporary default value until rk4_step is implemented\n",
    "    #####################\n",
    "    # Specify the order #\n",
    "    if 1 == order:\n",
    "        step_method =  euler_step\n",
    "    elif 2 == order:\n",
    "        step_method = rk2_step\n",
    "    elif 4 != order:\n",
    "        print(\"Requested order not in [1,2,4]. Using default order 4.\")\n",
    "    ######################\n",
    "    # End of order spec. #\n",
    "    # Start the solver   #\n",
    "    ######################\n",
    "    n = t.size\n",
    "    m = y0.size #determine size of the dependent variable array\n",
    "    y = [y0] #list to store 1D numpy array for each time\n",
    "    for i in range(n-1):\n",
    "        y_new = step_method(f,y[i],t[i],t[i+1]) #compute next step as before\n",
    "        y.append(y_new)\n",
    "        #NOTICE: For numpy array, would need loop to assign values into y one element at a time\n",
    "        #for j in range(m): \n",
    "            #y[i+1,j] = y_new[j]\n",
    "    return np.array(y)"
   ]
  },
  {
   "cell_type": "code",
   "execution_count": 17,
   "metadata": {},
   "outputs": [
    {
     "name": "stdout",
     "output_type": "stream",
     "text": [
      "[[ 1.          0.          0.        ]\n",
      " [ 1.         -0.005      -0.09487711]\n",
      " [ 0.99902561 -0.01893856 -0.17781179]\n",
      " [ 0.9962427  -0.04052745 -0.24700424]\n",
      " [ 0.99095493 -0.06830789 -0.30088165]\n",
      " [ 0.98261974 -0.10067722 -0.33817904]\n",
      " [ 0.97086112 -0.13592361 -0.3580145 ]\n",
      " [ 0.95547869 -0.17226769 -0.35994675]\n",
      " [ 0.93645218 -0.20790888 -0.34400567]\n",
      " [ 0.91394127 -0.24107321 -0.31069088]\n",
      " [ 0.88828049 -0.27005941 -0.2609381 ]]\n"
     ]
    }
   ],
   "source": [
    "# test the Runge-Kutta solver\n",
    "steps = 10\n",
    "y0 = np.array([1,0,0])\n",
    "t = np.linspace(0,1,steps+1)\n",
    "y = rk_solve(arr_rhs, y0, t, 2)\n",
    "print(y)"
   ]
  },
  {
   "cell_type": "markdown",
   "metadata": {},
   "source": [
    "Look at how error varies with stepsize for RK2:"
   ]
  },
  {
   "cell_type": "code",
   "execution_count": 331,
   "metadata": {},
   "outputs": [
    {
     "name": "stdout",
     "output_type": "stream",
     "text": [
      "Steps:\n",
      " [1.e+00 1.e+01 1.e+02 1.e+03 1.e+04 1.e+05 1.e+06 1.e+07]\n",
      "Relative errors:\n",
      " [3.59e-01 1.80e-03 1.68e-05 1.67e-07 1.67e-09 1.67e-11 1.65e-13 1.61e-13]\n",
      "Runtime:\n",
      " [6.08e-05 1.41e-04 3.28e-03 1.83e-02 1.16e-01 1.22e+00 1.03e+01 1.02e+02]\n"
     ]
    }
   ],
   "source": [
    "from timeit import default_timer as timer\n",
    "\n",
    "m = 8\n",
    "y1_exact = 1/np.e\n",
    "steps =  np.zeros(m)\n",
    "y[0] = np.array([1.])\n",
    "y1 = np.zeros(m)\n",
    "abs_error = np.zeros(m)\n",
    "rel_error = np.zeros(m)\n",
    "timings = np.zeros(m)\n",
    "\n",
    "for i in range(m):\n",
    "    steps[i] = 10**i\n",
    "    t = np.linspace(0,1,steps[i]+1)\n",
    "    y = np.zeros(steps[i]+1)\n",
    "    start = timer()\n",
    "    y1[i] = rk_solve(rhs,y0,t)[-1,0] #take the last entry from the solver corr. to t=1\n",
    "    end = timer()\n",
    "    timings[i] = end-start\n",
    "abs_error = np.abs(y1 - y1_exact)\n",
    "rel_error = abs_error/y1_exact\n",
    "\n",
    "np.set_printoptions(precision=2) #set printed output to show 2 digits to right of decimal point\n",
    "print(\"Steps:\\n\", 1.* steps)\n",
    "print(\"Relative errors:\\n\", rel_error)\n",
    "print(\"Runtime:\\n\", timings)"
   ]
  },
  {
   "cell_type": "code",
   "execution_count": 30,
   "metadata": {},
   "outputs": [
    {
     "data": {
      "image/png": "[encoded data removed]",
      "text/plain": [
       "<Figure size 432x288 with 1 Axes>"
      ]
     },
     "metadata": {},
     "output_type": "display_data"
    }
   ],
   "source": [
    "plt.plot(np.log(steps)/np.log(10),np.log(rel_error)/np.log(10), color='blue', marker='o', linestyle='solid', linewidth=3, markersize=10) \n",
    "\n",
    "plt.axis([0,8,-15,0])\n",
    "plt.title(\"Error vs. Steps solving $y' = -y$  for $y(1)$ using RK2\")\n",
    "plt.xlabel(\"Log(steps)/Log(10)\")\n",
    "plt.ylabel(\"Relative Error/Log(10)\")\n",
    "plt.grid(True)\n",
    "# plt.savefig(\"figure.png\") #save the plot to a file\n",
    "plt.show()"
   ]
  },
  {
   "cell_type": "markdown",
   "metadata": {},
   "source": [
    "* Initially, decreasing stepsize by an order of magnitude decreases \n",
    "\n",
    "* Slope $\\approx -2 \\implies$ second order global truncation error\n",
    "\n",
    "* Error plateau indicates roundoff error becoming significant"
   ]
  },
  {
   "cell_type": "markdown",
   "metadata": {},
   "source": [
    "# START HERE THURSDAY 1/30/20\n",
    "\n",
    "## Section 7.2 - Error Analysis for Time-Stepping Routines\n",
    "\n",
    "### Explicit methods vs. Implicit methods\n",
    "\n",
    "Earlier in this notebook we considered solving a first order system of ODs  \n",
    "$$\\frac{d \\boldsymbol{y}}{dt} = f(\\boldsymbol{y}, t)$$\n",
    "\n",
    "using Euler's method $$y_{n+1} = y_n + h f(t_n, y_n)$$\n",
    "\n",
    "In our implementation of and experimentation with this method, we have noted a few relevant properties:\n",
    "\n",
    "1) Like all discretization methods, this method converts the given __differential equation__ (with a __continuously valued independent variable__) to a __difference equation__ (where the independent variable is replaced by an index value that takes on __discrete values__) The equation for computing the dependent value(s) $\\boldsymbol{y}_{n+1}$ at the next discrete value of the idependent variable $t_{n+1}$ is often referred to as an __iteration formula__.\n",
    "\n",
    "2) This is an __explicit method__ because the iteration formula specifies $\\boldsymbol{y}_{n+1}$ as an explicit function of values at $t_n$; i.e. $\\boldsymbol{y}_{n+1}$ is isolated on the left side of the formula and does not appear on the right side of the formula. Using more specific language, this is the __explicit Euler method__ or __forward Euler method__.\n",
    "\n",
    "3) The explicit Euler method exhibits $1^{st}$-order global truncation error (associated with $2^{nd}$-order local truncation error).\n",
    "\n",
    "4) The explicit Euler method can exhibit __instability__ if the stepsize is allowed to become too large (in relation to the rates of change)\n",
    "\n",
    "5) The explicit Euler method was obtained using a $2^{nd}$-order forward difference to estimate the derivative at the beginning (left edge) of the step.\n",
    "\n",
    "Now let's consider an alternative approach and estimate the derivative at the end (right edge) of the step using the corresponding __backward difference__ estimate:\n",
    "\n",
    "Instead of $y'(t_n) = \\frac{1}{h} (y_{n+1}-y_n)$, use $y'(t_{n+1}) = \\frac{1}{h} (y_{n+1}-y_n)$ to obtain:\n",
    "$$y_{n+1} = y_n + h f(t_n, y_{n+1})$$\n",
    "\n",
    "This iteration formula specifies $y_{n+1}$ __implicitly__ (because $y_{n+1}$ no longer appears as an isolated term, but appears in multiple terms in the iteration formula). This is called the __implicit Euler method__ or __backward Euler method__.\n",
    "\n",
    "In general, this would involve using a solver or rootfinding technique at each step (which would be expensive and, therefore, undesirable). Before coming back to a general fix to address this issue, let's return to our example problem: $$y' = f(y,t) = \\lambda y \\; ; \\; y(0)=y_0$$ \n",
    "\n",
    "Due to the simple form of the rate specification, $f(u,t) =  - \\lambda y$, we can obtain an explicit iteration formula describing the approximate solution obtained using the implicit Euler method:\n",
    "$$y_{n+1} = y_n + h f(t_n, y_{n+1}) = y_n + h \\lambda y_{n+1} \\implies (1-\\lambda h) y_{n+1} = y_n$$\n",
    "or $$y_{n+1} = \\frac{1}{1-\\lambda h} y_n$$\n",
    "We can solve this difference equation to obtain the implicit euler solution: $$y_N = y_0 \\big( \\frac{1}{1-\\lambda h} \\big)^N$$\n",
    "Compare this with the explicit Euler method: \n",
    "$$y_{n+1} = (1+\\lambda h) y_n \\implies y_N = y_0 (1+\\lambda h)^N$$\n",
    "\n",
    "In each case, we obtain a solution as a geometric sequence. Each iterate is a multiple of the previous iterate, so the solutions of the difference equations exhibit growth or decay depending on the magnitude of the multiplicative factor. \n",
    "\n",
    "The solution (and the error in the solution) decays when the factor has magnitude $<1$.\n",
    "\n",
    "The solution (and the error in the solution) grows implying __instability__ when the factor has magnitude $>1$.\n",
    "\n",
    "So let's obtain a __stability criterion__ for each method (corresponding to the multiplier having magnitude $<1$). For larger systems, the multiplier arises as an eigenvalue (which can be complex), so the common notation is to write $$\\lambda h =z$$ and to think of $z$ as a complex variable (even though, in this simple case, we will be interested in what happens along the real axis).\n",
    "\n",
    "- The stability criterion for the explicit Euler method, where the multiplicative factor is $(1+z)$, is:\n",
    "$$\\big| 1+z \\big| < 1$$\n",
    "\n",
    "- The stability criterion for the implicit Euler method, where the multiplicative factor is $(1-z)^{-1}$, is:\n",
    "$$\\big| \\frac{1}{1-z} \\big| < 1$$\n",
    "\n",
    "Let's plot the stable regions:"
   ]
  },
  {
   "cell_type": "code",
   "execution_count": 364,
   "metadata": {},
   "outputs": [
    {
     "data": {
      "image/png": "[encoded data removed]",
      "text/plain": [
       "<Figure size 864x432 with 2 Axes>"
      ]
     },
     "metadata": {},
     "output_type": "display_data"
    }
   ],
   "source": [
    "x = np.arange(-3.0, 3.0, 0.1)\n",
    "y = np.arange(-3.0, 3.0, 0.1)\n",
    "\n",
    "X, Y = np.meshgrid(x, y)\n",
    "\n",
    "Z1 = np.sqrt((X+1)**2 + Y**2)\n",
    "Z2 = 1./np.sqrt((X-1)**2 + Y**2)\n",
    "levels = [0.,1.]\n",
    "\n",
    "fig, (ax1, ax2) = plt.subplots(1, 2, figsize=(12,6))\n",
    "\n",
    "mycmap1 = plt.get_cmap('gist_earth')\n",
    "ax1.set_aspect('equal')\n",
    "ax1.set_title('Explicit Euler Stable Region')\n",
    "ax1.grid()\n",
    "cf1 = ax1.contourf(X,Y,Z1, levels)\n",
    "\n",
    "mycmap2 = plt.get_cmap('gnuplot2')\n",
    "ax2.set_aspect('equal')\n",
    "ax2.set_title('Implicit Euler Stable Region')\n",
    "ax2.grid()\n",
    "cf2 = ax2.contourf(X,Y,Z2, levels)\n",
    "\n",
    "plt.show()"
   ]
  },
  {
   "cell_type": "markdown",
   "metadata": {},
   "source": [
    "Now interpret the results (focusing on the real axis):\n",
    "\n",
    "Explicit Euler is stable when $-2 < \\lambda h < 0$, so for the interesting case when $\\lambda <0$ (when the solution itself is stable), a stable Explicit Euler solution requires $$h < \\frac{2}{\\lambda}.$$\n",
    "\n",
    "Implicit Euler is stable except when $0 < \\lambda h < 2$, so for the interesting case when $\\lambda <0$ (when the solution itself is stable), a stable Implicit Euler numerical solution is obtained for all stepsizes.$$\n",
    "\n",
    "As an example, let's return to the sample problem $y' =  -25y$ (where $\\lambda = 25$).\n",
    "\n",
    "We saw that the explict Euler solution was stable for $h = 0.02$ and unstable for $h =  0.1$. We can now pinpoint the cutoff point between stable and unstable solutions should occur at $h = \\frac{2}{25} = 0.08$.\n",
    "\n",
    "In sharp contrast, the implicit Euler method continues to be stable for large stepsize (although with gradual loss of accuracy).\n",
    "\n",
    "The enhanced stability makes the implicit approach seem attractive, but remember that there is an associated cost: in general, an implicit approach would require using rootfinding to compute the new dependent value that satisfies the iteration formula. It is only is very simple cases where an implicit method leads to an iteration formula that can be converted to explicit form.\n",
    "\n",
    "This has led to a middle ground approach:\n",
    "\n",
    "- Use an explicit method to compute a __predicted__ value for $y_{n+1}$\n",
    "\n",
    "- Then use an implicit method, plugging the predicted value in the rate equation, to compute a __corrected__ value for $y_{n+1}$.\n",
    "\n",
    "Such an approach is called a __predictor-corrector__ method. More specifically, the scheme above is a __predict-evaluate-correct (PEC)__ approach.\n",
    "\n",
    "Solving an ODE involves estimating a solution based on a given rate of change. and the predictor-corrector approach can be thought of as an attempt to carry forward information about how the value is changing. (Note that Runge-Kutta methods compute a new value and then immediately ignore all the old values.) In that context, it is natural to consider predictor-corrector schemes based on __multi-step methods__ such as the Adams method that was mentioned above, but not yet implemented:\n",
    "\n",
    "$$y_{n+1}=y_n + \\frac{h}{2} \\big[ 3 f(t_n,y_n) - f(t_{n-1},y_{n-1}) \\big]; \\qquad \\mathrm{Eq.(7.1.23)}$$"
   ]
  },
  {
   "cell_type": "markdown",
   "metadata": {},
   "source": [
    "Recall that this formula was obtained by constructing a degree $n$ interpolant based on the current value and values from the $n$ previous steps. In this particular case, $n=1$ and this is called the __second order Adams-Bashforth method__, and it provides an __explicit__ formula for computing $y_{n+1}$.\n",
    "\n",
    "In very much the same way, we could construct the interpolant based on values at the current step, the next step, and $n-1$ previous steps. This leads to an __implicit__ formula called the __Adams-Moulton method__. The second order Adams-Moulton formula is:\n",
    "$$y_{n+1}=y_n + \\frac{h}{2} \\big[ f(t_{n+1},y_{n+1}) + f(t_n,y_n)  \\big]$$"
   ]
  },
  {
   "cell_type": "markdown",
   "metadata": {},
   "source": [
    "Instead of rootfinding to solve for $y_{n+1}$ in the Adams-Moulton formula, pair it with the corresponding Adams-Bashforth method:\n",
    "\n",
    "- Use the explicit Adams-Bashforth method to compute a predicted value $y^P_{n+1}$\n",
    "\n",
    "- Plug the prediction into the right-hand side of the implicit Adams-Moulton formula\n",
    "\n",
    "\\begin{equation}\n",
    "\\begin{aligned}\n",
    "y^P_{n+1}&=y_n + \\frac{h}{2} \\big[ 3 f(t_n,y_n) - f(t_{n-1},y_{n-1}) \\big]; \\qquad \\mathrm{Eq.(7.1.29)} \\\\\n",
    "y_{n+1}&=y_n + \\frac{h}{2} \\big[ \\; f(t_{n+1},y^P_{n+1}) + f(t_n,y_n)  \\big]\n",
    "\\end{aligned}\n",
    "\\end{equation}\n",
    "\n",
    "Together the equations provide a way to employ an implicit method without the expense of solving nonlinear equations."
   ]
  },
  {
   "cell_type": "markdown",
   "metadata": {},
   "source": [
    "## Section 7.3 - Advanced Time-Stepping Algorithms\n",
    "\n",
    "Please read this section on your own."
   ]
  },
  {
   "cell_type": "markdown",
   "metadata": {},
   "source": []
  },
  {
   "cell_type": "code",
   "execution_count": null,
   "metadata": {},
   "outputs": [],
   "source": []
  },
  {
   "cell_type": "markdown",
   "metadata": {},
   "source": [
    "## Section 7.4 - Boundary Value Problems: <br>The Shooting Method\n",
    "\n",
    "So far, we have dealt with __initial value problems (IVPs)__ where the given values are at some initial \"time\" and we can step forward from there to wherever the solution takes us. Now we consider __boundary value problems (BVPs)__ where conditions are specified at the endpoints of an interval. For example, a typical second order boundary value problem has the form:\n",
    "$$\\frac{d^2 y}{dt^2} = f \\big(t, y, \\frac{dy}{dt} \\big)$$\n",
    "with boundary conditions\n",
    "\\begin{equation} \\label{eq1}\n",
    "\\begin{split}\n",
    "\\alpha_1 y(a) + \\beta_1 \\frac{dy(a)}{dt} & = \\gamma_1 \\\\\n",
    "\\alpha_2 y(b) + \\beta_2 \\frac{dy(b)}{dt} & = \\gamma_2\n",
    "\\end{split}\n",
    "\\end{equation}\n",
    "\n",
    "### The shooting method\n",
    "\n",
    "One approach to such a problem is a shooting method:\n",
    "\n",
    "- Satisfy the condition at one end of the interval and guess the other condition that should be satisfied there.\n",
    "\n",
    "- Apply one of the stepping methods we have developed to get a numerical solution at the other end of the interval.\n",
    "\n",
    "- Based on the \"residual\" (how far the solution is from satisfying the second condition), adjust the guess.\n",
    "\n",
    "- Repeat until tolerance is satisfied.\n",
    "\n",
    "To be more concrete, consider the basic case where the boundary conditions are $$y(a) = \\alpha ; y(b) = \\beta$$.\n",
    "\n",
    "(This notation is not exactly self-consistent, but it consistent with the text.)\n",
    "\n",
    "As usual, we convert the second order ODE to a first order system in term of the vector $$\\boldsymbol{y} = (y, \\frac{dy}{dt})^T = (y_0, y_1)^T$$\n",
    "\n",
    "So we have an initial value of `y[0]`$=y$ at $t=a$, and we have to determine the initial value of the velocity `y[1]` at $t=a$: $$\\frac{dy(a)}{dt} = A$$.\n",
    "\n",
    "After some initial exploring to find values $A_1$ that produces a value $y(b)<\\beta$ and $A_2$ that produces a value $y(b)>\\beta$, than applying a bisection rootfinding method can be applied to find $A^*$ that leads to $|y(b)-\\beta| <$ tolerance. See pp. 154-157 for a detailed example."
   ]
  },
  {
   "cell_type": "markdown",
   "metadata": {},
   "source": [
    "### Eigenvalues and eigenfunctions <br>(and the infinite domain)\n",
    "\n",
    "Boundary value problems often arise as eigenproblems where both the eigenvalue and eigenfunction must be determined. For example:\n",
    "$$\\frac{d^2\\psi_n}{dx^2} + [n(x)-\\beta_n]\\psi_n = 0$$\n",
    "with boundary conditions $$\\psi_n(x) \\rightarrow 0 \\; \\mathrm{as} \\; x\\rightarrow \\pm \\infty$$"
   ]
  },
  {
   "cell_type": "markdown",
   "metadata": {},
   "source": [
    "This is essentially the Shrodinger equation with potential well $n(x)$. While the domain here is infinite, our stepping methods require that we compute on a finite domain, so we will consider $x\\in [-L,L]$ for some finite value of $L$. The example in the book considers $n(x)$ with __finite support__ (\"support\" is the region where the function can have non-zero values):\n",
    "$$n(x) = n_0 (1-|x|^2)\\; \\mathrm{on} \\; -1 \\leq x \\leq 1 ; \\qquad n(x)=0 \\; \\mathrm{elsewhere}$$"
   ]
  },
  {
   "cell_type": "markdown",
   "metadata": {},
   "source": [
    "Beyond the support region the ODE simplifies to: $$\\frac{d^2\\psi_n}{dx^2} - \\beta_n\\psi_n = 0$$\n",
    "which we can solve analytically: $$\\psi_n = c_1 \\mathrm{exp}\\big(\\sqrt{\\beta_n} x \\big) + c_2 \\mathrm{exp}\\big(-\\sqrt{\\beta_n} x \\big)$$\n",
    "Applying the BCs $\\psi_n \\rightarrow 0$ as $x\\rightarrow \\pm \\infty$, we get left side and right side solutions:\n",
    "$$\\psi_n = c_2 \\mathrm{exp}\\big(-\\sqrt{\\beta_n} x \\big), \\qquad x>1$$ \n",
    "$$\\psi_n = c_1 \\mathrm{exp}\\big(\\sqrt{\\beta_n} x \\big), \\qquad x<-1$$"
   ]
  },
  {
   "cell_type": "markdown",
   "metadata": {},
   "source": [
    "From there, we can obtain conditions at $x= \\pm 1$:\n",
    "$$\\frac{d \\psi_n(1)}{dx} = -\\sqrt{\\beta_n} \\psi_n(1)$$\n",
    "$$\\frac{d \\psi_n(-1)}{dx} = \\sqrt{\\beta_n} \\psi_n(-1)$$"
   ]
  },
  {
   "cell_type": "markdown",
   "metadata": {},
   "source": [
    "Now we convert to a first order system to arrive at the boundary value problem:\n",
    "\\begin{equation} \\label{eq1}\n",
    "\\begin{split}\n",
    "y_0' &= \\psi_n' & = y_1 \\\\\n",
    "y_1' &= \\psi_n'' & = [\\beta_n-n(x)] y_0\n",
    "\\end{split}\n",
    "\\end{equation}"
   ]
  },
  {
   "cell_type": "markdown",
   "metadata": {},
   "source": [
    "with BCs: \n",
    "\\begin{equation} \\label{eq1}\n",
    "\\begin{split}\n",
    "x=1 &: y_1 & = -\\sqrt{\\beta_n} y_0 \\\\\n",
    "x=-1 &:  y_1 & = \\sqrt{\\beta_n} y_0\n",
    "\\end{split}\n",
    "\\end{equation}"
   ]
  },
  {
   "cell_type": "markdown",
   "metadata": {},
   "source": [
    "And this can be solved using a shooting method where we search for the eigenvalue that appears in the boundary conditions."
   ]
  },
  {
   "cell_type": "markdown",
   "metadata": {},
   "source": [
    "## Section 7.5 - Implementation of Shooting and Convergence Studies\n",
    "\n",
    "More details about this are in the works...\n",
    "\n",
    "## Section 7.6 - Boundary Value Problems: <br>Direct Solve and Relaxation\n",
    "\n",
    "This section considers an alternative approach:\n",
    "\n",
    "- Make the values of $y$ at every step variables\n",
    "\n",
    "- Discretize the ODE to get relationships between nearby $y$ values\n",
    "\n",
    "- Construct a LARGE system of algebraic equations\n",
    "\n",
    "- Solve the algebraic system\n",
    "\n",
    "When is this tractable? If your ODE is linear, you can apply your linear solver knowledge..."
   ]
  }
 ],
 "metadata": {
  "kernelspec": {
   "display_name": "Python 3",
   "language": "python",
   "name": "python3"
  },
  "language_info": {
   "codemirror_mode": {
    "name": "ipython",
    "version": 3
   },
   "file_extension": ".py",
   "mimetype": "text/x-python",
   "name": "python",
   "nbconvert_exporter": "python",
   "pygments_lexer": "ipython3",
   "version": "3.6.5"
  }
 },
 "nbformat": 4,
 "nbformat_minor": 2
}
