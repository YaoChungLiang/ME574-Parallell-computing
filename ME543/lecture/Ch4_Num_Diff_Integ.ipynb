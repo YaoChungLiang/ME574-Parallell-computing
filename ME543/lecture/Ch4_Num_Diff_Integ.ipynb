{
 "cells": [
  {
   "cell_type": "markdown",
   "metadata": {},
   "source": [
    "# Ch. 4 - Numerical Differentiation and Integration\n",
    "\n",
    "## Section 4.1 Numerical Differentiation\n",
    "\n",
    "So far, we have talked a lot about floating point number representations and the related source of error: __Roundoff__\n",
    "\n",
    "Now we are ready to use the next major tool in our toolkit: __Taylor series approximations__\n",
    "\n",
    "When we deal with differentiation and integration, we are talking about the basic operations of calculus, so we start with the definition of the derivative we learned in calculus:\n",
    "\n",
    "$$\\frac{d f(t)}{dt} = \\lim_{\\Delta t\\to 0} \\frac{f(t+\\Delta t)-f(t)}{\\Delta t}$$\n",
    "\n",
    "Based on what we have discussed so far, it should be clear that in the computational setting we cannot really perform a limit as something goes to zero because we can only represent a finite number gamut and it does not include arbitrarily small quantities.\n",
    "\n",
    "The feasible alternative is to compute and approximation of the limit, and that almost always involves Taylor series:\n",
    "\n",
    "$$f(t+\\Delta t) = f(t)+\\Delta t\\frac{df(t)}{dt}+\\frac{\\Delta t^2}{2!} \\frac{d^2f(t)}{dt^2}+\\frac{\\Delta t^3}{3!} \\frac{d^3f(c_1)}{dt^3}$$\n",
    "\n",
    "$$f(t-\\Delta t) = f(t)-\\Delta t\\frac{df(t)}{dt}+\\frac{\\Delta t^2}{2!} \\frac{d^2f(t)}{dt^2}-\\frac{\\Delta t^3}{3!} \\frac{d^3f(c_2)}{dt^3}$$\n",
    "\n",
    "where $c_1\\in[t,t+\\Delta t]$ and $c_2\\in[t-\\Delta t,t]$.\n",
    "\n",
    "Subtracting the expressions gives:\n",
    "\n",
    "$$f(t+\\Delta t) - f(t-\\Delta t) = 2\\Delta t\\frac{df(t)}{dt}+\\frac{\\Delta t^3}{3!} \\big( \\frac{d^3f(c_1)}{dt^3}+\\frac{d^3f(c_2)}{dt^3} \\big)$$\n",
    "\n",
    "We can solve to obtain an estimate of the derivative of a function based on values of the function at a specified set of points:\n",
    "\n",
    "$$ \\frac{df(t)}{dt} = \\frac{f(t+\\Delta t) - f(t-\\Delta t)}{2\\Delta t} - \\frac{\\Delta t^3}{3!} \\frac{d^3f(c)}{dt^3}$$ \n",
    "where $$f'''(c) = f'''(c_1)+f'''(c_2)$$\n",
    "\n",
    "We now have a __$2^{nd}$ order accurate central difference operator__ to estimate the first derivative.\n",
    "\n",
    "__central difference__ $\\iff$ __finite difference__ operator evaluates $f$ at locastions symmetrically left and right of $t$\n",
    "\n",
    "__$2^{nd}$ order accurate__ $\\iff$ error term is $\\sim \\Delta t^2$\n",
    "\n",
    "There are whole families of forward, backward, and centered difference estimators for derivatives of various orders.\n",
    "\n",
    "For example, a $1^{st}$ order forward difference first derivative estimator can be obtained directly from our first Taylor series above:\n",
    "\n",
    "$$\\frac{df(t)}{dt} = \\frac{f(t+\\Delta t) - f(t)}{\\Delta t} + O(\\Delta t^2)$$\n",
    "\n",
    "To see how a central difference estimator would be constructed for a higher order derivative, add the Taylor series above (canceling odd powers):\n",
    "$$f(t+\\Delta t) + f(t-\\Delta t) = 2 f(t)+\\Delta t^2 \\frac{d^2f(t)}{dt^2}+ O(\\Delta t^4)$$\n",
    "\n",
    "Moving the $2f(t)$ to the left side and dividing by $\\Delta t^2$ gives a $2^{nd}$ order accurate estimate of the second derivative:\n",
    "$$\\frac{d^2f(t)}{dt^2} = \\frac{f(t+\\Delta t) -2 f(t) + f(t-\\Delta t)}{\\Delta t^2} + O(\\Delta t^2)$$"
   ]
  },
  {
   "cell_type": "markdown",
   "metadata": {},
   "source": [
    "In typical usage, we employ a truncated finite difference operator and incur a __truncation error__ associated with the terms in the series that have been omitted.\n",
    "\n",
    "The omitted terms are $O(\\Delta t^n)$ and become smaller as we use a finer discretization (smaller values of $\\Delta t$).\n",
    "\n",
    "But when we evaluate the function as specified in the derivative estimate, we perform floating point operations and incur __roundoff errors__.\n",
    "\n",
    "The relative error due to roundoff, $\\epsilon_r$, starts (and hopefully stays) on the order of machine epsilon. It does not continue to get smaller as we reduce $\\Delta t$.\n",
    "\n",
    "A major practical question then arises: How to handle the tradeoff between truncation error and roundoff error?\n",
    "\n",
    "Clearly, we do not want $\\Delta t \\sim O(1)$, because the neglected terms in the series may not get small, and <br>we do not want $\\Delta t \\sim O(\\epsilon_M)$ because when we estimate derivatives for $t\\sim O(1)$, $t+\\Delta t)$ becomes indistinguishable from $t$ and the finite difference formulas produce some combination of outright failure and catastrophic cancellation.\n",
    "\n",
    "## Implement derivative estimates and illustrate how error depends on spacing\n",
    "\n",
    "Note that this has been modified from class to consider derivatives of $sin(t)$ near $t=\\frac{\\pi}{3}$.\n",
    "\n",
    "The cell below defines the central difference estimate for the first derivative with truncation error $O(\\Delta t^2)$."
   ]
  },
  {
   "cell_type": "code",
   "execution_count": 114,
   "metadata": {},
   "outputs": [],
   "source": [
    "import numpy as np\n",
    "\n",
    "#define function for central difference estimate of 1st derivative\n",
    "def d1(f,t,h):\n",
    "    return (f(t+h)-f(t-h))/(2*h)"
   ]
  },
  {
   "cell_type": "markdown",
   "metadata": {},
   "source": [
    "Below we define the function of interest $sin(t)$, the evaluation point $t=\\pi/3$, and the limit on the magnitude of the exponent $n=14$ so that we will consider `h=[1e0, 1e-1, 1e-2, ... , 1e-12, 1e-13]`. The loop computes the value of 'h', the finite difference estimate, and the absolute error and prints the values for inspection. The following cell plots the computed values of spacing and the associated errors."
   ]
  },
  {
   "cell_type": "code",
   "execution_count": 120,
   "metadata": {},
   "outputs": [
    {
     "name": "stdout",
     "output_type": "stream",
     "text": [
      "  h   Absolute Error\n",
      "1e+00  0.079264508\n",
      "1e-01  0.000832917\n",
      "1e-02  0.000008333\n",
      "1e-03  0.000000083\n",
      "1e-04  0.000000001\n",
      "1e-05  0.000000000\n",
      "1e-06  0.000000000\n",
      "1e-07  0.000000000\n",
      "1e-08  0.000000003\n",
      "1e-09  0.000000041\n",
      "1e-10  0.000000041\n",
      "1e-11  0.000000041\n",
      "1e-12  0.000044450\n",
      "1e-13  0.000399639\n"
     ]
    }
   ],
   "source": [
    "f = np.sin  #function to consider\n",
    "t = np.pi/3 #evaluation point\n",
    "exact = np.cos(t) #exact derivative value\n",
    "n = 14 #maximum exponent of h\n",
    "e_vals1 = np.zeros(n) #initialize array to store error values\n",
    "print(\"  h   Absolute Error\")\n",
    "for i in range(0,n):\n",
    "    h = 10.**(-i)\n",
    "    est =  d1(f,t,h)\n",
    "    error = np.abs(exact-est)\n",
    "    e_vals1[i] = error\n",
    "    print('{:1.0e} {: 1.9f}'.format(h,e_vals1[i]))  "
   ]
  },
  {
   "cell_type": "code",
   "execution_count": 135,
   "metadata": {},
   "outputs": [
    {
     "data": {
      "image/png": "[encoded data removed]",
      "text/plain": [
       "<Figure size 432x288 with 1 Axes>"
      ]
     },
     "metadata": {},
     "output_type": "display_data"
    }
   ],
   "source": [
    "%matplotlib inline\n",
    "import matplotlib.pyplot as plt # import matplotlib's pyplot function under the abbreviation plt\n",
    "\n",
    "plt.plot(np.log(e_vals1)/np.log(10)) \n",
    "plt.axis([0,13,-13,0])\n",
    "plt.title(\"Absolute error vs spacing for 1st derivative\")\n",
    "plt.xlabel('n: h=1e-n')\n",
    "plt.ylabel('Log(Absolute error)/Log(10)')\n",
    "plt.grid(True)\n",
    "plt.savefig(\"figure.png\") #save the plot to a file\n",
    "plt.show()"
   ]
  },
  {
   "cell_type": "markdown",
   "metadata": {},
   "source": [
    "We see that the error in the first derivative estimate initially decreases as $h$ decreases from `1e0` to `1e-5`. Note that the slope in this region is very close to $(-11-(-1))/5) \\approx 2$ indicating absolute error $\\sim h^{-2}$ consistent with error being dominated by truncation.\n",
    "\n",
    "As $h$ decreases beyond `1e-5`, the absolute error grows indicating that roundoff error becomes significant and eventually dominant.\n",
    "\n",
    "Now let's consider what happens with central difference estimate for the $2^{nd}$ derivative."
   ]
  },
  {
   "cell_type": "code",
   "execution_count": 116,
   "metadata": {},
   "outputs": [
    {
     "name": "stdout",
     "output_type": "stream",
     "text": [
      "  h   Absolute Error\n",
      "1e+00  0.069805641\n",
      "1e-01  0.000721447\n",
      "1e-02  0.000007217\n",
      "1e-03  0.000000072\n",
      "1e-04  0.000000003\n",
      "1e-05  0.000000374\n",
      "1e-06  0.000051445\n",
      "1e-07  0.000051445\n",
      "1e-08  0.866025404\n",
      "1e-09  0.866025404\n",
      "1e-10  0.866025404\n",
      "1e-11  0.866025404\n",
      "1e-12  0.866025404\n",
      "1e-13  0.866025404\n"
     ]
    }
   ],
   "source": [
    "#define function for central difference estimate of 2nd derivative\n",
    "def d2(f,t,h):\n",
    "    return (f(t+h)-2*f(t)+f(t-h))/(h**2)\n",
    "\n",
    "f = np.sin  #function to consider\n",
    "t = np.pi/3 #evaluation point\n",
    "exact = -np.sin(t) #exact derivative value\n",
    "n = 14 #maximum exponent of h\n",
    "e_vals2 = np.zeros(n) #initialize array to store error values\n",
    "print(\"  h   Absolute Error\")\n",
    "for i in range(0,n):\n",
    "    h = 10.**(-i)\n",
    "    est =  d2(f,t,h)\n",
    "    error = np.abs(exact-est)\n",
    "    e_vals2[i] = error\n",
    "    print('{:1.0e} {: 1.9f}'.format(h,e_vals2[i]))  "
   ]
  },
  {
   "cell_type": "code",
   "execution_count": 136,
   "metadata": {},
   "outputs": [
    {
     "data": {
      "image/png": "[encoded data removed]",
      "text/plain": [
       "<Figure size 432x288 with 1 Axes>"
      ]
     },
     "metadata": {},
     "output_type": "display_data"
    }
   ],
   "source": [
    "%matplotlib inline\n",
    "import matplotlib.pyplot as plt # import matplotlib's pyplot function under the abbreviation plt\n",
    "\n",
    "plt.plot(np.log(e_vals1)/np.log(10))\n",
    "plt.plot(np.log(e_vals2)/np.log(10)) \n",
    "plt.axis([0,13,-13,0])\n",
    "plt.title(\"Absolute error vs spacing for 1st and 2nd derivatives\")\n",
    "plt.xlabel('n: h=1e-n')\n",
    "plt.ylabel('Log(Absolute error)/Log(10)')\n",
    "plt.grid(True)\n",
    "plt.savefig(\"figure.png\") #save the plot to a file\n",
    "plt.show()"
   ]
  },
  {
   "cell_type": "markdown",
   "metadata": {},
   "source": [
    "Here we see that the second derivative estimator exhibits similar behavior: initial linear decrease with slope indicating truncation error $O(\\Delta t^2)$ followed by increasing error as roundoff becomes dominant. However, roundoff error becomes significant at a larger value of $h$ for the second derivative. The difference estimator again involves subtraction that leads to cancellation, and the error gets amplified by $h^{-2}$ (instead of just $h^{-1}$ in the first deriative estimator).\n",
    "\n",
    "These estimators achieve optimal accuracy for spacings on the order of $h \\approx 10^{-4} \\approx \\sqrt[4]{\\epsilon_M}$. since machine epsilon is near $10^{-16}$ for double precision arithmetic:"
   ]
  },
  {
   "cell_type": "code",
   "execution_count": 127,
   "metadata": {},
   "outputs": [
    {
     "data": {
      "text/plain": [
       "(False, True)"
      ]
     },
     "execution_count": 127,
     "metadata": {},
     "output_type": "execute_result"
    }
   ],
   "source": [
    "#recall machine epsilon estimate\n",
    "1.+ 1e-15 == 1, 1.+ 1e-16 == 1"
   ]
  },
  {
   "cell_type": "markdown",
   "metadata": {},
   "source": [
    "Now compare with a $1^{st}$ derivative estimator with a higher order of accuracy; i.e. with truncation error $\\sim O(\\Delta t^4)$. This estimator appears as the first entry in Table 4.2:\n",
    "$$f'(t)=\\frac{\\big[-f(t+2\\Delta t)+8 f(t+\\Delta t)-8 f(t-\\Delta t) + -f(t-2\\Delta t) \\big]}{12 \\Delta t)}$$\n",
    "\n",
    "Below we implement the estimator, compute error as a function of $h$, and plot the results for comparison with the previous estimator with truncation error $\\sim O(\\Delta t^2)$."
   ]
  },
  {
   "cell_type": "code",
   "execution_count": 131,
   "metadata": {},
   "outputs": [],
   "source": [
    "#define function for 4th order difference estimate of 1st derivative\n",
    "def d1_4(f,t,h):\n",
    "    return (-f(t+2*h)+8*f(t+h)-8*f(t-h)+f(t-2*h))/(12*h)"
   ]
  },
  {
   "cell_type": "code",
   "execution_count": 132,
   "metadata": {},
   "outputs": [
    {
     "name": "stdout",
     "output_type": "stream",
     "text": [
      "  h   Absolute Error\n",
      "1e+00  0.014794129\n",
      "1e-01  0.000001665\n",
      "1e-02  0.000000000\n",
      "1e-03  0.000000000\n",
      "1e-04  0.000000000\n",
      "1e-05  0.000000000\n",
      "1e-06  0.000000000\n",
      "1e-07  0.000000001\n",
      "1e-08  0.000000004\n",
      "1e-09  0.000000069\n",
      "1e-10  0.000000226\n",
      "1e-11  0.000001892\n",
      "1e-12  0.000072206\n",
      "1e-13  0.000677195\n"
     ]
    }
   ],
   "source": [
    "f = np.sin  #function to consider\n",
    "t = np.pi/3 #evaluation point\n",
    "exact = np.cos(t) #exact derivative value\n",
    "n = 14 #maximum exponent of h\n",
    "e_vals1_4 = np.zeros(n) #initialize array to store error values\n",
    "print(\"  h   Absolute Error\")\n",
    "for i in range(0,n):\n",
    "    h = 10.**(-i)\n",
    "    est =  d1_4(f,t,h)\n",
    "    error = np.abs(exact-est)\n",
    "    e_vals1_4[i] = error\n",
    "    print('{:1.0e} {: 1.9f}'.format(h,e_vals1_4[i]))  "
   ]
  },
  {
   "cell_type": "code",
   "execution_count": 137,
   "metadata": {},
   "outputs": [
    {
     "data": {
      "image/png": "[encoded data removed]",
      "text/plain": [
       "<Figure size 432x288 with 1 Axes>"
      ]
     },
     "metadata": {},
     "output_type": "display_data"
    }
   ],
   "source": [
    "%matplotlib inline\n",
    "import matplotlib.pyplot as plt # import matplotlib's pyplot function under the abbreviation plt\n",
    "\n",
    "plt.plot(np.log(e_vals1)/np.log(10)) \n",
    "plt.plot(np.log(e_vals1_4)/np.log(10))\n",
    "plt.axis([0,13,-13,0])\n",
    "plt.title(\"Absolute error vs spacing for 1st derivative\")\n",
    "plt.xlabel('n: h=1e-n')\n",
    "plt.ylabel('Log(Absolute error)/Log(10)')\n",
    "plt.grid(True)\n",
    "plt.savefig(\"figure.png\") #save the plot to a file\n",
    "plt.show()"
   ]
  },
  {
   "cell_type": "markdown",
   "metadata": {},
   "source": [
    "Again the behavior is similar: The error initially decreases according to a power law (which appears linear on a log scale) and then increases as roundoff error becomes significant.\n",
    "\n",
    "Note that the error for the $4^{th}$ order estimator differs from that of the $2^{nd}$ order estimator in 2 important ways:\n",
    "\n",
    "1) The initial slope is twice as steep (consistent with error $\\sim h^{-4}$).\n",
    "\n",
    "2) Roundoff error becomes significant at a larger value of $h \\approx$ `1e-3`."
   ]
  },
  {
   "cell_type": "markdown",
   "metadata": {},
   "source": [
    "## Section 4.2 - Numerical Integration\n",
    "\n",
    "To provide a practical application for addressing the question of discretization and trading off between truncation and roundoff error, let's move on to consider __numerical integration__ (a.k.a. __numerical quadrature__).\n",
    "\n",
    "The basic ideas come from the simplest definition of the integral:\n",
    "$$\\int_{a}^{b} f(x) dx = \\lim_{h\\to 0} \\sum\\limits_{j=0}^{N} f(x_j) h$$\n",
    "\n",
    "where $b-a = N h$.\n",
    "\n",
    "Based on the historical term __quadrature__,  let's use $Q[f]$ as the name for a version of an integration scheme with a small but finite spacing $h$. In the simplest case above, the evaluation points are all equally spaced and all the values are equally weighted, but a more general scheme would have the form:\n",
    "\n",
    "$$Q[f] = \\sum\\limits_{j=0}^{N} w_k f(x_k) =  W_0 f(x_0) + w_1 f(x_1) + \\ldots + w_N f(x_N)$$ \n",
    "\n",
    "and the actual value of the integral is\n",
    "$$\\int_{a}^{b} f(x) dx = Q[f] + E[f]$$\n",
    "\n",
    "where $E[f]$ is the error in approximating the integral by the quadrature sum.\n",
    "\n",
    "Note some slight changes of notation: $\\Delta t \\rightarrow h, t \\rightarrow x$ hoping to make the notation look familiar in this context.\n",
    "\n",
    "Now comes the practical question: How do you choose the evaluation points and weights in a systematic way so that you know something about how the error should behave?\n",
    "\n",
    "There are several families of popular methods.\n",
    "\n",
    "A simple and commonly used approach (that you have likely already seen in some form) called __Newton-Cotes__ formulas are based on polynomial interpolation."
   ]
  },
  {
   "cell_type": "markdown",
   "metadata": {},
   "source": [
    "We can write uniformly-spaced evaluation points and function values as $$x_k = x_0 + h k, \\qquad f_k = f(x_0)$$\n",
    "\n",
    "Now consider the contribution to the integral from a sequence of adjacent $n+1$ points (starting with $n=1$): \n",
    "\n",
    "$$x_0, x_1=x_0 + h \\mathrm{\\; with \\; function \\; values \\;} f_0, f_1$$\n",
    "\n",
    "Now approximate the function locally as a polynomial of degree $n = 1$, e.g. a line, and use our major tool (Taylor series) to produce estimate of truncation error:\n",
    "\n",
    "$$\\int_{x_0}^{x_0 + h} f(x) dx = Q[f] + E[f] = \\int_{x_0}^{x_0 + h} \\big(f_0 + \\frac{f_1-f_0}{h} (x-x_0) \\big) dx + \\int_{x_0}^{x_0 + h} O(x-x_0)^2 dx$$ \n",
    "\n",
    "Now integrate the polynomial terms:\n",
    "\n",
    "$$\\int_{x_0}^{x_0 + h} f(x) dx = Q[f] + E[f] = \\big(f_0 (x-x_0) + \\frac{f_1 - f_0}{2 h}(x-x_0)^2 \\big) \\Bigr\\rvert_{x-x_0 = 0}^h + O((x-x_0)^3)\\Bigr\\rvert_{x-x_0 = 0}^h$$\n",
    "\n",
    "$$\\int_{x_0}^{x_0 + h} f(x) dx = Q[f] + E[f] = \\big(f_0 h + \\frac{f_1 - f_0}{2h}h^2 \\big) + O(h^3)$$\n",
    "\n",
    "$$\\int_{x_0}^{x_0 + h} f(x) dx = Q[f] + E[f] = \\big( h\\; \\frac{f_0 + f_1}{2} \\big) + O(h^3)$$"
   ]
  },
  {
   "cell_type": "markdown",
   "metadata": {},
   "source": [
    "So the contribution from the interval between adjacent evaluation points is the spacing times the average of the function values which coincides with the area of the trapezoid between the interpolating line and the $x$-axis $\\implies$ __trapezoidal rule__\n",
    "\n",
    "The local error is $O(h^3)$ with a coefficient whose bounds depends on the local maximum of $f''(x)$, so it is reasonable to expect this method to work well on a small interval over which $f'(x)$ does not change much; i.e. the function is locally well-approximated by a linear interpolant.\n",
    "\n",
    "What do you do if you need to deal with a larger interval (over which the slope changes significantly)?\n",
    "\n",
    "__Composite method__ $\\iff$ break the big interval up into small intervals (where the linear approximant makes sense) and sum the contributions from the small intervals\n",
    "\n",
    "$$\\int_{a}^{b} f(x) dx = \\int_{x_0}^{x_N} f(x) dx \\sim Q[f] = \\sum_{j=0}^{N-1} \\frac{h}{2} (f_j + f_{j+1})$$"
   ]
  },
  {
   "cell_type": "markdown",
   "metadata": {},
   "source": [
    "$$Q[f] = \\frac{h}{2} (f_0 + f_1) + \\frac{h}{2} (f_0 + f_1) + \\frac{h}{2} (f_1 + f_2) + \\ldots +  \\frac{h}{2} (f_{N-1} + f_N)$$\n",
    "\n",
    "$$Q[f] = \\frac{h}{2} (f_0 + 2 f_1 + 2 f_2 + \\ldots + 2 f_{N-1} + f_N)$$"
   ]
  },
  {
   "cell_type": "markdown",
   "metadata": {},
   "source": [
    "This is the classic formula for uniform spacing.\n",
    "\n",
    "Let's look at how it works and how the error depends on the spacing. A first implementation might look like the following (which returns a tuple containing the spacing and the quadrature value:"
   ]
  },
  {
   "cell_type": "code",
   "execution_count": 286,
   "metadata": {},
   "outputs": [],
   "source": [
    "def trap_rule(fun,a,b,n):\n",
    "    \"\"\"\n",
    "    perform trapezoidal rule quadrature\n",
    "    \n",
    "    Args:\n",
    "        fun: name of integrand function\n",
    "        a, b: numerical integration limits (a<b)\n",
    "        n: integer number of quadrature subintervals\n",
    "    Returns:\n",
    "        h: spacing between quadrature points\n",
    "        quad: trapezoidal rule quadrature value    \n",
    "    \"\"\"\n",
    "    x = np.linspace(a,b,n+1)\n",
    "    h = (b-a)/n\n",
    "    f = np.zeros(n+1)\n",
    "    for i in range (n+1):\n",
    "        f[i] = fun(x[i])\n",
    "    quad = 0.5*h*(2*np.sum(f) - f[0] - f[-1])\n",
    "    return h, quad"
   ]
  },
  {
   "cell_type": "markdown",
   "metadata": {},
   "source": [
    "Test the `trap_rule` function to compute $\\int_a^b sin(t) dt$ for which the exact value is $2$. The 2 test cases below show that integrator works fine for a small number of evaluation points, but LARGE numbers of evaluation points cause a memory fault."
   ]
  },
  {
   "cell_type": "code",
   "execution_count": 288,
   "metadata": {},
   "outputs": [
    {
     "name": "stdout",
     "output_type": "stream",
     "text": [
      "h =  0.031415926535897934 ; relative error =  8.22480562782113e-05\n"
     ]
    },
    {
     "ename": "MemoryError",
     "evalue": "",
     "output_type": "error",
     "traceback": [
      "\u001b[1;31m---------------------------------------------------------------------------\u001b[0m",
      "\u001b[1;31mMemoryError\u001b[0m                               Traceback (most recent call last)",
      "\u001b[1;32m<ipython-input-288-1b89bf96f50d>\u001b[0m in \u001b[0;36m<module>\u001b[1;34m()\u001b[0m\n\u001b[0;32m      7\u001b[0m \u001b[0mprint\u001b[0m\u001b[1;33m(\u001b[0m\u001b[1;34m\"h = \"\u001b[0m\u001b[1;33m,\u001b[0m\u001b[0mh\u001b[0m\u001b[1;33m,\u001b[0m \u001b[1;34m\"; relative error = \"\u001b[0m\u001b[1;33m,\u001b[0m \u001b[0mnp\u001b[0m\u001b[1;33m.\u001b[0m\u001b[0mabs\u001b[0m\u001b[1;33m(\u001b[0m\u001b[0mexact\u001b[0m\u001b[1;33m-\u001b[0m\u001b[0mquad\u001b[0m\u001b[1;33m)\u001b[0m\u001b[1;33m/\u001b[0m\u001b[0mexact\u001b[0m\u001b[1;33m)\u001b[0m\u001b[1;33m\u001b[0m\u001b[0m\n\u001b[0;32m      8\u001b[0m \u001b[1;33m\u001b[0m\u001b[0m\n\u001b[1;32m----> 9\u001b[1;33m \u001b[0mh\u001b[0m\u001b[1;33m,\u001b[0m \u001b[0mquad\u001b[0m \u001b[1;33m=\u001b[0m \u001b[0mtrap_rule\u001b[0m\u001b[1;33m(\u001b[0m\u001b[0mf\u001b[0m\u001b[1;33m,\u001b[0m \u001b[0ma\u001b[0m\u001b[1;33m,\u001b[0m\u001b[0mb\u001b[0m\u001b[1;33m,\u001b[0m \u001b[1;36m10\u001b[0m\u001b[1;33m**\u001b[0m\u001b[1;36m8\u001b[0m\u001b[1;33m)\u001b[0m\u001b[1;33m\u001b[0m\u001b[0m\n\u001b[0m\u001b[0;32m     10\u001b[0m \u001b[0mprint\u001b[0m\u001b[1;33m(\u001b[0m\u001b[1;34m\"h = \"\u001b[0m\u001b[1;33m,\u001b[0m\u001b[0mh\u001b[0m\u001b[1;33m,\u001b[0m \u001b[1;34m\"; relative error = \"\u001b[0m\u001b[1;33m,\u001b[0m \u001b[0mnp\u001b[0m\u001b[1;33m.\u001b[0m\u001b[0mabs\u001b[0m\u001b[1;33m(\u001b[0m\u001b[0mexact\u001b[0m\u001b[1;33m-\u001b[0m\u001b[0mquad\u001b[0m\u001b[1;33m)\u001b[0m\u001b[1;33m/\u001b[0m\u001b[0mexact\u001b[0m\u001b[1;33m)\u001b[0m\u001b[1;33m\u001b[0m\u001b[0m\n",
      "\u001b[1;32m<ipython-input-286-d70865d28a6f>\u001b[0m in \u001b[0;36mtrap_rule\u001b[1;34m(fun, a, b, n)\u001b[0m\n\u001b[0;32m     13\u001b[0m     \u001b[0mx\u001b[0m \u001b[1;33m=\u001b[0m \u001b[0mnp\u001b[0m\u001b[1;33m.\u001b[0m\u001b[0mlinspace\u001b[0m\u001b[1;33m(\u001b[0m\u001b[0ma\u001b[0m\u001b[1;33m,\u001b[0m\u001b[0mb\u001b[0m\u001b[1;33m,\u001b[0m\u001b[0mn\u001b[0m\u001b[1;33m+\u001b[0m\u001b[1;36m1\u001b[0m\u001b[1;33m)\u001b[0m\u001b[1;33m\u001b[0m\u001b[0m\n\u001b[0;32m     14\u001b[0m     \u001b[0mh\u001b[0m \u001b[1;33m=\u001b[0m \u001b[1;33m(\u001b[0m\u001b[0mb\u001b[0m\u001b[1;33m-\u001b[0m\u001b[0ma\u001b[0m\u001b[1;33m)\u001b[0m\u001b[1;33m/\u001b[0m\u001b[0mn\u001b[0m\u001b[1;33m\u001b[0m\u001b[0m\n\u001b[1;32m---> 15\u001b[1;33m     \u001b[0mf\u001b[0m \u001b[1;33m=\u001b[0m \u001b[0mnp\u001b[0m\u001b[1;33m.\u001b[0m\u001b[0mzeros\u001b[0m\u001b[1;33m(\u001b[0m\u001b[0mn\u001b[0m\u001b[1;33m+\u001b[0m\u001b[1;36m1\u001b[0m\u001b[1;33m)\u001b[0m\u001b[1;33m\u001b[0m\u001b[0m\n\u001b[0m\u001b[0;32m     16\u001b[0m     \u001b[1;32mfor\u001b[0m \u001b[0mi\u001b[0m \u001b[1;32min\u001b[0m \u001b[0mrange\u001b[0m \u001b[1;33m(\u001b[0m\u001b[0mn\u001b[0m\u001b[1;33m+\u001b[0m\u001b[1;36m1\u001b[0m\u001b[1;33m)\u001b[0m\u001b[1;33m:\u001b[0m\u001b[1;33m\u001b[0m\u001b[0m\n\u001b[0;32m     17\u001b[0m         \u001b[0mf\u001b[0m\u001b[1;33m[\u001b[0m\u001b[0mi\u001b[0m\u001b[1;33m]\u001b[0m \u001b[1;33m=\u001b[0m \u001b[0mfun\u001b[0m\u001b[1;33m(\u001b[0m\u001b[0mx\u001b[0m\u001b[1;33m[\u001b[0m\u001b[0mi\u001b[0m\u001b[1;33m]\u001b[0m\u001b[1;33m)\u001b[0m\u001b[1;33m\u001b[0m\u001b[0m\n",
      "\u001b[1;31mMemoryError\u001b[0m: "
     ]
    }
   ],
   "source": [
    "f = np.sin\n",
    "a = 0.\n",
    "b = np.pi\n",
    "exact = 2. #exact integral value of integrating sin(t) on [0,1]\n",
    "\n",
    "h, quad = trap_rule(f, a,b, 10**2)\n",
    "print(\"h = \",h, \"; relative error = \", np.abs(exact-quad)/exact)\n",
    "\n",
    "h, quad = trap_rule(f, a,b, 10**8)\n",
    "print(\"h = \",h, \"; relative error = \", np.abs(exact-quad)/exact)"
   ]
  },
  {
   "cell_type": "markdown",
   "metadata": {},
   "source": [
    "Here is an alternative implementation that accumulates the contributions rather thatn storing them all in an array before summing:"
   ]
  },
  {
   "cell_type": "code",
   "execution_count": 289,
   "metadata": {},
   "outputs": [],
   "source": [
    "def trap_rule(fun,a,b,n):\n",
    "    \"\"\"\n",
    "    perform trapezoidal rule quadrature\n",
    "    \n",
    "    Args:\n",
    "        fun: name of integrand function\n",
    "        a, b: numerical integration limits (a<b)\n",
    "        n: integer number of quadrature subintervals\n",
    "    Returns:\n",
    "        h: spacing between quadrature points\n",
    "        quad: trapezoidal rule quadrature value    \n",
    "    \"\"\"\n",
    "    x = a\n",
    "    h = (b-a)/n\n",
    "    quad = fun(a) + fun(b)\n",
    "    for i in range (1,n):\n",
    "        x += h\n",
    "        quad += 2*fun(x)\n",
    "    return h, (h/2)*quad"
   ]
  },
  {
   "cell_type": "code",
   "execution_count": 332,
   "metadata": {},
   "outputs": [
    {
     "name": "stdout",
     "output_type": "stream",
     "text": [
      "h =  0.031415926535897934 ; relative error =  8.224805627754517e-05\n",
      "h =  3.141592653589793e-08 ; relative error =  1.778403091456937e-09\n"
     ]
    }
   ],
   "source": [
    "# Repeat the test cases\n",
    "\n",
    "h, quad = trap_rule(f, a,b, 10**2)\n",
    "print(\"h = \",h, \"; relative error = \", np.abs(exact-quad)/exact)\n",
    "\n",
    "h, quad = trap_rule(f, a,b, 10**8)\n",
    "print(\"h = \",h, \"; relative error = \", np.abs(exact-quad)/exact)"
   ]
  },
  {
   "cell_type": "markdown",
   "metadata": {},
   "source": [
    "So this works, but it gets slow with large number of evaluation points. Again, let's look at how the error depends on the spacing (and/or evaluation point count), but let's also include timing results using `timeit.default_timer`:"
   ]
  },
  {
   "cell_type": "code",
   "execution_count": 333,
   "metadata": {},
   "outputs": [
    {
     "name": "stdout",
     "output_type": "stream",
     "text": [
      "  h      Absolute Error    Time\n",
      "3e-01  0.01647646249055  3.570e-05\n",
      "3e-02  0.00016449611256  1.181e-04\n",
      "3e-03  0.00000164493431  1.751e-03\n",
      "3e-04  0.00000001644963  1.498e-02\n",
      "3e-05  0.00000000016488  1.343e-01\n",
      "3e-06  0.00000000000649  9.292e-01\n",
      "3e-07  0.00000000041355  9.683e+00\n",
      "3e-08  0.00000000355681  9.855e+01\n"
     ]
    }
   ],
   "source": [
    "from timeit import default_timer as timer\n",
    "\n",
    "n = 8 #maximum exponent of h\n",
    "a = 0.\n",
    "b = np.pi\n",
    "e_trap = np.zeros(n) #initialize array to store error values\n",
    "h_vals = np.zeros(n) #initialize array to store spacing values\n",
    "n_vals = np.zeros(n) #initialize array to store number of points\n",
    "times = np.zeros(n) #initialize array to store computation times\n",
    "print(\"  h      Absolute Error    Time\")\n",
    "for i in range(n):\n",
    "    m = 10**(i+1)\n",
    "    start = timer()\n",
    "    h, est =  trap_rule(np.sin,a,b,m)\n",
    "    end = timer()\n",
    "    times[i] = (end - start) # Time in seconds\n",
    "    error = np.abs(exact-est)\n",
    "    e_trap[i] = error\n",
    "    h_vals[i] = h\n",
    "    n_vals[i] = m+1\n",
    "    print('{:1.0e} {: 1.14f} {: 1.3e}'.format(h,e_trap[i], times[i]))"
   ]
  },
  {
   "cell_type": "code",
   "execution_count": 334,
   "metadata": {},
   "outputs": [
    {
     "data": {
      "image/png": "[encoded data removed]",
      "text/plain": [
       "<Figure size 432x288 with 1 Axes>"
      ]
     },
     "metadata": {},
     "output_type": "display_data"
    }
   ],
   "source": [
    "plt.plot(-np.log(h_vals)/np.log(10), np.log(e_trap)/np.log(10)) \n",
    "ax = plt.gca() #you first need to get the axis handle\n",
    "ax.set_aspect(1.0) #sets the height to width ratio to 1.5. \n",
    "plt.axis([0,8,-12,0])\n",
    "plt.title(\"Absolute error vs spacing for quadrature\")\n",
    "plt.xlabel(\"Log(h)/Log(10)\")\n",
    "plt.ylabel(\"Log(Absolute error)/Log(10)\")\n",
    "plt.grid(True)\n",
    "plt.savefig(\"figure.png\") #save the plot to a file\n",
    "plt.show()"
   ]
  },
  {
   "cell_type": "markdown",
   "metadata": {},
   "source": [
    "Again we see that the error initially shrinks according to a power law.\n",
    "\n",
    "The initial slope of the log-log plot is $\\approx -2$ indicating truncation error $\\sim O(h^{2})$. \n",
    "\n",
    "How does this match up with Eq.(4.2.6a) giving an error $\\sim O(h^{3})$? That is the __local__ error.\n",
    "\n",
    "With contributions from a number of intervals $\\sim O(h^{-1})$, so the global error for the trapezoidal rule is $\\sim O(h^{2} h^{-1}) = O(h^{2})$.\n",
    "\n",
    "Let's also take a look at how the errors matchup with the runtimes."
   ]
  },
  {
   "cell_type": "code",
   "execution_count": 335,
   "metadata": {},
   "outputs": [
    {
     "data": {
      "image/png": "[encoded data removed]",
      "text/plain": [
       "<Figure size 432x288 with 3 Axes>"
      ]
     },
     "metadata": {},
     "output_type": "display_data"
    }
   ],
   "source": [
    "# plot with various axes scales\n",
    "plt.figure()\n",
    "\n",
    "# linear\n",
    "plt.subplot(131)\n",
    "plt.plot(-np.log(h_vals)/np.log(10), np.log(e_trap)/np.log(10))\n",
    "plt.yscale('linear')\n",
    "plt.title('Error')\n",
    "plt.xlabel('Spacing: h=Pi*1e-x')\n",
    "plt.grid(True)\n",
    "\n",
    "# log\n",
    "plt.subplot(132)\n",
    "plt.plot(-np.log(h_vals)/np.log(10), np.log(times)/np.log(10))\n",
    "plt.yscale('linear')\n",
    "plt.title('Runtime')\n",
    "plt.grid(True)\n",
    "\n",
    "# log\n",
    "plt.subplot(133)\n",
    "plt.plot(-np.log(h_vals)/np.log(10), np.log(n_vals)/np.log(10))\n",
    "plt.yscale('linear')\n",
    "plt.title('Quad. Points')\n",
    "plt.grid(True)\n",
    "\n",
    "plt.subplots_adjust(top=0.92, bottom=0.08, left=0.05, right=0.95, hspace=0.25,\n",
    "                    wspace=0.75)\n",
    "\n",
    "plt.show()"
   ]
  },
  {
   "cell_type": "markdown",
   "metadata": {},
   "source": [
    "For `h < 1e-5`, in addition to growing errors, we also observe runtimes that are becoming impractical. (For `1e8` points, the trapezoidal rule evaluation took almost 2 minutes.)\n",
    "\n",
    "What can we do to get more accurate results without spending excessive amounts of time?\n",
    "\n",
    "There are a couple very standard approaches (higher order quadrature rules and adaptive subdivision), but before we go there let's see if we can squeeze more accuracy out of what we have already done with the trapezoidal rule based on what we know about the truncation error; i.e. the global error is $O(h^{2})$.\n",
    "\n",
    "Let's call the exact value $F$ and $Q(h)$ the quadrature value with spacing $h$. Then we have: $$F = Q(h) + c_2 h^2 + c_3 h^3 + \\ldots$$ \n",
    "\n",
    "Similarly we can consider using only every other quadrature point so the spacing is $2h$, for which:$$F = Q(2h) + c_2 (2h)^2 + c_3 (2h)^3 + \\ldots$$\n",
    "\n",
    "Multiplying the first equation by $2^2$ and subtracting, we can cancel out the leading term in the truncation error to obtain:\n",
    "\n",
    "$$3 F = 4 Q(h) -Q(2h) + O(h^3)$$ or $$F =\\frac{ 4 Q(h) -Q(2h)}{3} + O(h^3)$$\n",
    "\n",
    "Let's test out this idea to see how it works. Let's compute our test integral with 100 intervals and 200 intervals:\n",
    "\n"
   ]
  },
  {
   "cell_type": "code",
   "execution_count": 304,
   "metadata": {},
   "outputs": [
    {
     "name": "stdout",
     "output_type": "stream",
     "text": [
      "Errors:  1.6450e-04,  4.1124e-05\n"
     ]
    }
   ],
   "source": [
    "#100 panels\n",
    "h1, est1 =  trap_rule(np.sin,a,b,100)\n",
    "error1 = np.abs(exact-est1)\n",
    "\n",
    "#200 panels\n",
    "h2, est2 =  trap_rule(np.sin,a,b,200)\n",
    "error2 = np.abs(exact-est2)\n",
    "\n",
    "print('Errors: {: 1.4e}, {: 1.4e}'.format(error1, error2))"
   ]
  },
  {
   "cell_type": "markdown",
   "metadata": {},
   "source": [
    "The absolute errors are in the neighborhood '1e-5'. What happens when we combine them according the formula that aims to cancel out the leading error:"
   ]
  },
  {
   "cell_type": "code",
   "execution_count": 305,
   "metadata": {},
   "outputs": [
    {
     "name": "stdout",
     "output_type": "stream",
     "text": [
      "Combined error:  6.7648e-10\n"
     ]
    }
   ],
   "source": [
    "est3 = (4*est2-est1)/3\n",
    "error3 = np.abs(exact-est3)\n",
    "print('Combined error: {: 1.4e}'.format(error3))"
   ]
  },
  {
   "cell_type": "markdown",
   "metadata": {},
   "source": [
    "A significant error reduction is obtained without much extra work! This technique is known as Richardson extrapolation, and it is something worth knowing about."
   ]
  },
  {
   "cell_type": "markdown",
   "metadata": {},
   "source": [
    "## Return to considering other approaches for error reduction:\n",
    "\n",
    "### Higher order quadrature methods\n",
    "\n",
    "We obtained the trapezoidal rule by considering a \"panel\" consisting of the interval between $n+1=2$ quadrature points and approximating the integrand locally with a polynomial of degree $n=1$.\n",
    "\n",
    "The Newton-Cotes family of quadrature generalizes this approach by approximating a panel of $n+1$ points with a degree $n$ polynomial.\n",
    "\n",
    "The next member of the family, approximating 3 points with a degree 2 polynomial (i.e. a quadratic), is known as ___Simpson's rule___:\n",
    "\n",
    "$$\\int_{x_j}^{x_{j+2}} f(x) dx = \\frac{3h}{8} (f_j + 4 f_{j+1} + f_{j+2}) - \\frac{h^5}{90}f''''(c)$$\n",
    "\n",
    "The multi-panel version is known as __composite Simpson's rule__:\n",
    "$$Q_S = \\frac{3h}{8} ( f_0 + 4 f_1 + 2 f_2 +4 f_3 +2 f_5 +\\ldots+2f_{N-2} +4 f_N-1 + f_N)$$\n",
    "\n",
    "Below we present an implementation of Simpson's rule and explore how the error depends on spacing."
   ]
  },
  {
   "cell_type": "code",
   "execution_count": 322,
   "metadata": {},
   "outputs": [],
   "source": [
    "#implement Simpson's rule\n",
    "def simpson(f,a,b,n):\n",
    "    \"\"\"\n",
    "    perform trapezoidal rule quadrature\n",
    "    \n",
    "    Args:\n",
    "        fun: name of integrand function\n",
    "        a, b: numerical integration limits (a<b)\n",
    "        n: integer number of quadrature panels\n",
    "    Returns:\n",
    "        h: spacing between quadrature points\n",
    "        quad: trapezoidal rule quadrature value    \n",
    "    \"\"\"\n",
    "    h = (b-a)/(2*n)\n",
    "    x = a + h\n",
    "    quad = f(a) + 4*f(x) + f(b)\n",
    "    sum = 3\n",
    "    for i in range (1,n):\n",
    "        x += h\n",
    "        quad += 2*f(x)\n",
    "        x += h\n",
    "        quad += 4*f(x)\n",
    "        sum += 2\n",
    "    return h, (h/3)*quad"
   ]
  },
  {
   "cell_type": "code",
   "execution_count": 324,
   "metadata": {},
   "outputs": [
    {
     "name": "stdout",
     "output_type": "stream",
     "text": [
      "h =  0.15707963267948966 ; relative error =  3.3922209004000337e-06\n",
      "h =  0.015707963267948967 ; relative error =  3.3824010259309034e-10\n"
     ]
    }
   ],
   "source": [
    "# Repeat the test cases to check that things are working reasonably\n",
    "\n",
    "h, quad = simpson(f, a,b, 10**1)\n",
    "print(\"h = \",h, \"; relative error = \", np.abs(exact-quad)/exact)\n",
    "\n",
    "h, quad = simpson(f, a,b, 10**2)\n",
    "print(\"h = \",h, \"; relative error = \", np.abs(exact-quad)/exact)"
   ]
  },
  {
   "cell_type": "markdown",
   "metadata": {},
   "source": [
    "Again this works, but it gets slow with large number of evaluation points. Now on to evaluating how error and runtime depend on spacing:"
   ]
  },
  {
   "cell_type": "code",
   "execution_count": 337,
   "metadata": {},
   "outputs": [
    {
     "name": "stdout",
     "output_type": "stream",
     "text": [
      "  h      Absolute Error    Time\n",
      "2e-01  0.00000678444180  4.910e-05\n",
      "2e-02  0.00000000067648  1.955e-04\n",
      "2e-03  0.00000000000016  1.907e-03\n",
      "2e-04  0.00000000000042  2.414e-02\n",
      "2e-05  0.00000000000520  2.088e-01\n",
      "2e-06  0.00000000000793  1.926e+00\n",
      "2e-07  0.00000000029412  1.956e+01\n",
      "2e-08  0.00000001031526  2.053e+02\n"
     ]
    }
   ],
   "source": [
    "from timeit import default_timer as timer\n",
    "\n",
    "n = 8 #maximum exponent of h\n",
    "a = 0.\n",
    "b = np.pi\n",
    "e_simp = np.zeros(n) #initialize array to store error values\n",
    "h_vals = np.zeros(n) #initialize array to store spacing values\n",
    "n_vals = np.zeros(n) #initialize array to store number of points\n",
    "times = np.zeros(n) #initialize array to store computation times\n",
    "print(\"  h      Absolute Error    Time\")\n",
    "for i in range(n):\n",
    "    m = 10**(i+1)\n",
    "    start = timer()\n",
    "    h, est =  simpson(np.sin,a,b,m)\n",
    "    end = timer()\n",
    "    times[i] = (end - start) # Time in seconds\n",
    "    error = np.abs(exact-est)\n",
    "    e_simp[i] = error\n",
    "    h_vals[i] = h\n",
    "    n_vals[i] = m+1\n",
    "    print('{:1.0e} {: 1.14f} {: 1.3e}'.format(h,e_simp[i], times[i]))"
   ]
  },
  {
   "cell_type": "code",
   "execution_count": 338,
   "metadata": {},
   "outputs": [
    {
     "data": {
      "image/png": "[encoded data removed]",
      "text/plain": [
       "<Figure size 432x288 with 1 Axes>"
      ]
     },
     "metadata": {},
     "output_type": "display_data"
    }
   ],
   "source": [
    "plt.plot(-np.log(h_vals)/np.log(10), np.log(e_trap)/np.log(10)) \n",
    "plt.plot(-np.log(h_vals)/np.log(10), np.log(e_simp)/np.log(10)) \n",
    "ax = plt.gca() #you first need to get the axis handle\n",
    "ax.set_aspect(1.0) #sets the height to width ratio to 1.5. \n",
    "plt.axis([0,8,-14,0])\n",
    "plt.title(\"Absolute error vs spacing for quadrature\")\n",
    "plt.xlabel(\"Log(h)/Log(10)\")\n",
    "plt.ylabel(\"Log(Absolute error)/Log(10)\")\n",
    "plt.grid(True)\n",
    "plt.savefig(\"figure.png\") #save the plot to a file\n",
    "plt.show()"
   ]
  },
  {
   "cell_type": "markdown",
   "metadata": {},
   "source": [
    "The plot above shows the errors for both Trapezoidal rule and Simpson's rule. In the early linear regime both methods become more accurate for smaller spacing. However, the slope for Simpson's rule is approximately -4 associated with its higher order error $\\sim O(h^{-4})$. Note that the enhanced truncation error order leads to better accuracy for the same spacing (compared to trapezoidal), but this means that roundoff error begins to dominate sooner (for larger spacing). The optimal spacing for evaluating the test integral with Simpson's rule is $h \\approx 10^{-3}$."
   ]
  },
  {
   "cell_type": "markdown",
   "metadata": {},
   "source": [
    "There are many other families of quadrature schemes (e.g. Gauss-Kronrod, Clenshaw-Curtis) that employ non-uniform spacings, and you are encouraged to explore further if such things are of interest. We will push on to the next embellishment of the Newton-Cotes methods:\n",
    "\n",
    "## Adaptive subdivision\n",
    "\n",
    "Oru quick detour into Richardson extrapolation indicated that we can get an estimate of quadrature error by __downsampling__; i.e. by ignoring every other quadrature point. Thus we obtain $Q(h)$ and $Q(2h)$, and we can use the difference in their values to estimate the error. Adaptive subdivision employs this technique on a panel by panel basis as follows:\n",
    "\n",
    "To evaluate the integral over an interval to within a specified tolerance:\n",
    "\n",
    "1) Apply an initial quadrature scheme to obtain an initial estimate $Q_{old}$.\n",
    "Subdivide each panel and apply the quadrature scheme on the subpanels to obtain $Q_{left}$ and $Q_{right}$.\n",
    "\n",
    "2) Use $Q_{left} + Q_{right} - Q_{old}$ as a measure of local error for the panel.\n",
    "\n",
    "3) Continue subdiving panels with largest error until sum of changes due to panel subdivision are less that global error tolerance.\n",
    "\n",
    "It may be practical to divide up the global error into a local error tolerance that can be applied independently while subdividing the panels."
   ]
  }
 ],
 "metadata": {
  "kernelspec": {
   "display_name": "Python 3",
   "language": "python",
   "name": "python3"
  },
  "language_info": {
   "codemirror_mode": {
    "name": "ipython",
    "version": 3
   },
   "file_extension": ".py",
   "mimetype": "text/x-python",
   "name": "python",
   "nbconvert_exporter": "python",
   "pygments_lexer": "ipython3",
   "version": "3.6.5"
  }
 },
 "nbformat": 4,
 "nbformat_minor": 2
}
