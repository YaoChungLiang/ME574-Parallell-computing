{
 "cells": [
  {
   "cell_type": "markdown",
   "metadata": {},
   "source": [
    "### ME535 Winter Quarter 2020\n",
    "## COMPUTATIONAL TECHNIQUES <br>IN MECHANICAL ENGINEERING\n",
    "### TTh 10:00-11:20, LOW 216"
   ]
  },
  {
   "cell_type": "markdown",
   "metadata": {},
   "source": [
    "Instructor:  Prof. Duane Storti, MEB 308, 543-2956, storti@uw.edu\n",
    "\n",
    "Teaching assistants:\n",
    "\n",
    "- Chris Uchytil\n",
    "\n",
    "- John Bartlett\n",
    "\n",
    "MEB G-19\n",
    "\n",
    "We will be using Canvas to provide access to course materials. Please get in the habit of visiting the class Canvas page regularly and using the Canvas-based channels for communication (including submission of homweworks)."
   ]
  },
  {
   "cell_type": "markdown",
   "metadata": {},
   "source": [
    "This course offers a basic introduction to numerical techniques commonly used by mechanical engineers. Topics to be covered include:\n",
    "\n",
    "•\tLinear systems\n",
    "\n",
    "•\tInterpolation and curve fitting\n",
    "\n",
    "•\tNumerical differentiation and integration\n",
    "\n",
    "•\tFloating point arithmetic and sources of error\n",
    "\n",
    "•\tNumerical solution of ordinary differential equations\n",
    "\n",
    "•\tNumerical solution of partial differential equations\n",
    "\n",
    "__Textbook: “Data-Driven Modeling & Scientific Computation”, by J. Nathan Kutz.__ \n",
    "\n",
    "__The aim is to cover much of the material in parts 1 and 2 of the text.__\n",
    "\n",
    "___This book has been recommended in recent years for ME564-5, so you or a fellow grad student may already have a copy. The electronic version is readily available from online vendors.___"
   ]
  },
  {
   "cell_type": "markdown",
   "metadata": {},
   "source": [
    "Expectations:\n",
    "\n",
    "•\tGraduate standing in mechanical engineering or related field.\n",
    "\n",
    "•\tMath background equivalent to ME564 & concurrent enrollment in ME565.\n",
    "\n",
    "•\tSome previous introduction to computing.\n",
    "\n",
    "•\tCommitment to actually writing code.\n",
    "\n",
    "Students in ME535 are expected write code to implement/experiment with algorithms of interest. \n",
    "\n",
    "The text relies heavily on MATLAB, but the course will be conducted using python (one of the most popular languages in the era of big data), so plan on acquiring experience with python as a side benefit of the course."
   ]
  },
  {
   "cell_type": "markdown",
   "metadata": {},
   "source": [
    "This is an introductory level graduate course, so a certain amount of engineering background and sophistication is expected. You do __NOT__ need to enter the course as an experienced programmer, but to complete the course successfully __you DO need to learn to write code to implement algorithms__."
   ]
  },
  {
   "cell_type": "markdown",
   "metadata": {},
   "source": [
    "__Approximate logistics:__\n",
    "\n",
    "Homeworks (~6):\t65%\n",
    "\n",
    "Midterm exam: \t15%\n",
    "\n",
    "Final Exam: \t20%\n",
    "\n",
    "Registration information for winter 2020:\n",
    "ME PhD students: ME 535 A, SLN 16829\n",
    "ME on-campus MS students: ME 535 B, SLN 16830\n",
    "ME online MS students: ME 535 C, SLN 21717 + add code obtained from Kate"
   ]
  },
  {
   "cell_type": "markdown",
   "metadata": {},
   "source": [
    "## Relevant policies:\n",
    "\n",
    "### Religious accommodation:\n",
    "\n",
    " “Washington state law requires that UW develop a policy for accommodation of student absences or significant hardship due to reasons of faith or conscience, or for organized religious activities. The UW’s policy, including more information about how to request an accommodation, is available at Religious Accommodations Policy (https://registrar.washington.edu/staffandfaculty/religious-accommodations-policy/). Accommodations must be requested within the first two weeks of this course using the Religious Accommodations Request form (https://registrar.washington.edu/students/religious-accommodations-request/).”\n",
    " \n",
    "### College of Engineering statement of principles of academic honesty, integrity, and responsibility\n",
    "\n",
    "The UW College of Engineering prepares students to enter the engineering profession and to hold themselves to the highest standards of integrity and honesty – including a commitment to the health, safety, and well-being of the communities they serve. Therefore, we are committed to promoting integrity in our teaching, learning, and research endeavors.\n",
    "\n",
    "As a member of the UW College of Engineering and in preparation for entering the engineering profession students are expected to:\n",
    "\n",
    "- Adhere to the University of Washington Student Code of Conduct and related policies: http://www.washington.edu/cssc/expectations/\n",
    "\n",
    "- Hold yourself to highest standards of ethics, integrity, and \n",
    "accountability in line with becoming a professional engineer.\n",
    "\n",
    "- Promote Academic Integrity by:\n",
    "    - Only submitting your own work -- neither giving nor receiving unauthorized aid on exams or assignments.\n",
    "\n",
    "    - Always crediting the intellectual work of others by providing proper citations or acknowledgements.\n",
    "\n",
    "    - Only using or submitting accurate and verifiable data, records, or other information\n",
    "\n",
    "    - Upholding the standards of conduct established by an instructor or outlined in a course syllabus.\n",
    "\n",
    "    - Always observing strict standards of laboratory, fabrication, and experimental safety to protect yourself and others.\n",
    "\n",
    "As a UW engineering student, you are expected to follow these conduct codes:\n",
    "\n",
    "- Code of Ethics for Engineers\n",
    "http://www.nspe.org/Ethics/CodeofEthics/index.html\n",
    "\n",
    "- University of Washington Student Conduct Code\n",
    "http://apps.leg.wa.gov/WAC/default.aspx?cite=478-120\n",
    "\n",
    "For each course you take, your instructors will share with you the rules for the class. Those rules are based on the College of Engineering's policies and procedures:\n",
    "https://www.engr.washington.edu/current/academics/principles#statement"
   ]
  }
 ],
 "metadata": {
  "kernelspec": {
   "display_name": "Python 3",
   "language": "python",
   "name": "python3"
  },
  "language_info": {
   "codemirror_mode": {
    "name": "ipython",
    "version": 3
   },
   "file_extension": ".py",
   "mimetype": "text/x-python",
   "name": "python",
   "nbconvert_exporter": "python",
   "pygments_lexer": "ipython3",
   "version": "3.6.5"
  }
 },
 "nbformat": 4,
 "nbformat_minor": 2
}
