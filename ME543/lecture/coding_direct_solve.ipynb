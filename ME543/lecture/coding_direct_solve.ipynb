{
 "cells": [
  {
   "cell_type": "markdown",
   "metadata": {},
   "source": [
    "# Direct Solve approach to the coding exercise from 06Feb2020\n",
    "\n",
    "__Note:__ The problem is from \"coding_06Feb\" and the solutions through 2c are in \"coding_help.ipynb\". Here we implement and apply the direct solve method.\n",
    "\n",
    "Instead of stepping, we set up a system of simultaneous equations (one for each node on the discretized grid) and solve the system of equations for the full solution."
   ]
  },
  {
   "cell_type": "code",
   "execution_count": 442,
   "metadata": {},
   "outputs": [
    {
     "name": "stdout",
     "output_type": "stream",
     "text": [
      "The autoreload extension is already loaded. To reload it, use:\n",
      "  %reload_ext autoreload\n"
     ]
    }
   ],
   "source": [
    "%matplotlib inline\n",
    "%load_ext autoreload\n",
    "%autoreload 2"
   ]
  },
  {
   "cell_type": "code",
   "execution_count": 443,
   "metadata": {},
   "outputs": [],
   "source": [
    "import numpy as np\n",
    "from diy_ode import *\n",
    "from simple_plot import *\n",
    "np.set_printoptions(precision=2)"
   ]
  },
  {
   "cell_type": "markdown",
   "metadata": {},
   "source": [
    "Consider the boundary value problem (BVP) consisting of the differential equation $$\\frac{d^2 y}{dx^2} +x \\frac{dy}{dx} + \\beta y = 0$$\n",
    "with boundary conditions $$y'(0)=0, \\; y(1)=0$$\n",
    "\n",
    "0) Classify the equation before doing any computing. Can you write an analytical solution for this equation?\n",
    "\n",
    "__Linearity let's us choose $y(0)=1$__ to go along with $y'(0)=0$ for initial conditions (ICs).\n",
    "\n",
    "1) Use an ODE solver to compute solutions for a few values of $\\beta$. Plot your results and inspect to get a feel for how the solution behave.\n",
    "\n",
    "Find the first 4 eigenvalues and eigenfunctions in 3 different ways:\n",
    "\n",
    "2a) Use an ODE solver to compute solutions for a few values of $\\beta$. Plot your results and inspect to get a feel for how the solutions behave.\n",
    "\n",
    "2b) Use the shooting method based on your Runge-Kutta code.\n",
    "\n",
    "2c) Use the shooting method based on the `solve_ivp` library function.\n",
    "\n",
    "3) Use the direct solve method with an eigensolver from the linear algebra library.\n",
    "\n",
    "If you breezed through the items above, try this one:\n",
    "\n",
    "4b) Consider the ODE $$\\frac{d}{dx} \\big[ (1-x^2) \\frac{dy}{dx} \\big] + \\lambda y = 0$$ with boundary conditions $$y'(0)=0, y(1)=0$$"
   ]
  },
  {
   "cell_type": "markdown",
   "metadata": {},
   "source": [
    "Here we take on Problem 3. Following the presentation Ch. 7, we implement the direct solve approach as follows:\n",
    "\n",
    "1) Discretize the domain to a uniform grid with `n` nodes"
   ]
  },
  {
   "cell_type": "code",
   "execution_count": 444,
   "metadata": {},
   "outputs": [
    {
     "data": {
      "text/plain": [
       "array([0.12, 0.25, 0.38, 0.5 , 0.62, 0.75, 0.88])"
      ]
     },
     "execution_count": 444,
     "metadata": {},
     "output_type": "execute_result"
    }
   ],
   "source": [
    "L = 1 #length of domain\n",
    "n = 8 #number of internal nodes  to solved for on the grid\n",
    "n_total = n + 2 #number of nodes including a boundary node at each end\n",
    "dx = L/(n_total - 2)\n",
    "x_full = np.linspace(0,1,n_total-1)\n",
    "x = x_full[1:-1] #x values at internal nodes\n",
    "x"
   ]
  },
  {
   "cell_type": "markdown",
   "metadata": {},
   "source": [
    "2) Use the finite difference approximation for each derivative as a __stencil__ to rewrite the value of each derivative at a generic point as a linear combination of the values of $y$ at the point and its neighbors. The central difference approximation for the first derivative is:\n",
    "$$ \\frac{dy}{dx} = \\frac{1}{2 \\Delta x} (- y_{i-1} + 0 y_i +1 y_{i+1})$$\n",
    "Applying the central difference at each internal node of the grid gives:\n",
    "\n",
    "\\begin{equation}\n",
    "\\frac{d\\boldsymbol{y}}{dx} =\n",
    "\\frac{1}{2 \\Delta x}\n",
    "\\begin{bmatrix}\n",
    "   0 y_0 &+1 y_1 &+0 y_2 &+ 0 y_3 &+ 0 y_4 &+ \\ldots \\\\\n",
    "   -1 y_0 &+0 y_1 &+1 y_2 &+0 y_3 &+ 0 y_4 &+ \\ldots  \\\\\n",
    "   0 y_0 &-1 y_1 &+0 y_2 &+1 y_3 &+ 0 y_4 &+ \\ldots \\\\\n",
    "   0 y_0 &+0 y_1 &-1 y_2 &+0 y_3 &+1 y_4 &+ \\ldots \\\\\n",
    "   \\vdots   \n",
    "\\end{bmatrix}\n",
    "+ \\frac{1}{2 \\Delta x}\n",
    "\\begin{bmatrix}\n",
    "   -y_{-1} \\\\\n",
    "   0  \\\\\n",
    "   0 \\\\\n",
    "   0 \\\\\n",
    "   \\vdots \n",
    "\\end{bmatrix}\n",
    "\\end{equation}"
   ]
  },
  {
   "cell_type": "markdown",
   "metadata": {},
   "source": [
    "which can be written in matrix-vector form as:\n",
    "\n",
    "\\begin{equation}\n",
    "\\frac{d\\boldsymbol{y}}{dx} =\n",
    "\\frac{1}{2 \\Delta x}\n",
    "\\begin{bmatrix}\n",
    "   0 &1  &0 & 0 & 0 & \\ldots \\\\\n",
    "   -1 &0 &1 &0 & 0 & \\ldots  \\\\\n",
    "   0  &-1  &0 &1  & 0 & \\ldots \\\\\n",
    "   0 &0  &-1  &0  &1  & \\ldots \\\\\n",
    "   \\vdots   \n",
    "\\end{bmatrix}\n",
    "\\begin{bmatrix}\n",
    "   y_0 \\\\\n",
    "   y_1  \\\\\n",
    "   y_2 \\\\\n",
    "   y_3 \\\\\n",
    "   \\vdots \n",
    "\\end{bmatrix}\n",
    "+ \\frac{1}{2 \\Delta x}\n",
    "\\begin{bmatrix}\n",
    "   -y_{-1} \\\\\n",
    "   0  \\\\\n",
    "   0 \\\\\n",
    "   0 \\\\\n",
    "   \\vdots \n",
    "\\end{bmatrix}\n",
    "\\end{equation}"
   ]
  },
  {
   "cell_type": "markdown",
   "metadata": {},
   "source": [
    "So the $1^{st}$ derivative in the ODE converts to a multiple ($\\frac{1}{2 \\Delta x}$) of a matrix with 1's just above the main diagonal and -1's just below the main diagonal. \n",
    "\n",
    "Now let's write some code to construct this matrix given the grid specifications. Let's start by writing a function `d1` to construct the basic matrix for Dirichlet BCs. (We'll insert the $\\frac{1}{2 \\Delta x}$ factor later.)"
   ]
  },
  {
   "cell_type": "code",
   "execution_count": 445,
   "metadata": {},
   "outputs": [],
   "source": [
    "def d1(n):\n",
    "    '''\n",
    "    construct 2D numpy array corr. to nxn matrix version of central difference operator for 1st derivative (homogenous Dirichlet BCs)\n",
    "    \n",
    "    Args:\n",
    "        n: integer size of array (number of nodes at which to solve)\n",
    "        \n",
    "    Returns:\n",
    "        a: nxn numpy array with 1 on diagonal above main diagonal and -1 on diagonal below main diagonal\n",
    "    '''\n",
    "    #insert your code here\n",
    "    return a"
   ]
  },
  {
   "cell_type": "markdown",
   "metadata": {},
   "source": [
    "Let's test the function to see if it produces the desired result:"
   ]
  },
  {
   "cell_type": "code",
   "execution_count": 414,
   "metadata": {},
   "outputs": [
    {
     "data": {
      "text/plain": [
       "array([[ 0.,  1.,  0.,  0.,  0.,  0.,  0.,  0.],\n",
       "       [-1.,  0.,  1.,  0.,  0.,  0.,  0.,  0.],\n",
       "       [ 0., -1.,  0.,  1.,  0.,  0.,  0.,  0.],\n",
       "       [ 0.,  0., -1.,  0.,  1.,  0.,  0.,  0.],\n",
       "       [ 0.,  0.,  0., -1.,  0.,  1.,  0.,  0.],\n",
       "       [ 0.,  0.,  0.,  0., -1.,  0.,  1.,  0.],\n",
       "       [ 0.,  0.,  0.,  0.,  0., -1.,  0.,  1.],\n",
       "       [ 0.,  0.,  0.,  0.,  0.,  0., -1.,  0.]])"
      ]
     },
     "execution_count": 414,
     "metadata": {},
     "output_type": "execute_result"
    }
   ],
   "source": [
    "d1(n)"
   ]
  },
  {
   "cell_type": "markdown",
   "metadata": {},
   "source": [
    "That looks good, but let's note that this array can also be constructed with a standard function, `diags`, from the sparse matrix package `scipy.sparse`."
   ]
  },
  {
   "cell_type": "code",
   "execution_count": 446,
   "metadata": {},
   "outputs": [],
   "source": [
    "from scipy.sparse import diags\n",
    "\n",
    "def d1_sparse(n):\n",
    "    '''\n",
    "    construct nxn sparse matrix version of central difference operator for 1st derivative (homogenous Dirichlet BCs)\n",
    "    \n",
    "    Args:\n",
    "        n: integer size of array (number of nodes at which to solve\n",
    "        \n",
    "    Returns:\n",
    "        sp: nxn numpy sparse array with 1 on diagonal above main diagonal and -1 on diagonal below main diagonal   \n",
    "    '''\n",
    "    #insert your code here\n",
    "    return sp"
   ]
  },
  {
   "cell_type": "markdown",
   "metadata": {},
   "source": [
    "Again, let's test the function:"
   ]
  },
  {
   "cell_type": "code",
   "execution_count": 447,
   "metadata": {},
   "outputs": [
    {
     "data": {
      "text/plain": [
       "(<8x8 sparse matrix of type '<class 'numpy.float64'>'\n",
       " \twith 22 stored elements (3 diagonals) in DIAgonal format>,\n",
       " scipy.sparse.dia.dia_matrix)"
      ]
     },
     "execution_count": 447,
     "metadata": {},
     "output_type": "execute_result"
    }
   ],
   "source": [
    "d1_sparse(n)"
   ]
  },
  {
   "cell_type": "markdown",
   "metadata": {},
   "source": [
    "This, like most sparse matrix representations, aims for effieciency in terms of memory usage and processing speed; readability by humans is not a goal. To get a version that we can make sense of, use the `toarray()` method that comes built-in with all Scipy sparse matrices."
   ]
  },
  {
   "cell_type": "code",
   "execution_count": 417,
   "metadata": {},
   "outputs": [
    {
     "data": {
      "text/plain": [
       "array([[ 0.,  1.,  0.,  0.,  0.,  0.,  0.,  0.],\n",
       "       [-1.,  0.,  1.,  0.,  0.,  0.,  0.,  0.],\n",
       "       [ 0., -1.,  0.,  1.,  0.,  0.,  0.,  0.],\n",
       "       [ 0.,  0., -1.,  0.,  1.,  0.,  0.,  0.],\n",
       "       [ 0.,  0.,  0., -1.,  0.,  1.,  0.,  0.],\n",
       "       [ 0.,  0.,  0.,  0., -1.,  0.,  1.,  0.],\n",
       "       [ 0.,  0.,  0.,  0.,  0., -1.,  0.,  1.],\n",
       "       [ 0.,  0.,  0.,  0.,  0.,  0., -1.,  0.]])"
      ]
     },
     "execution_count": 417,
     "metadata": {},
     "output_type": "execute_result"
    }
   ],
   "source": [
    "d1_sparse(n).toarray()"
   ]
  },
  {
   "cell_type": "markdown",
   "metadata": {},
   "source": [
    "Now let's do likewise for the $2^{nd}$ derivative based on the centered difference approximation \n",
    "$$\\frac{d^2 y}{dx^2} = \\frac{1}{\\Delta x^2} (1 y_{i-1} -2 y_i +1 y_{i+1})$$\n",
    "\n",
    "Again, code it up and test (again planning to include the factor of $\\frac{1}{\\Delta x^2}$ at the end):"
   ]
  },
  {
   "cell_type": "code",
   "execution_count": 418,
   "metadata": {},
   "outputs": [],
   "source": [
    "def d2(n):\n",
    "    '''\n",
    "    construct 2D numpy array corr. to nxn matrix version of central difference operator for 2nd derivative (homogenous Dirichlet BCs)\n",
    "    \n",
    "    Args:\n",
    "        n: integer size of array (number of nodes at which to solve)\n",
    "        \n",
    "    Returns:\n",
    "        a: nxn numpy array with -2 on main diagonal and 1 on diagonals above and below main diagonal\n",
    "    '''\n",
    "    #insert your code here\n",
    "    return a "
   ]
  },
  {
   "cell_type": "code",
   "execution_count": 419,
   "metadata": {},
   "outputs": [
    {
     "data": {
      "text/plain": [
       "array([[-2.,  1., -0., -0., -0., -0., -0., -0.],\n",
       "       [ 1., -2.,  1., -0., -0., -0., -0., -0.],\n",
       "       [-0.,  1., -2.,  1., -0., -0., -0., -0.],\n",
       "       [-0., -0.,  1., -2.,  1., -0., -0., -0.],\n",
       "       [-0., -0., -0.,  1., -2.,  1., -0., -0.],\n",
       "       [-0., -0., -0., -0.,  1., -2.,  1., -0.],\n",
       "       [-0., -0., -0., -0., -0.,  1., -2.,  1.],\n",
       "       [-0., -0., -0., -0., -0., -0.,  1., -2.]])"
      ]
     },
     "execution_count": 419,
     "metadata": {},
     "output_type": "execute_result"
    }
   ],
   "source": [
    "d2(n)"
   ]
  },
  {
   "cell_type": "markdown",
   "metadata": {},
   "source": [
    "Looks good, but let's consider the sparse version again:"
   ]
  },
  {
   "cell_type": "code",
   "execution_count": 420,
   "metadata": {},
   "outputs": [],
   "source": [
    "def d2_sparse(n):\n",
    "    '''\n",
    "    construct nxn sparse matrix version of central difference operator for 1st derivative (homogenous Dirichlet BCs)\n",
    "    \n",
    "    Args:\n",
    "        n: integer size of array (number of nodes at which to solve\n",
    "        \n",
    "    Returns:\n",
    "        sp: nxn numpy sparse array with 1 on diagonal above main diagonal and -1 on diagonal below main diagonal   \n",
    "    '''\n",
    "    #insert your code here\n",
    "    return sp"
   ]
  },
  {
   "cell_type": "code",
   "execution_count": 421,
   "metadata": {},
   "outputs": [
    {
     "data": {
      "text/plain": [
       "array([[-2.,  1.,  0.,  0.,  0.,  0.,  0.,  0.],\n",
       "       [ 1., -2.,  1.,  0.,  0.,  0.,  0.,  0.],\n",
       "       [ 0.,  1., -2.,  1.,  0.,  0.,  0.,  0.],\n",
       "       [ 0.,  0.,  1., -2.,  1.,  0.,  0.,  0.],\n",
       "       [ 0.,  0.,  0.,  1., -2.,  1.,  0.,  0.],\n",
       "       [ 0.,  0.,  0.,  0.,  1., -2.,  1.,  0.],\n",
       "       [ 0.,  0.,  0.,  0.,  0.,  1., -2.,  1.],\n",
       "       [ 0.,  0.,  0.,  0.,  0.,  0.,  1., -2.]])"
      ]
     },
     "execution_count": 421,
     "metadata": {},
     "output_type": "execute_result"
    }
   ],
   "source": [
    "d2_sparse(n).toarray()"
   ]
  },
  {
   "cell_type": "markdown",
   "metadata": {},
   "source": [
    "3) Make adjustments as necessary to account for boundary conditions.\n",
    "\n",
    "Using central differences, the first and last equations would involve values at or beyond the end of the computational grid. \n",
    "\n",
    "- If we have homogeneous Dirichlet BCs (i.e. $y = 0$ on the boundary), those boundary contributions vanish, and the matrix is fine as it is. \n",
    "\n",
    "- For periodic boundary conditions, $y_0 \\equiv y_n$, we change the upper-rightmost entry from 0 to -1 and the lower-leftmost  entry from 0 to 1.\n",
    "\n",
    "- For Neumann BCs ($y'(0)=0)$, we apply the forward difference formula (instead of central difference). Note that the value at the boundary will not be explicitly included as part of the eigenvalue problem, so let's label that value as $y_{-1}$ so we can employ our usual indexing (starting at 0) in the computational domain. The forward difference approach to finding $y_{-1}$ goes as follows:\n",
    "\n",
    "$$y_0 = y_{-1} + \\Delta x y'_{-1} + (\\Delta x)^2 \\frac{1}{2}y''_{-1} + \\ldots$$\n",
    "\n",
    "$$y_1 = y_{-1} + 2 \\Delta x y'_{-1} + (2 \\Delta x)^2 \\frac{1}{2}y''_{-1} + \\ldots$$\n",
    "<br>To cancel out the terms of order $O(\\Delta x^2)$, multiply the first equation by 4 and subtract the second to obtain:\n",
    "\n",
    "$$4 y_0 - y_1 = (4-1) y_{-1} + (4-2) (\\Delta x) \\, y'_{-1}$$\n",
    "<br>which we can solve for the $2^{nd}$ order forward difference estimate of the $1^{st}$ derivative:\n",
    "\n",
    "$$\\frac{dy}{dx} = \\frac{1}{2 \\Delta x} (-3 y_{-1} + 4 y_0 - 1 y_1)$$\n",
    "\n",
    "$$\\frac{dy}{dx} = 0 \\rightarrow y_{-1} = (\\frac{4}{3} y_0 - \\frac{1}{3} y_1)$$"
   ]
  },
  {
   "cell_type": "markdown",
   "metadata": {},
   "source": [
    "This equation will be used to compute the value of $y_0$ that satisfies $y'(0)=0$.\n",
    "\n",
    "We also plug it into the central difference approximation of $y'_0$:\n",
    "\n",
    "$$ \\frac{dy_0}{dx} = \\frac{1}{2 \\Delta x} ( y_1 - y_{-1}) = \\frac{1}{2 \\Delta x} (-\\frac{4}{3} y_0 + \\frac{4}{3} y_1)$$\n",
    "<br>The bottom line is that imposing the Neumann BC ($y'(0)=0$) involes 2 steps:\n",
    "\n",
    "- Adjust the first row of the matrix from $[0,1,0, \\ldots ,0]$ to $[4/3, -4/3, 0, \\ldots, 0]$.\n",
    "\n",
    "- Prepend (4*y[0] - y[1])/3 to the left end of the eigenvector."
   ]
  },
  {
   "cell_type": "markdown",
   "metadata": {},
   "source": [
    "We can now write a function to produce the appropriate array. \n",
    "\n",
    "The name `d1_nd` indicates that the array provides the discrete analog of the $1^{st}$ derivative with Neumann BC on the left and Dirichlet BC on the right:"
   ]
  },
  {
   "cell_type": "code",
   "execution_count": 422,
   "metadata": {},
   "outputs": [],
   "source": [
    "def d1_nd(n):\n",
    "    a = d1(n)\n",
    "    a[0,0], a[0,1] = -4/3, 4/3\n",
    "    return a"
   ]
  },
  {
   "cell_type": "code",
   "execution_count": 423,
   "metadata": {},
   "outputs": [
    {
     "name": "stdout",
     "output_type": "stream",
     "text": [
      "[[-1.33  1.33  0.    0.    0.    0.    0.    0.  ]\n",
      " [-1.    0.    1.    0.    0.    0.    0.    0.  ]\n",
      " [ 0.   -1.    0.    1.    0.    0.    0.    0.  ]\n",
      " [ 0.    0.   -1.    0.    1.    0.    0.    0.  ]\n",
      " [ 0.    0.    0.   -1.    0.    1.    0.    0.  ]\n",
      " [ 0.    0.    0.    0.   -1.    0.    1.    0.  ]\n",
      " [ 0.    0.    0.    0.    0.   -1.    0.    1.  ]\n",
      " [ 0.    0.    0.    0.    0.    0.   -1.    0.  ]]\n"
     ]
    }
   ],
   "source": [
    "print(d1_nd(n))"
   ]
  },
  {
   "cell_type": "markdown",
   "metadata": {},
   "source": [
    "This also looks good. Now adjust for a left Neumann BC based on the forward difference approximation of the $2^{nd}$ derivative:\n",
    "\n",
    "$$ \\frac{d^2y_0}{dx^2} = \\frac{1}{\\Delta x^2} (y_{-1} -2 y_0 +y_1) = \\frac{1}{\\Delta x^2} (\\frac{4}{3} y_0 - \\frac{1}{3} y_1 -2 y_0 +y_1) = \\frac{1}{\\Delta x^2} (-\\frac{2}{3} y_0 + \\frac{2}{3} y_1) $$\n",
    "\n",
    "Thus the adjustment of the $2^{nd}$ derivative matrix to account for the homogeneous Neumann BC at the left end is to replace the first row with `[-2/3, 2/3, 0, ... ,0]`. The function `d2_nd` produces the corresponding nxn array with left Neumann BC and right Dirchlet BC (with the $\\frac{1}{\\Delta x^2}$ factor to be included later):"
   ]
  },
  {
   "cell_type": "code",
   "execution_count": 426,
   "metadata": {},
   "outputs": [],
   "source": [
    "def d2_nd(n):\n",
    "    '''\n",
    "    construct 2D numpy array corr. to nxn matrix version of central difference operator for 1st derivative\n",
    "    BCs: homogeneous Neumann at left end and homogenous Dirichlet at right end\n",
    "    \n",
    "    Args:\n",
    "        n: integer size of array (number of nodes at which to solve)\n",
    "        \n",
    "    Returns:\n",
    "        a: nxn numpy array with 1 on diagonal above main diagonal and -1 on diagonal below main diagonal\n",
    "            a[0,0] = -2/3, a[0,1] = 2/3 to account for zero slope at left end\n",
    "    '''\n",
    "    a = d2(n)\n",
    "    a[0,0], a[0,1] = -2/3, 2/3\n",
    "    return a"
   ]
  },
  {
   "cell_type": "code",
   "execution_count": 427,
   "metadata": {},
   "outputs": [
    {
     "data": {
      "text/plain": [
       "array([[-0.67,  0.67, -0.  , -0.  , -0.  , -0.  , -0.  , -0.  ],\n",
       "       [ 1.  , -2.  ,  1.  , -0.  , -0.  , -0.  , -0.  , -0.  ],\n",
       "       [-0.  ,  1.  , -2.  ,  1.  , -0.  , -0.  , -0.  , -0.  ],\n",
       "       [-0.  , -0.  ,  1.  , -2.  ,  1.  , -0.  , -0.  , -0.  ],\n",
       "       [-0.  , -0.  , -0.  ,  1.  , -2.  ,  1.  , -0.  , -0.  ],\n",
       "       [-0.  , -0.  , -0.  , -0.  ,  1.  , -2.  ,  1.  , -0.  ],\n",
       "       [-0.  , -0.  , -0.  , -0.  , -0.  ,  1.  , -2.  ,  1.  ],\n",
       "       [-0.  , -0.  , -0.  , -0.  , -0.  , -0.  ,  1.  , -2.  ]])"
      ]
     },
     "execution_count": 427,
     "metadata": {},
     "output_type": "execute_result"
    }
   ],
   "source": [
    "d2_nd(n)"
   ]
  },
  {
   "cell_type": "markdown",
   "metadata": {},
   "source": [
    "We can now cast this system in the form of an eigenvlue problem, $A y = \\beta y$, by isolating the last term in the equation and replacing the derivative terms with their discrete counterparts according to:\n",
    "\n",
    "$- \\frac{d^2}{dx^2} - x \\frac{d}{dx} \\rightarrow \\qquad $`A = -d2_nd(n)/(dx**2) - x*d1_nd(n)/(2*dx)`\n",
    "\n",
    "4) Having coded up the basic difference arrays appropriate for the BCs, we can now construct the full array comprising the discrete version of the problem:"
   ]
  },
  {
   "cell_type": "code",
   "execution_count": 431,
   "metadata": {},
   "outputs": [
    {
     "data": {
      "text/plain": [
       "array([[ 294.67, -295.33,    0.  ,    0.  ,    0.  ,    0.  ,    0.  ,\n",
       "           0.  ,    0.  ,    0.  ,    0.  ,    0.  ,    0.  ,    0.  ,\n",
       "           0.  ,    0.  ,    0.  ,    0.  ,    0.  ,    0.  ],\n",
       "       [-440.5 ,  882.  , -442.5 ,    0.  ,    0.  ,    0.  ,    0.  ,\n",
       "           0.  ,    0.  ,    0.  ,    0.  ,    0.  ,    0.  ,    0.  ,\n",
       "           0.  ,    0.  ,    0.  ,    0.  ,    0.  ,    0.  ],\n",
       "       [   0.  , -440.  ,  882.  , -443.  ,    0.  ,    0.  ,    0.  ,\n",
       "           0.  ,    0.  ,    0.  ,    0.  ,    0.  ,    0.  ,    0.  ,\n",
       "           0.  ,    0.  ,    0.  ,    0.  ,    0.  ,    0.  ],\n",
       "       [   0.  ,    0.  , -439.5 ,  882.  , -443.5 ,    0.  ,    0.  ,\n",
       "           0.  ,    0.  ,    0.  ,    0.  ,    0.  ,    0.  ,    0.  ,\n",
       "           0.  ,    0.  ,    0.  ,    0.  ,    0.  ,    0.  ],\n",
       "       [   0.  ,    0.  ,    0.  , -439.  ,  882.  , -444.  ,    0.  ,\n",
       "           0.  ,    0.  ,    0.  ,    0.  ,    0.  ,    0.  ,    0.  ,\n",
       "           0.  ,    0.  ,    0.  ,    0.  ,    0.  ,    0.  ],\n",
       "       [   0.  ,    0.  ,    0.  ,    0.  , -438.5 ,  882.  , -444.5 ,\n",
       "           0.  ,    0.  ,    0.  ,    0.  ,    0.  ,    0.  ,    0.  ,\n",
       "           0.  ,    0.  ,    0.  ,    0.  ,    0.  ,    0.  ],\n",
       "       [   0.  ,    0.  ,    0.  ,    0.  ,    0.  , -438.  ,  882.  ,\n",
       "        -445.  ,    0.  ,    0.  ,    0.  ,    0.  ,    0.  ,    0.  ,\n",
       "           0.  ,    0.  ,    0.  ,    0.  ,    0.  ,    0.  ],\n",
       "       [   0.  ,    0.  ,    0.  ,    0.  ,    0.  ,    0.  , -437.5 ,\n",
       "         882.  , -445.5 ,    0.  ,    0.  ,    0.  ,    0.  ,    0.  ,\n",
       "           0.  ,    0.  ,    0.  ,    0.  ,    0.  ,    0.  ],\n",
       "       [   0.  ,    0.  ,    0.  ,    0.  ,    0.  ,    0.  ,    0.  ,\n",
       "        -437.  ,  882.  , -446.  ,    0.  ,    0.  ,    0.  ,    0.  ,\n",
       "           0.  ,    0.  ,    0.  ,    0.  ,    0.  ,    0.  ],\n",
       "       [   0.  ,    0.  ,    0.  ,    0.  ,    0.  ,    0.  ,    0.  ,\n",
       "           0.  , -436.5 ,  882.  , -446.5 ,    0.  ,    0.  ,    0.  ,\n",
       "           0.  ,    0.  ,    0.  ,    0.  ,    0.  ,    0.  ],\n",
       "       [   0.  ,    0.  ,    0.  ,    0.  ,    0.  ,    0.  ,    0.  ,\n",
       "           0.  ,    0.  , -436.  ,  882.  , -447.  ,    0.  ,    0.  ,\n",
       "           0.  ,    0.  ,    0.  ,    0.  ,    0.  ,    0.  ],\n",
       "       [   0.  ,    0.  ,    0.  ,    0.  ,    0.  ,    0.  ,    0.  ,\n",
       "           0.  ,    0.  ,    0.  , -435.5 ,  882.  , -447.5 ,    0.  ,\n",
       "           0.  ,    0.  ,    0.  ,    0.  ,    0.  ,    0.  ],\n",
       "       [   0.  ,    0.  ,    0.  ,    0.  ,    0.  ,    0.  ,    0.  ,\n",
       "           0.  ,    0.  ,    0.  ,    0.  , -435.  ,  882.  , -448.  ,\n",
       "           0.  ,    0.  ,    0.  ,    0.  ,    0.  ,    0.  ],\n",
       "       [   0.  ,    0.  ,    0.  ,    0.  ,    0.  ,    0.  ,    0.  ,\n",
       "           0.  ,    0.  ,    0.  ,    0.  ,    0.  , -434.5 ,  882.  ,\n",
       "        -448.5 ,    0.  ,    0.  ,    0.  ,    0.  ,    0.  ],\n",
       "       [   0.  ,    0.  ,    0.  ,    0.  ,    0.  ,    0.  ,    0.  ,\n",
       "           0.  ,    0.  ,    0.  ,    0.  ,    0.  ,    0.  , -434.  ,\n",
       "         882.  , -449.  ,    0.  ,    0.  ,    0.  ,    0.  ],\n",
       "       [   0.  ,    0.  ,    0.  ,    0.  ,    0.  ,    0.  ,    0.  ,\n",
       "           0.  ,    0.  ,    0.  ,    0.  ,    0.  ,    0.  ,    0.  ,\n",
       "        -433.5 ,  882.  , -449.5 ,    0.  ,    0.  ,    0.  ],\n",
       "       [   0.  ,    0.  ,    0.  ,    0.  ,    0.  ,    0.  ,    0.  ,\n",
       "           0.  ,    0.  ,    0.  ,    0.  ,    0.  ,    0.  ,    0.  ,\n",
       "           0.  , -433.  ,  882.  , -450.  ,    0.  ,    0.  ],\n",
       "       [   0.  ,    0.  ,    0.  ,    0.  ,    0.  ,    0.  ,    0.  ,\n",
       "           0.  ,    0.  ,    0.  ,    0.  ,    0.  ,    0.  ,    0.  ,\n",
       "           0.  ,    0.  , -432.5 ,  882.  , -450.5 ,    0.  ],\n",
       "       [   0.  ,    0.  ,    0.  ,    0.  ,    0.  ,    0.  ,    0.  ,\n",
       "           0.  ,    0.  ,    0.  ,    0.  ,    0.  ,    0.  ,    0.  ,\n",
       "           0.  ,    0.  ,    0.  , -432.  ,  882.  , -451.  ],\n",
       "       [   0.  ,    0.  ,    0.  ,    0.  ,    0.  ,    0.  ,    0.  ,\n",
       "           0.  ,    0.  ,    0.  ,    0.  ,    0.  ,    0.  ,    0.  ,\n",
       "           0.  ,    0.  ,    0.  ,    0.  , -431.5 ,  882.  ]])"
      ]
     },
     "execution_count": 431,
     "metadata": {},
     "output_type": "execute_result"
    }
   ],
   "source": [
    "from numpy import linalg as LA\n",
    "\n",
    "#reinitialize with finer grid\n",
    "L = 1 #length of domain\n",
    "n = 20 #number of internal nodes  to solved for on the grid\n",
    "n_total = n + 2 #number of nodes including a boundary node at each end\n",
    "dx = L/(n_total - 1)\n",
    "x_full = np.linspace(0,1,n_total)\n",
    "x = x_full[1:-1] #x values at internal nodes\n",
    "\n",
    "#insert code here to construct the matrix corr. to d**2/dx**2 + x* d/dx\n",
    "A"
   ]
  },
  {
   "cell_type": "markdown",
   "metadata": {},
   "source": [
    "As arrays get larger, it gets difficult to see the structure so there are functions for visualizing matrices. <br>`spy` shows non-zero entries in a matrix.<br>`matshow` shades based on the values in the matrix."
   ]
  },
  {
   "cell_type": "code",
   "execution_count": 432,
   "metadata": {},
   "outputs": [
    {
     "data": {
      "text/plain": [
       "<matplotlib.image.AxesImage at 0x2fd5845bda0>"
      ]
     },
     "execution_count": 432,
     "metadata": {},
     "output_type": "execute_result"
    },
    {
     "data": {
      "image/png": "[encoded data removed]",
      "text/plain": [
       "<Figure size 432x288 with 1 Axes>"
      ]
     },
     "metadata": {},
     "output_type": "display_data"
    }
   ],
   "source": [
    "plt.spy(A)"
   ]
  },
  {
   "cell_type": "code",
   "execution_count": 433,
   "metadata": {},
   "outputs": [
    {
     "data": {
      "text/plain": [
       "<matplotlib.colorbar.Colorbar at 0x2fd5a96e588>"
      ]
     },
     "execution_count": 433,
     "metadata": {},
     "output_type": "execute_result"
    },
    {
     "data": {
      "image/png": "[encoded data removed]",
      "text/plain": [
       "<Figure size 288x288 with 2 Axes>"
      ]
     },
     "metadata": {},
     "output_type": "display_data"
    }
   ],
   "source": [
    "mat = plt.matshow(A)\n",
    "plt.colorbar(mat)"
   ]
  },
  {
   "cell_type": "markdown",
   "metadata": {},
   "source": [
    "5) Finally, we compute the eigenvalues and eigenvectors using `eig` from the linear algebra package `linalg`. Visit the documentation page for `eig` and look at what it returns (and the examples at the bottom) to understand why the results are assigned to a 2-tuple and that the eigenvector associated with `vals[i]` is `vecs[:,i]`."
   ]
  },
  {
   "cell_type": "code",
   "execution_count": 441,
   "metadata": {},
   "outputs": [
    {
     "data": {
      "text/plain": [
       "array([   2.05,   21.78,   60.83,  118.54,  193.84,  285.19,  390.65,\n",
       "        507.89,  634.21,  766.66,  902.12, 1037.34, 1753.83, 1722.29,\n",
       "       1670.59, 1600.  , 1512.23, 1169.07, 1409.44, 1294.11])"
      ]
     },
     "execution_count": 441,
     "metadata": {},
     "output_type": "execute_result"
    }
   ],
   "source": [
    "#insert code here to compute eigenvalues and eigenvectors\n",
    "\n",
    "vals #display the eigenvalues"
   ]
  },
  {
   "cell_type": "markdown",
   "metadata": {},
   "source": [
    "So now we have eigenvalues, but the eigenvectors are missing the end values at the boundaries. Let's fix that by padding each eigenvector with a zero on the right and using the forward difference formula on the left: $y_{-1} = (4 y_0 - y_1)/3$"
   ]
  },
  {
   "cell_type": "code",
   "execution_count": 435,
   "metadata": {},
   "outputs": [
    {
     "data": {
      "text/plain": [
       "array([-0.32, -0.32, -0.32, -0.31, -0.3 , -0.29, -0.28, -0.26, -0.24,\n",
       "       -0.23, -0.21, -0.19, -0.17, -0.15, -0.12, -0.1 , -0.08, -0.06,\n",
       "       -0.04, -0.02])"
      ]
     },
     "execution_count": 435,
     "metadata": {},
     "output_type": "execute_result"
    }
   ],
   "source": [
    "vecs[:,0]"
   ]
  },
  {
   "cell_type": "code",
   "execution_count": 438,
   "metadata": {},
   "outputs": [],
   "source": [
    "#insert code here to padd the eigenvector with zero slope at left end and zero value at right end\n",
    "def pad(v):\n",
    "    '''\n",
    "    pad eigenvectors according to BCs\n",
    "    \n",
    "    Args:\n",
    "        v: computed eigenvector of length n\n",
    "        \n",
    "    Returns:\n",
    "        vec: padded eigenvector length n+2 satisfying \"nd\" BCs\n",
    "    '''\n",
    "    return vec\n",
    "\n",
    "full_vecs = np.apply_along_axis(pad, 0, vecs)"
   ]
  },
  {
   "cell_type": "code",
   "execution_count": 439,
   "metadata": {},
   "outputs": [
    {
     "data": {
      "text/plain": [
       "array([ 1.  ,  1.  ,  0.99,  0.97,  0.95,  0.92,  0.89,  0.85,  0.8 ,\n",
       "        0.75,  0.7 ,  0.64,  0.58,  0.51,  0.45,  0.38,  0.32,  0.25,\n",
       "        0.19,  0.12,  0.06, -0.  ])"
      ]
     },
     "execution_count": 439,
     "metadata": {},
     "output_type": "execute_result"
    }
   ],
   "source": [
    "full_vecs[:,0]"
   ]
  },
  {
   "cell_type": "markdown",
   "metadata": {},
   "source": [
    "Now we can print out the first several eigenvalues and plot the associated eigenfunctions."
   ]
  },
  {
   "cell_type": "code",
   "execution_count": 440,
   "metadata": {},
   "outputs": [
    {
     "name": "stdout",
     "output_type": "stream",
     "text": [
      "Eigenvalues: beta =  [ 2.05 21.78 60.83]\n"
     ]
    },
    {
     "data": {
      "image/png": "[encoded data removed]",
      "text/plain": [
       "<Figure size 432x288 with 1 Axes>"
      ]
     },
     "metadata": {},
     "output_type": "display_data"
    }
   ],
   "source": [
    "print(\"Eigenvalues: beta = \", vals[:3])\n",
    "arrayplot(x_full,full_vecs[:,:3], titlestring=\"First 3 eigenfunctions of y'' + x y' + beta x = 0, y'(0)=y(1)=0)\")"
   ]
  },
  {
   "cell_type": "markdown",
   "metadata": {},
   "source": [
    "An implementation of the desired code is provided below. Try writing and only read/verify as needed!\n",
    "<br><br><br><br><br><br><br><br>"
   ]
  },
  {
   "cell_type": "code",
   "execution_count": null,
   "metadata": {},
   "outputs": [],
   "source": [
    "def d1(n):\n",
    "    a = np.zeros([n,n])\n",
    "    for i in range(n-1):\n",
    "        a[i+1,i] = -1\n",
    "        a[i,i+1] = +1\n",
    "    return a\n",
    "\n",
    "from scipy.sparse import diags\n",
    "\n",
    "def d1_sparse(n):\n",
    "    return diags([-1,0,1], [-1,0,1],shape=(n,n))\n",
    "\n",
    "def d2(n):\n",
    "    a = -2*np.eye(n) #start with a multiple of identity matrix to set the values on the main diagonal\n",
    "    #assign values adjacent to main diagonal\n",
    "    for i in range(n-1):\n",
    "        a[i+1,i] = 1\n",
    "        a[i,i+1] = 1\n",
    "    return a \n",
    "\n",
    "def d2_sparse(n):\n",
    "    return diags([1,-2,1], [-1,0,1],shape=(n,n))\n",
    "\n",
    "def d1_nd(n):\n",
    "    a = d1(n)\n",
    "    a[0,0], a[0,1] = -4/3, 4/3\n",
    "    return a\n",
    "\n",
    "def d2_nd(n):\n",
    "    a = d2(n)\n",
    "    a[0,0], a[0,1] = -2/3, 2/3\n",
    "    return a"
   ]
  },
  {
   "cell_type": "code",
   "execution_count": null,
   "metadata": {},
   "outputs": [],
   "source": [
    "from numpy import linalg as LA\n",
    "\n",
    "#reinitialize with finer grid\n",
    "L = 1 #length of domain\n",
    "n = 20 #number of internal nodes  to solved for on the grid\n",
    "n_total = n + 2 #number of nodes including a boundary node at each end\n",
    "dx = L/(n_total - 1)\n",
    "x_full = np.linspace(0,1,n_total)\n",
    "x = x_full[1:-1] #x values at internal nodes\n",
    "\n",
    "A = -d2_nd(n)/(dx**2) - x*d1_nd(n)/(2*dx)\n",
    "A"
   ]
  },
  {
   "cell_type": "code",
   "execution_count": null,
   "metadata": {},
   "outputs": [],
   "source": [
    "vals, vecs = LA.eig(A)"
   ]
  },
  {
   "cell_type": "code",
   "execution_count": null,
   "metadata": {},
   "outputs": [],
   "source": [
    "def pad(v):\n",
    "    nval = (4*v[0]-v[1])/3\n",
    "    return np.concatenate([[nval],v,[0]])/nval # divide by nval so eigenfuncs start at 1"
   ]
  }
 ],
 "metadata": {
  "kernelspec": {
   "display_name": "Python 3",
   "language": "python",
   "name": "python3"
  },
  "language_info": {
   "codemirror_mode": {
    "name": "ipython",
    "version": 3
   },
   "file_extension": ".py",
   "mimetype": "text/x-python",
   "name": "python",
   "nbconvert_exporter": "python",
   "pygments_lexer": "ipython3",
   "version": "3.6.5"
  }
 },
 "nbformat": 4,
 "nbformat_minor": 2
}
