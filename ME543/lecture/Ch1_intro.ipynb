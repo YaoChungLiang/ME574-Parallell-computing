{
 "cells": [
  {
   "cell_type": "markdown",
   "metadata": {
    "slideshow": {
     "slide_type": "slide"
    }
   },
   "source": [
    "# ~~MATLAB~~ Python Introduction\n",
    "\n",
    "This notebook (by Duane Storti, January 2020) provides a python language alternative to the MATLAB introduction in Ch. 1 of __Data-Driven Modeling & Scientific Computation: Methods for Complex Systems & Big Data__ by J. Nathan Kutz."
   ]
  },
  {
   "cell_type": "markdown",
   "metadata": {
    "slideshow": {
     "slide_type": "slide"
    }
   },
   "source": [
    "## Why python?\n",
    "\n",
    "We are now well into an era where computer simulations and \"big data\" are essential elements of engineering. In that context, it is more important than ever to not only have an understanding of the basics of numerical methods but also to be able to implement and customize numerical methods as needed. Traditionally there has been a split between compiled languages (like C/C++) that are relatively fast in terms of execution but relatively slow in terms of development and interpreted languages that are relatively slow in terms of execution but relatively fast in terms of development. Computer math systems like Matlab tend to be toward the extreme end of the interpreted range.\n",
    "\n",
    "In this class we will employ python as our language of choice. It is a full-blown, general-purpose programming language suitable for significant programming tasks; it can operate as an interpreted language which supports rapid development; just-in-time compilers are available so that the resulting code can achieve efficiency comparable to compiled languages; it is relatively mature with a large set of available add-on libraries for scientific computing; and it is one of the two leading languages of choice in the data science community. (Engineers tend to lean toward python while statisticians lean toward R.)\n"
   ]
  },
  {
   "cell_type": "markdown",
   "metadata": {
    "slideshow": {
     "slide_type": "fragment"
    }
   },
   "source": [
    "That said, let's jump into the relevant aspects of using python for scientific computing."
   ]
  },
  {
   "cell_type": "markdown",
   "metadata": {
    "slideshow": {
     "slide_type": "slide"
    }
   },
   "source": [
    "## 1.1 Vectors and Matrices"
   ]
  },
  {
   "cell_type": "markdown",
   "metadata": {},
   "source": [
    "Arrays are the key data container that we will use for coding up mathematical formulas involving vectors and matrices. Native python includes containers like `tuple` and `list` that  are covered in the many python introductions and, while they are useful, they do not offer the behavior we expect from vectors and matrices. For example, the code in the following cell defines two python arrays and then \"adds\" them with the `+` operator:"
   ]
  },
  {
   "cell_type": "code",
   "execution_count": 1,
   "metadata": {},
   "outputs": [
    {
     "data": {
      "text/plain": [
       "[1, 2, 3, 4, 5, 6]"
      ]
     },
     "execution_count": 1,
     "metadata": {},
     "output_type": "execute_result"
    }
   ],
   "source": [
    "x = [1,2,3]\n",
    "y = [4,5,6]\n",
    "x+y"
   ]
  },
  {
   "cell_type": "markdown",
   "metadata": {},
   "source": [
    "Here, `+` performs concatenation rather than element-by-element vector addition, so we need to use some alternative data \"container\". What is the right container and how do you access it? That question deserves a bit of background context.\n",
    "\n",
    "### Data container for matrix/vector operations: numpy arrays\n",
    "\n",
    "When you start a python session, a \"core\" of essential code is loaded, but you can also load optional \"modules\" or \"packages\" using the `import` command to access additional functionality. You can create your own modules or you can use any of the many modules that have been created by the python community. For the purposes of scientific computing and engineering simulation, the module of primary interest is called `numpy` (which you can think of as a mashup of \"numeric\" and \"python\"), and it is used so frequently that it is common to introduce the abbreviation `np`. Here we look at how to load `numpy` and use its `array` container that supports the vector and matrix operations that we need."
   ]
  },
  {
   "cell_type": "markdown",
   "metadata": {},
   "source": [
    "### An aside on Jupyter notebooks\n",
    "This document was created as a Jupyter notebook, and notebooks contain a sequence of cells. This is a \"markdown\" cell that allows for creation of formatted text. The  cell below is a \"code\" cell that contains actual python code along with some explanatory comments indicated by `#`. The code cell can be evaluated to produce an \"output\" cell that displays the result returned by the python interpreter.\n",
    "\n",
    "### Back to numpy and arrays\n",
    "We now pick up with the python language version of the content of Section 1.1:"
   ]
  },
  {
   "cell_type": "code",
   "execution_count": 7,
   "metadata": {},
   "outputs": [
    {
     "name": "stdout",
     "output_type": "stream",
     "text": [
      "Print output: x =  [1 3 2] \n",
      "\n",
      "The line below is not the product of a 'print' statement:\n"
     ]
    },
    {
     "data": {
      "text/plain": [
       "array([1, 3, 2])"
      ]
     },
     "execution_count": 7,
     "metadata": {},
     "output_type": "execute_result"
    }
   ],
   "source": [
    "# import numpy (abbreviated as `np`) to get access to \n",
    "# numerical python capabilities including arrays\n",
    "import numpy as np\n",
    "\n",
    "# create a vector named x with entries 1,3,2\n",
    "x = np.array([1,3,2])\n",
    "\n",
    "# print the string \"Print output: x = \" followed by the value associated with the name x\n",
    "print(\"Print output: x = \", x, \"\\n\")\n",
    "\n",
    "# If you do not want to use a `print` statement, \n",
    "# the value produced by the final line of a code is shown in the output cell\n",
    "print(\"The line below is not the product of a 'print' statement:\")\n",
    "x"
   ]
  },
  {
   "cell_type": "markdown",
   "metadata": {},
   "source": [
    "Note some details of the syntax:\n",
    "The `numpy` module was loaded using `import numpy as np` so the capabilities are loaded associated with the abbreviated name `np`. The next line of code, `x = np.array{[1,3,2])` parses as follows:\n",
    "\n",
    "`x=` assigns a value associated with the variable named `x`. <br>`np.array()` says that the value will be an array, <br>and `[1,3,2]` is a list of values to be stored in the array.\n",
    "\n",
    "Note that the assignment by itself does not produce any output. (Try commenting out the `print` statement and re-evaluating the cell.) The final lines illustrate __2 ways to display the output__:\n",
    "\n",
    "1) Use a `print` statement. Here the output will consist of the string `'Print output: x='` followed by the value associated with the name `x` and a newline.\n",
    "\n",
    "2) In a notebook, the value of a variable on the last line of a code cell is returned.\n",
    "\n",
    "Now create the corresponding column vector:"
   ]
  },
  {
   "cell_type": "code",
   "execution_count": 12,
   "metadata": {},
   "outputs": [
    {
     "name": "stdout",
     "output_type": "stream",
     "text": [
      "x_t =\n",
      " [[1]\n",
      " [3]\n",
      " [2]]\n"
     ]
    },
    {
     "data": {
      "text/plain": [
       "array([[1],\n",
       "       [3],\n",
       "       [2]])"
      ]
     },
     "execution_count": 12,
     "metadata": {},
     "output_type": "execute_result"
    }
   ],
   "source": [
    "x_t = np.array([[1],[3],[2]])\n",
    "\n",
    "# print the value associated with the name x using the 2 methods listed above\n",
    "print(\"x_t =\\n\", x_t)\n",
    "x_t"
   ]
  },
  {
   "cell_type": "markdown",
   "metadata": {},
   "source": [
    "__ASIDE:__ While we have some vectors, let's verify that we can compute the usual vector addition, scalar multiplication, and innner product:"
   ]
  },
  {
   "cell_type": "code",
   "execution_count": 13,
   "metadata": {},
   "outputs": [
    {
     "name": "stdout",
     "output_type": "stream",
     "text": [
      "sum of x and x is [2 6 4]\n",
      "3*x =  [3 9 6]\n",
      "dot product x.x is [14]\n"
     ]
    }
   ],
   "source": [
    "print('sum of x and x is', x + x)\n",
    "print('3*x = ', 3*x)\n",
    "print('dot product x.x is', np.dot(x,x_t))"
   ]
  },
  {
   "cell_type": "markdown",
   "metadata": {},
   "source": [
    "__REMINDER:__ Note that python includes data containers like `list`  and `tuple` that can store a set of values, but they do not behave in a way that is appropriate for modeling mathematical vectors."
   ]
  },
  {
   "cell_type": "code",
   "execution_count": 16,
   "metadata": {},
   "outputs": [
    {
     "name": "stdout",
     "output_type": "stream",
     "text": [
      "vals= [1, 3, 2] . Note that this is a python list.\n",
      "vals+vals= [1, 3, 2, 1, 3, 2]\n",
      "3*vals= [1, 3, 2, 1, 3, 2, 1, 3, 2]\n"
     ]
    }
   ],
   "source": [
    "vals = [1,3,2] #create a list named 'vals'\n",
    "print('vals=', vals, \". Note that this is a python list.\")\n",
    "print('vals+vals=', vals + vals)\n",
    "print('3*vals=', 3*vals)"
   ]
  },
  {
   "cell_type": "code",
   "execution_count": 17,
   "metadata": {},
   "outputs": [
    {
     "name": "stdout",
     "output_type": "stream",
     "text": [
      "vals= (1, 3, 2) . Note that this is a python tuple.\n",
      "vals+vals= (1, 3, 2, 1, 3, 2)\n",
      "3*vals= (1, 3, 2, 1, 3, 2, 1, 3, 2)\n"
     ]
    }
   ],
   "source": [
    "vals = (1,3,2) #create a tuple named 'vals'\n",
    "print('vals=', vals, \". Note that this is a python tuple.\")\n",
    "print('vals+vals=', vals + vals)\n",
    "print('3*vals=', 3*vals)"
   ]
  },
  {
   "cell_type": "markdown",
   "metadata": {},
   "source": [
    "So remember to use `numpy.array()` (or the abbreviated version `np.array()`) to hold data on which you wish to perform vector operations.\n",
    "\n",
    "__End of aside:__ Now back to the flow of the book and look at how to create sets of sequential values."
   ]
  },
  {
   "cell_type": "code",
   "execution_count": 19,
   "metadata": {},
   "outputs": [
    {
     "name": "stdout",
     "output_type": "stream",
     "text": [
      "range(0, 11)\n"
     ]
    }
   ],
   "source": [
    "#integers from 0 through 10 using  the function \"range(start, stop, step)\"\n",
    "print(range(0,11,1)) # or abbreviate as range(11)"
   ]
  },
  {
   "cell_type": "markdown",
   "metadata": {},
   "source": [
    "Note that `range()` employs \"lazy\" evaluation (to help in handling \"big data\"), so this does not print the desired sequence of integers. One trick that works here is to insert an asterisk to \"unpack\" the list of values."
   ]
  },
  {
   "cell_type": "code",
   "execution_count": 20,
   "metadata": {},
   "outputs": [
    {
     "name": "stdout",
     "output_type": "stream",
     "text": [
      "0 1 2 3 4 5 6 7 8 9 10\n"
     ]
    }
   ],
   "source": [
    "print(*range(11))"
   ]
  },
  {
   "cell_type": "markdown",
   "metadata": {},
   "source": [
    "Now create the sequence of even numbers from 0 though 10."
   ]
  },
  {
   "cell_type": "code",
   "execution_count": 26,
   "metadata": {},
   "outputs": [
    {
     "name": "stdout",
     "output_type": "stream",
     "text": [
      "0 2 4 6 8 10\n",
      "<class 'range'>\n"
     ]
    }
   ],
   "source": [
    "even_seq = range(0,11,2)\n",
    "print(*even_seq)\n",
    "print(type(even_seq))"
   ]
  },
  {
   "cell_type": "markdown",
   "metadata": {},
   "source": [
    "Note that the sequence is not an `array`, but `numpy` has the function `arange(start, stop, step)` (which you can think of as a mashup of \"array\" and \"range\") to create corresponding arrays:"
   ]
  },
  {
   "cell_type": "code",
   "execution_count": 28,
   "metadata": {},
   "outputs": [
    {
     "name": "stdout",
     "output_type": "stream",
     "text": [
      "array of integers:  [ 0  1  2  3  4  5  6  7  8  9 10]\n",
      "array of even integers:  [ 0  2  4  6  8 10] ; type is  <class 'numpy.ndarray'>\n"
     ]
    }
   ],
   "source": [
    "print('array of integers: ', np.arange(11))\n",
    "even_arr = np.arange(0,11,2)\n",
    "print('array of even integers: ', even_arr, \"; type is \", type(even_arr))"
   ]
  },
  {
   "cell_type": "markdown",
   "metadata": {},
   "source": [
    "Things become a bit more subtle when we shift to real values (approximated by floating-point numbers). Will `range(0,1,0.2)` include 1.0?"
   ]
  },
  {
   "cell_type": "code",
   "execution_count": 29,
   "metadata": {},
   "outputs": [
    {
     "name": "stdout",
     "output_type": "stream",
     "text": [
      "[0.  0.2 0.4 0.6 0.8]\n"
     ]
    }
   ],
   "source": [
    "print(np.arange(0,1,0.2))"
   ]
  },
  {
   "cell_type": "markdown",
   "metadata": {},
   "source": [
    "Apparently not, so `numpy` includes the function `linspace(start, stop, n)` that is guaranteed to include the `stop` value and have the specified length `n`. Keep `linspace` in mind, because it is often useful!"
   ]
  },
  {
   "cell_type": "code",
   "execution_count": 30,
   "metadata": {},
   "outputs": [
    {
     "name": "stdout",
     "output_type": "stream",
     "text": [
      "[0.  0.2 0.4 0.6 0.8 1. ]\n"
     ]
    }
   ],
   "source": [
    "print(np.linspace(0,1,6))"
   ]
  },
  {
   "cell_type": "markdown",
   "metadata": {},
   "source": [
    "We have now arrived at __Eq. (1.1.8) that involves representing a matrix__.\n",
    "Here we employ a two-dimensional (2D) array with inputs organized within nested square brackets:"
   ]
  },
  {
   "cell_type": "code",
   "execution_count": 33,
   "metadata": {},
   "outputs": [
    {
     "name": "stdout",
     "output_type": "stream",
     "text": [
      "A=\n",
      "[[1 3 2]\n",
      " [5 6 7]\n",
      " [8 3 1]]\n"
     ]
    }
   ],
   "source": [
    "A=np.array([[1,3,2],[5,6,7],[8,3,1]])\n",
    "print('A=')\n",
    "print(A) # on a separate line for format that is a bit easier to read"
   ]
  },
  {
   "cell_type": "markdown",
   "metadata": {},
   "source": [
    "Now let's look at accessing elements of the matrix. The basic idea is to state the array name followed by square brackets containing the index values separated by commas. Remember that python indexing starts at zero, so the middle row has index 1 and the right-most column as index 2. The middle right entry (7), is accessed as follows:"
   ]
  },
  {
   "cell_type": "code",
   "execution_count": 34,
   "metadata": {},
   "outputs": [
    {
     "data": {
      "text/plain": [
       "7"
      ]
     },
     "execution_count": 34,
     "metadata": {},
     "output_type": "execute_result"
    }
   ],
   "source": [
    "A[1,2]"
   ]
  },
  {
   "cell_type": "markdown",
   "metadata": {},
   "source": [
    "Here we access the entire middle row (with index 1) :"
   ]
  },
  {
   "cell_type": "code",
   "execution_count": 35,
   "metadata": {},
   "outputs": [
    {
     "name": "stdout",
     "output_type": "stream",
     "text": [
      "[5 6 7]\n"
     ]
    }
   ],
   "source": [
    "print(A[1])"
   ]
  },
  {
   "cell_type": "markdown",
   "metadata": {},
   "source": [
    "We can also access a column, here the rightmost column with index 2, using a colon as the index placeholder:"
   ]
  },
  {
   "cell_type": "code",
   "execution_count": 36,
   "metadata": {},
   "outputs": [
    {
     "name": "stdout",
     "output_type": "stream",
     "text": [
      "[2 7 1]\n"
     ]
    }
   ],
   "source": [
    "print(A[:,2])"
   ]
  },
  {
   "cell_type": "markdown",
   "metadata": {},
   "source": [
    "If you really want to get a column vector format, you can put the array within another set of brackets (to create a 2D array) and then perform a `transpose`:"
   ]
  },
  {
   "cell_type": "code",
   "execution_count": 37,
   "metadata": {},
   "outputs": [
    {
     "name": "stdout",
     "output_type": "stream",
     "text": [
      "[[2]\n",
      " [7]\n",
      " [1]]\n"
     ]
    }
   ],
   "source": [
    "row_vec = A[:,2]\n",
    "print(np.transpose([row_vec]))"
   ]
  },
  {
   "cell_type": "markdown",
   "metadata": {},
   "source": [
    "We now construct an array corresponding to the matrix in Eq.(1.1.12) and perform the ensuing operations described in the book."
   ]
  },
  {
   "cell_type": "code",
   "execution_count": 38,
   "metadata": {},
   "outputs": [
    {
     "name": "stdout",
     "output_type": "stream",
     "text": [
      "[[1 7 9 2]\n",
      " [2 3 3 4]\n",
      " [3 0 2 6]\n",
      " [6 1 5 5]]\n"
     ]
    }
   ],
   "source": [
    "B = np.array([[1,7,9,2],[2,3,3,4],[3,0,2,6],[6,1,5,5]])\n",
    "print(B)"
   ]
  },
  {
   "cell_type": "code",
   "execution_count": 39,
   "metadata": {},
   "outputs": [
    {
     "name": "stdout",
     "output_type": "stream",
     "text": [
      "[3 0]\n",
      "B type is: <class 'numpy.ndarray'>\n"
     ]
    }
   ],
   "source": [
    "print(B[1:3,1])\n",
    "print(\"B type is:\", type(B))"
   ]
  },
  {
   "cell_type": "markdown",
   "metadata": {},
   "source": [
    "The next couple operations take advantage of the fact that every numpy array has an attribute named `shape` that returns a `tuple` with the array's dimensions. \n",
    "\n",
    "__ASIDE:__ The notation `B.shape` hints at the fact that python is an object-oriented language, but we will do our best to avoid major detours into the details of object-oriented programming. For details about the attributes and methods associated with any python object, explore the full documentation that is readily available using your favorite internet search engine. For example, try entering \"numpy\" and \"ndarray\" (B's class as obtained using `type(B)` above) to see the full list of parameters, attributes, and methods provided for working with n-dimensional arrays.\n",
    "\n",
    "__Back to the contents of the text...__"
   ]
  },
  {
   "cell_type": "code",
   "execution_count": 40,
   "metadata": {},
   "outputs": [
    {
     "name": "stdout",
     "output_type": "stream",
     "text": [
      "[1 5 5]\n"
     ]
    }
   ],
   "source": [
    "print(B[-1,1:B.shape[1]])"
   ]
  },
  {
   "cell_type": "code",
   "execution_count": 41,
   "metadata": {},
   "outputs": [
    {
     "name": "stdout",
     "output_type": "stream",
     "text": [
      "[[3 3 4]\n",
      " [0 2 6]\n",
      " [1 5 5]]\n"
     ]
    }
   ],
   "source": [
    "print(B[1:B.shape[0], 1:B.shape[1]])"
   ]
  },
  {
   "cell_type": "code",
   "execution_count": 42,
   "metadata": {},
   "outputs": [
    {
     "name": "stdout",
     "output_type": "stream",
     "text": [
      "[[7 9 2]\n",
      " [9 3 2]]\n"
     ]
    }
   ],
   "source": [
    "D = np.array([B[0,1:4],B[0:3,2]])\n",
    "print(D)"
   ]
  },
  {
   "cell_type": "markdown",
   "metadata": {},
   "source": [
    "The next items deal with a vector with complex entries. In python, `j` indicates $\\sqrt{-1}$. Here we create and print a complex vector (as a 1x3 2D array) followed by its transpose and its complex conjugate."
   ]
  },
  {
   "cell_type": "code",
   "execution_count": 43,
   "metadata": {},
   "outputs": [
    {
     "name": "stdout",
     "output_type": "stream",
     "text": [
      "x= [[3.+2.j 1.+0.j 8.+0.j]]\n",
      "Transpose of x=\n",
      " [[3.+2.j]\n",
      " [1.+0.j]\n",
      " [8.+0.j]]\n",
      "Conjugate of x= [[3.-2.j 1.-0.j 8.-0.j]]\n"
     ]
    }
   ],
   "source": [
    "x=np.array([[3+2j,1,8]])\n",
    "print(\"x=\", x)\n",
    "x_t = x.transpose()\n",
    "print(\"Transpose of x=\\n\", x_t)\n",
    "x_c = x.conjugate()\n",
    "print(\"Conjugate of x=\", x_c)"
   ]
  },
  {
   "cell_type": "markdown",
   "metadata": {},
   "source": [
    "Finally we arrive at the vector manipulations following Eq.(1.1.9)."
   ]
  },
  {
   "cell_type": "code",
   "execution_count": 44,
   "metadata": {},
   "outputs": [
    {
     "name": "stdout",
     "output_type": "stream",
     "text": [
      "[-1  2  3  5 -2]\n",
      "[False  True  True  True False]\n",
      "[0 1 1 1 0]\n",
      "[-1  3  4  6 -2]\n",
      "[0 3 3 3 0]\n"
     ]
    }
   ],
   "source": [
    "x = np.array([-1,2,3,5,-2])\n",
    "print(x)\n",
    "print(x > 0) #boolean values depending on sign of x\n",
    "print(1*(x>0)) #same as above with true->1, false->0\n",
    "print(x+(x > 0)) #add vector above to x\n",
    "print(3*(x > 0)) #multiply the 0/1 vector by 3"
   ]
  },
  {
   "cell_type": "markdown",
   "metadata": {
    "slideshow": {
     "slide_type": "slide"
    }
   },
   "source": [
    "## 1.2 Logic, Loops and Iterations\n",
    "\n",
    "In any programming language, implementation of algorithms involves logical control of the execution based on factors such as evaluation count and logical tests of intermediate results. Python offers numerous methods for implementing execution control, but we will be able to go a long way knowing how to use just a couple of them. In particular, we will use `for()` loops for managing evaluation counts and `if-elif-else` structures for managing execution flow based on logical tests. Let's create the python analogs of the sample codes in Section 1.2 to see these statements in action.\n",
    "\n",
    "Here is the MATLAB version of the first example with explanatory comments (using MATLAB notation where `%` indicates that the rest of the line is a comment):\n",
    "```\n",
    "a=0 % assign value zero to variable named a\n",
    "for j=1:5 % loop over values of j in the set{1,2,3,4,5}\n",
    "    a=a+j % increment the value of a by the current value of j\n",
    "end % terminate the loop\n",
    "```\n",
    "\n",
    "Here is a python version (using the python notation that '#' indicates that the rest of the line is a comment):"
   ]
  },
  {
   "cell_type": "code",
   "execution_count": 45,
   "metadata": {},
   "outputs": [
    {
     "name": "stdout",
     "output_type": "stream",
     "text": [
      "a= 0  ; j= 1\n",
      "updated value of a is  1\n",
      "a= 1  ; j= 2\n",
      "updated value of a is  3\n",
      "a= 3  ; j= 3\n",
      "updated value of a is  6\n",
      "a= 6  ; j= 4\n",
      "updated value of a is  10\n",
      "a= 10  ; j= 5\n",
      "updated value of a is  15\n",
      "final value of a is  15\n"
     ]
    }
   ],
   "source": [
    "a=0 # assign the value zero to the variable a\n",
    "# loop over j in {1,2,3,4,5} \n",
    "# note that range is \"start inclusive\" and \"end exclusive\"\n",
    "for j in range(1,6): \n",
    "    print('a=', a, ' ; j=',j) # print the current values\n",
    "    a=a+j # increment a by current value of j\n",
    "    print('updated value of a is ', a) # print the updated value\n",
    "print('final value of a is ', a) # terminate the loop (by un-indenting) and print final value"
   ]
  },
  {
   "cell_type": "markdown",
   "metadata": {},
   "source": [
    "A minor adjustment increments by 2 so that $ j \\in \\{1,3,5\\} $:"
   ]
  },
  {
   "cell_type": "code",
   "execution_count": 46,
   "metadata": {},
   "outputs": [
    {
     "name": "stdout",
     "output_type": "stream",
     "text": [
      "a= 0  ; j= 1\n",
      "updated value of a is  1\n",
      "a= 1  ; j= 3\n",
      "updated value of a is  4\n",
      "a= 4  ; j= 5\n",
      "updated value of a is  9\n",
      "final value of a is  9\n"
     ]
    }
   ],
   "source": [
    "a=0 # assign the value zero to the variable a\n",
    "# loop over j in {1,2,3,4,5} noting that range is \"start inclusive\" and \"end exclusive\"\n",
    "for j in range(1,6,2): \n",
    "    print('a=', a, ' ; j=',j) # print the current values\n",
    "    a=a+j # increment a by current value of j\n",
    "    print('updated value of a is ', a) # print the updated value\n",
    "print('final value of a is ', a) # terminate the loop (by un-indenting) and print final value"
   ]
  },
  {
   "cell_type": "markdown",
   "metadata": {},
   "source": [
    "Now we give a list of values of `j` to iterate over:"
   ]
  },
  {
   "cell_type": "code",
   "execution_count": 47,
   "metadata": {},
   "outputs": [
    {
     "name": "stdout",
     "output_type": "stream",
     "text": [
      "a= 0  ; j= 1\n",
      "updated value of a is  1\n",
      "a= 1  ; j= 5\n",
      "updated value of a is  6\n",
      "a= 6  ; j= 4\n",
      "updated value of a is  10\n",
      "final value of a is  10\n"
     ]
    }
   ],
   "source": [
    "a=0 # assign the value zero to the variable a\n",
    "# loop over j in {1,5,4}\n",
    "for j in [1,5,4]: \n",
    "    print('a=', a, ' ; j=',j) # print the current values\n",
    "    a=a+j # increment a by current value of j\n",
    "    print('updated value of a is ', a) # print the updated value\n",
    "print('final value of a is ', a) # terminate the loop (by un-indenting) and print final value"
   ]
  },
  {
   "cell_type": "markdown",
   "metadata": {},
   "source": [
    "__Section 2.1__ moves on to deal with flow control based on logical comparisons for which MATLAB uses an `if-elseif-else` statement. The python statement is very similar, but `elseif` is replaced by `elif` and scoping is done by un-indenting so no `end` statement is needed. \n",
    "\n",
    "The python statement has the syntax:\n",
    "```\n",
    "if (logical statement 0):\n",
    "    (expressions to execute when logical statement 0 is true)\n",
    "elif (logical statement 1):\n",
    "    (expressions to execute when logical statement 0 is false and logical statement 1 is true)\n",
    "...\n",
    "else:\n",
    "    (expressions to execute when all logical statements are false)\n",
    "```\n",
    "\n",
    "Note that the `elif` and `else` clauses  are optional, and the parentheses are present for readability and not a syntax requirement. \n",
    "\n",
    "There is also a 'ternary' (3-piece) version to put short fragements of conditional code on a single line:\n",
    "```\n",
    "[on_true] if [expression] else [on_false] \n",
    "```\n",
    "\n",
    "For a concrete example, consider using conditional statements to choose the maximum of 2 values. The multi-line version is:\n",
    "```\n",
    "if (a>b):\n",
    "    a\n",
    "else:\n",
    "    b\n",
    "```\n",
    "\n",
    "and the single-line tertiary version is:<br>\n",
    "`a if (a>b) else b`\n",
    "\n",
    "Below are examples where `c` is assigned the maximum of `a` and `b`:"
   ]
  },
  {
   "cell_type": "code",
   "execution_count": 48,
   "metadata": {},
   "outputs": [
    {
     "name": "stdout",
     "output_type": "stream",
     "text": [
      "multi-line result is c = 20\n",
      "single-line result is c = 20\n"
     ]
    }
   ],
   "source": [
    "a=10\n",
    "b=20\n",
    "c=0\n",
    "\n",
    "# use if-then syntax to assign c=max(a,b)\n",
    "if (a>b):\n",
    "    c=a\n",
    "else:\n",
    "    c=b\n",
    "print('multi-line result is c =', c)\n",
    "\n",
    "# use ternary syntax to assign c=max(a,b)\n",
    "c = a if (a>b) else b\n",
    "print('single-line result is c =', c)"
   ]
  },
  {
   "cell_type": "markdown",
   "metadata": {},
   "source": [
    "The final portion of Section 1.2 uses the bisection method of root-finding as a practical application of `for` loops and `if` statements. The example considers the specific transcendental function $f(x)=exp(x) -tan(x)$. Let's make a plot so we can see what the function looks like.\n",
    "\n",
    "Here we take a quick aside from numerics to note that python has a `sympy` module that handles symbolic computations along with capabilities for evaluation and plotting. Here is the `sympy` approach to plotting our example function:"
   ]
  },
  {
   "cell_type": "code",
   "execution_count": 49,
   "metadata": {},
   "outputs": [
    {
     "data": {
      "image/png": "[encoded data removed]",
      "text/plain": [
       "<Figure size 432x288 with 1 Axes>"
      ]
     },
     "metadata": {},
     "output_type": "display_data"
    },
    {
     "data": {
      "text/plain": [
       "<sympy.plotting.plot.Plot at 0x29c782e8a90>"
      ]
     },
     "execution_count": 49,
     "metadata": {},
     "output_type": "execute_result"
    }
   ],
   "source": [
    "%matplotlib inline \n",
    "# the python 'magic' command above makes the plot show up within the notebook\n",
    "from sympy import symbols, exp, tan\n",
    "from sympy.plotting import plot\n",
    "x = symbols('x') # set 'x' to be the name of a symbolic variable\n",
    "plot(exp(x)-tan(x),(x,-10,10), ylim=(-5,5)) # plot the function"
   ]
  },
  {
   "cell_type": "markdown",
   "metadata": {},
   "source": [
    "With `sympy`, it is relatively straightforward to make a basic plot. However, it is perhaps not so easy to do things like remove the vertical asymptotes where the function has large magnitude and changes sign suddenly. So now let's look at the purely numeric version using `numpy` to create arrays of values and the `matplotlib` module for plotting."
   ]
  },
  {
   "cell_type": "code",
   "execution_count": 50,
   "metadata": {},
   "outputs": [
    {
     "data": {
      "image/png": "[encoded data removed]",
      "text/plain": [
       "<Figure size 432x288 with 1 Axes>"
      ]
     },
     "metadata": {},
     "output_type": "display_data"
    }
   ],
   "source": [
    "# numpy version\n",
    "import matplotlib.pyplot as plt # import matplotlib's pyplot function under the abbreviation plt\n",
    "numpts = 250 # desired array length\n",
    "x = np.linspace(-10.,10., numpts) # assign to x the array of equally spaced abscissa values\n",
    "y = np.zeros(numpts) # assign to y an array of the corresponding length initialized to hold zeros\n",
    "for i in range(numpts): # loop over the array size\n",
    "    # compute the function for an input value and store in the corresponding entry in y\n",
    "    y[i] = np.exp(x[i])-np.tan(x[i]) \n",
    "    # comment out this conditional for a plot including asymptotic lines\n",
    "    # leave it in to replace large values with the `numpy` designation for infinity which is not plotted\n",
    "    if abs(y[i]>10):\n",
    "        y[i]=np.inf\n",
    "plt.plot(x,y) # create a plot with abscissas (horiz. coords.) from x and ordinates (vert. coords.) from y\n",
    "plt.axis([-10,10,-5,5]) # plot within the range -10<x<10 and -5<y<5\n",
    "plt.xlabel('x') # label for the horizontal axis\n",
    "plt.ylabel('f(x) = exp(x)-tan(x)') #label for the vertical axis\n",
    "plt.grid(True) # show a grid to help estimating values\n",
    "plt.savefig(\"figure.png\") #save the plot to a file\n",
    "plt.show() # show the plot as specified"
   ]
  },
  {
   "cell_type": "markdown",
   "metadata": {},
   "source": [
    "Rootfinding is the process of identifying values of $x$ for which $f(x)=0$. A continous function that has values with opposite signs at the enpoints of an interval must have a root in the interval (because a continuous function cannot jump from negative to positive without passing through zero). \n",
    "\n",
    "The bisection method of rootfinding leverages that fact to locate roots by isolating them within small intervals. The basic steps are as follows:\n",
    "\n",
    "1) Choose a starting interval whose endpoints have function values with opposite signs. (This can be verified in a single statement by checking that the product of the endpoint values is negative.)\n",
    "\n",
    "2) Compute the value of the function at the midpoint of the interval.\n",
    "\n",
    "3) Discard the subinterval whose endpoints produce function values with the same sign to obtain an interval half as large as before that still satisfies the sign change criterion.\n",
    "\n",
    "4) Go to step 2 and repeat until the termination criterion (typically interval size or function value at midpoint) is satisfied.\n",
    "\n",
    "The example in the book (with MATLAB code labeled \"bisection.m\") chooses the intial interval $[xl,xr]=[-4,-2.8]$. Let's verify that the function does have opposite signs at the endpoints."
   ]
  },
  {
   "cell_type": "code",
   "execution_count": 51,
   "metadata": {},
   "outputs": [
    {
     "name": "stdout",
     "output_type": "stream",
     "text": [
      "f(xl)= 1.176136921238312 f(xr)= -0.2947197690259581\n",
      "Valid starting interval?  True\n"
     ]
    }
   ],
   "source": [
    "xl = -4\n",
    "xr = -2.8 \n",
    "fl = np.exp(xl)-np.tan(xl) # compute value at left endpoint\n",
    "fr = np.exp(xr)-np.tan(xr) # compute value at right endpoint\n",
    "print('f(xl)=',fl,'f(xr)=', fr)\n",
    "# Test for valid starting interval: product of endpoint function values must be negative\n",
    "print('Valid starting interval? ', fl*fr<0)"
   ]
  },
  {
   "cell_type": "markdown",
   "metadata": {},
   "source": [
    "Below is a short code that implements the bisection method for finding a root of the sample function within the specified starting interal $[-4,-2.8]$. The code includes a print statement to display the containing interval at each iteration."
   ]
  },
  {
   "cell_type": "code",
   "execution_count": 52,
   "metadata": {},
   "outputs": [
    {
     "name": "stdout",
     "output_type": "stream",
     "text": [
      "0 -3.4 0.29769017082775123\n",
      "1 -3.0999999999999996 0.003432547807921474\n",
      "2 -2.9499999999999997 -0.14163219997111393\n",
      "3 -3.0249999999999995 -0.06856603516934925\n",
      "4 -3.0624999999999996 -0.03248737020201958\n",
      "5 -3.08125 -0.014514157563857988\n",
      "6 -3.0906249999999997 -0.005538307847695087\n",
      "7 -3.0953124999999995 -0.0010523574492767515\n",
      "8 -3.0976562499999996 0.0011902131305878\n",
      "9 -3.0964843749999993 6.895891408374016e-05\n",
      "10 -3.0958984374999994 -0.0004916913009686621\n",
      "11 -3.096191406249999 -0.00021136422657270365\n",
      "12 -3.096337890624999 -7.12021676250868e-05\n",
      "13 -3.0964111328124995 -1.121505002851797e-06\n",
      "root near x= -3.0964111328124995 where f= -1.121505002851797e-06\n"
     ]
    }
   ],
   "source": [
    "max_iter = 1000 #maximum allowed number of iterations\n",
    "xl = -4 #left end of starting interval\n",
    "xr = -2.8 #right end of starting interval\n",
    "for j in range(max_iter): #loop over values of j\n",
    "    xc = (xl+xr)/2 #compute interval midpoint\n",
    "    fc = np.exp(xc)-np.tan(xc) #compute function value at midpoint\n",
    "    print(j,xc,fc) #print iteration number, center location, and center function value\n",
    "    \n",
    "    if fc>0:\n",
    "        xl=xc #move left boundary\n",
    "    else:\n",
    "        xr=xc #move right boundary\n",
    "    \n",
    "    if (abs(fc)<1e-5): #test termination criterion\n",
    "        break #exit the loop\n",
    "\n",
    "print('root near x=', xc, 'where f=',fc)"
   ]
  },
  {
   "cell_type": "markdown",
   "metadata": {
    "slideshow": {
     "slide_type": "slide"
    }
   },
   "source": [
    "# 1.3 Iteration: The Newton-Raphson Method"
   ]
  },
  {
   "cell_type": "raw",
   "metadata": {},
   "source": [
    "Here we create the python version of the listing `newton.m` below Eq. (1.3.10)."
   ]
  },
  {
   "cell_type": "code",
   "execution_count": 53,
   "metadata": {},
   "outputs": [
    {
     "name": "stdout",
     "output_type": "stream",
     "text": [
      "root is near -3.096414598500469 where function value is 2.194579281487863e-06\n"
     ]
    }
   ],
   "source": [
    "x=-4 #initial estimate of fixed point\n",
    "max_iter = 1000\n",
    "for j in range(max_iter):\n",
    "    x = x-(np.exp(x)-np.tan(x))/(np.exp(x)-(1/np.cos(x))**2)\n",
    "    f=np.exp(x)-np.tan(x)\n",
    "    \n",
    "    if abs(f)<1e-5:\n",
    "        break\n",
    "\n",
    "print('root is near',x,'where function value is',f)"
   ]
  },
  {
   "cell_type": "markdown",
   "metadata": {
    "slideshow": {
     "slide_type": "slide"
    }
   },
   "source": [
    "# 1.4 Function Calls, Input/Output Interactions and Debugging"
   ]
  },
  {
   "cell_type": "markdown",
   "metadata": {},
   "source": [
    "In the previous Newton-Raphson example, there were multiple occurrences of the expression $exp(x)-log(x)$. In such cases, it is convenient (and advisable) to define a new function so that recurring expressions can be referred to by name. This approach saves keyboarding, enhances clarity, and makes debugging easier. In this section we consider the example function $f(x)=x^3+sin(x)$. The python syntax given below for defining the function specifies that the name is `myfun` and the desired function value is returned. Note that a `docstring` (accessible using `help(myfun)`) is included to describe the function. __You should build good habits and create docstrings for your functions. Anyone using your code, including \"future you\", will be grateful that you did!__"
   ]
  },
  {
   "cell_type": "code",
   "execution_count": 55,
   "metadata": {},
   "outputs": [],
   "source": [
    "def myfun(x):\n",
    "    '''\n",
    "    example of function creation from Section 1.4\n",
    "    myfun takes one numeric input x and produces the numeric output x**3+sin(x)\n",
    "    '''\n",
    "    return x**3+np.sin(x)"
   ]
  },
  {
   "cell_type": "markdown",
   "metadata": {},
   "source": [
    "Note that evaluating the cell above defines the function `myfun` but produces no output.  The code below tests the docstring using `help` and then calls for execution of `myfun(1)`:"
   ]
  },
  {
   "cell_type": "code",
   "execution_count": 61,
   "metadata": {},
   "outputs": [
    {
     "name": "stdout",
     "output_type": "stream",
     "text": [
      "Help on function myfun in module __main__:\n",
      "\n",
      "myfun(x)\n",
      "    example of function creation from Section 1.4\n",
      "    myfun takes one numeric input x and produces the numeric output x**3+sin(x)\n",
      "\n",
      "myfun(1) =  1.8414709848078965 ; 1**3 + sin(1) =  1.8414709848078965\n"
     ]
    }
   ],
   "source": [
    "help(myfun)\n",
    "\n",
    "print(\"myfun(1) = \", myfun(1), \"; 1**3 + sin(1) = \", 1**3 + np.sin(1))"
   ]
  },
  {
   "cell_type": "markdown",
   "metadata": {},
   "source": [
    "Now that the function seems to be working, let's write a loop that calls for for execution of the function at an array `x` with 11 input values (equally spaced from 0 through 10) and store the function values in an array named `y`:"
   ]
  },
  {
   "cell_type": "code",
   "execution_count": 63,
   "metadata": {},
   "outputs": [
    {
     "name": "stdout",
     "output_type": "stream",
     "text": [
      "myfun( 0.0 )= 0.0\n",
      "myfun( 1.0 )= 1.8414709848078965\n",
      "myfun( 2.0 )= 8.909297426825681\n",
      "myfun( 3.0 )= 27.14112000805987\n",
      "myfun( 4.0 )= 63.24319750469207\n",
      "myfun( 5.0 )= 124.04107572533687\n",
      "myfun( 6.0 )= 215.72058450180108\n",
      "myfun( 7.0 )= 343.6569865987188\n",
      "myfun( 8.0 )= 512.9893582466234\n",
      "myfun( 9.0 )= 729.4121184852418\n",
      "myfun( 10.0 )= 999.4559788891106\n",
      "Input and output as arrays:\n",
      "x= [ 0.  1.  2.  3.  4.  5.  6.  7.  8.  9. 10.]\n",
      "myfun(x)= [  0.           1.84147098   8.90929743  27.14112001  63.2431975\n",
      " 124.04107573 215.7205845  343.6569866  512.98935825 729.41211849\n",
      " 999.45597889]\n"
     ]
    }
   ],
   "source": [
    "x = np.linspace(0,10,11) # create an array of input values\n",
    "y = np.zeros(11) # create array (initialized to zeros) to store output values\n",
    "\n",
    "for i in range(11):\n",
    "    y[i]=myfun(x[i])\n",
    "    print('myfun(',x[i],')=',y[i]) #print the individual input/output relations\n",
    "print('Input and output as arrays:') #print input and output arrays\n",
    "print('x=',x)\n",
    "print('myfun(x)=',y)"
   ]
  },
  {
   "cell_type": "markdown",
   "metadata": {},
   "source": [
    "The next example (in listing `funcA.m`) defines a function that takes two inputs (described as a variable and a parameter) and returns two values. Here is a corresponding python implementation where the return value is a `tuple`:"
   ]
  },
  {
   "cell_type": "code",
   "execution_count": 64,
   "metadata": {},
   "outputs": [],
   "source": [
    "def funcA(x,A):\n",
    "    B=A**2+np.cos(A)\n",
    "    fA=np.sin(B*x)\n",
    "    return (fA,B)"
   ]
  },
  {
   "cell_type": "code",
   "execution_count": 65,
   "metadata": {},
   "outputs": [
    {
     "name": "stdout",
     "output_type": "stream",
     "text": [
      "fA= [-0.97037582  0.98041359 -0.80179334]\n",
      "B= 3.5838531634528574\n"
     ]
    }
   ],
   "source": [
    "(fA,B)=funcA(np.array([3,4,5]),2)\n",
    "print('fA=',fA)\n",
    "print('B=',B)"
   ]
  },
  {
   "cell_type": "markdown",
   "metadata": {},
   "source": [
    "The listing `func.m` illustrates functions being called from within another function. Here is a python version:"
   ]
  },
  {
   "cell_type": "code",
   "execution_count": 66,
   "metadata": {},
   "outputs": [],
   "source": [
    "def f_param(A,B):\n",
    "    return A**2+B**2\n",
    "\n",
    "def fun(x,A,B):\n",
    "    C=f_param(A,B)\n",
    "    return (C*np.sin(C*x),A,B,C)"
   ]
  },
  {
   "cell_type": "code",
   "execution_count": 67,
   "metadata": {},
   "outputs": [
    {
     "data": {
      "text/plain": [
       "(array([-3.30879375, -6.55937134, -9.69454089]), 3, 4, 25)"
      ]
     },
     "execution_count": 67,
     "metadata": {},
     "output_type": "execute_result"
    }
   ],
   "source": [
    "fun(np.array([1,2,3]),3,4)"
   ]
  },
  {
   "cell_type": "markdown",
   "metadata": {},
   "source": [
    "### Input and output to/from ~~MATLAB~~ python codes\n",
    "\n",
    "We have already seen how to make output appear in the notebook using `print()` (which also works if you run python code in a console). We can get user input from the keyboard using `input()`. Here is a simple example that might come in handy if you ever go on tour with your band:"
   ]
  },
  {
   "cell_type": "code",
   "execution_count": 68,
   "metadata": {},
   "outputs": [
    {
     "name": "stdout",
     "output_type": "stream",
     "text": [
      "Hello Seattle!\n"
     ]
    }
   ],
   "source": [
    "city = input('What city am I in?') #print the question and assign the user's response string to `city`\n",
    "print(\"Hello \"+city+\"!\") #When operating with strings, + means concatenate"
   ]
  },
  {
   "cell_type": "markdown",
   "metadata": {},
   "source": [
    "Section 1.4 concludes with a discussion of MATLAB debugging. Python offers a full set of debugging tools, but the details will depend on your specific programming environment, and we will discuss this further at a later time. For now (while using a Jupyter notebook), note that warnings and error messages will appear in colored output cells. While these may not look like fun reading, you should get used to looking at the details of your error messages. There is plenty of python documentation online, so copy that error message and put it into a search engine if you run into an unfamiliar problem."
   ]
  },
  {
   "cell_type": "markdown",
   "metadata": {},
   "source": [
    "## 1.5 Plotting and Importing/Exporting Data\n",
    "\n",
    "We have given a brief introduction to plotting in the root-finding section above. Again, there is a lot of online documentation for embellishing your python plots and you are encouraged to explore, but we will move on to look at basic methods for reading and writing data from and to files. (In some cases, the right thing to do is to write your data to a file and then plot it using your favorite plotting software.)\n",
    "\n",
    "Again, python offers a variety of functions, but we will mostly be interested in writing data to a file from a numpy array and reading data into a numpy array from a file, so the functions `savetxt()` and `genfromtxt()` will suffice to get started.\n",
    "\n",
    "The basic syntax for writing array data to a file is:\n",
    "\n",
    "```\n",
    "numpy.savetxt(fname, arr, fmt='%.18e')\n",
    "```\n",
    "\n",
    "`fname` is a string that gives the name of the file<br>\n",
    "`arr` is the name of the array whose data is to be stored<br>\n",
    "`fmt` specifies the format fr writing the data<br> (e.g. `fmt=%d` for integers or `fmt=%1.4e` for exponential notation with 4 places to the right of the decimal).\n",
    "\n",
    "The data can be read from a file back into a `numpy` array using `genfromtext()` as shown below:"
   ]
  },
  {
   "cell_type": "code",
   "execution_count": 70,
   "metadata": {},
   "outputs": [],
   "source": [
    "data = np.array([[1,2,3],[4,5,6],[7,8,9]]) #create an array of integer values\n",
    "np.savetxt('dataFile.txt', data, fmt='%d') #write integer data to file\n",
    "pi_data = np.pi*data #multiply by pi to create array of float values\n",
    "np.savetxt('piDataFile.txt', pi_data, fmt='%1.4e') #write float values to file (with 5 significant digits)"
   ]
  },
  {
   "cell_type": "markdown",
   "metadata": {},
   "source": [
    "Check the file browser to see that you now have a file named `piDataFile.txt` and open it with a text editor to inspect its contents. Once you have done that, you can load the data into a new python array named `reloaded`. Note the parameter specification `dtype=np.float32` that specifies that the data should be read as 32 bit floating-point numbers."
   ]
  },
  {
   "cell_type": "code",
   "execution_count": 71,
   "metadata": {},
   "outputs": [
    {
     "name": "stdout",
     "output_type": "stream",
     "text": [
      "[[ 3.1416  6.2832  9.4248]\n",
      " [12.566  15.708  18.85  ]\n",
      " [21.991  25.133  28.274 ]]\n"
     ]
    }
   ],
   "source": [
    "reloaded_pi = np.genfromtxt('piDataFile.txt',dtype=np.float32) #read float data from file into array `reloaded_pi`\n",
    "print(reloaded_pi)"
   ]
  },
  {
   "cell_type": "markdown",
   "metadata": {},
   "source": [
    "To save a plot to a file `plt.savefig(\"fname\")` does the trick. If you evaluated the plots in the rootfinding discussion above, you should have a file \"figure.png\" that stores a copy of the plot.\n",
    "\n",
    "That wraps up the essentials from Ch. 1. We should be ready to move on to Ch. 2 on Linear Systems, and you are encouraged to keep exploring python using your favorite books or online resources."
   ]
  },
  {
   "cell_type": "code",
   "execution_count": null,
   "metadata": {},
   "outputs": [],
   "source": []
  }
 ],
 "metadata": {
  "celltoolbar": "Slideshow",
  "kernelspec": {
   "display_name": "Python 3",
   "language": "python",
   "name": "python3"
  },
  "language_info": {
   "codemirror_mode": {
    "name": "ipython",
    "version": 3
   },
   "file_extension": ".py",
   "mimetype": "text/x-python",
   "name": "python",
   "nbconvert_exporter": "python",
   "pygments_lexer": "ipython3",
   "version": "3.6.5"
  }
 },
 "nbformat": 4,
 "nbformat_minor": 2
}
