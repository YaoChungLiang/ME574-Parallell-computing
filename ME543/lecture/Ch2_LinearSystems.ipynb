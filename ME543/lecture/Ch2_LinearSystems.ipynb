{
 "cells": [
  {
   "cell_type": "markdown",
   "metadata": {},
   "source": [
    "# Ch. 2 Linear Systems\n",
    "\n",
    "## Section 2.1 - Direct Solution Methods for $A x=b$\n",
    "\n",
    "We start our look at linear systems with the original solution method: __Gaussian elimination__. This basic matrix operation provides some excellent opportunities for organizing operations using `for()` loops, so let's take advantage of those opportunities to develop our execution control skills.\n",
    "\n",
    "The basic idea is to create the augmented matrix $[A | b ]$ (by attaching the right-hand side as an extra column) and then systematically perform elementary row operations until the matrix becomes the identity. At the end of that process, the augmented column contains the solution $x$.\n",
    "\n",
    "Let's start by coding up simpler things and then working our way up to a full solver. Let's start by importing `numpy` (to get access to `array` capabilities) and creating a sample matrix (2D array) and vector (array with a single row or column).\n",
    "\n",
    "The example in the book involves the matrix $a=[[1,1,1],[1,2,4],[1,3,9]]$. There are many ways to create a corresponding array in python. The \"manual\" approach (where you enter the desired values from the keyboard is straightforward, but perhaps not terribly instructive. Here we construct the array and print the array followed by its transpose."
   ]
  },
  {
   "cell_type": "code",
   "execution_count": null,
   "metadata": {},
   "outputs": [],
   "source": [
    "import numpy as np #import numpy for access to array capabilities\n",
    "a = np.array([[1,1,1],[1,2,4],[1,3,9]])\n",
    "print('a=\\n',a, \"\\ntranspose of a=\\n\", a.transpose())\n",
    "print(\"a=\")\n",
    "a"
   ]
  },
  {
   "cell_type": "markdown",
   "metadata": {},
   "source": [
    "The transposed version suggests an alternative algorithmic approach (so we can generalize to make arrays of different sizes). Each row in the transpose contains powers of a sequence of integers starting with 1. The code below sets the matrix size and creates a corresponding array of zeros. The values of the individual entries are then reset in the nested `for()` loops. The outer loop indexes the rows using the variable `i`. The inner loop indexes the columens using the variable `j`. And the desired values are assigned by the line `a[i,j]=(j+1)**i`."
   ]
  },
  {
   "cell_type": "code",
   "execution_count": null,
   "metadata": {},
   "outputs": [],
   "source": [
    "n = 3 #set the size of the square matrix\n",
    "a = np.zeros([n,n]) # create a 3x3 array initialized with zeros\n",
    "# reassign the entries according to the formula 1+i+j**2 where i and j are the row and column indices\n",
    "for i in range(n):\n",
    "    for j in range(n):\n",
    "        a[i,j] = (j+1)**i   \n",
    "a"
   ]
  },
  {
   "cell_type": "markdown",
   "metadata": {},
   "source": [
    "That is almost the desired matrix; we just need to transpose it."
   ]
  },
  {
   "cell_type": "code",
   "execution_count": null,
   "metadata": {},
   "outputs": [],
   "source": [
    "a = np.transpose(a) #compare with a=a.transpose() also works\n",
    "print(a)"
   ]
  },
  {
   "cell_type": "markdown",
   "metadata": {},
   "source": [
    "Let's put the code above into a function to construct a similar matrix of a specified size:"
   ]
  },
  {
   "cell_type": "code",
   "execution_count": null,
   "metadata": {},
   "outputs": [],
   "source": [
    "def make_a(n):\n",
    "    \"\"\"\n",
    "    construct n x n matrix with columns containing powers of natural numbers\n",
    "    \"\"\"\n",
    "    a = np.zeros([n,n])\n",
    "    for i in range(n):\n",
    "        for j in range(n):\n",
    "            a[i,j] = (j+1)**i\n",
    "    return a.transpose()\n",
    "\n",
    "a = make_a(3)\n",
    "print('a=\\n',a)"
   ]
  },
  {
   "cell_type": "markdown",
   "metadata": {},
   "source": [
    "Now construct the array corresponding to the vector $b=[1,-1,1]$."
   ]
  },
  {
   "cell_type": "code",
   "execution_count": null,
   "metadata": {},
   "outputs": [],
   "source": [
    "b = np.array([1,-1,1])\n",
    "print('b=',b)"
   ]
  },
  {
   "cell_type": "markdown",
   "metadata": {},
   "source": [
    "Again, an algorthmic version would be handy for contructing larger sample problems:"
   ]
  },
  {
   "cell_type": "code",
   "execution_count": null,
   "metadata": {},
   "outputs": [],
   "source": [
    "def make_b(n):\n",
    "    a = np.zeros(n)\n",
    "    for i in range(n):\n",
    "        a[i]=(-1)**i\n",
    "    return a\n",
    "\n",
    "print('b=',make_b(3))"
   ]
  },
  {
   "cell_type": "markdown",
   "metadata": {},
   "source": [
    "__Aside__: Note that `b` looks like a row vector. If you want it to look more like a column vector (actually a 2D array with 1 column), there are ways of doing that. Here are a couple:"
   ]
  },
  {
   "cell_type": "code",
   "execution_count": null,
   "metadata": {},
   "outputs": [],
   "source": [
    "print('transpose version:\\n', np.transpose([b]))\n",
    "print('newaxis version:\\n',b[:, np.newaxis])"
   ]
  },
  {
   "cell_type": "markdown",
   "metadata": {},
   "source": [
    "Now we are ready to start towards a solver.\n",
    "\n",
    "The initial step involves creating the augmented matrix. Here are a couple possible python implementations. (Please consult the documentation for details.)"
   ]
  },
  {
   "cell_type": "code",
   "execution_count": null,
   "metadata": {},
   "outputs": [],
   "source": [
    "auga= np.c_[a,b]\n",
    "print('augmented matrix:\\n',auga)"
   ]
  },
  {
   "cell_type": "code",
   "execution_count": null,
   "metadata": {},
   "outputs": [],
   "source": [
    "auga = np.column_stack([a,b])\n",
    "print('augmented matrix:\\n',auga)"
   ]
  },
  {
   "cell_type": "markdown",
   "metadata": {},
   "source": [
    "Let's build and test an `augment` function to form the augmented array given $a$ and $b$:"
   ]
  },
  {
   "cell_type": "code",
   "execution_count": null,
   "metadata": {},
   "outputs": [],
   "source": [
    "def augment(A,b):\n",
    "    return np.c_[A,b]\n",
    "\n",
    "auga = augment(a,b)\n",
    "print('The augmented matrix is:\\n', auga)"
   ]
  },
  {
   "cell_type": "markdown",
   "metadata": {},
   "source": [
    "Basic solver algorithms employ __elementary row operations__:\n",
    "\n",
    "0) Swap 2 rows.\n",
    "\n",
    "1) Multiply a row by a non-zero constant.\n",
    "\n",
    "2) Add a multiple of one row to another.\n",
    "\n",
    "The key useful fact is this:\n",
    "\n",
    "__Elementary row operations leave the solution of a linear system unchanged.__\n",
    "\n",
    "The useful approach is to apply elementary row operations to systematically transform the matrix to a simpler form until we can readily solve the system. Let's start by writing functions to implement elementary row operations 1) and 2):"
   ]
  },
  {
   "cell_type": "code",
   "execution_count": null,
   "metadata": {},
   "outputs": [],
   "source": [
    "def row_op(A,c,i1,i2):\n",
    "    \"\"\"\n",
    "    perform elementary row operations\n",
    "    if i1==i2, multiply row by constant\n",
    "    if i1!=i1, add c*(row i1) to row i2\n",
    "    \n",
    "    Args:\n",
    "        A: 2D numpy array representing a matrix\n",
    "        c: multiplicative constant\n",
    "        i1,i2: row indices\n",
    "    \"\"\"\n",
    "    m,n = A.shape\n",
    "    if  i1<0 or i2<0 or i1>=m or i2>=m:\n",
    "        print(\"WARNING: Invalid index specifications. Each index value must satisfy 0<=i<#rows.\")\n",
    "    if i1==i2: #repeated index -> multiply row by constant\n",
    "        for j in range(n):\n",
    "            A[i1,j] *= c\n",
    "    else: # add c*row i1 to row i2\n",
    "        for j in range(n):\n",
    "            A[i2,j] += c * A[i1,j]        "
   ]
  },
  {
   "cell_type": "markdown",
   "metadata": {},
   "source": [
    "The usual simplification scheme involves basic elimination to achieve __triangularization__: choose a diagonal element as a \"pivot\" and perform row operations to zero out each coefficient beneath it in its column. (If the preceding entries in those rows have already been set to zero, they will remain zero during the elementary row opserations, so we can proceed systematically to produce an upper triangular system.) Write a `cancel_below_pivot()` function to zero out the elements below the pivot:"
   ]
  },
  {
   "cell_type": "code",
   "execution_count": null,
   "metadata": {},
   "outputs": [],
   "source": [
    "def cancel_below_diagonal(A, i_pivot):\n",
    "    \"\"\"\n",
    "    insert docstring here \n",
    "    \"\"\"\n",
    "    m,n = A.shape\n",
    "    if  i_pivot<0 or i_pivot>=m:\n",
    "        print(\"WARNING: Invalid index specification. Index value must satisfy 0<=i<#rows.\")\n",
    "    if abs(A[i_pivot,i_pivot]) < 1e-8:\n",
    "        print(\"WARNING: Division by near-zero pivot value.\")\n",
    "    else:\n",
    "        row_op(A,1./A[i_pivot,i_pivot], i_pivot, i_pivot) #divide by pivot value so pivot position becomes 1\n",
    "        for i in range(i_pivot+1,m):\n",
    "            row_op(A,-A[i,i_pivot],i_pivot,i)       "
   ]
  },
  {
   "cell_type": "code",
   "execution_count": null,
   "metadata": {},
   "outputs": [],
   "source": [
    "#test the function by zeroing the first column below the diagonal\n",
    "auga = augment(a,b)\n",
    "cancel_below_diagonal(auga,0)\n",
    "auga"
   ]
  },
  {
   "cell_type": "code",
   "execution_count": null,
   "metadata": {},
   "outputs": [],
   "source": [
    "#continue by zeroing the second column below the diagonal\n",
    "cancel_below_diagonal(auga,1)\n",
    "auga"
   ]
  },
  {
   "cell_type": "markdown",
   "metadata": {},
   "source": [
    "This successfully makes the matrix upper triangular as desired. Define the function `upper_tri()` to triangularize in a single call:"
   ]
  },
  {
   "cell_type": "code",
   "execution_count": null,
   "metadata": {},
   "outputs": [],
   "source": [
    "def upper_tri(A):\n",
    "    m,n = A.shape\n",
    "    for i in range(m):\n",
    "        cancel_below_diagonal(A,i)"
   ]
  },
  {
   "cell_type": "code",
   "execution_count": null,
   "metadata": {},
   "outputs": [],
   "source": [
    "auga = augment(a,b)\n",
    "upper_tri(auga)\n",
    "auga"
   ]
  },
  {
   "cell_type": "markdown",
   "metadata": {},
   "source": [
    "Now that the matrix is triangular, we can immediately obtain the value of the last entry `x[-1]` as the last entry in the last column of the augmented array; i.e. $x_2 = 2$. This value can be plugged into the second equation to determine $x_1$, then $x_3$ and $x_2$ can be plugged into the first equation to obtain $x_1$ in a process called __back substitution__.\n",
    "\n",
    "Implement a `back_sub()` function to execute the back substitution process:"
   ]
  },
  {
   "cell_type": "code",
   "execution_count": null,
   "metadata": {},
   "outputs": [],
   "source": [
    "def back_sub(augU):\n",
    "    m,n = augU.shape\n",
    "    x = np.zeros(m)\n",
    "    for i in range(m):\n",
    "        x[m-i-1]= augU[m-i-1,-1]\n",
    "        for j in range(m-i,m):\n",
    "            x[m-i-1] -= augU[m-i-1,j]*x[j]\n",
    "    return x  "
   ]
  },
  {
   "cell_type": "code",
   "execution_count": null,
   "metadata": {},
   "outputs": [],
   "source": [
    "auga = augment(a,b)\n",
    "upper_tri(auga)\n",
    "print(auga)\n",
    "soln = back_sub(auga)\n",
    "soln"
   ]
  },
  {
   "cell_type": "code",
   "execution_count": null,
   "metadata": {},
   "outputs": [],
   "source": [
    "# check that Ax agrees with b to within a thereshold\n",
    "# print the entries in Ax-b\n",
    "print(\"Ax-b = \", a.dot(soln)-b)\n",
    "# use numpy's `allclose` function to check for numerical agreement\n",
    "# to within a specified absolute and/or relative tolerance\n",
    "print(\"Solution checks? : \", np.allclose(np.dot(a,soln),b, atol = 1e-10))"
   ]
  },
  {
   "cell_type": "markdown",
   "metadata": {},
   "source": [
    "The solution method above basically works (at least in the cases we have seen so far), but the whole process needs to run again to solve with a different right-hand side `b`. Instead of repeating the computation, it is more convenient to rephrase the problem in terms of matrix factorization. The particular factorization of interest here is called the __LU Factorization__ because it involves rewriting $A$ as the product of a lower-triangular matrix $L$ and the upper-triangular $U$ that was computed above by row reduction.\n",
    "\n",
    "Once the factorization is computed, the solution for any right-hand side can be found by solving the 2 triangular systems $L y = b$ and then $U x = y$.\n",
    "\n",
    "Write function to compute the $LU$ factorization and to solve given $L,U,b$. "
   ]
  },
  {
   "cell_type": "code",
   "execution_count": null,
   "metadata": {},
   "outputs": [],
   "source": [
    "def LU_factor(A):\n",
    "    m,n = A.shape\n",
    "    if m != n:\n",
    "        print(\"WARNING: Non-square input matrix\")\n",
    "        return\n",
    "    mult = 0\n",
    "    U = np.copy(A) #make a copy of the array\n",
    "    #Note that U=A just makes another name for A, not a new copy of the array\n",
    "    L = np.eye(n) #numpy's name for the identity matrix is \"eye\"\n",
    "    for i in range(n): # for each row i\n",
    "        for j in range(i+1,n): # for each row below row i\n",
    "            mult = U[j,i]/U[i,i]\n",
    "            L[j,i] = mult\n",
    "            # print(i,j,U[j,i],U[i,i],mult)\n",
    "            for k in range(i,n): # for each entry beyond the i^th diagonal entry\n",
    "                U[j,k] = U[j,k] - mult*U[i,k] # for entries to the right, subtasct multiple of temr in row i         \n",
    "            # print(L,U)\n",
    "    return L,U"
   ]
  },
  {
   "cell_type": "code",
   "execution_count": null,
   "metadata": {},
   "outputs": [],
   "source": [
    "make_a(3)"
   ]
  },
  {
   "cell_type": "code",
   "execution_count": null,
   "metadata": {},
   "outputs": [],
   "source": [
    "L,U = LU_factor(make_a(3))\n",
    "print(\"L= \\n\", L,\"\\nU=\\n\",U)"
   ]
  },
  {
   "cell_type": "code",
   "execution_count": null,
   "metadata": {},
   "outputs": [],
   "source": [
    "# check that the factorization reproduces the input matrix\n",
    "np.dot(L,U)"
   ]
  },
  {
   "cell_type": "code",
   "execution_count": null,
   "metadata": {},
   "outputs": [],
   "source": [
    "def upper_tri_solve(U,b):\n",
    "    \"\"\"\n",
    "    insert docstring here\n",
    "    \"\"\"\n",
    "    m,n = U.shape #matrix has m rows and n columns\n",
    "    x=np.zeros(m) #create an array to store the solution (init to zeros)\n",
    "    for i in range(m):\n",
    "        row = m-i-1\n",
    "        accum=0 #variable to store sum of coeffs times known entries in solution\n",
    "        for j in range(i):\n",
    "            accum+=U[row,j]*x[j]\n",
    "        x[row]=(b[row]-accum)/U[i,i] #solve for i^th entry in solution\n",
    "    return x"
   ]
  },
  {
   "cell_type": "code",
   "execution_count": null,
   "metadata": {},
   "outputs": [],
   "source": [
    "def lower_tri_solve(L,b):\n",
    "    \"\"\"\n",
    "    insert docstring here\n",
    "    \"\"\"\n",
    "    m,n = L.shape #matrix has m rows and n columns\n",
    "    # should really check for compatible size\n",
    "    y=np.zeros(m) #create an array to store the solution (init to zeros)\n",
    "    for i in range(m):\n",
    "        row = i\n",
    "        accum=0\n",
    "        for j in range(i):           \n",
    "            accum+=L[row,j]*y[j]\n",
    "        y[row]=(b[row]-accum)/L[i,i] #solve for i^th entry in solution\n",
    "    return y"
   ]
  },
  {
   "cell_type": "code",
   "execution_count": null,
   "metadata": {},
   "outputs": [],
   "source": [
    "# check lower_tri_solve\n",
    "b = make_b(3)\n",
    "y = lower_tri_solve(L,b)\n",
    "print(\"y=\",y, \"residual = \", np.dot(L,y)-b)"
   ]
  },
  {
   "cell_type": "code",
   "execution_count": null,
   "metadata": {},
   "outputs": [],
   "source": [
    "def upper_tri_solve(U,y):\n",
    "    m,n = L.shape\n",
    "    # Check for compatible size\n",
    "    # print('Matrix has',m,'rows and',n,'columns.')\n",
    "    x=np.zeros(m)\n",
    "    for i in range(m):\n",
    "        row = m-i-1\n",
    "        accum=0\n",
    "        for j in range(row+1,m):           \n",
    "            accum+=U[row,j]*x[j]\n",
    "            # print('row=',row,'j=', j,'accum=',accum)\n",
    "        x[row]=(y[row]-accum)/U[row,row]\n",
    "    return x"
   ]
  },
  {
   "cell_type": "code",
   "execution_count": null,
   "metadata": {},
   "outputs": [],
   "source": [
    "# check upper_tri_solve\n",
    "x = upper_tri_solve(U,y)\n",
    "A = make_a(3)\n",
    "print(\"x=\",x, \"; y=\", y, \"; residual = \", np.dot(A,x)-b)"
   ]
  },
  {
   "cell_type": "code",
   "execution_count": null,
   "metadata": {},
   "outputs": [],
   "source": [
    "def LU_solve(L,U,b):\n",
    "    y = lower_tri_solve(L,b)\n",
    "    x = upper_tri_solve(U,y)\n",
    "    return x, y"
   ]
  },
  {
   "cell_type": "code",
   "execution_count": null,
   "metadata": {},
   "outputs": [],
   "source": [
    "N = 20\n",
    "A = make_a(N)\n",
    "b = make_b(N)\n",
    "L,U = LU_factor(A)\n",
    "x,y = LU_solve(L,U,b)\n",
    "print(\"x=\",x, \"\\ny=\", y, \"\\nresidual = \", np.linalg.norm(np.dot(A,x)-b))"
   ]
  },
  {
   "cell_type": "markdown",
   "metadata": {},
   "source": [
    "# ASIDE: Logistics ME535 W2020\n",
    "## Start here on Th. 1/16/20\n",
    "\n",
    "__Exam formats:__\n",
    "\n",
    "Final will be an in class, pen(cil) and paper exam at the official date/time\n",
    "\n",
    "Mon, Mar 16\t10:30 – 12:20PM LOW 216\n",
    "\n",
    "Midterm exam will include a similar section (so you will be less likely to be surprised by the final), but may also include a take-home computing section.\n",
    "\n",
    "Date will be finalized soon...\n",
    "\n",
    "# Now back to course content:\n",
    "\n",
    "So far we have been focusing on elimination methods for solving linear systems. <br>Now let's talk about other approaches and considerations:"
   ]
  },
  {
   "cell_type": "markdown",
   "metadata": {},
   "source": [
    "### Cramer's rule and Laplace expansion\n",
    "\n",
    "You can, in fact, immediately write down the solution for any variable in the linear system $A x = b$: $$ x_i = \\frac{Det(A_i)}{Det(A)}$$ where $A_i$ is $a$ with the $i^{th}$ column replaced by $b$; and you can evaluate the determinants recursively by Laplace expansion: \n",
    "$$Det(A) = \\sum_{i=0}^{n-1} (-1)^{i+j} Det(A_{i,j})$$ where $A_{i,j}$ is $A$ with row $i$ and column $j$ removed.\n",
    "\n",
    "Why not just compute the solution this way?\n",
    "\n",
    "Where is the big computing cost?\n",
    "\n",
    "Is there a better way to compute determinants?\n",
    "\n",
    "Why not use Cramer's rule with a better computation of determinants?\n",
    "\n",
    "Bottom line: Cramer's rule is handy for very small problems or deriving theoretical results, BUT...\n",
    "\n",
    "<br><br><br><br><br><br>\n",
    "\n",
    "__Using Cramer's rule to COMPUTE the solution of a linear system is perhaps the most efficient way to convince someone that you do not know much of anything about numerical methods.__"
   ]
  },
  {
   "cell_type": "markdown",
   "metadata": {},
   "source": [
    "## Section 2.2 - Iterative Solution Methods for $Ax=b$\n",
    "\n",
    "There is an entire class of iterative linear solvers. The basic idea is to implement a 3-step iterative scheme:\n",
    "\n",
    "1) Make an initial estimate of the solution $x^{(0)}$.\n",
    "\n",
    "2) Given a guess $x^{(k)}$, compute an improved estimate $x^{(k+1)}$.\n",
    "\n",
    "3) Repeat until a stopping criterion is reached (e.g. the change between successive estimates is sufficiently small, the residual error is sufficiently small, the number of iterations reaches a maximum limit.\n",
    "\n",
    "One of the earliest and simplest iterative solvers is __Jacobi iteration__ where the update step in step 2 is obtained by solving the $i^{th}$ equation for $x_i$. The previous estimate is plugged into the resulting expressions to produce the updated estimate.\n",
    "\n",
    "In matrix notation, the Jacobi iteration update is:\n",
    "\n",
    "$x^{(k+1)} = D^{-1} ((D-A)x^k + b)\\qquad$ or $\\qquad x^{(k+1)} = x^k + D^{-1} (b - A x^k)$\n",
    "\n",
    "Eq. (2.2.4) poses the following linear algebra problem:"
   ]
  },
  {
   "cell_type": "code",
   "execution_count": 259,
   "metadata": {},
   "outputs": [
    {
     "data": {
      "text/plain": [
       "(array([[ 4, -1,  1],\n",
       "        [ 4, -8,  1],\n",
       "        [-2,  1,  5]]), array([  7, -21,   5]))"
      ]
     },
     "execution_count": 259,
     "metadata": {},
     "output_type": "execute_result"
    }
   ],
   "source": [
    "A1 = np.array([[4,-1,1],[4,-8,1],[-2,1,5]])\n",
    "b1 = np.array([7,-21,5])\n",
    "A1,b1"
   ]
  },
  {
   "cell_type": "markdown",
   "metadata": {},
   "source": [
    "Consider solving this system by Jacobi iteration. Let's code up the recursion manually:"
   ]
  },
  {
   "cell_type": "code",
   "execution_count": 260,
   "metadata": {},
   "outputs": [],
   "source": [
    "#based on Eqs.(2.2.1)\n",
    "def update_1(x,y,z):\n",
    "    x_new = (7+y-z)/4.\n",
    "    y_new = (21+4*x+z)/8.\n",
    "    z_new = (15+2*x-y)/5.\n",
    "    return x_new,y_new,z_new"
   ]
  },
  {
   "cell_type": "code",
   "execution_count": 261,
   "metadata": {},
   "outputs": [
    {
     "data": {
      "text/plain": [
       "(1.75, 3.375, 3.0)"
      ]
     },
     "execution_count": 261,
     "metadata": {},
     "output_type": "execute_result"
    }
   ],
   "source": [
    "update_1(1.,2.,2.)"
   ]
  },
  {
   "cell_type": "code",
   "execution_count": 262,
   "metadata": {},
   "outputs": [
    {
     "name": "stdout",
     "output_type": "stream",
     "text": [
      "[[ 0.          1.          2.          2.        ]\n",
      " [ 1.          1.75        3.375       3.        ]\n",
      " [ 2.          1.84375     3.875       3.025     ]\n",
      " [ 3.          1.9625      3.925       2.9625    ]\n",
      " [ 4.          1.990625    3.9765625   3.        ]\n",
      " [ 5.          1.99414062  3.9953125   3.0009375 ]\n",
      " [ 6.          1.99859375  3.9971875   2.99859375]\n",
      " [ 7.          1.99964844  3.99912109  3.        ]\n",
      " [ 8.          1.99978027  3.99982422  3.00003516]\n",
      " [ 9.          1.99994727  3.99989453  2.99994727]\n",
      " [10.          1.99998682  3.99996704  3.        ]\n",
      " [11.          1.99999176  3.99999341  3.00000132]\n",
      " [12.          1.99999802  3.99999604  2.99999802]\n",
      " [13.          1.99999951  3.99999876  3.        ]\n",
      " [14.          1.99999969  3.99999975  3.00000005]\n",
      " [15.          1.99999993  3.99999985  2.99999993]\n",
      " [16.          1.99999998  3.99999995  3.        ]\n",
      " [17.          1.99999999  3.99999999  3.        ]\n",
      " [18.          2.          3.99999999  3.        ]\n",
      " [19.          2.          4.          3.        ]]\n"
     ]
    }
   ],
   "source": [
    "# Reproduce the results in Table 2.1\n",
    "iters = 20\n",
    "data = np.zeros([iters,4])\n",
    "x,y,z =  1., 2., 2.\n",
    "for k in range(iters):\n",
    "    data[k,0] = k\n",
    "    data[k,1] = x\n",
    "    data[k,2] = y\n",
    "    data[k,3] = z\n",
    "    x,y,z = update_1(x,y,z)\n",
    "print(data)"
   ]
  },
  {
   "cell_type": "markdown",
   "metadata": {},
   "source": [
    "Here, after 20 iterations, we have converged to the solution $[2,4,3]$ to within our numerical precision.\n",
    "\n",
    "It would be great if things always worked out so nicely, but compare with `update_2` which is the exact same problem with the first and last equation swapped. Note that this change involves performing an elementary row operation, so the exact answer is unchanged."
   ]
  },
  {
   "cell_type": "code",
   "execution_count": 263,
   "metadata": {},
   "outputs": [],
   "source": [
    "#based on Eqs.(2.2.4) with first and last equations swapped\n",
    "def update_2(x,y,z):\n",
    "    x_new = (y+5*z-15)/2.\n",
    "    y_new = (21+4*x+z)/8.\n",
    "    z_new = y-4*x+7\n",
    "    return x_new,y_new,z_new"
   ]
  },
  {
   "cell_type": "code",
   "execution_count": 264,
   "metadata": {},
   "outputs": [
    {
     "name": "stdout",
     "output_type": "stream",
     "text": [
      "[[ 0.00000000e+00  1.00000000e+00  2.00000000e+00  2.00000000e+00]\n",
      " [ 1.00000000e+00 -1.50000000e+00  3.37500000e+00  5.00000000e+00]\n",
      " [ 2.00000000e+00  6.68750000e+00  2.50000000e+00  1.63750000e+01]\n",
      " [ 3.00000000e+00  3.46875000e+01  8.01562500e+00 -1.72500000e+01]\n",
      " [ 4.00000000e+00 -4.66171875e+01  1.78125000e+01 -1.23734375e+02]\n",
      " [ 5.00000000e+00 -3.07929688e+02 -3.61503906e+01  2.11281250e+02]\n",
      " [ 6.00000000e+00  5.02627930e+02 -1.24929688e+02  1.20256836e+03]\n",
      " [ 7.00000000e+00  2.93645605e+03  4.04260010e+02 -2.12844141e+03]\n",
      " [ 8.00000000e+00 -5.12647351e+03  1.20479785e+03 -1.13345642e+04]\n",
      " [ 9.00000000e+00 -2.77415116e+04 -3.97743228e+03  2.17176919e+04]\n",
      " [ 1.00000000e+01  5.22980136e+04 -1.11534193e+04  1.06995614e+05]\n",
      " [ 1.10000000e+01  2.61904826e+05  3.95260836e+04 -2.20338474e+05]\n",
      " [ 1.20000000e+01 -5.31090642e+05  1.03412729e+05 -1.00808622e+06]\n",
      " [ 1.30000000e+01 -2.46851668e+06 -3.91553474e+05  2.22778230e+06]\n",
      " [ 1.40000000e+01  5.37367151e+06 -9.55782929e+05  9.48252026e+06]\n",
      " [ 1.50000000e+01  2.32284017e+07  3.87215341e+06 -2.24504620e+07]\n",
      " [ 1.60000000e+01 -5.41900857e+07  8.80789572e+06 -8.90414463e+07]\n",
      " [ 1.70000000e+01 -2.18199675e+08 -3.82252210e+07  2.25568246e+08]\n",
      " [ 1.80000000e+01  5.44807996e+08 -8.09038044e+07  8.34573488e+08]\n",
      " [ 1.90000000e+01  2.04598181e+09  3.76725687e+08 -2.26013578e+09]]\n"
     ]
    }
   ],
   "source": [
    "iters = 20\n",
    "data = np.zeros([iters,4])\n",
    "x,y,z =  1., 2., 2.\n",
    "for k in range(iters):\n",
    "    data[k,0] = k\n",
    "    data[k,1] = x\n",
    "    data[k,2] = y\n",
    "    data[k,3] = z\n",
    "    x,y,z = update_2(x,y,z)\n",
    "print(data)"
   ]
  },
  {
   "cell_type": "markdown",
   "metadata": {},
   "source": [
    "Note that the values now grow instead of approaching the desired solution. The distinguishing property is __diagonal dominance__. When the magnitude of each diagonal term is larger than the sum of the magnitudes of the other coefficients in the row (which was the case for `update_1`), then convergence is guaranteed.\n",
    "\n",
    "To deal with problems outside of this narrow category, a variety of embellished algorithms have been concocted. The next-simplest version is __Gauss-Seidel iteration__. The only change from Jacobi iteration is that once an updated value is computed, it gets used in the updates of the remaining variables. (See Eq. (2.2.9) for details.)\n"
   ]
  },
  {
   "cell_type": "code",
   "execution_count": 265,
   "metadata": {},
   "outputs": [],
   "source": [
    "#Gauss-Seidel version of update_1\n",
    "def update_1gs(x,y,z):\n",
    "    x_new = x + (1/4.)*(7-(4*x-y+z))\n",
    "    y_new = y + (-1/8.)*(-21-(4*x_new-8*y+z))\n",
    "    z_new = z + (1/5.)*(15-(-2*x_new+y_new+5*z))\n",
    "    return x_new,y_new,z_new"
   ]
  },
  {
   "cell_type": "code",
   "execution_count": 266,
   "metadata": {},
   "outputs": [
    {
     "name": "stdout",
     "output_type": "stream",
     "text": [
      "[[ 0.          1.          2.          2.        ]\n",
      " [ 1.          1.75        3.75        2.95      ]\n",
      " [ 2.          1.95        3.96875     2.98625   ]\n",
      " [ 3.          1.995625    3.99609375  2.99903125]\n",
      " [ 4.          1.99926563  3.99951172  2.99980391]\n",
      " [ 5.          1.99992695  3.99993896  2.99998299]\n",
      " [ 6.          1.99998899  3.99999237  2.99999712]\n",
      " [ 7.          1.99999881  3.99999905  2.99999972]\n",
      " [ 8.          1.99999983  3.99999988  2.99999996]\n",
      " [ 9.          1.99999998  3.99999999  3.        ]\n",
      " [10.          2.          4.          3.        ]\n",
      " [11.          2.          4.          3.        ]\n",
      " [12.          2.          4.          3.        ]\n",
      " [13.          2.          4.          3.        ]\n",
      " [14.          2.          4.          3.        ]\n",
      " [15.          2.          4.          3.        ]\n",
      " [16.          2.          4.          3.        ]\n",
      " [17.          2.          4.          3.        ]\n",
      " [18.          2.          4.          3.        ]\n",
      " [19.          2.          4.          3.        ]]\n"
     ]
    }
   ],
   "source": [
    "iters = 20\n",
    "data = np.zeros([iters,4])\n",
    "x,y,z =  1., 2., 2.\n",
    "for k in range(iters):\n",
    "    data[k,0] = k\n",
    "    data[k,1] = x\n",
    "    data[k,2] = y\n",
    "    data[k,3] = z\n",
    "    x,y,z = update_1gs(x,y,z)\n",
    "print(data)"
   ]
  },
  {
   "cell_type": "markdown",
   "metadata": {},
   "source": [
    "Note that the convergence is improved compared to the original Jacobi iteration for a diagonally dominant system.\n",
    "\n",
    "Can Gauss-Seidel prevent divergence of the non-diagonally dominant case?"
   ]
  },
  {
   "cell_type": "code",
   "execution_count": 267,
   "metadata": {},
   "outputs": [],
   "source": [
    "#based on Eqs.(2.2.4) with first and last equations swapped\n",
    "def update_2gs(x,y,z):\n",
    "    x_new = x + (1/5.)*(15-(-2*x+y+5*z))\n",
    "    y_new = y + (-1/8.)*(-21-(4*x_new-8*y+z))\n",
    "    z_new = z + (1/4.)*(7-(4*x_new-y_new+z))\n",
    "    return x_new,y_new,z_new"
   ]
  },
  {
   "cell_type": "code",
   "execution_count": 268,
   "metadata": {},
   "outputs": [
    {
     "name": "stdout",
     "output_type": "stream",
     "text": [
      "[[ 0.00000000e+00  1.00000000e+00  2.00000000e+00  2.00000000e+00]\n",
      " [ 1.00000000e+00  2.00000000e+00  3.87500000e+00  2.21875000e+00]\n",
      " [ 2.00000000e+00  2.80625000e+00  4.30546875e+00  1.68417969e+00]\n",
      " [ 3.00000000e+00  4.38347656e+00  5.02726074e+00 -1.13526611e-01]\n",
      " [ 4.00000000e+00  8.24494165e+00  6.73328000e+00 -4.89676661e+00]\n",
      " [ 5.00000000e+00  1.80930289e+01  1.10594186e+01 -1.72507492e+01]\n",
      " [ 6.00000000e+00  4.33691060e+01  2.21532093e+01 -4.90188656e+01]\n",
      " [ 7.00000000e+00  1.08304972e+02  5.06501278e+01 -1.30656589e+02]\n",
      " [ 8.00000000e+00  2.75153525e+02  1.23869689e+02 -3.40428544e+02]\n",
      " [ 9.00000000e+00  7.03869541e+02  3.12006202e+02 -8.79439399e+02]\n",
      " [ 1.00000000e+01  1.80545552e+03  7.95422833e+02 -2.26442936e+03]\n",
      " [ 1.10000000e+01  4.63598251e+03  2.03756259e+03 -5.82316388e+03]\n",
      " [ 1.20000000e+01  1.19090269e+04  5.22924296e+03 -1.49673391e+04]\n",
      " [ 1.30000000e+01  3.05971281e+04  1.34302717e+04 -3.84633145e+04]\n",
      " [ 1.40000000e+01  7.86162395e+04  3.45028304e+04 -9.88362677e+04]\n",
      " [ 1.50000000e+01  2.02001437e+05  8.86488100e+04 -2.53964685e+05]\n",
      " [ 1.60000000e+01  5.19039935e+05  2.27777007e+05 -6.52567447e+05]\n",
      " [ 1.70000000e+01  1.33367095e+06  5.85267171e+05 -1.67677800e+06]\n",
      " [ 1.80000000e+01  3.42686690e+06  1.50383883e+06 -4.30848894e+06]\n",
      " [ 1.90000000e+01  8.80533783e+06  3.86411042e+06 -1.10706752e+07]]\n"
     ]
    }
   ],
   "source": [
    "# Compare with the results from update_2 where the first and last equations are swapped.\n",
    "iters = 20\n",
    "data = np.zeros([iters,4])\n",
    "x,y,z =  1., 2., 2.\n",
    "for k in range(iters):\n",
    "    data[k,0] = k\n",
    "    data[k,1] = x\n",
    "    data[k,2] = y\n",
    "    data[k,3] = z\n",
    "    x,y,z = update_2gs(x,y,z)\n",
    "print(data)"
   ]
  },
  {
   "cell_type": "markdown",
   "metadata": {},
   "source": [
    "Apparently not (at least in this case)... so check for diagonal dominance and permute rows if it can be obtained."
   ]
  },
  {
   "cell_type": "markdown",
   "metadata": {},
   "source": [
    "## Section 2.3 - Gradient (Steepest) Descent for $Ax=b$\n",
    "\n",
    "Another approcah to solving linear systems (that actually underlies some of the more sophisticated solvers) involves constructing an associated scalar function that has a critical point associated with the solution of the linear system.\n",
    "\n",
    "The criterion for the critical point is that the gradient of the function vanishes (equals zero). If the vanishing of the gradient corresponds to a linear system, then the desired function will be quadratic (degree 2). The quadratic form is typically written as follows:\n",
    "\n",
    "$f(x) = \\frac{1}{2} x^T A x - b^T x + c$\n",
    "\n",
    "and the gradient takes the form:\n",
    "\n",
    "$\\nabla f(x) = \\frac{1}{2} A^T x + \\frac{1}{2} A x - b$\n",
    "\n",
    "If the matrix $A$ is symmetric, then $A^T = A$ and the condition at the critical point is:\n",
    "\n",
    "$\\nabla f(x) = A x - b = 0$ \n",
    "\n",
    "so the critical point of the quadratic coincides with the solution of the linear algebra problem we have been studying. If $A$ is also ___positive definite___, i.e $x^T A x > 0 \\; \\forall x \\in ℝ^n ∖0$, then the critical point is a minimum, and the solution can be sought by systematically moving \"downhill\" toward the minimum point. This concept is called __gradient (or steepest) descent__.\n",
    "\n",
    "(If $A$ is not symmetric, then gradient descent seeks the solution of $\\frac{1}{2} (A^T + A) x = b$. For problems where $A$ is non-square, it can be helpful to multiply by $A^T$ and consider the __normal equations__ $A^T A x = A^T b$. The matrix $A^T A$ is symmetric and positive definite, so descent methods can be applied and the __least squares solution__ (that minimixes the least squared error $|| A x - b ||^2$) can be obtained.\n",
    "\n",
    "Example: Compute the best-fit line to the following data set:\n",
    "`t = [2,3,5,7,9], y=[4,5,7,10,15]`\n",
    "\n",
    "The line is defined by an equation of the form <br>`y = slope*t+intercept`<br>so we have equations of the form <br>`t[i]*slope + intercept*1 = y[i]`<br> in the 2 unknowns `[slope, intercept]`.\n",
    "\n",
    "We can write this as a linear system $ A x = b$ where:\n",
    "\n",
    "1) the first column of $A$ is $t$\n",
    "\n",
    "2) the second column of $A$ is all 1s\n",
    "\n",
    "3) the unknown vector to solve for is:  `x = [slope, intercept]`\n",
    "\n",
    "4) the right-hand side is $y$"
   ]
  },
  {
   "cell_type": "code",
   "execution_count": 269,
   "metadata": {},
   "outputs": [
    {
     "data": {
      "text/plain": [
       "(array([[2., 1.],\n",
       "        [3., 1.],\n",
       "        [5., 1.],\n",
       "        [7., 1.],\n",
       "        [9., 1.]]), array([ 4,  5,  7, 10, 15]))"
      ]
     },
     "execution_count": 269,
     "metadata": {},
     "output_type": "execute_result"
    }
   ],
   "source": [
    "t = np.array([2,3,5,7,9])\n",
    "y = np.array([4,5,7,10,15])\n",
    "A = np.column_stack([t,np.ones([5])])\n",
    "A,y"
   ]
  },
  {
   "cell_type": "markdown",
   "metadata": {},
   "source": [
    "Instead of this overconstrained non-square system, multiply by $A^T$ to get square __normal__ system:"
   ]
  },
  {
   "cell_type": "code",
   "execution_count": 270,
   "metadata": {},
   "outputs": [
    {
     "data": {
      "text/plain": [
       "(array([[168.,  26.],\n",
       "        [ 26.,   5.]]), array([263.,  41.]))"
      ]
     },
     "execution_count": 270,
     "metadata": {},
     "output_type": "execute_result"
    }
   ],
   "source": [
    "A_t = np.transpose(A)\n",
    "normal_A = np.dot(A_t,A)\n",
    "b = np.dot(A_t,y)\n",
    "normal_A, b"
   ]
  },
  {
   "cell_type": "code",
   "execution_count": 271,
   "metadata": {},
   "outputs": [
    {
     "name": "stdout",
     "output_type": "stream",
     "text": [
      "Best fit line: y =   1.52 * t +   0.30\n"
     ]
    }
   ],
   "source": [
    "soln = np.linalg.solve(normal_A, b)\n",
    "slope, intercept = soln[0], soln[1]\n",
    "print(\"Best fit line: y = %6.2f * t + %6.2f\" % (slope, intercept))"
   ]
  },
  {
   "cell_type": "markdown",
   "metadata": {},
   "source": [
    "So we obtained the best fit line using a python library function as a solver (using elimination), but let's consider alternatives.\n",
    "\n",
    "This construction occurs frequently and ensures that the normal matrix is symmetric. Thus we should also be able to find the solution by minimizing the corresponding quadratic form. To get to notation in the book, let's rename things as follows: $A^T A \\rightarrow A$ and `[slope, intercept]` $\\rightarrow x$. (Sorry about that...)\n",
    "\n",
    "The quadratic of interest is $ f(x) = \\frac{1}{2} x^T A x - b^T x$\n",
    "\n",
    "Below is sample python code for functions to compute the quadratic function and its gradient. (The \"manual\" function definition of the function, 'fxy', is a convenience to support plotting below.)"
   ]
  },
  {
   "cell_type": "code",
   "execution_count": 272,
   "metadata": {},
   "outputs": [],
   "source": [
    "def f(x,A,b):\n",
    "    y = np.dot(A,x)\n",
    "    return 0.5*np.dot(x,y) - np.dot(b,x)\n",
    "\n",
    "def fxy(x,y):\n",
    "    return 0.5*(168*x**2+52*x*y+5*y**2)-(263*x+41*y)\n",
    "\n",
    "def grad_f(x):\n",
    "    g0 = 168*x[0] + 26 * x[1] - 263\n",
    "    g1 = 26*x[0] + 5*x[1] - 41\n",
    "    return np.array([g0,g1])"
   ]
  },
  {
   "cell_type": "code",
   "execution_count": 247,
   "metadata": {},
   "outputs": [
    {
     "data": {
      "image/png": "[encoded data removed]",
      "text/plain": [
       "<Figure size 432x288 with 1 Axes>"
      ]
     },
     "metadata": {},
     "output_type": "display_data"
    }
   ],
   "source": [
    "%matplotlib inline\n",
    "x = np.linspace(0, 3, 10)\n",
    "y = np.linspace(0., 0.5, 10)\n",
    "\n",
    "X, Y = np.meshgrid(x, y)\n",
    "Z = fxy(X, Y)\n",
    "\n",
    "fig = plt.figure()\n",
    "ax = plt.axes(projection='3d')\n",
    "ax.plot_wireframe(X, Y, Z, color='black')\n",
    "ax.set_title('wireframe');"
   ]
  },
  {
   "cell_type": "markdown",
   "metadata": {},
   "source": [
    "Since the quadratic function is constructed to that it's gradient is $Ax-b$, the quadratic function has a stationary point corresponding to the solution of the linear system.\n",
    "\n",
    "For a matrix that is positive definite matrix (which is true for $A^T A$), the stationary point is a minimum.\n",
    "\n",
    "__Gradient (Steepest) Descent Method__\n",
    "\n",
    "1) Make an initial guess at the solution, `x[0]`\n",
    "\n",
    "2) For a given estimate `x[i]`\n",
    "\n",
    "3) Compute the gradient `grad_f(x[i])` (to determine steepest direction)\n",
    "\n",
    "4) Move downhill (toward the minimum) top obtain improved solution, <br>\n",
    "e.g. `x[i+1] = x[i] - c *grad_f(x[i])` note that there are other (and better) ways to update the estimate to move efficiently toward the desired minimum.\n",
    "\n",
    "5) If `np.norm(x[i+1]-x[i]) > tol` repeat from step 2; else `return x[i+1]`"
   ]
  },
  {
   "cell_type": "code",
   "execution_count": 273,
   "metadata": {},
   "outputs": [
    {
     "data": {
      "text/plain": [
       "(array([[168.,  26.],\n",
       "        [ 26.,   5.]]), array([263.,  41.]), 0.0, array([-263,  -41]))"
      ]
     },
     "execution_count": 273,
     "metadata": {},
     "output_type": "execute_result"
    }
   ],
   "source": [
    "x0 = np.array([0,0])\n",
    "A = normal_A\n",
    "A, b, f(x0,A,b), grad_f(x0)"
   ]
  },
  {
   "cell_type": "code",
   "execution_count": 274,
   "metadata": {},
   "outputs": [],
   "source": [
    "def descent_update_const(x, c):\n",
    "    return x - c*grad_f(x)"
   ]
  },
  {
   "cell_type": "code",
   "execution_count": 275,
   "metadata": {},
   "outputs": [
    {
     "name": "stdout",
     "output_type": "stream",
     "text": [
      "[2.63 0.41]\n",
      "[0.735  0.1157]\n",
      "[2.100118 0.328815]\n",
      "[1.11642786 0.17634357]\n",
      "[1.82497973 0.28725515]\n",
      "[1.31432745 0.20839766]\n",
      "[1.68207394 0.26625264]\n",
      "[1.41696403 0.22560078]\n",
      "[1.60780825 0.2559101 ]\n",
      "[1.47015376 0.23508445]\n",
      "[1.56917349 0.25109025]\n",
      "[1.49767857 0.24055063]\n",
      "[1.54903541 0.24912667]\n",
      "[1.51188299 0.24392113]\n",
      "[1.53850008 0.2486355 ]\n"
     ]
    }
   ],
   "source": [
    "c = 0.01\n",
    "n = 15\n",
    "x = x0\n",
    "for i in range(n):\n",
    "    x = descent_update_const(x, c)\n",
    "    print(x)"
   ]
  },
  {
   "cell_type": "markdown",
   "metadata": {},
   "source": [
    "Describe performance (or lack thereof)\n",
    "\n",
    "See Section 2.3 in Kutz for cleaner example\n",
    "\n",
    "Implement better approach with line search:\n",
    "\n",
    "How far should we really move along the descent direction?<br>__Line search__ along `x[i]-c*grad_f(x[i])` to find `c` that minimizes `f(x[i+1])`.\n",
    "\n",
    "Choose more efficient search directions:<br>Once the quadratic function has been minimized along a direction, future searches should go in orthogonal (conjugate) directions $\\rightarrow$ __conjugate gradient method__"
   ]
  },
  {
   "cell_type": "markdown",
   "metadata": {},
   "source": [
    "If you are interested in learning more deatils about this topic please see __\"An Introduction to the Conjugate Gradient Method Without the Agonizing Pain\n",
    "Edition $1 \\frac{1}{4}$\"__ by Jonathan Richard Shewchuk."
   ]
  },
  {
   "cell_type": "markdown",
   "metadata": {},
   "source": [
    "## Section 2.4 - Eigenvalues, Eigenvectors, and Stability\n",
    "\n",
    "We have also not spent time discussing when a linear system is actually solvable.<br>How do we determine solvability?\n",
    "\n",
    "For square systems, a unique solution exists if the matrix is non-singular, i.e. $Det(A) \\neq 0$.\n",
    "\n",
    "So we cannot compute solutions if $A$ is singular.\n",
    "\n",
    "Mention fredholm alternative theorem:\n",
    "<br>For solveable $Ax=b$, $b$ must be orthogonal to the null space of tha adjoint $A^{*T}$.\n",
    "\n",
    "<br>Can we effectively compute solutions when $A$ is non-singular?\n",
    "<br>Sometimes...\n",
    "\n",
    "Introduce __Condition number__ as a measure of the ratio of relative residual $$\\frac{||Ax-b||}{||b||}$$ to relative error $$\\frac{||x-x_{exact}||}{||x_{exact}||}$$\n",
    "\n",
    "All of these things relate to eigenvalues and eigenvectors: How?\n",
    "\n",
    "Consider iterative computation of eigenvalues and eigenvectors.\n",
    "\n",
    "Ratio of eigenvalues provides bounds for condition number..."
   ]
  }
 ],
 "metadata": {
  "kernelspec": {
   "display_name": "Python 3",
   "language": "python",
   "name": "python3"
  },
  "language_info": {
   "codemirror_mode": {
    "name": "ipython",
    "version": 3
   },
   "file_extension": ".py",
   "mimetype": "text/x-python",
   "name": "python",
   "nbconvert_exporter": "python",
   "pygments_lexer": "ipython3",
   "version": "3.6.5"
  }
 },
 "nbformat": 4,
 "nbformat_minor": 2
}
