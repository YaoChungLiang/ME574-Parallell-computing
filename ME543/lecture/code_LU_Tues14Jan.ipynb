{
 "cells": [
  {
   "cell_type": "markdown",
   "metadata": {},
   "source": [
    "## Spend some time developing python code\n",
    "Use Gauss elimination as a relevant example.\n",
    "\n",
    "### But first, any questions on HW1?<br>\n",
    "\n",
    "Implement basic elimination via LU factorization.\n",
    "\n",
    "$$A x = L U x = L y = b$$ \n",
    "\n",
    "1) Factor $A \\implies L, U$\n",
    "\n",
    "2) Solve lower triangular system: $L y = b$\n",
    "\n",
    "3) Solve upper triangular system: $U x = y$\n",
    "\n",
    "Let's take some time to think about implementation:"
   ]
  },
  {
   "cell_type": "code",
   "execution_count": null,
   "metadata": {},
   "outputs": [],
   "source": [
    "#import numpy for matrix/vector functionality\n",
    "import numpy as np "
   ]
  },
  {
   "cell_type": "code",
   "execution_count": null,
   "metadata": {},
   "outputs": [],
   "source": [
    "def LU_solve(L,U,b):\n",
    "    \"\"\"\n",
    "    solve the linear LU x = b\n",
    "    \n",
    "    Args:\n",
    "        L: 2D numpy array corr. to lower triangular matrix\n",
    "        U: 2D numpy array corr. to upper triangular matrix\n",
    "        b: 1D numpy array corr. to vector on RHS\n",
    "        \n",
    "    returns:\n",
    "        x: 1D numpy array that solves LUx=b\n",
    "    \"\"\"\n",
    "    #insert code here\n",
    "    \n",
    "    return x"
   ]
  },
  {
   "cell_type": "markdown",
   "metadata": {},
   "source": [
    "What functions do we need to define to have a functional LU solver?\n",
    "\n",
    "1) LU_factor\n",
    "\n",
    "2) lower_tri_solve\n",
    "\n",
    "3) upper_tri_solve\n",
    "\n",
    "Let's set up the \"skeleton code\" with docstrings, then fill in the code."
   ]
  },
  {
   "cell_type": "code",
   "execution_count": null,
   "metadata": {},
   "outputs": [],
   "source": [
    "def LU_factor(A):\n",
    "    \"\"\"\n",
    "    factor square matrix A in lower tri. and upper tri. components\n",
    "    \n",
    "    Args:\n",
    "        A: 2D numpy array corr. to square matrix\n",
    "        \n",
    "    Returns:\n",
    "        L: 2D numpy array corr. to lower triangular matrix\n",
    "        U: 2D numpy array corr. to upper triangular matrix \n",
    "    \"\"\"\n",
    "    m,n = A.shape # number of rows and columns\n",
    "    #should check for squareness\n",
    "    \n",
    "    #insert pseudo-code and then code here\n",
    "    # create numpy arrays to store L and U\n",
    "    L = np.eye(m)\n",
    "    U = np.copy(A)\n",
    "    #iterate along main diagonal\n",
    "    for p in range(m):\n",
    "        #iterate along rows beyond main diagonal\n",
    "            for q in range(p+1,m):\n",
    "                #determine multiplier for cancellation\n",
    "                mult = U[q,p]/U[p,p]\n",
    "                #store mult in corr. entry in L\n",
    "                L[q,p] = mult\n",
    "                #use the mult to perform row operation with current row and diag.\n",
    "                for col in range(p,m):\n",
    "                    U[q,col] = U[q,col] - mult * U[p,col]\n",
    "                    #alternative: U[q,col] -= mult * U[p,col]\n",
    "    return L, U"
   ]
  },
  {
   "cell_type": "code",
   "execution_count": null,
   "metadata": {},
   "outputs": [],
   "source": [
    "a = np.array([[1,1,1],[1,2,4],[1,3,9]])\n",
    "L,U = LU_factor(a)\n",
    "print(\"L=\\n\",L)\n",
    "print(\"U=\\n\",U)"
   ]
  },
  {
   "cell_type": "code",
   "execution_count": null,
   "metadata": {},
   "outputs": [],
   "source": [
    "np.max(np.abs(np.dot(L,U)-a))"
   ]
  },
  {
   "cell_type": "code",
   "execution_count": null,
   "metadata": {},
   "outputs": [],
   "source": [
    "np.allclose(np.dot(L,U),a, rtol=1e-4)"
   ]
  },
  {
   "cell_type": "code",
   "execution_count": null,
   "metadata": {},
   "outputs": [],
   "source": [
    "def lower_tri_solve(L,b):\n",
    "    \"\"\"\n",
    "    solve lower triangular linear system Ly = b\n",
    "    \n",
    "    Args:\n",
    "        L: 2D numpy array corr. to lower triangular matrix\n",
    "        b: 1D numpy array corr. to RHS vector\n",
    "    Returns:\n",
    "        y: 1D numpy array that solves Ly = b\n",
    "    \"\"\"\n",
    "    m,n = np.shape(L)\n",
    "    #should check for squareness and compatibility\n",
    "    #create an array to store the solution (init to zeros)\n",
    "    y=np.zeros(m) \n",
    "    #insert code here to overwrite y with solution of Ly=b\n",
    "    #iterate over diagonal of L\n",
    "    for t in range(m):\n",
    "        #set accumulator to zero\n",
    "        accum = 0\n",
    "        #iterate over earlier columns\n",
    "        for u in range(t):\n",
    "            #multiply coeff in L by corr. known entry in y\n",
    "            #add that to an accumulator\n",
    "            accum += L[t,u]*y[u]\n",
    "        #set current entry in solution to (rhs -accumulator)/(diagonal entry)\n",
    "        y[t] = (b[t]-accum)/L[t,t]\n",
    "    \n",
    "    return y"
   ]
  },
  {
   "cell_type": "code",
   "execution_count": null,
   "metadata": {},
   "outputs": [],
   "source": [
    "b = np.array([1,-1,1])\n",
    "y= lower_tri_solve(L,b)\n",
    "np.dot(L,y)-b"
   ]
  },
  {
   "cell_type": "code",
   "execution_count": null,
   "metadata": {},
   "outputs": [],
   "source": [
    "def upper_tri_solve(U,y):\n",
    "    \"\"\"\n",
    "    insert docstring here\n",
    "    \"\"\"\n",
    "    #should check for squareness and compatibility\n",
    "    #create an array to store the solution (init to zeros)\n",
    "    x=np.zeros(m) \n",
    "    #insert code here to overwrite x with solution of Ux=y\n",
    "    \n",
    "    return x"
   ]
  },
  {
   "cell_type": "markdown",
   "metadata": {},
   "source": [
    "Can we now fill in the code for LU_solve and how to use it?"
   ]
  },
  {
   "cell_type": "code",
   "execution_count": null,
   "metadata": {},
   "outputs": [],
   "source": [
    "def LU_solve(L,U,b):\n",
    "    \"\"\"\n",
    "    insert docstring here\n",
    "    \"\"\"\n",
    "    #insert code\n",
    "    y = lower_tri_solve(L,b)\n",
    "    x = upper_tri_solve(U,y)\n",
    "    return x\n",
    "\n",
    "#This is how you would use LU_solve\n",
    "#but need to implement upper_tri_solve...\n",
    "L,U = LU_factor(a)\n",
    "x = LU_solve(L,U,b)\n",
    "x"
   ]
  },
  {
   "cell_type": "markdown",
   "metadata": {},
   "source": [
    "Now let's write pseudo-code comments and then code for the functions:"
   ]
  },
  {
   "cell_type": "code",
   "execution_count": null,
   "metadata": {},
   "outputs": [],
   "source": [
    "def LU_factor(A):\n",
    "    \"\"\"\n",
    "    insert docstring here\n",
    "    \"\"\"\n",
    "    m,n = A.shape #get matrix shape\n",
    "    if m != n:\n",
    "        print(\"WARNING: Non-square input matrix\")\n",
    "        return\n",
    "    #make a copy of A to eliminate to form U\n",
    "    #Note that U=A just makes another name for A, not a new copy of the array\n",
    "    U = np.copy(A) #make a copy of the array\n",
    "    #initialize L as identity matrix, and fill in entries below\n",
    "    #with multiplier values that would \"undo\" the elimination steps\n",
    "    L = np.eye(n) #numpy's name for the identity matrix is \"eye\"\n",
    "    #iterate down the diagonal\n",
    "    for p in range(m):\n",
    "        #iterate over indices beyond current index\n",
    "        for q in range(p+1,m):         \n",
    "            #determine multiplier value needed to zero out \n",
    "            #the entry in a below A[p,p]\n",
    "            mult = U[q,p]/U[p,p]\n",
    "            #print(q,p,U[q,p],U[p,p],mult)\n",
    "            #store the multiplier as the corresponding entry in L\n",
    "            L[q,p] = mult\n",
    "            #in remainder of the row of U, store result of row operation\n",
    "            for col in range(p,n): # for each entry in p^th column and beyond\n",
    "                U[q,col] = U[q,col] - mult*U[p,col] #for entries to the right, subtract multiple of term in row i         \n",
    "            #print(L,U)\n",
    "    return L,U"
   ]
  },
  {
   "cell_type": "code",
   "execution_count": null,
   "metadata": {},
   "outputs": [],
   "source": [
    "def lower_tri_solve(L,b):\n",
    "    \"\"\"\n",
    "    insert docstring here\n",
    "    \"\"\"\n",
    "    m = U.shape[0] # number of rows\n",
    "    #should check for squareness and compatibility\n",
    "    y=np.zeros(m) #create an array to store the solution (init to zeros)\n",
    "    #iterate over row indices\n",
    "    for row in range(m):\n",
    "        accum =  0 #variable to store contributions from known elements in solution\n",
    "        #iterate over columns before the current row index\n",
    "        for col in range(row):\n",
    "            accum += L[row,col]*y[col]\n",
    "        y[row]=(b[row]-accum)/L[row,row] #solve for i^th entry in solution\n",
    "    return y"
   ]
  },
  {
   "cell_type": "markdown",
   "metadata": {},
   "source": [
    "This is where we got to in class. \n",
    "\n",
    "Follow the process for coding `lower_tri_solve` to implement `upper_tri_solve` and you should have a basic (but not terribly robust) LU factorization implementation of a linear solver."
   ]
  },
  {
   "cell_type": "code",
   "execution_count": null,
   "metadata": {},
   "outputs": [],
   "source": [
    "#implement upper_tri_solve\n",
    "def upper_tri_solve(U,y):\n",
    "    \"\"\"\n",
    "    insert docstring here\n",
    "    \"\"\"\n",
    "    #should check for squareness and compatibility\n",
    "    #create an array to store the solution (init to zeros)\n",
    "    x=np.zeros(m) \n",
    "    #insert code here to overwrite x with solution of Ux=y\n",
    "    \n",
    "    return x"
   ]
  },
  {
   "cell_type": "markdown",
   "metadata": {},
   "source": [
    "If you run into trouble, there is working version below:\n",
    "<br><br><br><br><br><br><br><br><br><br><br><br><br>"
   ]
  },
  {
   "cell_type": "code",
   "execution_count": null,
   "metadata": {},
   "outputs": [],
   "source": [
    "def upper_tri_solve(U,y):\n",
    "    \"\"\"\n",
    "    insert docstring here\n",
    "    \"\"\"\n",
    "    m = U.shape[0] # number of rows\n",
    "    #should check for squareness and compatibility\n",
    "    x=np.zeros(m) #create an array to store the solution (init to zeros)\n",
    "    #iterate over row indices in reverse order using index i\n",
    "    for i in range(m):\n",
    "        row = m-i-1 #i=0,m-1 correspond to last,first row index\n",
    "        accum =  0 #variable to store contributions from known elements in solution\n",
    "        #iterate over columns after the current row index\n",
    "        for col in range(row+1,m):\n",
    "            accum += U[row,col]*x[col]\n",
    "        x[row]=(y[row]-accum)/U[row,row] #solve for i^th entry in solution\n",
    "    return x"
   ]
  },
  {
   "cell_type": "code",
   "execution_count": null,
   "metadata": {},
   "outputs": [],
   "source": [
    "def LU_solve(L,U,b):\n",
    "    y = lower_tri_solve(L,b)\n",
    "    x = upper_tri_solve(U,y)\n",
    "    return x"
   ]
  },
  {
   "cell_type": "raw",
   "metadata": {},
   "source": [
    "Create some test data and test the factorization and solvers:"
   ]
  },
  {
   "cell_type": "code",
   "execution_count": null,
   "metadata": {},
   "outputs": [],
   "source": [
    "a = np.array([[1,1,1],[1,2,4],[1,3,9]])\n",
    "b = np.array([1,-1,1])"
   ]
  },
  {
   "cell_type": "code",
   "execution_count": null,
   "metadata": {},
   "outputs": [],
   "source": [
    "#test factorization\n",
    "L,U=LU_factor(a)\n",
    "print(\"L = \\n\",L)\n",
    "print(\"U = \\n\",U)\n",
    "print(\"LU = \\n\", np.dot(L,U))"
   ]
  },
  {
   "cell_type": "code",
   "execution_count": null,
   "metadata": {},
   "outputs": [],
   "source": [
    "#test lower triangular solver\n",
    "y = lower_tri_solve(L,b)\n",
    "y"
   ]
  },
  {
   "cell_type": "code",
   "execution_count": null,
   "metadata": {},
   "outputs": [],
   "source": [
    "#test upper triangular solver\n",
    "x = upper_tri_solve(U,y)\n",
    "x"
   ]
  },
  {
   "cell_type": "code",
   "execution_count": null,
   "metadata": {},
   "outputs": [],
   "source": [
    "print(\"residual = \", a.dot(x)-b)\n",
    "print(\"Solution checks? :\", np.allclose(a.dot(x),b))"
   ]
  },
  {
   "cell_type": "code",
   "execution_count": null,
   "metadata": {},
   "outputs": [],
   "source": [
    "#test LU_solve\n",
    "LU_solve(L,U,b)"
   ]
  },
  {
   "cell_type": "code",
   "execution_count": null,
   "metadata": {},
   "outputs": [],
   "source": []
  }
 ],
 "metadata": {
  "kernelspec": {
   "display_name": "Python 3",
   "language": "python",
   "name": "python3"
  },
  "language_info": {
   "codemirror_mode": {
    "name": "ipython",
    "version": 3
   },
   "file_extension": ".py",
   "mimetype": "text/x-python",
   "name": "python",
   "nbconvert_exporter": "python",
   "pygments_lexer": "ipython3",
   "version": "3.6.5"
  }
 },
 "nbformat": 4,
 "nbformat_minor": 2
}
