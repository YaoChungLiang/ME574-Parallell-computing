{
 "cells": [
  {
   "cell_type": "markdown",
   "metadata": {},
   "source": [
    "# ME 574 Spring 2020  Homework #4 - Due Thursday May 21\n",
    "\n",
    "\n",
    "\n"
   ]
  },
  {
   "cell_type": "markdown",
   "metadata": {},
   "source": [
    "__1)__ This problem investigates unsteady heat conduction in a square plate. The initial temperature distribution in the plate is given; the faces of the plate are insulated; and the edges of the plate are kept in contact with an ice bath. The mathematical model is as follows:\n",
    "\n",
    "$$\\frac{\\partial u}{\\partial t} = \\frac{\\partial^2u}{\\partial x^2}+\\frac{\\partial^2u}{\\partial y^2} \\qquad \\text{ on } x,y \\in [0,1], t \\geq 0$$\n",
    "\n",
    "Initial conditions: $u(x,y,0) =  sin(2 \\pi x) sin(\\pi y)$\n",
    "\n",
    "Boundary conditions: $u(0,y,t) = u(1,y,t) = u(x,0,t) = u(x,1,t) = 0 \\; \\forall \\; t \\geq 0$\n",
    "\n",
    "Your mission is to write numba code to implement a parallelized finite-difference time-stepping scheme to simulate unsteady heat conduction in the plate. Use a central difference stencil of radius 1 for the spatial derivatives and a simple forward difference scheme for the time derivative.\n",
    "\n",
    "A suitable update formula can be obtained from:\n",
    "```\n",
    "(u[i,j,k+1] - u[i,j,k])/dt = (1/4*h^2)*(-4*u[i,j,k] + u[i-1,j,k] \n",
    "                            + u[i+1,j,k] + u[i,j-1,k] + u[i,j+1,k])\n",
    "```\n",
    "\n",
    "where `i` and `j` index the Cartesian grid of points with uniform spacing `h` and `k` indexes the discrete times with spacing `dt`.\n",
    "\n",
    "You should write a kernel function that takes the current array of temperatures as input and computes (and saves to an output array) the temperatures 1 time step later. The kernel should be launched on a 2D computational grid so that each thread computes the temperature at the next time for the corresponding node on the spatial grid. You should have a `for()` statement that loops over the time index and calls the kernel function to compute the updated temperature distribution.\n",
    "\n",
    "Particular tasks:\n",
    "\n",
    "a) Determine the time, $t_{2}$, at which the maximum temperature has decreased by a factor of $e^{-2}$ from the original maximum value.\n",
    "\n",
    "b) Plot the temperature distribution $u(x,y,t_{2})$.\n",
    "\n",
    "c) Determine the largest time step, $\\Delta t_{max}$, you can use to compute a reasonable approximation of $u(x,y,t_{2})$ for a $150 \\times 150$ spatial grid; and provide a plot of the result when $\\Delta t > \\Delta t_{max}$.\n"
   ]
  },
  {
   "cell_type": "markdown",
   "metadata": {},
   "source": [
    "__2)__\n",
    "Using numba, implement a parallel code for evaluating a definite integral on a finite 1D domain using composite Simpson's rule and Richardson extrapolation. Your code should do the following:\n",
    "\n",
    "- Evaluate the integrand at a uniform grid of points across the integration domain, and store the results in a numpy array.\n",
    "- Perform the stencil computation corresponding to composite Simpson's rule.\n",
    "- Perform a reduction on the panel contributions to provide an initial estimate of the integral value.\n",
    "- Perform the Simpson's rule stencil computation (ignoring every other point), and a compute a reduction of the values.\n",
    "- Compute the improved integral value provided by Richardson extrapolation.\n",
    "\n",
    "The Sine-Integral function $Si(x)$, which you may have encountered in your study of Fourier series of discontinuous functions, is defined by:\n",
    "\n",
    "$$Si(x) = \\int_0^x{\\frac{sin(t)}{t}dt}$$\n",
    "\n",
    "Use your code to evaluate $Si(50)$ based on evaluation of the integrand $\\frac{sin(t)}{t}$ at $6000$ points, and estimate the accuracy of your result."
   ]
  },
  {
   "cell_type": "markdown",
   "metadata": {},
   "source": [
    "__3)__ This problem involves using the Monte Carlo method presented in class to compute integrals over multi-dimensional domains.\n",
    "\n",
    "Let's start by defining terminology for some generalizations of the sphere/ball using the $p$-norm:\n",
    "\n",
    "$$ \\|x\\|_p = \\big(x_1^p + x_2^p + \\ldots +x_n^p\\big)^{1/p} = \\big( \\sum_{i=1}^n x_i^p \\big)^{1/p}$$\n",
    "\n",
    "We will be interested in cases where the the norm has value $1$, so you should not need to actually compute the $p^{th}$ roots.\n",
    "\n",
    "The ball in $n$-dimensions:\n",
    "$$B_p(n) = \\{ x \\in \\mathbb{R}^{n} : \\|x\\|_p<1 \\}$$\n",
    "\n",
    "The sphere (spherical shell) in $n$-dimensions:\n",
    "$$S_p(n) = \\{ x \\in \\mathbb{R}^{n+1} : \\|x\\|_p=1 \\}$$\n",
    "\n",
    "For this part of the question consider $p=2$, so the interior of the domain of integration is implicitly defined by \n",
    "\n",
    "$$f_2(x_1,x_2,x_3) = x_1^2 + x_2^2 + x_3^2 = \\sum_{i=1}^3 x_i^2 \\leq 1$$\n",
    "\n",
    "a) Use the Monte Carlo method to compute the volume and moment of intertia about the $x_1$-axis of the unit $3$-ball, $B_2(3)$ (a.k.a. sphere). Plot the error $E$ in your result as a function of the number of sample points $N$, and give and approximate version of $E(N)$.\n",
    "\n",
    "For computing volume, the integrand is $g(x_1,x_2,x_3) \\equiv 1$. <br>For moment of inertia, the integrand is the square of the distance from the $x_1$ axis; i.e. $g(x_1,x_2,x_3) = x_2^2+x_3^2$.\n",
    "\n",
    "b) Repeat part a for $S_2(3)$ (a.k.a. the unit spherical shell). Explain how you do this and compare with what is involved in doing part a).\n",
    "\n"
   ]
  },
  {
   "cell_type": "markdown",
   "metadata": {},
   "source": [
    "__4)__ Write numba code to create a 3D parallel implementation of the grid-based integration method, and re-compute the integrals from question 2 using your grid-based integration code with grid spacings $h \\approx 1/64$ and $h \\approx 1/128$.\n"
   ]
  },
  {
   "cell_type": "code",
   "execution_count": null,
   "metadata": {},
   "outputs": [],
   "source": []
  }
 ],
 "metadata": {
  "language_info": {
   "name": "python",
   "codemirror_mode": {
    "name": "ipython",
    "version": 3
   },
   "version": "3.7.6-final"
  },
  "orig_nbformat": 2,
  "file_extension": ".py",
  "mimetype": "text/x-python",
  "name": "python",
  "npconvert_exporter": "python",
  "pygments_lexer": "ipython3",
  "version": 3,
  "kernelspec": {
   "name": "python36564bitconda16f9fed6d36b48b1bbd0e562616a7c7a",
   "display_name": "Python 3.6.5 64-bit (conda)"
  }
 },
 "nbformat": 4,
 "nbformat_minor": 2
}