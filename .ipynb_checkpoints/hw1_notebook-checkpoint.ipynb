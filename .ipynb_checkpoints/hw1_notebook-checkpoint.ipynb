{
 "cells": [
  {
   "cell_type": "markdown",
   "metadata": {},
   "source": [
    "# ME574 Homework 1 Due Thursday April 9\n",
    "\n",
    "___Your \"deliverable\" to be turned in is a python file (with a `.py` extension) that you create by filling in the template file (`template_hw1.py`) that is posted on the Canvas site along with the homework assignment.___\n",
    "\n",
    "Let's start with some python coding exercises. Be sure to in include docstrings when you define your functions!\n",
    "\n",
    "1) Write a python function `dn_sin0(n)` to evaluate the $n^{th}$ derivate of $sin(0)$. This should provide a chance to use the `if-elif-else` control structure.\n",
    "\n",
    "2) Write python code to compute the values of the function `taylor_sin(x,n)` that evaluates the Taylor series for $sin(x)$ with truncation error of order $h^n$; i.e. including $n$ terms of degree $0$ through $n-1$.\n",
    "\n",
    "3) Make a plot showing the function $sin(x)$ and it's Taylor series expansions neglecting terms of order `n in range(2,16,2)`. Make sure your plot includes a legend that identifies the untruncated curve $sin(x)$ and and the truncation order for the other curves in the plot. (This will be the first of your exercises in searching for and interpreting documentation.)\n",
    "\n",
    "4) Consider computing how well a truncated Taylor series approximates the function $sin(x)$ on a particular interval, One approach would be to compute an array of values of $sin(x)$ and an array of values for the truncated approximation at the same set of points. Then the problem becomes quantifying the difference between two arrays of the same shape. Note that, just like complex numbers (which can be considered as arrays of length 2), there is no natural ordering of arrays. So we need to get from the 2 arrays to a scalar value quantifying their difference.\n",
    "\n",
    "a) Write a function that quanitifies the difference between 2 arrays of the same shape. There are multiple ways to do this, so search for information on functions like `abs`, `max`, `norm`, and `allclose`.\n",
    "\n",
    "b) Use your function from 4a to determine the truncation order needed for your difference measure to be less than `1e-2` if you evaluate your functions at 50 points equally spaced across the interval $[0, \\pi/4]$.\n",
    "\n",
    "5) The \"course_info\" notebook looked at the case of a 1D iterated mapping. Now consider a classic iterated mapping in 2D. In complex form, the mapping is $f(z) = z^2 + c$ and the question of interest is the following: If you start at $z=0$, which values of $c$ cause the iterates to leave the vicinity of (i.e., get more than 2.5 units away from) the origin?\n",
    "\n",
    "For this problem you should write python code to implement the real variable version of this problem. \n",
    "\n",
    "- Rewrite the map as a function of two real variables and write a python function that implements the map.\n",
    "\n",
    "- Write a python function that computes the $n^{th}$ iterate starting from ${x,y}={0,0}$ with specified real and imaginary parts of the parameter $c_x \\text{ and } c_y$.\n",
    "\n",
    "- Compute a 2D boolean array specifying which constants caused the iteration to leave the vicinity of the origin within 256 iterations.\n",
    "\n",
    "- Find an example of how to time python code execution. Include timing code, and print the time required to compute a 512 x 512 iteration count array.\n",
    "\n",
    "- Create an image to display your results. (This should match up with the image included in the \"python_logistic_map\" notebook.)\n",
    "\n",
    "- Modify your code to create an image that color codes the iteration number at which the point leaves the vicinity of the origin."
   ]
  },
  {
   "cell_type": "code",
   "execution_count": null,
   "metadata": {},
   "outputs": [],
   "source": []
  }
 ],
 "metadata": {
  "kernelspec": {
   "display_name": "Python 3",
   "language": "python",
   "name": "python3"
  },
  "language_info": {
   "codemirror_mode": {
    "name": "ipython",
    "version": 3
   },
   "file_extension": ".py",
   "mimetype": "text/x-python",
   "name": "python",
   "nbconvert_exporter": "python",
   "pygments_lexer": "ipython3",
   "version": "3.6.3"
  }
 },
 "nbformat": 4,
 "nbformat_minor": 4
}
